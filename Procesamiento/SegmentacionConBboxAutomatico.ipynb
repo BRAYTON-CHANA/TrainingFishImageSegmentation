{
  "cells": [
    {
      "cell_type": "code",
      "execution_count": null,
      "metadata": {
        "colab": {
          "base_uri": "https://localhost:8080/"
        },
        "id": "f0SXMsQkaNmu",
        "outputId": "30340844-8f56-4f2d-f788-439e6485d3ad"
      },
      "outputs": [
        {
          "data": {
            "text/plain": [
              "True"
            ]
          },
          "execution_count": 1,
          "metadata": {},
          "output_type": "execute_result"
        }
      ],
      "source": [
        "import torch\n",
        "torch.cuda.is_available()"
      ]
    },
    {
      "cell_type": "code",
      "execution_count": null,
      "metadata": {
        "colab": {
          "base_uri": "https://localhost:8080/"
        },
        "id": "AMxkYomRPJvE",
        "outputId": "a07b11ab-f075-4862-fb3f-6c52e119418e"
      },
      "outputs": [
        {
          "name": "stdout",
          "output_type": "stream",
          "text": [
            "HOME: /content\n"
          ]
        }
      ],
      "source": [
        "import os\n",
        "HOME = os.getcwd()\n",
        "print(\"HOME:\", HOME)"
      ]
    },
    {
      "cell_type": "code",
      "execution_count": null,
      "metadata": {
        "colab": {
          "base_uri": "https://localhost:8080/"
        },
        "id": "cNymiLiVd4TQ",
        "outputId": "201b7098-d9a4-465c-a8bf-3adbd5810361"
      },
      "outputs": [
        {
          "name": "stdout",
          "output_type": "stream",
          "text": [
            "Mounted at /content/drive\n"
          ]
        }
      ],
      "source": [
        "from google.colab import drive\n",
        "drive.mount('/content/drive',force_remount=True)"
      ]
    },
    {
      "cell_type": "code",
      "execution_count": null,
      "metadata": {
        "colab": {
          "base_uri": "https://localhost:8080/"
        },
        "id": "swcYiHM7PBji",
        "outputId": "c969e9b1-0166-406f-8d6d-f383f13db68f"
      },
      "outputs": [
        {
          "name": "stdout",
          "output_type": "stream",
          "text": [
            "  Preparing metadata (setup.py) ... \u001b[?25l\u001b[?25hdone\n",
            "  Building wheel for segment_anything (setup.py) ... \u001b[?25l\u001b[?25hdone\n",
            "\u001b[2K   \u001b[90m━━━━━━━━━━━━━━━━━━━━━━━━━━━━━━━━━━━━━━━━\u001b[0m \u001b[32m151.5/151.5 kB\u001b[0m \u001b[31m9.3 MB/s\u001b[0m eta \u001b[36m0:00:00\u001b[0m\n",
            "\u001b[2K   \u001b[90m━━━━━━━━━━━━━━━━━━━━━━━━━━━━━━━━━━━━━━━━\u001b[0m \u001b[32m80.4/80.4 kB\u001b[0m \u001b[31m6.1 MB/s\u001b[0m eta \u001b[36m0:00:00\u001b[0m\n",
            "\u001b[2K   \u001b[90m━━━━━━━━━━━━━━━━━━━━━━━━━━━━━━━━━━━━━━━━\u001b[0m \u001b[32m66.8/66.8 kB\u001b[0m \u001b[31m4.4 MB/s\u001b[0m eta \u001b[36m0:00:00\u001b[0m\n",
            "\u001b[2K   \u001b[90m━━━━━━━━━━━━━━━━━━━━━━━━━━━━━━━━━━━━━━━━\u001b[0m \u001b[32m213.7/213.7 kB\u001b[0m \u001b[31m13.8 MB/s\u001b[0m eta \u001b[36m0:00:00\u001b[0m\n",
            "\u001b[2K   \u001b[90m━━━━━━━━━━━━━━━━━━━━━━━━━━━━━━━━━━━━━━━━\u001b[0m \u001b[32m49.3/49.3 kB\u001b[0m \u001b[31m3.5 MB/s\u001b[0m eta \u001b[36m0:00:00\u001b[0m\n",
            "\u001b[2K   \u001b[90m━━━━━━━━━━━━━━━━━━━━━━━━━━━━━━━━━━━━━━━━\u001b[0m \u001b[32m54.5/54.5 kB\u001b[0m \u001b[31m4.3 MB/s\u001b[0m eta \u001b[36m0:00:00\u001b[0m\n",
            "\u001b[2K   \u001b[90m━━━━━━━━━━━━━━━━━━━━━━━━━━━━━━━━━━━━━━━━\u001b[0m \u001b[32m727.4/727.4 kB\u001b[0m \u001b[31m43.6 MB/s\u001b[0m eta \u001b[36m0:00:00\u001b[0m\n",
            "\u001b[?25h"
          ]
        }
      ],
      "source": [
        "!pip install -q 'git+https://github.com/facebookresearch/segment-anything.git'\n",
        "!pip install -q jupyter_bbox_widget roboflow dataclasses-json supervision==0.23.0\n",
        "!mkdir -p {HOME}/weights\n",
        "!wget -q https://dl.fbaipublicfiles.com/segment_anything/sam_vit_h_4b8939.pth -P {HOME}/weights"
      ]
    },
    {
      "cell_type": "code",
      "execution_count": null,
      "metadata": {
        "colab": {
          "base_uri": "https://localhost:8080/"
        },
        "id": "fCSs0JJuPI7h",
        "outputId": "3c3d84bf-fa53-4e33-de42-385f5249e987"
      },
      "outputs": [
        {
          "name": "stdout",
          "output_type": "stream",
          "text": [
            "/content/weights/sam_vit_h_4b8939.pth ; exist: True\n"
          ]
        }
      ],
      "source": [
        "import os\n",
        "\n",
        "CHECKPOINT_PATH = os.path.join(HOME, \"weights\", \"sam_vit_h_4b8939.pth\")\n",
        "print(CHECKPOINT_PATH, \"; exist:\", os.path.isfile(CHECKPOINT_PATH))"
      ]
    },
    {
      "cell_type": "code",
      "execution_count": null,
      "metadata": {
        "id": "cZ0eYMPmVm2S"
      },
      "outputs": [],
      "source": [
        "import torch\n",
        "\n",
        "DEVICE = torch.device('cuda:0' if torch.cuda.is_available() else 'cpu')\n",
        "MODEL_TYPE = \"vit_h\""
      ]
    },
    {
      "cell_type": "code",
      "execution_count": null,
      "metadata": {
        "colab": {
          "base_uri": "https://localhost:8080/"
        },
        "id": "htz6PDWPPVpd",
        "outputId": "5fb7cddf-8d23-4499-f0f6-9519328c7b42"
      },
      "outputs": [
        {
          "name": "stderr",
          "output_type": "stream",
          "text": [
            "/usr/local/lib/python3.10/dist-packages/segment_anything/build_sam.py:105: FutureWarning: You are using `torch.load` with `weights_only=False` (the current default value), which uses the default pickle module implicitly. It is possible to construct malicious pickle data which will execute arbitrary code during unpickling (See https://github.com/pytorch/pytorch/blob/main/SECURITY.md#untrusted-models for more details). In a future release, the default value for `weights_only` will be flipped to `True`. This limits the functions that could be executed during unpickling. Arbitrary objects will no longer be allowed to be loaded via this mode unless they are explicitly allowlisted by the user via `torch.serialization.add_safe_globals`. We recommend you start setting `weights_only=True` for any use case where you don't have full control of the loaded file. Please open an issue on GitHub for any issues related to this experimental feature.\n",
            "  state_dict = torch.load(f)\n"
          ]
        }
      ],
      "source": [
        "from segment_anything import sam_model_registry, SamAutomaticMaskGenerator, SamPredictor\n",
        "\n",
        "sam = sam_model_registry[MODEL_TYPE](checkpoint=CHECKPOINT_PATH).to(device=DEVICE)"
      ]
    },
    {
      "cell_type": "code",
      "execution_count": null,
      "metadata": {
        "id": "w5Y9TOIePCds"
      },
      "outputs": [],
      "source": [
        "mask_generator = SamAutomaticMaskGenerator(sam)"
      ]
    },
    {
      "cell_type": "code",
      "execution_count": null,
      "metadata": {
        "id": "6rqvKirnPhDi"
      },
      "outputs": [],
      "source": [
        "mask_predictor = SamPredictor(sam)"
      ]
    },
    {
      "cell_type": "code",
      "execution_count": null,
      "metadata": {
        "id": "xEso42IsPlAb"
      },
      "outputs": [],
      "source": [
        "import os\n",
        "\n",
        "IMAGE_FOLDER = \"/content/drive/MyDrive/truchas\"\n",
        "OUTPUT_FOLDER = \"/content/drive/MyDrive/truchasmask2\"\n",
        "os.makedirs(OUTPUT_FOLDER, exist_ok=True)"
      ]
    },
    {
      "cell_type": "code",
      "execution_count": null,
      "metadata": {
        "id": "sjVvNfUtPoOA"
      },
      "outputs": [],
      "source": [
        "import xml.etree.ElementTree as ET\n",
        "from jupyter_bbox_widget import BBoxWidget\n",
        "import base64\n",
        "\n",
        "def encode_image(filepath):\n",
        "    with open(filepath, 'rb') as f:\n",
        "        image_bytes = f.read()\n",
        "    encoded = str(base64.b64encode(image_bytes), 'utf-8')\n",
        "    return \"data:image/jpg;base64,\" + encoded\n",
        "\n",
        "def extract_bounding_boxes(xml_path):\n",
        "    tree = ET.parse(xml_path)\n",
        "    root = tree.getroot()\n",
        "    boxes = []\n",
        "\n",
        "    for obj in root.findall('object'):\n",
        "        bndbox = obj.find('bndbox')\n",
        "        xmin = int(bndbox.find('xmin').text)\n",
        "        ymin = int(bndbox.find('ymin').text)\n",
        "        xmax = int(bndbox.find('xmax').text)\n",
        "        ymax = int(bndbox.find('ymax').text)\n",
        "\n",
        "        boxes.append([xmin, ymin, xmax, ymax])\n",
        "\n",
        "    return boxes"
      ]
    },
    {
      "cell_type": "code",
      "execution_count": null,
      "metadata": {
        "id": "e-2Xz5oqPrEO"
      },
      "outputs": [],
      "source": [
        "IS_COLAB = True\n",
        "\n",
        "if IS_COLAB:\n",
        "    from google.colab import output\n",
        "    output.enable_custom_widget_manager()\n",
        "\n",
        "from jupyter_bbox_widget import BBoxWidget\n",
        "\n",
        "\n"
      ]
    },
    {
      "cell_type": "code",
      "execution_count": null,
      "metadata": {
        "id": "-TWuj92Njjtc"
      },
      "outputs": [],
      "source": [
        "import os\n",
        "import base64\n",
        "import xml.etree.ElementTree as ET\n",
        "import cv2\n",
        "import numpy as np\n",
        "import supervision as sv"
      ]
    },
    {
      "cell_type": "code",
      "execution_count": null,
      "metadata": {
        "id": "5TSnlXewdfyf"
      },
      "outputs": [],
      "source": [
        "def calculate_mask_stability(mask):\n",
        "    # Aplicar un suavizado Gaussiano para reducir el ruido\n",
        "    blurred_mask = cv2.GaussianBlur(mask, (5, 5), 0)\n",
        "\n",
        "    # Detectar contornos de la máscara\n",
        "    contours, _ = cv2.findContours(mask, cv2.RETR_EXTERNAL, cv2.CHAIN_APPROX_SIMPLE)\n",
        "\n",
        "    # Calcular el área total del contorno\n",
        "    area = sum([cv2.contourArea(c) for c in contours])\n",
        "\n",
        "    # Calcular la cantidad de ruido (pequeñas regiones dispersas)\n",
        "    noise = np.sum(mask != blurred_mask)\n",
        "\n",
        "    # Calcular la suavidad del contorno basado en el perímetro/área\n",
        "    perimeter = sum([cv2.arcLength(c, True) for c in contours])\n",
        "    smoothness_ratio = perimeter / (area + 1e-6)  # Añadir epsilon para evitar división por cero\n",
        "\n",
        "    # Combinar métricas para determinar la estabilidad (a menor valor, mejor estabilidad)\n",
        "    stability_score = smoothness_ratio + noise * 0.001  # Puedes ajustar el peso del ruido\n",
        "    return stability_score"
      ]
    },
    {
      "cell_type": "code",
      "execution_count": null,
      "metadata": {
        "colab": {
          "base_uri": "https://localhost:8080/"
        },
        "id": "G29fCOcSdPhX",
        "outputId": "46563612-c664-47c2-c8b9-c2c740a2d0d3"
      },
      "outputs": [
        {
          "name": "stdout",
          "output_type": "stream",
          "text": [
            "Máscara 2 ha sido guardada en /content/drive/MyDrive/truchasmask2 como 07570736-94a0-4a8d-982c-ff4f815170a3-290mm.png\n",
            "Máscara 2 ha sido guardada en /content/drive/MyDrive/truchasmask2 como 06b705c2-07d2-425f-b118-1adf35fe6caa-400mm.png\n",
            "Máscara 2 ha sido guardada en /content/drive/MyDrive/truchasmask2 como 043a3baa-aead-4834-b3ce-bc99dcd5e5fc-190mm.png\n",
            "Máscara 2 ha sido guardada en /content/drive/MyDrive/truchasmask2 como 0f9239d0-299c-4c42-9374-7df1d37fffe6-430mm.png\n",
            "Máscara 2 ha sido guardada en /content/drive/MyDrive/truchasmask2 como 03fd161e-08ed-4f46-af77-47944e31dc74-290mm.png\n",
            "Máscara 1 ha sido guardada en /content/drive/MyDrive/truchasmask2 como 02506b90-48e3-4f17-86a3-df0fd4609b36-350mm.png\n",
            "Máscara 2 ha sido guardada en /content/drive/MyDrive/truchasmask2 como 104381-0mm.png\n",
            "Máscara 2 ha sido guardada en /content/drive/MyDrive/truchasmask2 como 100822-350mm.png\n",
            "Máscara 2 ha sido guardada en /content/drive/MyDrive/truchasmask2 como 102800-230mm.png\n",
            "Máscara 2 ha sido guardada en /content/drive/MyDrive/truchasmask2 como 102898-280mm.png\n",
            "Máscara 1 ha sido guardada en /content/drive/MyDrive/truchasmask2 como 102739-360mm.png\n",
            "Máscara 2 ha sido guardada en /content/drive/MyDrive/truchasmask2 como 102797-200mm.png\n",
            "Máscara 2 ha sido guardada en /content/drive/MyDrive/truchasmask2 como 102649-330mm.png\n",
            "Máscara 2 ha sido guardada en /content/drive/MyDrive/truchasmask2 como 103692-220mm.png\n",
            "Máscara 2 ha sido guardada en /content/drive/MyDrive/truchasmask2 como 103697-300mm.png\n",
            "Máscara 2 ha sido guardada en /content/drive/MyDrive/truchasmask2 como 104379-250mm.png\n",
            "Máscara 2 ha sido guardada en /content/drive/MyDrive/truchasmask2 como 103060-220mm.png\n",
            "Máscara 2 ha sido guardada en /content/drive/MyDrive/truchasmask2 como 102794-500mm.png\n",
            "Máscara 1 ha sido guardada en /content/drive/MyDrive/truchasmask2 como 100823-500mm.png\n",
            "Máscara 1 ha sido guardada en /content/drive/MyDrive/truchasmask2 como 104378-350mm.png\n",
            "Máscara 2 ha sido guardada en /content/drive/MyDrive/truchasmask2 como 104384-0mm.png\n",
            "Máscara 2 ha sido guardada en /content/drive/MyDrive/truchasmask2 como 104388-400mm.png\n",
            "Máscara 1 ha sido guardada en /content/drive/MyDrive/truchasmask2 como 104383-350mm.png\n",
            "Máscara 2 ha sido guardada en /content/drive/MyDrive/truchasmask2 como 104391-250mm.png\n",
            "Máscara 1 ha sido guardada en /content/drive/MyDrive/truchasmask2 como 104393-0mm.png\n",
            "Máscara 2 ha sido guardada en /content/drive/MyDrive/truchasmask2 como 104382-0mm.png\n",
            "Máscara 2 ha sido guardada en /content/drive/MyDrive/truchasmask2 como 104394-0mm.png\n",
            "Máscara 2 ha sido guardada en /content/drive/MyDrive/truchasmask2 como 104395-200mm.png\n",
            "Máscara 2 ha sido guardada en /content/drive/MyDrive/truchasmask2 como 104390-180mm.png\n",
            "Máscara 2 ha sido guardada en /content/drive/MyDrive/truchasmask2 como 104385-0mm.png\n",
            "Máscara 2 ha sido guardada en /content/drive/MyDrive/truchasmask2 como 104389-0mm.png\n",
            "Máscara 2 ha sido guardada en /content/drive/MyDrive/truchasmask2 como 104387-400mm.png\n",
            "Máscara 1 ha sido guardada en /content/drive/MyDrive/truchasmask2 como 104392-0mm.png\n",
            "Máscara 2 ha sido guardada en /content/drive/MyDrive/truchasmask2 como 107348-0mm.png\n",
            "Máscara 2 ha sido guardada en /content/drive/MyDrive/truchasmask2 como 107380-0mm.png\n",
            "Máscara 1 ha sido guardada en /content/drive/MyDrive/truchasmask2 como 107344-0mm.png\n",
            "Máscara 2 ha sido guardada en /content/drive/MyDrive/truchasmask2 como 104751-330mm.png\n",
            "Máscara 1 ha sido guardada en /content/drive/MyDrive/truchasmask2 como 104417-0mm.png\n",
            "Máscara 2 ha sido guardada en /content/drive/MyDrive/truchasmask2 como 104399-0mm.png\n",
            "Máscara 2 ha sido guardada en /content/drive/MyDrive/truchasmask2 como 105559-370mm.png\n",
            "Máscara 2 ha sido guardada en /content/drive/MyDrive/truchasmask2 como 106561-280mm.png\n",
            "Máscara 1 ha sido guardada en /content/drive/MyDrive/truchasmask2 como 104665-590mm.png\n",
            "Máscara 2 ha sido guardada en /content/drive/MyDrive/truchasmask2 como 104667-590mm.png\n",
            "Máscara 2 ha sido guardada en /content/drive/MyDrive/truchasmask2 como 107379-0mm.png\n",
            "Máscara 1 ha sido guardada en /content/drive/MyDrive/truchasmask2 como 104666-590mm.png\n",
            "Máscara 2 ha sido guardada en /content/drive/MyDrive/truchasmask2 como 106562-200mm.png\n",
            "Máscara 2 ha sido guardada en /content/drive/MyDrive/truchasmask2 como 108581-350mm.png\n",
            "Máscara 2 ha sido guardada en /content/drive/MyDrive/truchasmask2 como 108571-0mm.png\n",
            "Máscara 2 ha sido guardada en /content/drive/MyDrive/truchasmask2 como 107383-0mm.png\n",
            "Máscara 0 ha sido guardada en /content/drive/MyDrive/truchasmask2 como 108580-300mm.png\n",
            "Máscara 2 ha sido guardada en /content/drive/MyDrive/truchasmask2 como 107569-0mm.png\n",
            "Máscara 2 ha sido guardada en /content/drive/MyDrive/truchasmask2 como 108579-200mm.png\n",
            "Máscara 2 ha sido guardada en /content/drive/MyDrive/truchasmask2 como 107381-0mm.png\n",
            "Máscara 2 ha sido guardada en /content/drive/MyDrive/truchasmask2 como 107382-0mm.png\n",
            "Máscara 2 ha sido guardada en /content/drive/MyDrive/truchasmask2 como 108574-0mm.png\n",
            "Máscara 1 ha sido guardada en /content/drive/MyDrive/truchasmask2 como 108565-370mm.png\n",
            "Máscara 1 ha sido guardada en /content/drive/MyDrive/truchasmask2 como 108578-0mm.png\n",
            "Máscara 2 ha sido guardada en /content/drive/MyDrive/truchasmask2 como 108564-250mm.png\n",
            "Máscara 2 ha sido guardada en /content/drive/MyDrive/truchasmask2 como 110886-290mm.png\n",
            "Máscara 1 ha sido guardada en /content/drive/MyDrive/truchasmask2 como 110885-200mm.png\n",
            "Máscara 1 ha sido guardada en /content/drive/MyDrive/truchasmask2 como 109275-350mm.png\n",
            "Máscara 1 ha sido guardada en /content/drive/MyDrive/truchasmask2 como 110893-230mm.png\n",
            "Máscara 2 ha sido guardada en /content/drive/MyDrive/truchasmask2 como 111003-290mm.png\n",
            "Máscara 1 ha sido guardada en /content/drive/MyDrive/truchasmask2 como 110890-100mm.png\n",
            "Máscara 2 ha sido guardada en /content/drive/MyDrive/truchasmask2 como 110999-280mm.png\n",
            "Máscara 2 ha sido guardada en /content/drive/MyDrive/truchasmask2 como 111001-270mm.png\n",
            "Máscara 2 ha sido guardada en /content/drive/MyDrive/truchasmask2 como 110891-290mm.png\n",
            "Máscara 2 ha sido guardada en /content/drive/MyDrive/truchasmask2 como 110887-280mm.png\n",
            "Máscara 1 ha sido guardada en /content/drive/MyDrive/truchasmask2 como 111000-370mm.png\n",
            "Máscara 1 ha sido guardada en /content/drive/MyDrive/truchasmask2 como 110894-270mm.png\n",
            "Máscara 1 ha sido guardada en /content/drive/MyDrive/truchasmask2 como 110889-230mm.png\n",
            "Máscara 2 ha sido guardada en /content/drive/MyDrive/truchasmask2 como 111799-350mm.png\n",
            "Máscara 1 ha sido guardada en /content/drive/MyDrive/truchasmask2 como 111077-160mm.png\n",
            "Máscara 2 ha sido guardada en /content/drive/MyDrive/truchasmask2 como 111447-250mm.png\n",
            "Máscara 2 ha sido guardada en /content/drive/MyDrive/truchasmask2 como 114697-220mm.png\n",
            "Máscara 2 ha sido guardada en /content/drive/MyDrive/truchasmask2 como 111452-260mm.png\n",
            "Máscara 2 ha sido guardada en /content/drive/MyDrive/truchasmask2 como 111004-240mm.png\n",
            "Máscara 0 ha sido guardada en /content/drive/MyDrive/truchasmask2 como 111449-180mm.png\n",
            "Máscara 2 ha sido guardada en /content/drive/MyDrive/truchasmask2 como 111450-200mm.png\n",
            "Máscara 2 ha sido guardada en /content/drive/MyDrive/truchasmask2 como 111791-340mm.png\n",
            "Máscara 2 ha sido guardada en /content/drive/MyDrive/truchasmask2 como 114681-360mm.png\n",
            "Máscara 2 ha sido guardada en /content/drive/MyDrive/truchasmask2 como 111078-130mm.png\n",
            "Máscara 1 ha sido guardada en /content/drive/MyDrive/truchasmask2 como 111156-370mm.png\n",
            "Máscara 2 ha sido guardada en /content/drive/MyDrive/truchasmask2 como 111074-140mm.png\n",
            "Máscara 2 ha sido guardada en /content/drive/MyDrive/truchasmask2 como 122392-240mm.png\n",
            "Máscara 1 ha sido guardada en /content/drive/MyDrive/truchasmask2 como 123516-360mm.png\n",
            "Máscara 2 ha sido guardada en /content/drive/MyDrive/truchasmask2 como 122378-0mm.png\n",
            "Máscara 2 ha sido guardada en /content/drive/MyDrive/truchasmask2 como 121610-400mm.png\n",
            "Máscara 2 ha sido guardada en /content/drive/MyDrive/truchasmask2 como 123515-330mm.png\n",
            "Máscara 2 ha sido guardada en /content/drive/MyDrive/truchasmask2 como 122376-0mm.png\n",
            "Máscara 1 ha sido guardada en /content/drive/MyDrive/truchasmask2 como 122786-550mm.png\n",
            "Máscara 0 ha sido guardada en /content/drive/MyDrive/truchasmask2 como 122408-300mm.png\n",
            "Máscara 1 ha sido guardada en /content/drive/MyDrive/truchasmask2 como 122608-260mm.png\n",
            "Máscara 2 ha sido guardada en /content/drive/MyDrive/truchasmask2 como 123046-0mm.png\n",
            "Máscara 2 ha sido guardada en /content/drive/MyDrive/truchasmask2 como 122377-0mm.png\n",
            "Máscara 2 ha sido guardada en /content/drive/MyDrive/truchasmask2 como 125808-0mm.png\n",
            "Máscara 2 ha sido guardada en /content/drive/MyDrive/truchasmask2 como 125809-0mm.png\n",
            "Máscara 1 ha sido guardada en /content/drive/MyDrive/truchasmask2 como 124310-360mm.png\n",
            "Máscara 1 ha sido guardada en /content/drive/MyDrive/truchasmask2 como 126854-180mm.png\n",
            "Máscara 1 ha sido guardada en /content/drive/MyDrive/truchasmask2 como 124d4eb2-5f66-4783-9e62-713be24f671d-230mm.png\n",
            "Máscara 0 ha sido guardada en /content/drive/MyDrive/truchasmask2 como 126852-190mm.png\n",
            "Máscara 1 ha sido guardada en /content/drive/MyDrive/truchasmask2 como 126853-170mm.png\n",
            "Máscara 2 ha sido guardada en /content/drive/MyDrive/truchasmask2 como 126851-220mm.png\n",
            "Máscara 2 ha sido guardada en /content/drive/MyDrive/truchasmask2 como 126850-240mm.png\n",
            "Máscara 2 ha sido guardada en /content/drive/MyDrive/truchasmask2 como 126858-200mm.png\n",
            "Máscara 2 ha sido guardada en /content/drive/MyDrive/truchasmask2 como 126856-160mm.png\n",
            "Máscara 2 ha sido guardada en /content/drive/MyDrive/truchasmask2 como 123517-420mm.png\n",
            "Máscara 2 ha sido guardada en /content/drive/MyDrive/truchasmask2 como 126974-200mm.png\n",
            "Máscara 0 ha sido guardada en /content/drive/MyDrive/truchasmask2 como 126861-250mm.png\n",
            "Máscara 2 ha sido guardada en /content/drive/MyDrive/truchasmask2 como 126973-230mm.png\n",
            "Máscara 1 ha sido guardada en /content/drive/MyDrive/truchasmask2 como 126970-170mm.png\n",
            "Máscara 1 ha sido guardada en /content/drive/MyDrive/truchasmask2 como 126972-160mm.png\n",
            "Máscara 2 ha sido guardada en /content/drive/MyDrive/truchasmask2 como 127122-180mm.png\n",
            "Máscara 2 ha sido guardada en /content/drive/MyDrive/truchasmask2 como 127124-220mm.png\n",
            "Máscara 2 ha sido guardada en /content/drive/MyDrive/truchasmask2 como 127126-180mm.png\n",
            "Máscara 2 ha sido guardada en /content/drive/MyDrive/truchasmask2 como 126971-180mm.png\n",
            "Máscara 1 ha sido guardada en /content/drive/MyDrive/truchasmask2 como 126860-190mm.png\n",
            "Máscara 2 ha sido guardada en /content/drive/MyDrive/truchasmask2 como 127121-160mm.png\n",
            "Máscara 2 ha sido guardada en /content/drive/MyDrive/truchasmask2 como 127123-170mm.png\n",
            "Máscara 1 ha sido guardada en /content/drive/MyDrive/truchasmask2 como 127125-170mm.png\n",
            "Máscara 0 ha sido guardada en /content/drive/MyDrive/truchasmask2 como 127349-240mm.png\n",
            "Máscara 1 ha sido guardada en /content/drive/MyDrive/truchasmask2 como 127192-200mm.png\n",
            "Máscara 2 ha sido guardada en /content/drive/MyDrive/truchasmask2 como 127348-190mm.png\n",
            "Máscara 2 ha sido guardada en /content/drive/MyDrive/truchasmask2 como 127127-230mm.png\n",
            "Máscara 2 ha sido guardada en /content/drive/MyDrive/truchasmask2 como 127191-210mm.png\n",
            "Máscara 2 ha sido guardada en /content/drive/MyDrive/truchasmask2 como 127346-210mm.png\n",
            "Máscara 2 ha sido guardada en /content/drive/MyDrive/truchasmask2 como 127350-190mm.png\n",
            "Máscara 2 ha sido guardada en /content/drive/MyDrive/truchasmask2 como 127194-240mm.png\n",
            "Máscara 2 ha sido guardada en /content/drive/MyDrive/truchasmask2 como 127144-0mm.png\n",
            "Máscara 2 ha sido guardada en /content/drive/MyDrive/truchasmask2 como 127189-240mm.png\n",
            "Máscara 2 ha sido guardada en /content/drive/MyDrive/truchasmask2 como 127193-160mm.png\n",
            "Máscara 2 ha sido guardada en /content/drive/MyDrive/truchasmask2 como 127347-140mm.png\n",
            "Máscara 2 ha sido guardada en /content/drive/MyDrive/truchasmask2 como 127345-180mm.png\n",
            "Máscara 2 ha sido guardada en /content/drive/MyDrive/truchasmask2 como 127352-210mm.png\n",
            "Máscara 0 ha sido guardada en /content/drive/MyDrive/truchasmask2 como 127387-180mm.png\n",
            "Máscara 2 ha sido guardada en /content/drive/MyDrive/truchasmask2 como 127450-230mm.png\n",
            "Máscara 1 ha sido guardada en /content/drive/MyDrive/truchasmask2 como 127444-210mm.png\n",
            "Máscara 2 ha sido guardada en /content/drive/MyDrive/truchasmask2 como 127447-200mm.png\n",
            "Máscara 1 ha sido guardada en /content/drive/MyDrive/truchasmask2 como 127386-190mm.png\n",
            "Máscara 1 ha sido guardada en /content/drive/MyDrive/truchasmask2 como 127385-240mm.png\n",
            "Máscara 2 ha sido guardada en /content/drive/MyDrive/truchasmask2 como 127485-350mm.png\n",
            "Máscara 1 ha sido guardada en /content/drive/MyDrive/truchasmask2 como 127448-190mm.png\n",
            "Máscara 2 ha sido guardada en /content/drive/MyDrive/truchasmask2 como 127449-290mm.png\n",
            "Máscara 2 ha sido guardada en /content/drive/MyDrive/truchasmask2 como 127446-210mm.png\n",
            "Máscara 1 ha sido guardada en /content/drive/MyDrive/truchasmask2 como 127445-170mm.png\n",
            "Máscara 1 ha sido guardada en /content/drive/MyDrive/truchasmask2 como 127351-230mm.png\n",
            "Máscara 2 ha sido guardada en /content/drive/MyDrive/truchasmask2 como 1bb61bd2-d5c8-4dfc-928e-4237fc9cfdfc-300mm.png\n",
            "Máscara 2 ha sido guardada en /content/drive/MyDrive/truchasmask2 como 21530-450mm.png\n",
            "Máscara 2 ha sido guardada en /content/drive/MyDrive/truchasmask2 como 1665-280mm.png\n",
            "Máscara 1 ha sido guardada en /content/drive/MyDrive/truchasmask2 como 1334-300mm.png\n",
            "Máscara 2 ha sido guardada en /content/drive/MyDrive/truchasmask2 como 16c92412-7326-4e48-a261-e3bf29ca99bf-310mm.png\n",
            "Máscara 2 ha sido guardada en /content/drive/MyDrive/truchasmask2 como 127702-360mm.png\n",
            "Máscara 2 ha sido guardada en /content/drive/MyDrive/truchasmask2 como 16359-620mm.png\n",
            "Máscara 2 ha sido guardada en /content/drive/MyDrive/truchasmask2 como 1668-270mm.png\n",
            "Máscara 2 ha sido guardada en /content/drive/MyDrive/truchasmask2 como 1667-280mm.png\n",
            "Máscara 1 ha sido guardada en /content/drive/MyDrive/truchasmask2 como 127526-270mm.png\n",
            "Máscara 2 ha sido guardada en /content/drive/MyDrive/truchasmask2 como 1d1f0778-ccee-4080-ad65-0c80cb4ca852-160mm.png\n",
            "Máscara 2 ha sido guardada en /content/drive/MyDrive/truchasmask2 como 16841-330mm.png\n",
            "Máscara 2 ha sido guardada en /content/drive/MyDrive/truchasmask2 como 128231-280mm.png\n",
            "Máscara 2 ha sido guardada en /content/drive/MyDrive/truchasmask2 como 2433eb26-97f6-488e-a71a-18852cbaa415-200mm.png\n",
            "Máscara 2 ha sido guardada en /content/drive/MyDrive/truchasmask2 como 32860-320mm.png\n",
            "Máscara 2 ha sido guardada en /content/drive/MyDrive/truchasmask2 como 2451a31a-dd82-4166-b677-cb6f8c03e23c-450mm.png\n",
            "Máscara 1 ha sido guardada en /content/drive/MyDrive/truchasmask2 como 2e480ce5-cdb9-46c8-afa7-9adceb4f749d-170mm.png\n",
            "Máscara 2 ha sido guardada en /content/drive/MyDrive/truchasmask2 como 31fbd0cb-a426-41e9-a47e-91abe89a126f-230mm.png\n",
            "Máscara 2 ha sido guardada en /content/drive/MyDrive/truchasmask2 como 26fac38a-a0b0-41e7-9425-cdeabf4fef72-240mm.png\n",
            "Máscara 1 ha sido guardada en /content/drive/MyDrive/truchasmask2 como 31321-470mm.png\n",
            "Máscara 2 ha sido guardada en /content/drive/MyDrive/truchasmask2 como 29243-250mm.png\n",
            "Máscara 2 ha sido guardada en /content/drive/MyDrive/truchasmask2 como 27691-480mm.png\n",
            "Máscara 1 ha sido guardada en /content/drive/MyDrive/truchasmask2 como 2f99178a-c492-4662-81fe-1d4f373d937a-300mm.png\n",
            "Máscara 0 ha sido guardada en /content/drive/MyDrive/truchasmask2 como 25891ead-9e3b-434c-8f5f-9ff5e5532e98-280mm.png\n",
            "Máscara 2 ha sido guardada en /content/drive/MyDrive/truchasmask2 como 2b947105-69f2-49c0-8071-f7893ac505bd-300mm.png\n",
            "Máscara 0 ha sido guardada en /content/drive/MyDrive/truchasmask2 como 29254-260mm.png\n",
            "Máscara 2 ha sido guardada en /content/drive/MyDrive/truchasmask2 como 3af49b80-370f-42fc-9944-6474f181bd14-360mm.png\n",
            "Máscara 1 ha sido guardada en /content/drive/MyDrive/truchasmask2 como 44252-340mm.png\n",
            "Máscara 1 ha sido guardada en /content/drive/MyDrive/truchasmask2 como 498da06d-8c05-49cd-8e39-2e87b2a9b731-120mm.png\n",
            "Máscara 2 ha sido guardada en /content/drive/MyDrive/truchasmask2 como 50f97bed-d3ee-4f3d-9383-0d660b488569-180mm.png\n",
            "Máscara 1 ha sido guardada en /content/drive/MyDrive/truchasmask2 como 49538c33-8cc9-46b9-a17a-9aa275f86ed9-390mm.png\n",
            "Máscara 2 ha sido guardada en /content/drive/MyDrive/truchasmask2 como 4bdc580d-e824-4c0d-933c-9272147afe25-300mm.png\n",
            "Máscara 2 ha sido guardada en /content/drive/MyDrive/truchasmask2 como 37d384b0-1353-4134-a62b-eb8800f04daf-0mm.png\n",
            "Máscara 2 ha sido guardada en /content/drive/MyDrive/truchasmask2 como 334a0e3b-1a1e-408a-bcb0-acbcce52e2d5-190mm.png\n",
            "Máscara 2 ha sido guardada en /content/drive/MyDrive/truchasmask2 como 54521-340mm.png\n",
            "Máscara 2 ha sido guardada en /content/drive/MyDrive/truchasmask2 como 385-280mm.png\n",
            "Máscara 2 ha sido guardada en /content/drive/MyDrive/truchasmask2 como 4d888cbb-a36c-4fdc-8a2f-94aeebdad5b8-0mm.png\n",
            "Máscara 1 ha sido guardada en /content/drive/MyDrive/truchasmask2 como 396-250mm.png\n",
            "Máscara 1 ha sido guardada en /content/drive/MyDrive/truchasmask2 como 38455-300mm.png\n",
            "Máscara 2 ha sido guardada en /content/drive/MyDrive/truchasmask2 como 59743-450mm.png\n",
            "Máscara 1 ha sido guardada en /content/drive/MyDrive/truchasmask2 como 65857cf7-ef66-451e-b789-69fe2bfcf87e-360mm.png\n",
            "Máscara 2 ha sido guardada en /content/drive/MyDrive/truchasmask2 como 6b1ceba3-85ae-43b8-b441-13d05ed80946-250mm.png\n",
            "Máscara 0 ha sido guardada en /content/drive/MyDrive/truchasmask2 como 546f40dd-854c-4127-b2d5-1f66528f4800-180mm.png\n",
            "Máscara 2 ha sido guardada en /content/drive/MyDrive/truchasmask2 como 64a5178e-ff8a-413f-8806-8ef0465ffc65-250mm.png\n",
            "Máscara 2 ha sido guardada en /content/drive/MyDrive/truchasmask2 como 58419-440mm.png\n",
            "Máscara 2 ha sido guardada en /content/drive/MyDrive/truchasmask2 como 62395-200mm.png\n",
            "Máscara 1 ha sido guardada en /content/drive/MyDrive/truchasmask2 como 58703-200mm.png\n",
            "Máscara 2 ha sido guardada en /content/drive/MyDrive/truchasmask2 como 65822-500mm.png\n",
            "Máscara 2 ha sido guardada en /content/drive/MyDrive/truchasmask2 como 57653-550mm.png\n",
            "Máscara 2 ha sido guardada en /content/drive/MyDrive/truchasmask2 como 56891-470mm.png\n",
            "Máscara 2 ha sido guardada en /content/drive/MyDrive/truchasmask2 como 5b5aa2bd-d016-4c6e-a918-5be1570060dd-300mm.png\n",
            "Máscara 2 ha sido guardada en /content/drive/MyDrive/truchasmask2 como 6bbad3c5-74c0-4724-8c05-b3e6382a154b-200mm.png\n",
            "Máscara 1 ha sido guardada en /content/drive/MyDrive/truchasmask2 como 7349a272-9e94-46c5-b743-dbf417e006f8-300mm.png\n",
            "Máscara 2 ha sido guardada en /content/drive/MyDrive/truchasmask2 como 761ee801-1847-462f-ac95-d4b44c1eebc8-170mm.png\n",
            "Máscara 2 ha sido guardada en /content/drive/MyDrive/truchasmask2 como 79356-400mm.png\n",
            "Máscara 2 ha sido guardada en /content/drive/MyDrive/truchasmask2 como 73247-500mm.png\n",
            "Máscara 2 ha sido guardada en /content/drive/MyDrive/truchasmask2 como 76815-350mm.png\n",
            "Máscara 2 ha sido guardada en /content/drive/MyDrive/truchasmask2 como 7baab657-044f-49ff-9e06-1058d4754553-180mm.png\n",
            "Máscara 2 ha sido guardada en /content/drive/MyDrive/truchasmask2 como 6e724db9-8530-4324-81ce-eb3891e8c4cb-360mm.png\n",
            "Máscara 1 ha sido guardada en /content/drive/MyDrive/truchasmask2 como 716bc30a-6c9e-4eb9-b956-f9ad727cc2f5-180mm.png\n",
            "Máscara 1 ha sido guardada en /content/drive/MyDrive/truchasmask2 como 7ee7379c-2406-42f4-bd4f-8d056a416465-280mm.png\n",
            "Máscara 1 ha sido guardada en /content/drive/MyDrive/truchasmask2 como 79358-300mm.png\n",
            "Máscara 2 ha sido guardada en /content/drive/MyDrive/truchasmask2 como 7b7bcf73-d3dd-4338-8c12-85be79827375-190mm.png\n",
            "Máscara 2 ha sido guardada en /content/drive/MyDrive/truchasmask2 como 87e705fc-3ff8-4963-9a08-dd396b8384ca-260mm.png\n",
            "Máscara 2 ha sido guardada en /content/drive/MyDrive/truchasmask2 como 86280-260mm.png\n",
            "Máscara 2 ha sido guardada en /content/drive/MyDrive/truchasmask2 como 80586-450mm.png\n",
            "Máscara 2 ha sido guardada en /content/drive/MyDrive/truchasmask2 como 86596-450mm.png\n",
            "Máscara 1 ha sido guardada en /content/drive/MyDrive/truchasmask2 como 85755-390mm.png\n",
            "Máscara 2 ha sido guardada en /content/drive/MyDrive/truchasmask2 como 822990ab-4ec4-4080-979a-57c2af177230-440mm.png\n",
            "Máscara 2 ha sido guardada en /content/drive/MyDrive/truchasmask2 como 85806-330mm.png\n",
            "Máscara 2 ha sido guardada en /content/drive/MyDrive/truchasmask2 como 87057-360mm.png\n",
            "Máscara 2 ha sido guardada en /content/drive/MyDrive/truchasmask2 como 85869-250mm.png\n",
            "Máscara 2 ha sido guardada en /content/drive/MyDrive/truchasmask2 como 82850-490mm.png\n",
            "Máscara 2 ha sido guardada en /content/drive/MyDrive/truchasmask2 como 80279-340mm.png\n",
            "Máscara 2 ha sido guardada en /content/drive/MyDrive/truchasmask2 como 90494-330mm.png\n",
            "Máscara 1 ha sido guardada en /content/drive/MyDrive/truchasmask2 como 8d174c8f-9d42-4dab-90d2-a85f03bf3468-350mm.png\n",
            "Máscara 2 ha sido guardada en /content/drive/MyDrive/truchasmask2 como 88482-200mm.png\n",
            "Máscara 2 ha sido guardada en /content/drive/MyDrive/truchasmask2 como 88480-150mm.png\n",
            "Máscara 2 ha sido guardada en /content/drive/MyDrive/truchasmask2 como 91746-260mm.png\n",
            "Máscara 2 ha sido guardada en /content/drive/MyDrive/truchasmask2 como 88715-250mm.png\n",
            "Máscara 2 ha sido guardada en /content/drive/MyDrive/truchasmask2 como 88065-180mm.png\n",
            "Máscara 2 ha sido guardada en /content/drive/MyDrive/truchasmask2 como 88055-170mm.png\n",
            "Máscara 2 ha sido guardada en /content/drive/MyDrive/truchasmask2 como 88556-220mm.png\n",
            "Máscara 2 ha sido guardada en /content/drive/MyDrive/truchasmask2 como 90568-250mm.png\n",
            "Máscara 2 ha sido guardada en /content/drive/MyDrive/truchasmask2 como 95980-370mm.png\n",
            "Máscara 2 ha sido guardada en /content/drive/MyDrive/truchasmask2 como 95284-330mm.png\n",
            "Máscara 2 ha sido guardada en /content/drive/MyDrive/truchasmask2 como 9530b316-1e15-4d66-9161-893ae2e24405-220mm.png\n",
            "Máscara 2 ha sido guardada en /content/drive/MyDrive/truchasmask2 como 9485e7a1-ac78-4951-8505-dbae5c3b17ba-500mm.png\n",
            "Máscara 2 ha sido guardada en /content/drive/MyDrive/truchasmask2 como 979ee81c-81c3-42b8-9de6-a908521f2696-240mm.png\n",
            "Máscara 1 ha sido guardada en /content/drive/MyDrive/truchasmask2 como 969-250mm.png\n",
            "Máscara 2 ha sido guardada en /content/drive/MyDrive/truchasmask2 como 91762-330mm.png\n",
            "Máscara 2 ha sido guardada en /content/drive/MyDrive/truchasmask2 como 95b76af8-e122-46e8-9b1c-53696cd7b31f-440mm.png\n",
            "Máscara 2 ha sido guardada en /content/drive/MyDrive/truchasmask2 como 96589-80mm.png\n",
            "Máscara 2 ha sido guardada en /content/drive/MyDrive/truchasmask2 como 93435-240mm.png\n",
            "Máscara 0 ha sido guardada en /content/drive/MyDrive/truchasmask2 como aecf4d8b-0694-47eb-ae0b-c996d28024a4-230mm.png\n",
            "Máscara 1 ha sido guardada en /content/drive/MyDrive/truchasmask2 como 9b639182-9895-4dc4-81a4-302d15d097be-300mm.png\n",
            "Máscara 1 ha sido guardada en /content/drive/MyDrive/truchasmask2 como b334c7a6-c858-48f8-ba33-897f2e1afc0d-280mm.png\n",
            "Máscara 2 ha sido guardada en /content/drive/MyDrive/truchasmask2 como 9b504e7d-88cd-40c9-8370-a2b6312ecff9-270mm.png\n",
            "Máscara 2 ha sido guardada en /content/drive/MyDrive/truchasmask2 como a4e2d365-9079-4cfc-99be-8cce759e81f5-180mm.png\n",
            "Máscara 1 ha sido guardada en /content/drive/MyDrive/truchasmask2 como 99903-560mm.png\n",
            "Máscara 2 ha sido guardada en /content/drive/MyDrive/truchasmask2 como 9aedd2d5-abf3-41b7-a5c4-2c21f3a4701f-280mm.png\n",
            "Máscara 2 ha sido guardada en /content/drive/MyDrive/truchasmask2 como a899b9e1-d049-4a9c-bb93-2e43a0094f54-330mm.png\n",
            "Máscara 2 ha sido guardada en /content/drive/MyDrive/truchasmask2 como c7656280-f5da-454d-9acc-c2582bf2e743-370mm.png\n",
            "Máscara 2 ha sido guardada en /content/drive/MyDrive/truchasmask2 como b1e67d47-e7c1-4fd6-8649-797d7c512f11-340mm.png\n",
            "Máscara 2 ha sido guardada en /content/drive/MyDrive/truchasmask2 como b6670405-6779-4fb5-aa05-f503c6ee5e05-300mm.png\n",
            "Máscara 1 ha sido guardada en /content/drive/MyDrive/truchasmask2 como ccc83280-8c2a-4971-9f92-79cf4181a41d-300mm.png\n",
            "Máscara 2 ha sido guardada en /content/drive/MyDrive/truchasmask2 como db449ac2-87b0-4231-9438-7d16c5e3e5d1-190mm.png\n",
            "Máscara 1 ha sido guardada en /content/drive/MyDrive/truchasmask2 como ddfdda3e-202b-48ea-9f06-3f658bcff792-370mm.png\n",
            "Máscara 2 ha sido guardada en /content/drive/MyDrive/truchasmask2 como c7c9d3aa-8053-4f1e-b932-409564b2b25e-190mm.png\n",
            "Máscara 2 ha sido guardada en /content/drive/MyDrive/truchasmask2 como e1014b09-6bd4-4ce6-a395-5aa38d48b0a9-270mm.png\n",
            "Máscara 2 ha sido guardada en /content/drive/MyDrive/truchasmask2 como d850455c-74da-4fb0-97d5-b9c91e0dd447-150mm.png\n",
            "Máscara 2 ha sido guardada en /content/drive/MyDrive/truchasmask2 como d708da51-a200-4df6-8eb9-cf5560b15b37-0mm.png\n",
            "Máscara 2 ha sido guardada en /content/drive/MyDrive/truchasmask2 como c7b79415-5c8d-4290-9940-b219d21b84b2-600mm.png\n",
            "Máscara 2 ha sido guardada en /content/drive/MyDrive/truchasmask2 como cbaf377b-a9a0-4251-baf7-bfa5b5a9b9ec-240mm.png\n",
            "Máscara 1 ha sido guardada en /content/drive/MyDrive/truchasmask2 como dbf8e1f6-9533-4cfe-81a3-9c9a018b2183-270mm.png\n",
            "Máscara 2 ha sido guardada en /content/drive/MyDrive/truchasmask2 como fc3907d4-e847-45b4-b0bb-35fa1dfaa966-480mm.png\n",
            "Máscara 2 ha sido guardada en /content/drive/MyDrive/truchasmask2 como f5a11e31-cc9b-4085-92df-19bb066bafaf-380mm.png\n",
            "Máscara 2 ha sido guardada en /content/drive/MyDrive/truchasmask2 como eba9fef7-a60b-4b98-907d-a0f643c81226-210mm.png\n",
            "Máscara 1 ha sido guardada en /content/drive/MyDrive/truchasmask2 como eb140809-1aa0-4a0a-8ca6-130dc38651a9-240mm.png\n",
            "Máscara 1 ha sido guardada en /content/drive/MyDrive/truchasmask2 como e9db176b-7d5a-438b-9212-15409dd1708b-110mm.png\n",
            "Máscara 1 ha sido guardada en /content/drive/MyDrive/truchasmask2 como faf75c5b-c0da-4fb3-af8a-981c67b01e72-0mm.png\n",
            "Máscara 2 ha sido guardada en /content/drive/MyDrive/truchasmask2 como fc7dab3b-37a9-427e-bd67-8b987f05e988-280mm.png\n",
            "Máscara 1 ha sido guardada en /content/drive/MyDrive/truchasmask2 como ff469262-859a-4c36-9a6f-45aa20fac6d1-170mm.png\n",
            "Máscara 1 ha sido guardada en /content/drive/MyDrive/truchasmask2 como ec4582ba-fc9f-4fea-b9a7-fa0bdbbe2e27-160mm.png\n",
            "Proceso completo para todas las imágenes.\n"
          ]
        }
      ],
      "source": [
        "import os\n",
        "import cv2\n",
        "import numpy as np\n",
        "\n",
        "# Asegúrate de haber importado los módulos necesarios como mask_predictor, sv, etc.\n",
        "def calculate_mask_stability(mask):\n",
        "    mask = mask.astype(np.uint8) * 255\n",
        "    # Aplicar un suavizado Gaussiano para reducir el ruido\n",
        "    blurred_mask = cv2.GaussianBlur(mask, (5, 5), 0)\n",
        "\n",
        "    # Detectar contornos de la máscara\n",
        "    contours, _ = cv2.findContours(mask, cv2.RETR_EXTERNAL, cv2.CHAIN_APPROX_SIMPLE)\n",
        "\n",
        "    # Calcular el área total del contorno\n",
        "    area = sum([cv2.contourArea(c) for c in contours])\n",
        "\n",
        "    # Calcular la cantidad de ruido (pequeñas regiones dispersas)\n",
        "    noise = np.sum(mask != blurred_mask)\n",
        "\n",
        "    # Calcular la suavidad del contorno basado en el perímetro/área\n",
        "    perimeter = sum([cv2.arcLength(c, True) for c in contours])\n",
        "    smoothness_ratio = perimeter / (area + 1e-6)  # Añadir epsilon para evitar división por cero\n",
        "\n",
        "    # Aumentar el peso del área: ahora le damos más importancia\n",
        "    area_weight = 1 / (area**2 + 1e-6)  # Aumentar el peso del área con una raíz cuadrada inversa\n",
        "\n",
        "    # Combinar métricas para determinar la estabilidad\n",
        "    stability_score = (smoothness_ratio * 0.5 + noise * 0.0001) * area_weight\n",
        "    return stability_score, area\n",
        "\n",
        "def choose_most_stable_and_largest_mask(masks):\n",
        "    # Calcular la estabilidad y área para cada máscara\n",
        "    stability_scores = []\n",
        "    areas = []\n",
        "    for mask in masks:\n",
        "        stability_score, area = calculate_mask_stability(mask)\n",
        "        stability_scores.append(stability_score)\n",
        "        areas.append(area)\n",
        "\n",
        "    # Elegir la máscara que tenga el mejor equilibrio entre estabilidad y área\n",
        "    best_mask_index = np.argmin(stability_scores)\n",
        "    return masks[best_mask_index], best_mask_index  # Devolver la máscara seleccionada y su índice\n",
        "\n",
        "def export_and_display_selected_mask(masks, output_folder, mask_index, image_name):\n",
        "    # Validar que el índice esté dentro del rango de máscaras disponibles\n",
        "    if mask_index < 0 or mask_index >= len(masks):\n",
        "        print(f\"Índice fuera de rango. Hay {len(masks)} máscaras disponibles.\")\n",
        "        return\n",
        "\n",
        "    # Crear la carpeta de salida si no existe\n",
        "    os.makedirs(output_folder, exist_ok=True)\n",
        "\n",
        "    # Seleccionar la máscara específica según el índice\n",
        "    selected_mask = masks[mask_index]\n",
        "\n",
        "    # Convertir la máscara seleccionada a imagen binaria (0 o 255)\n",
        "    binary_mask = (selected_mask * 255).astype(np.uint8)\n",
        "\n",
        "    # Guardar la máscara seleccionada con el nombre de la imagen original\n",
        "    mask_path = os.path.join(output_folder, f'{image_name}.png')\n",
        "    cv2.imwrite(mask_path, binary_mask)\n",
        "\n",
        "    print(f\"Máscara {mask_index} ha sido guardada en {output_folder} como {image_name}.png\")\n",
        "\n",
        "# Proceso principal\n",
        "for filename in os.listdir(IMAGE_FOLDER):\n",
        "    if filename.endswith('.jpg') or filename.endswith('.png'):\n",
        "        # Construir la ruta completa de la imagen\n",
        "        image_path = os.path.join(IMAGE_FOLDER, filename)\n",
        "        xml_path = os.path.join(IMAGE_FOLDER, os.path.splitext(filename)[0] + '.xml')\n",
        "        mask_output_path = os.path.join(OUTPUT_FOLDER, f\"{os.path.splitext(filename)[0]}_mask.png\")\n",
        "\n",
        "        if os.path.exists(mask_output_path):\n",
        "            print(f\"Máscara ya existe para {filename}, saltando a la siguiente imagen.\")\n",
        "            continue  # Saltar si la máscara ya existe\n",
        "\n",
        "        if os.path.exists(xml_path):\n",
        "            # Cargar la imagen en formato BGR\n",
        "            image_bgr = cv2.imread(image_path)\n",
        "            image_rgb = cv2.cvtColor(image_bgr, cv2.COLOR_BGR2RGB)\n",
        "            mask_predictor.set_image(image_rgb)\n",
        "\n",
        "            # Extraer bounding boxes del archivo XML\n",
        "            bounding_boxes = extract_bounding_boxes(xml_path)\n",
        "\n",
        "            candidate_masks = []\n",
        "\n",
        "            for bbox in bounding_boxes:\n",
        "                box = np.array([bbox[0], bbox[1], bbox[2], bbox[3]])\n",
        "\n",
        "                # Predecir máscaras usando el mask predictor\n",
        "                masks, scores, logits = mask_predictor.predict(box=box, multimask_output=True)\n",
        "\n",
        "                # Añadir las máscaras candidatas para evaluación\n",
        "                for mask in masks:\n",
        "                    candidate_masks.append(mask)\n",
        "\n",
        "            # Elegir la mejor máscara usando el criterio de estabilidad y área\n",
        "            if candidate_masks:\n",
        "                best_mask, best_mask_index = choose_most_stable_and_largest_mask(candidate_masks)\n",
        "\n",
        "                # Convertir la mejor máscara a binaria y guardar con el nombre original\n",
        "                image_base_name = os.path.splitext(filename)[0]  # Obtener el nombre base de la imagen\n",
        "                export_and_display_selected_mask(candidate_masks, OUTPUT_FOLDER, best_mask_index, image_base_name)\n",
        "\n",
        "print(\"Proceso completo para todas las imágenes.\")\n",
        "\n"
      ]
    }
  ],
  "metadata": {
    "accelerator": "GPU",
    "colab": {
      "gpuType": "T4",
      "provenance": []
    },
    "kernelspec": {
      "display_name": "Python 3",
      "name": "python3"
    }
  },
  "nbformat": 4,
  "nbformat_minor": 0
}
