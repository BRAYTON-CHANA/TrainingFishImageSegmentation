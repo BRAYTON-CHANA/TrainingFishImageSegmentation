{
  "nbformat": 4,
  "nbformat_minor": 0,
  "metadata": {
    "colab": {
      "provenance": [],
      "gpuType": "T4"
    },
    "kernelspec": {
      "name": "python3",
      "display_name": "Python 3"
    },
    "language_info": {
      "name": "python"
    },
    "widgets": {
      "application/vnd.jupyter.widget-state+json": {
        "fe7c4feea8394ea0b69785ec67ab7288": {
          "model_module": "@jupyter-widgets/controls",
          "model_name": "VBoxModel",
          "model_module_version": "1.5.0",
          "state": {
            "_dom_classes": [],
            "_model_module": "@jupyter-widgets/controls",
            "_model_module_version": "1.5.0",
            "_model_name": "VBoxModel",
            "_view_count": null,
            "_view_module": "@jupyter-widgets/controls",
            "_view_module_version": "1.5.0",
            "_view_name": "VBoxView",
            "box_style": "",
            "children": [
              "IPY_MODEL_4b5c373b998c4c47a32e273a6623c83d",
              "IPY_MODEL_015b725a3233489ca0e1d66c516be085"
            ],
            "layout": "IPY_MODEL_b1d2a0700370459c9638d42a7e960e60"
          }
        },
        "4b5c373b998c4c47a32e273a6623c83d": {
          "model_module": "@jupyter-widgets/controls",
          "model_name": "LabelModel",
          "model_module_version": "1.5.0",
          "state": {
            "_dom_classes": [],
            "_model_module": "@jupyter-widgets/controls",
            "_model_module_version": "1.5.0",
            "_model_name": "LabelModel",
            "_view_count": null,
            "_view_module": "@jupyter-widgets/controls",
            "_view_module_version": "1.5.0",
            "_view_name": "LabelView",
            "description": "",
            "description_tooltip": null,
            "layout": "IPY_MODEL_042acd8419dc46719d7205a5f5ebef2b",
            "placeholder": "​",
            "style": "IPY_MODEL_3a367c58843b4a4ea0511f319846a578",
            "value": "58.437 MB of 58.437 MB uploaded\r"
          }
        },
        "015b725a3233489ca0e1d66c516be085": {
          "model_module": "@jupyter-widgets/controls",
          "model_name": "FloatProgressModel",
          "model_module_version": "1.5.0",
          "state": {
            "_dom_classes": [],
            "_model_module": "@jupyter-widgets/controls",
            "_model_module_version": "1.5.0",
            "_model_name": "FloatProgressModel",
            "_view_count": null,
            "_view_module": "@jupyter-widgets/controls",
            "_view_module_version": "1.5.0",
            "_view_name": "ProgressView",
            "bar_style": "",
            "description": "",
            "description_tooltip": null,
            "layout": "IPY_MODEL_9cf3d72b4a5d45588c3d3875727afcb9",
            "max": 1,
            "min": 0,
            "orientation": "horizontal",
            "style": "IPY_MODEL_a7e6341956f94043ad146885c8b62058",
            "value": 1
          }
        },
        "b1d2a0700370459c9638d42a7e960e60": {
          "model_module": "@jupyter-widgets/base",
          "model_name": "LayoutModel",
          "model_module_version": "1.2.0",
          "state": {
            "_model_module": "@jupyter-widgets/base",
            "_model_module_version": "1.2.0",
            "_model_name": "LayoutModel",
            "_view_count": null,
            "_view_module": "@jupyter-widgets/base",
            "_view_module_version": "1.2.0",
            "_view_name": "LayoutView",
            "align_content": null,
            "align_items": null,
            "align_self": null,
            "border": null,
            "bottom": null,
            "display": null,
            "flex": null,
            "flex_flow": null,
            "grid_area": null,
            "grid_auto_columns": null,
            "grid_auto_flow": null,
            "grid_auto_rows": null,
            "grid_column": null,
            "grid_gap": null,
            "grid_row": null,
            "grid_template_areas": null,
            "grid_template_columns": null,
            "grid_template_rows": null,
            "height": null,
            "justify_content": null,
            "justify_items": null,
            "left": null,
            "margin": null,
            "max_height": null,
            "max_width": null,
            "min_height": null,
            "min_width": null,
            "object_fit": null,
            "object_position": null,
            "order": null,
            "overflow": null,
            "overflow_x": null,
            "overflow_y": null,
            "padding": null,
            "right": null,
            "top": null,
            "visibility": null,
            "width": null
          }
        },
        "042acd8419dc46719d7205a5f5ebef2b": {
          "model_module": "@jupyter-widgets/base",
          "model_name": "LayoutModel",
          "model_module_version": "1.2.0",
          "state": {
            "_model_module": "@jupyter-widgets/base",
            "_model_module_version": "1.2.0",
            "_model_name": "LayoutModel",
            "_view_count": null,
            "_view_module": "@jupyter-widgets/base",
            "_view_module_version": "1.2.0",
            "_view_name": "LayoutView",
            "align_content": null,
            "align_items": null,
            "align_self": null,
            "border": null,
            "bottom": null,
            "display": null,
            "flex": null,
            "flex_flow": null,
            "grid_area": null,
            "grid_auto_columns": null,
            "grid_auto_flow": null,
            "grid_auto_rows": null,
            "grid_column": null,
            "grid_gap": null,
            "grid_row": null,
            "grid_template_areas": null,
            "grid_template_columns": null,
            "grid_template_rows": null,
            "height": null,
            "justify_content": null,
            "justify_items": null,
            "left": null,
            "margin": null,
            "max_height": null,
            "max_width": null,
            "min_height": null,
            "min_width": null,
            "object_fit": null,
            "object_position": null,
            "order": null,
            "overflow": null,
            "overflow_x": null,
            "overflow_y": null,
            "padding": null,
            "right": null,
            "top": null,
            "visibility": null,
            "width": null
          }
        },
        "3a367c58843b4a4ea0511f319846a578": {
          "model_module": "@jupyter-widgets/controls",
          "model_name": "DescriptionStyleModel",
          "model_module_version": "1.5.0",
          "state": {
            "_model_module": "@jupyter-widgets/controls",
            "_model_module_version": "1.5.0",
            "_model_name": "DescriptionStyleModel",
            "_view_count": null,
            "_view_module": "@jupyter-widgets/base",
            "_view_module_version": "1.2.0",
            "_view_name": "StyleView",
            "description_width": ""
          }
        },
        "9cf3d72b4a5d45588c3d3875727afcb9": {
          "model_module": "@jupyter-widgets/base",
          "model_name": "LayoutModel",
          "model_module_version": "1.2.0",
          "state": {
            "_model_module": "@jupyter-widgets/base",
            "_model_module_version": "1.2.0",
            "_model_name": "LayoutModel",
            "_view_count": null,
            "_view_module": "@jupyter-widgets/base",
            "_view_module_version": "1.2.0",
            "_view_name": "LayoutView",
            "align_content": null,
            "align_items": null,
            "align_self": null,
            "border": null,
            "bottom": null,
            "display": null,
            "flex": null,
            "flex_flow": null,
            "grid_area": null,
            "grid_auto_columns": null,
            "grid_auto_flow": null,
            "grid_auto_rows": null,
            "grid_column": null,
            "grid_gap": null,
            "grid_row": null,
            "grid_template_areas": null,
            "grid_template_columns": null,
            "grid_template_rows": null,
            "height": null,
            "justify_content": null,
            "justify_items": null,
            "left": null,
            "margin": null,
            "max_height": null,
            "max_width": null,
            "min_height": null,
            "min_width": null,
            "object_fit": null,
            "object_position": null,
            "order": null,
            "overflow": null,
            "overflow_x": null,
            "overflow_y": null,
            "padding": null,
            "right": null,
            "top": null,
            "visibility": null,
            "width": null
          }
        },
        "a7e6341956f94043ad146885c8b62058": {
          "model_module": "@jupyter-widgets/controls",
          "model_name": "ProgressStyleModel",
          "model_module_version": "1.5.0",
          "state": {
            "_model_module": "@jupyter-widgets/controls",
            "_model_module_version": "1.5.0",
            "_model_name": "ProgressStyleModel",
            "_view_count": null,
            "_view_module": "@jupyter-widgets/base",
            "_view_module_version": "1.2.0",
            "_view_name": "StyleView",
            "bar_color": null,
            "description_width": ""
          }
        }
      }
    },
    "accelerator": "GPU"
  },
  "cells": [
    {
      "cell_type": "code",
      "execution_count": null,
      "metadata": {
        "colab": {
          "base_uri": "https://localhost:8080/"
        },
        "id": "yTb_b7XnaHS7",
        "outputId": "045ec174-6f46-460f-93f1-c562866a6fed"
      },
      "outputs": [
        {
          "output_type": "stream",
          "name": "stdout",
          "text": [
            "Mounted at /content/gdrive\n"
          ]
        }
      ],
      "source": [
        "from google.colab import drive\n",
        "drive.mount('/content/gdrive')\n"
      ]
    },
    {
      "cell_type": "code",
      "source": [
        "!ls '/content/gdrive/MyDrive/DatasetPeces'\n"
      ],
      "metadata": {
        "colab": {
          "base_uri": "https://localhost:8080/"
        },
        "id": "Wubg1tNrbRMk",
        "outputId": "3e565f92-06d7-4350-b96c-dcc36c66f58b"
      },
      "execution_count": null,
      "outputs": [
        {
          "output_type": "stream",
          "name": "stdout",
          "text": [
            "codigo2.py  codigo4.py\tcomandos.txt\t dataset.yaml\t       runs   val\n",
            "codigo3.py  codigo.py\tcomprobacion.py  detected_classes.txt  train\n"
          ]
        }
      ]
    },
    {
      "cell_type": "code",
      "source": [
        "DATA_DIR = '/content/gdrive/MyDrive/DatasetPeces'"
      ],
      "metadata": {
        "id": "vvc_WmD9bmDU"
      },
      "execution_count": null,
      "outputs": []
    },
    {
      "cell_type": "code",
      "source": [
        "!pip install ultralytics"
      ],
      "metadata": {
        "colab": {
          "base_uri": "https://localhost:8080/"
        },
        "id": "aiDjEe8ffmna",
        "outputId": "84f7d86b-b434-4146-e6fb-9308c97bd4b9"
      },
      "execution_count": null,
      "outputs": [
        {
          "output_type": "stream",
          "name": "stdout",
          "text": [
            "Collecting ultralytics\n",
            "  Downloading ultralytics-8.3.30-py3-none-any.whl.metadata (35 kB)\n",
            "Requirement already satisfied: numpy>=1.23.0 in /usr/local/lib/python3.10/dist-packages (from ultralytics) (1.26.4)\n",
            "Requirement already satisfied: matplotlib>=3.3.0 in /usr/local/lib/python3.10/dist-packages (from ultralytics) (3.8.0)\n",
            "Requirement already satisfied: opencv-python>=4.6.0 in /usr/local/lib/python3.10/dist-packages (from ultralytics) (4.10.0.84)\n",
            "Requirement already satisfied: pillow>=7.1.2 in /usr/local/lib/python3.10/dist-packages (from ultralytics) (11.0.0)\n",
            "Requirement already satisfied: pyyaml>=5.3.1 in /usr/local/lib/python3.10/dist-packages (from ultralytics) (6.0.2)\n",
            "Requirement already satisfied: requests>=2.23.0 in /usr/local/lib/python3.10/dist-packages (from ultralytics) (2.32.3)\n",
            "Requirement already satisfied: scipy>=1.4.1 in /usr/local/lib/python3.10/dist-packages (from ultralytics) (1.13.1)\n",
            "Requirement already satisfied: torch>=1.8.0 in /usr/local/lib/python3.10/dist-packages (from ultralytics) (2.5.0+cu121)\n",
            "Requirement already satisfied: torchvision>=0.9.0 in /usr/local/lib/python3.10/dist-packages (from ultralytics) (0.20.0+cu121)\n",
            "Requirement already satisfied: tqdm>=4.64.0 in /usr/local/lib/python3.10/dist-packages (from ultralytics) (4.66.6)\n",
            "Requirement already satisfied: psutil in /usr/local/lib/python3.10/dist-packages (from ultralytics) (5.9.5)\n",
            "Requirement already satisfied: py-cpuinfo in /usr/local/lib/python3.10/dist-packages (from ultralytics) (9.0.0)\n",
            "Requirement already satisfied: pandas>=1.1.4 in /usr/local/lib/python3.10/dist-packages (from ultralytics) (2.2.2)\n",
            "Requirement already satisfied: seaborn>=0.11.0 in /usr/local/lib/python3.10/dist-packages (from ultralytics) (0.13.2)\n",
            "Collecting ultralytics-thop>=2.0.0 (from ultralytics)\n",
            "  Downloading ultralytics_thop-2.0.11-py3-none-any.whl.metadata (9.4 kB)\n",
            "Requirement already satisfied: contourpy>=1.0.1 in /usr/local/lib/python3.10/dist-packages (from matplotlib>=3.3.0->ultralytics) (1.3.0)\n",
            "Requirement already satisfied: cycler>=0.10 in /usr/local/lib/python3.10/dist-packages (from matplotlib>=3.3.0->ultralytics) (0.12.1)\n",
            "Requirement already satisfied: fonttools>=4.22.0 in /usr/local/lib/python3.10/dist-packages (from matplotlib>=3.3.0->ultralytics) (4.54.1)\n",
            "Requirement already satisfied: kiwisolver>=1.0.1 in /usr/local/lib/python3.10/dist-packages (from matplotlib>=3.3.0->ultralytics) (1.4.7)\n",
            "Requirement already satisfied: packaging>=20.0 in /usr/local/lib/python3.10/dist-packages (from matplotlib>=3.3.0->ultralytics) (24.2)\n",
            "Requirement already satisfied: pyparsing>=2.3.1 in /usr/local/lib/python3.10/dist-packages (from matplotlib>=3.3.0->ultralytics) (3.2.0)\n",
            "Requirement already satisfied: python-dateutil>=2.7 in /usr/local/lib/python3.10/dist-packages (from matplotlib>=3.3.0->ultralytics) (2.8.2)\n",
            "Requirement already satisfied: pytz>=2020.1 in /usr/local/lib/python3.10/dist-packages (from pandas>=1.1.4->ultralytics) (2024.2)\n",
            "Requirement already satisfied: tzdata>=2022.7 in /usr/local/lib/python3.10/dist-packages (from pandas>=1.1.4->ultralytics) (2024.2)\n",
            "Requirement already satisfied: charset-normalizer<4,>=2 in /usr/local/lib/python3.10/dist-packages (from requests>=2.23.0->ultralytics) (3.4.0)\n",
            "Requirement already satisfied: idna<4,>=2.5 in /usr/local/lib/python3.10/dist-packages (from requests>=2.23.0->ultralytics) (3.10)\n",
            "Requirement already satisfied: urllib3<3,>=1.21.1 in /usr/local/lib/python3.10/dist-packages (from requests>=2.23.0->ultralytics) (2.2.3)\n",
            "Requirement already satisfied: certifi>=2017.4.17 in /usr/local/lib/python3.10/dist-packages (from requests>=2.23.0->ultralytics) (2024.8.30)\n",
            "Requirement already satisfied: filelock in /usr/local/lib/python3.10/dist-packages (from torch>=1.8.0->ultralytics) (3.16.1)\n",
            "Requirement already satisfied: typing-extensions>=4.8.0 in /usr/local/lib/python3.10/dist-packages (from torch>=1.8.0->ultralytics) (4.12.2)\n",
            "Requirement already satisfied: networkx in /usr/local/lib/python3.10/dist-packages (from torch>=1.8.0->ultralytics) (3.4.2)\n",
            "Requirement already satisfied: jinja2 in /usr/local/lib/python3.10/dist-packages (from torch>=1.8.0->ultralytics) (3.1.4)\n",
            "Requirement already satisfied: fsspec in /usr/local/lib/python3.10/dist-packages (from torch>=1.8.0->ultralytics) (2024.10.0)\n",
            "Requirement already satisfied: sympy==1.13.1 in /usr/local/lib/python3.10/dist-packages (from torch>=1.8.0->ultralytics) (1.13.1)\n",
            "Requirement already satisfied: mpmath<1.4,>=1.1.0 in /usr/local/lib/python3.10/dist-packages (from sympy==1.13.1->torch>=1.8.0->ultralytics) (1.3.0)\n",
            "Requirement already satisfied: six>=1.5 in /usr/local/lib/python3.10/dist-packages (from python-dateutil>=2.7->matplotlib>=3.3.0->ultralytics) (1.16.0)\n",
            "Requirement already satisfied: MarkupSafe>=2.0 in /usr/local/lib/python3.10/dist-packages (from jinja2->torch>=1.8.0->ultralytics) (3.0.2)\n",
            "Downloading ultralytics-8.3.30-py3-none-any.whl (885 kB)\n",
            "\u001b[2K   \u001b[90m━━━━━━━━━━━━━━━━━━━━━━━━━━━━━━━━━━━━━━━━\u001b[0m \u001b[32m885.9/885.9 kB\u001b[0m \u001b[31m54.3 MB/s\u001b[0m eta \u001b[36m0:00:00\u001b[0m\n",
            "\u001b[?25hDownloading ultralytics_thop-2.0.11-py3-none-any.whl (26 kB)\n",
            "Installing collected packages: ultralytics-thop, ultralytics\n",
            "Successfully installed ultralytics-8.3.30 ultralytics-thop-2.0.11\n"
          ]
        }
      ]
    },
    {
      "cell_type": "code",
      "source": [
        "import os\n",
        "from ultralytics import YOLO\n",
        "\n",
        "model = YOLO('yolov8m-seg.pt')  # load a pretrained model (recommended for training)\n",
        "\n",
        "# Entrenamiento del modelo con las rutas locales\n",
        "model.train(data=r'/content/gdrive/MyDrive/DatasetPeces/dataset.yaml',\n",
        "            epochs=65,\n",
        "            imgsz=640,\n",
        "            batch=16,\n",
        "            lr0=0.01,\n",
        "            optimizer='AdamW',\n",
        "            weight_decay=0.0005,\n",
        "            cache='disk',\n",
        "            device=0)  # Si tienes GPU, se usará automáticamente\n",
        "\n"
      ],
      "metadata": {
        "colab": {
          "base_uri": "https://localhost:8080/"
        },
        "id": "endUFOHqfnts",
        "outputId": "ea65913d-ecfa-4c7a-8a0c-2a7d23293232"
      },
      "execution_count": null,
      "outputs": [
        {
          "output_type": "stream",
          "name": "stdout",
          "text": [
            "Creating new Ultralytics Settings v0.0.6 file ✅ \n",
            "View Ultralytics Settings with 'yolo settings' or at '/root/.config/Ultralytics/settings.json'\n",
            "Update Settings with 'yolo settings key=value', i.e. 'yolo settings runs_dir=path/to/dir'. For help see https://docs.ultralytics.com/quickstart/#ultralytics-settings.\n",
            "Downloading https://github.com/ultralytics/assets/releases/download/v8.3.0/yolov8m-seg.pt to 'yolov8m-seg.pt'...\n"
          ]
        },
        {
          "output_type": "stream",
          "name": "stderr",
          "text": [
            "100%|██████████| 52.4M/52.4M [00:01<00:00, 40.6MB/s]\n"
          ]
        },
        {
          "output_type": "stream",
          "name": "stdout",
          "text": [
            "Ultralytics 8.3.30 🚀 Python-3.10.12 torch-2.5.0+cu121 CUDA:0 (Tesla T4, 15102MiB)\n",
            "\u001b[34m\u001b[1mengine/trainer: \u001b[0mtask=segment, mode=train, model=yolov8m-seg.pt, data=/content/gdrive/MyDrive/DatasetPeces/dataset.yaml, epochs=65, time=None, patience=100, batch=16, imgsz=640, save=True, save_period=-1, cache=disk, device=0, workers=8, project=None, name=train, exist_ok=False, pretrained=True, optimizer=AdamW, verbose=True, seed=0, deterministic=True, single_cls=False, rect=False, cos_lr=False, close_mosaic=10, resume=False, amp=True, fraction=1.0, profile=False, freeze=None, multi_scale=False, overlap_mask=True, mask_ratio=4, dropout=0.0, val=True, split=val, save_json=False, save_hybrid=False, conf=None, iou=0.7, max_det=300, half=False, dnn=False, plots=True, source=None, vid_stride=1, stream_buffer=False, visualize=False, augment=False, agnostic_nms=False, classes=None, retina_masks=False, embed=None, show=False, save_frames=False, save_txt=False, save_conf=False, save_crop=False, show_labels=True, show_conf=True, show_boxes=True, line_width=None, format=torchscript, keras=False, optimize=False, int8=False, dynamic=False, simplify=True, opset=None, workspace=4, nms=False, lr0=0.01, lrf=0.01, momentum=0.937, weight_decay=0.0005, warmup_epochs=3.0, warmup_momentum=0.8, warmup_bias_lr=0.1, box=7.5, cls=0.5, dfl=1.5, pose=12.0, kobj=1.0, label_smoothing=0.0, nbs=64, hsv_h=0.015, hsv_s=0.7, hsv_v=0.4, degrees=0.0, translate=0.1, scale=0.5, shear=0.0, perspective=0.0, flipud=0.0, fliplr=0.5, bgr=0.0, mosaic=1.0, mixup=0.0, copy_paste=0.0, copy_paste_mode=flip, auto_augment=randaugment, erasing=0.4, crop_fraction=1.0, cfg=None, tracker=botsort.yaml, save_dir=runs/segment/train\n",
            "Downloading https://ultralytics.com/assets/Arial.ttf to '/root/.config/Ultralytics/Arial.ttf'...\n"
          ]
        },
        {
          "output_type": "stream",
          "name": "stderr",
          "text": [
            "100%|██████████| 755k/755k [00:00<00:00, 116MB/s]\n"
          ]
        },
        {
          "output_type": "stream",
          "name": "stdout",
          "text": [
            "Overriding model.yaml nc=80 with nc=1\n",
            "\n",
            "                   from  n    params  module                                       arguments                     \n",
            "  0                  -1  1      1392  ultralytics.nn.modules.conv.Conv             [3, 48, 3, 2]                 \n",
            "  1                  -1  1     41664  ultralytics.nn.modules.conv.Conv             [48, 96, 3, 2]                \n",
            "  2                  -1  2    111360  ultralytics.nn.modules.block.C2f             [96, 96, 2, True]             \n",
            "  3                  -1  1    166272  ultralytics.nn.modules.conv.Conv             [96, 192, 3, 2]               \n",
            "  4                  -1  4    813312  ultralytics.nn.modules.block.C2f             [192, 192, 4, True]           \n",
            "  5                  -1  1    664320  ultralytics.nn.modules.conv.Conv             [192, 384, 3, 2]              \n",
            "  6                  -1  4   3248640  ultralytics.nn.modules.block.C2f             [384, 384, 4, True]           \n",
            "  7                  -1  1   1991808  ultralytics.nn.modules.conv.Conv             [384, 576, 3, 2]              \n",
            "  8                  -1  2   3985920  ultralytics.nn.modules.block.C2f             [576, 576, 2, True]           \n",
            "  9                  -1  1    831168  ultralytics.nn.modules.block.SPPF            [576, 576, 5]                 \n",
            " 10                  -1  1         0  torch.nn.modules.upsampling.Upsample         [None, 2, 'nearest']          \n",
            " 11             [-1, 6]  1         0  ultralytics.nn.modules.conv.Concat           [1]                           \n",
            " 12                  -1  2   1993728  ultralytics.nn.modules.block.C2f             [960, 384, 2]                 \n",
            " 13                  -1  1         0  torch.nn.modules.upsampling.Upsample         [None, 2, 'nearest']          \n",
            " 14             [-1, 4]  1         0  ultralytics.nn.modules.conv.Concat           [1]                           \n",
            " 15                  -1  2    517632  ultralytics.nn.modules.block.C2f             [576, 192, 2]                 \n",
            " 16                  -1  1    332160  ultralytics.nn.modules.conv.Conv             [192, 192, 3, 2]              \n",
            " 17            [-1, 12]  1         0  ultralytics.nn.modules.conv.Concat           [1]                           \n",
            " 18                  -1  2   1846272  ultralytics.nn.modules.block.C2f             [576, 384, 2]                 \n",
            " 19                  -1  1   1327872  ultralytics.nn.modules.conv.Conv             [384, 384, 3, 2]              \n",
            " 20             [-1, 9]  1         0  ultralytics.nn.modules.conv.Concat           [1]                           \n",
            " 21                  -1  2   4207104  ultralytics.nn.modules.block.C2f             [960, 576, 2]                 \n",
            " 22        [15, 18, 21]  1   5159603  ultralytics.nn.modules.head.Segment          [1, 32, 192, [192, 384, 576]] \n",
            "YOLOv8m-seg summary: 331 layers, 27,240,227 parameters, 27,240,211 gradients, 110.4 GFLOPs\n",
            "\n",
            "Transferred 531/537 items from pretrained weights\n",
            "\u001b[34m\u001b[1mTensorBoard: \u001b[0mStart with 'tensorboard --logdir runs/segment/train', view at http://localhost:6006/\n",
            "Freezing layer 'model.22.dfl.conv.weight'\n",
            "\u001b[34m\u001b[1mAMP: \u001b[0mrunning Automatic Mixed Precision (AMP) checks...\n",
            "Downloading https://github.com/ultralytics/assets/releases/download/v8.3.0/yolo11n.pt to 'yolo11n.pt'...\n"
          ]
        },
        {
          "output_type": "stream",
          "name": "stderr",
          "text": [
            "100%|██████████| 5.35M/5.35M [00:00<00:00, 272MB/s]\n"
          ]
        },
        {
          "output_type": "stream",
          "name": "stdout",
          "text": [
            "\u001b[34m\u001b[1mAMP: \u001b[0mchecks passed ✅\n"
          ]
        },
        {
          "output_type": "stream",
          "name": "stderr",
          "text": [
            "\u001b[34m\u001b[1mtrain: \u001b[0mScanning /content/gdrive/MyDrive/DatasetPeces/train/labels.cache... 1477 images, 0 backgrounds, 0 corrupt: 100%|██████████| 1477/1477 [00:00<?, ?it/s]\n",
            "\u001b[34m\u001b[1mtrain: \u001b[0mCaching images (1.2GB Disk): 100%|██████████| 1477/1477 [00:07<00:00, 207.26it/s]\n"
          ]
        },
        {
          "output_type": "stream",
          "name": "stdout",
          "text": [
            "\u001b[34m\u001b[1malbumentations: \u001b[0mBlur(p=0.01, blur_limit=(3, 7)), MedianBlur(p=0.01, blur_limit=(3, 7)), ToGray(p=0.01, num_output_channels=3, method='weighted_average'), CLAHE(p=0.01, clip_limit=(1.0, 4.0), tile_grid_size=(8, 8))\n"
          ]
        },
        {
          "output_type": "stream",
          "name": "stderr",
          "text": [
            "/usr/local/lib/python3.10/dist-packages/albumentations/__init__.py:24: UserWarning: A new version of Albumentations is available: 1.4.21 (you have 1.4.20). Upgrade using: pip install -U albumentations. To disable automatic update checks, set the environment variable NO_ALBUMENTATIONS_UPDATE to 1.\n",
            "  check_for_updates()\n",
            "\u001b[34m\u001b[1mval: \u001b[0mScanning /content/gdrive/MyDrive/DatasetPeces/val/labels.cache... 369 images, 0 backgrounds, 0 corrupt: 100%|██████████| 369/369 [00:00<?, ?it/s]\n",
            "\u001b[34m\u001b[1mval: \u001b[0mCaching images (0.3GB Disk): 100%|██████████| 369/369 [00:00<00:00, 3575.13it/s]\n"
          ]
        },
        {
          "output_type": "stream",
          "name": "stdout",
          "text": [
            "Plotting labels to runs/segment/train/labels.jpg... \n",
            "\u001b[34m\u001b[1moptimizer:\u001b[0m AdamW(lr=0.01, momentum=0.937) with parameter groups 86 weight(decay=0.0), 97 weight(decay=0.0005), 96 bias(decay=0.0)\n",
            "\u001b[34m\u001b[1mTensorBoard: \u001b[0mmodel graph visualization added ✅\n",
            "Image sizes 640 train, 640 val\n",
            "Using 2 dataloader workers\n",
            "Logging results to \u001b[1mruns/segment/train\u001b[0m\n",
            "Starting training for 65 epochs...\n",
            "\n",
            "      Epoch    GPU_mem   box_loss   seg_loss   cls_loss   dfl_loss  Instances       Size\n"
          ]
        },
        {
          "output_type": "stream",
          "name": "stderr",
          "text": [
            "       1/65      7.96G      1.307      2.108      1.762       1.57         13        640: 100%|██████████| 93/93 [01:18<00:00,  1.19it/s]\n",
            "                 Class     Images  Instances      Box(P          R      mAP50  mAP50-95)     Mask(P          R      mAP50  mAP50-95): 100%|██████████| 12/12 [02:01<00:00, 10.17s/it]"
          ]
        },
        {
          "output_type": "stream",
          "name": "stdout",
          "text": [
            "                   all        369        486     0.0172      0.467     0.0125    0.00316     0.0195      0.529     0.0149    0.00297\n"
          ]
        },
        {
          "output_type": "stream",
          "name": "stderr",
          "text": [
            "\n"
          ]
        },
        {
          "output_type": "stream",
          "name": "stdout",
          "text": [
            "\n",
            "      Epoch    GPU_mem   box_loss   seg_loss   cls_loss   dfl_loss  Instances       Size\n"
          ]
        },
        {
          "output_type": "stream",
          "name": "stderr",
          "text": [
            "       2/65      8.24G      1.349      2.132      1.231      1.558         14        640: 100%|██████████| 93/93 [01:09<00:00,  1.35it/s]\n",
            "                 Class     Images  Instances      Box(P          R      mAP50  mAP50-95)     Mask(P          R      mAP50  mAP50-95): 100%|██████████| 12/12 [00:07<00:00,  1.55it/s]\n"
          ]
        },
        {
          "output_type": "stream",
          "name": "stdout",
          "text": [
            "                   all        369        486    0.00552     0.0329   0.000861    0.00026          0          0          0          0\n",
            "\n",
            "      Epoch    GPU_mem   box_loss   seg_loss   cls_loss   dfl_loss  Instances       Size\n"
          ]
        },
        {
          "output_type": "stream",
          "name": "stderr",
          "text": [
            "       3/65         8G        1.2      1.988      1.082      1.449         16        640: 100%|██████████| 93/93 [01:07<00:00,  1.37it/s]\n",
            "                 Class     Images  Instances      Box(P          R      mAP50  mAP50-95)     Mask(P          R      mAP50  mAP50-95): 100%|██████████| 12/12 [00:08<00:00,  1.39it/s]"
          ]
        },
        {
          "output_type": "stream",
          "name": "stdout",
          "text": [
            "                   all        369        486     0.0925      0.288     0.0579     0.0185     0.0783      0.237     0.0398     0.0111\n"
          ]
        },
        {
          "output_type": "stream",
          "name": "stderr",
          "text": [
            "\n"
          ]
        },
        {
          "output_type": "stream",
          "name": "stdout",
          "text": [
            "\n",
            "      Epoch    GPU_mem   box_loss   seg_loss   cls_loss   dfl_loss  Instances       Size\n"
          ]
        },
        {
          "output_type": "stream",
          "name": "stderr",
          "text": [
            "       4/65      7.97G       1.14      1.931      1.022      1.409         18        640: 100%|██████████| 93/93 [01:08<00:00,  1.35it/s]\n",
            "                 Class     Images  Instances      Box(P          R      mAP50  mAP50-95)     Mask(P          R      mAP50  mAP50-95): 100%|██████████| 12/12 [00:07<00:00,  1.68it/s]"
          ]
        },
        {
          "output_type": "stream",
          "name": "stdout",
          "text": [
            "                   all        369        486      0.419      0.722      0.459      0.244      0.447      0.646      0.432      0.243\n"
          ]
        },
        {
          "output_type": "stream",
          "name": "stderr",
          "text": [
            "\n"
          ]
        },
        {
          "output_type": "stream",
          "name": "stdout",
          "text": [
            "\n",
            "      Epoch    GPU_mem   box_loss   seg_loss   cls_loss   dfl_loss  Instances       Size\n"
          ]
        },
        {
          "output_type": "stream",
          "name": "stderr",
          "text": [
            "       5/65       8.2G      1.043      1.751     0.9039      1.348         15        640: 100%|██████████| 93/93 [01:08<00:00,  1.36it/s]\n",
            "                 Class     Images  Instances      Box(P          R      mAP50  mAP50-95)     Mask(P          R      mAP50  mAP50-95): 100%|██████████| 12/12 [00:07<00:00,  1.58it/s]"
          ]
        },
        {
          "output_type": "stream",
          "name": "stdout",
          "text": [
            "                   all        369        486      0.841      0.753       0.79      0.526      0.826      0.667      0.703      0.511\n"
          ]
        },
        {
          "output_type": "stream",
          "name": "stderr",
          "text": [
            "\n"
          ]
        },
        {
          "output_type": "stream",
          "name": "stdout",
          "text": [
            "\n",
            "      Epoch    GPU_mem   box_loss   seg_loss   cls_loss   dfl_loss  Instances       Size\n"
          ]
        },
        {
          "output_type": "stream",
          "name": "stderr",
          "text": [
            "       6/65      7.96G     0.9563      1.578     0.8417      1.285         14        640: 100%|██████████| 93/93 [01:08<00:00,  1.36it/s]\n",
            "                 Class     Images  Instances      Box(P          R      mAP50  mAP50-95)     Mask(P          R      mAP50  mAP50-95): 100%|██████████| 12/12 [00:06<00:00,  1.80it/s]"
          ]
        },
        {
          "output_type": "stream",
          "name": "stdout",
          "text": [
            "                   all        369        486      0.818      0.732       0.79      0.551      0.815      0.709      0.758      0.469\n"
          ]
        },
        {
          "output_type": "stream",
          "name": "stderr",
          "text": [
            "\n"
          ]
        },
        {
          "output_type": "stream",
          "name": "stdout",
          "text": [
            "\n",
            "      Epoch    GPU_mem   box_loss   seg_loss   cls_loss   dfl_loss  Instances       Size\n"
          ]
        },
        {
          "output_type": "stream",
          "name": "stderr",
          "text": [
            "       7/65      7.95G     0.9652      1.625     0.8287       1.28         20        640: 100%|██████████| 93/93 [01:08<00:00,  1.36it/s]\n",
            "                 Class     Images  Instances      Box(P          R      mAP50  mAP50-95)     Mask(P          R      mAP50  mAP50-95): 100%|██████████| 12/12 [00:06<00:00,  1.75it/s]"
          ]
        },
        {
          "output_type": "stream",
          "name": "stdout",
          "text": [
            "                   all        369        486      0.794      0.772      0.811      0.591      0.796      0.751      0.758      0.523\n"
          ]
        },
        {
          "output_type": "stream",
          "name": "stderr",
          "text": [
            "\n"
          ]
        },
        {
          "output_type": "stream",
          "name": "stdout",
          "text": [
            "\n",
            "      Epoch    GPU_mem   box_loss   seg_loss   cls_loss   dfl_loss  Instances       Size\n"
          ]
        },
        {
          "output_type": "stream",
          "name": "stderr",
          "text": [
            "       8/65      7.94G     0.8777      1.506      0.749      1.233         16        640: 100%|██████████| 93/93 [01:08<00:00,  1.35it/s]\n",
            "                 Class     Images  Instances      Box(P          R      mAP50  mAP50-95)     Mask(P          R      mAP50  mAP50-95): 100%|██████████| 12/12 [00:07<00:00,  1.55it/s]"
          ]
        },
        {
          "output_type": "stream",
          "name": "stdout",
          "text": [
            "                   all        369        486      0.778      0.778      0.785      0.581      0.755      0.743      0.717      0.509\n"
          ]
        },
        {
          "output_type": "stream",
          "name": "stderr",
          "text": [
            "\n"
          ]
        },
        {
          "output_type": "stream",
          "name": "stdout",
          "text": [
            "\n",
            "      Epoch    GPU_mem   box_loss   seg_loss   cls_loss   dfl_loss  Instances       Size\n"
          ]
        },
        {
          "output_type": "stream",
          "name": "stderr",
          "text": [
            "       9/65      8.14G     0.8326      1.473     0.7332      1.204         19        640: 100%|██████████| 93/93 [01:08<00:00,  1.36it/s]\n",
            "                 Class     Images  Instances      Box(P          R      mAP50  mAP50-95)     Mask(P          R      mAP50  mAP50-95): 100%|██████████| 12/12 [00:06<00:00,  1.82it/s]"
          ]
        },
        {
          "output_type": "stream",
          "name": "stdout",
          "text": [
            "                   all        369        486      0.493      0.381      0.318      0.179      0.155     0.0981     0.0333     0.0106\n"
          ]
        },
        {
          "output_type": "stream",
          "name": "stderr",
          "text": [
            "\n"
          ]
        },
        {
          "output_type": "stream",
          "name": "stdout",
          "text": [
            "\n",
            "      Epoch    GPU_mem   box_loss   seg_loss   cls_loss   dfl_loss  Instances       Size\n"
          ]
        },
        {
          "output_type": "stream",
          "name": "stderr",
          "text": [
            "      10/65      7.95G     0.8223      1.435     0.7238      1.197         12        640: 100%|██████████| 93/93 [01:08<00:00,  1.35it/s]\n",
            "                 Class     Images  Instances      Box(P          R      mAP50  mAP50-95)     Mask(P          R      mAP50  mAP50-95): 100%|██████████| 12/12 [00:07<00:00,  1.58it/s]"
          ]
        },
        {
          "output_type": "stream",
          "name": "stdout",
          "text": [
            "                   all        369        486       0.84       0.79      0.855      0.667      0.839      0.788      0.833      0.634\n"
          ]
        },
        {
          "output_type": "stream",
          "name": "stderr",
          "text": [
            "\n"
          ]
        },
        {
          "output_type": "stream",
          "name": "stdout",
          "text": [
            "\n",
            "      Epoch    GPU_mem   box_loss   seg_loss   cls_loss   dfl_loss  Instances       Size\n"
          ]
        },
        {
          "output_type": "stream",
          "name": "stderr",
          "text": [
            "      11/65      7.93G     0.8127      1.434     0.6865      1.188         14        640: 100%|██████████| 93/93 [01:08<00:00,  1.36it/s]\n",
            "                 Class     Images  Instances      Box(P          R      mAP50  mAP50-95)     Mask(P          R      mAP50  mAP50-95): 100%|██████████| 12/12 [00:06<00:00,  1.85it/s]"
          ]
        },
        {
          "output_type": "stream",
          "name": "stdout",
          "text": [
            "                   all        369        486      0.931      0.805      0.894      0.693      0.921      0.786      0.842      0.641\n"
          ]
        },
        {
          "output_type": "stream",
          "name": "stderr",
          "text": [
            "\n"
          ]
        },
        {
          "output_type": "stream",
          "name": "stdout",
          "text": [
            "\n",
            "      Epoch    GPU_mem   box_loss   seg_loss   cls_loss   dfl_loss  Instances       Size\n"
          ]
        },
        {
          "output_type": "stream",
          "name": "stderr",
          "text": [
            "      12/65      7.93G     0.7661      1.338      0.653      1.158         14        640: 100%|██████████| 93/93 [01:08<00:00,  1.36it/s]\n",
            "                 Class     Images  Instances      Box(P          R      mAP50  mAP50-95)     Mask(P          R      mAP50  mAP50-95): 100%|██████████| 12/12 [00:08<00:00,  1.45it/s]"
          ]
        },
        {
          "output_type": "stream",
          "name": "stdout",
          "text": [
            "                   all        369        486      0.894      0.842      0.903      0.722      0.899      0.831      0.867      0.687\n"
          ]
        },
        {
          "output_type": "stream",
          "name": "stderr",
          "text": [
            "\n"
          ]
        },
        {
          "output_type": "stream",
          "name": "stdout",
          "text": [
            "\n",
            "      Epoch    GPU_mem   box_loss   seg_loss   cls_loss   dfl_loss  Instances       Size\n"
          ]
        },
        {
          "output_type": "stream",
          "name": "stderr",
          "text": [
            "      13/65      8.12G     0.7643      1.333       0.65      1.169         23        640: 100%|██████████| 93/93 [01:08<00:00,  1.36it/s]\n",
            "                 Class     Images  Instances      Box(P          R      mAP50  mAP50-95)     Mask(P          R      mAP50  mAP50-95): 100%|██████████| 12/12 [00:06<00:00,  1.81it/s]"
          ]
        },
        {
          "output_type": "stream",
          "name": "stdout",
          "text": [
            "                   all        369        486      0.888      0.844      0.895      0.717      0.878      0.817       0.85      0.675\n"
          ]
        },
        {
          "output_type": "stream",
          "name": "stderr",
          "text": [
            "\n"
          ]
        },
        {
          "output_type": "stream",
          "name": "stdout",
          "text": [
            "\n",
            "      Epoch    GPU_mem   box_loss   seg_loss   cls_loss   dfl_loss  Instances       Size\n"
          ]
        },
        {
          "output_type": "stream",
          "name": "stderr",
          "text": [
            "      14/65         8G     0.7615      1.359     0.6607      1.157         17        640: 100%|██████████| 93/93 [01:08<00:00,  1.36it/s]\n",
            "                 Class     Images  Instances      Box(P          R      mAP50  mAP50-95)     Mask(P          R      mAP50  mAP50-95): 100%|██████████| 12/12 [00:06<00:00,  1.81it/s]"
          ]
        },
        {
          "output_type": "stream",
          "name": "stdout",
          "text": [
            "                   all        369        486       0.91       0.85      0.913      0.741      0.896      0.819      0.857      0.679\n"
          ]
        },
        {
          "output_type": "stream",
          "name": "stderr",
          "text": [
            "\n"
          ]
        },
        {
          "output_type": "stream",
          "name": "stdout",
          "text": [
            "\n",
            "      Epoch    GPU_mem   box_loss   seg_loss   cls_loss   dfl_loss  Instances       Size\n"
          ]
        },
        {
          "output_type": "stream",
          "name": "stderr",
          "text": [
            "      15/65      7.98G     0.7424      1.307     0.6343      1.146         11        640: 100%|██████████| 93/93 [01:07<00:00,  1.38it/s]\n",
            "                 Class     Images  Instances      Box(P          R      mAP50  mAP50-95)     Mask(P          R      mAP50  mAP50-95): 100%|██████████| 12/12 [00:08<00:00,  1.48it/s]"
          ]
        },
        {
          "output_type": "stream",
          "name": "stdout",
          "text": [
            "                   all        369        486      0.949      0.846      0.922      0.735      0.941      0.828      0.886      0.718\n"
          ]
        },
        {
          "output_type": "stream",
          "name": "stderr",
          "text": [
            "\n"
          ]
        },
        {
          "output_type": "stream",
          "name": "stdout",
          "text": [
            "\n",
            "      Epoch    GPU_mem   box_loss   seg_loss   cls_loss   dfl_loss  Instances       Size\n"
          ]
        },
        {
          "output_type": "stream",
          "name": "stderr",
          "text": [
            "      16/65      7.97G     0.6973       1.23     0.5975      1.118         17        640: 100%|██████████| 93/93 [01:08<00:00,  1.36it/s]\n",
            "                 Class     Images  Instances      Box(P          R      mAP50  mAP50-95)     Mask(P          R      mAP50  mAP50-95): 100%|██████████| 12/12 [00:07<00:00,  1.70it/s]"
          ]
        },
        {
          "output_type": "stream",
          "name": "stdout",
          "text": [
            "                   all        369        486      0.879      0.794      0.852      0.687      0.901      0.767      0.813       0.63\n"
          ]
        },
        {
          "output_type": "stream",
          "name": "stderr",
          "text": [
            "\n"
          ]
        },
        {
          "output_type": "stream",
          "name": "stdout",
          "text": [
            "\n",
            "      Epoch    GPU_mem   box_loss   seg_loss   cls_loss   dfl_loss  Instances       Size\n"
          ]
        },
        {
          "output_type": "stream",
          "name": "stderr",
          "text": [
            "      17/65      8.19G      0.694      1.213     0.5931      1.118         16        640: 100%|██████████| 93/93 [01:07<00:00,  1.38it/s]\n",
            "                 Class     Images  Instances      Box(P          R      mAP50  mAP50-95)     Mask(P          R      mAP50  mAP50-95): 100%|██████████| 12/12 [00:07<00:00,  1.61it/s]"
          ]
        },
        {
          "output_type": "stream",
          "name": "stdout",
          "text": [
            "                   all        369        486      0.947      0.848      0.923      0.759       0.93      0.831       0.88      0.732\n"
          ]
        },
        {
          "output_type": "stream",
          "name": "stderr",
          "text": [
            "\n"
          ]
        },
        {
          "output_type": "stream",
          "name": "stdout",
          "text": [
            "\n",
            "      Epoch    GPU_mem   box_loss   seg_loss   cls_loss   dfl_loss  Instances       Size\n"
          ]
        },
        {
          "output_type": "stream",
          "name": "stderr",
          "text": [
            "      18/65      7.98G     0.6763      1.196     0.5773      1.105         17        640: 100%|██████████| 93/93 [01:07<00:00,  1.37it/s]\n",
            "                 Class     Images  Instances      Box(P          R      mAP50  mAP50-95)     Mask(P          R      mAP50  mAP50-95): 100%|██████████| 12/12 [00:07<00:00,  1.51it/s]"
          ]
        },
        {
          "output_type": "stream",
          "name": "stdout",
          "text": [
            "                   all        369        486       0.92      0.875      0.925      0.764      0.903      0.845       0.88      0.715\n"
          ]
        },
        {
          "output_type": "stream",
          "name": "stderr",
          "text": [
            "\n"
          ]
        },
        {
          "output_type": "stream",
          "name": "stdout",
          "text": [
            "\n",
            "      Epoch    GPU_mem   box_loss   seg_loss   cls_loss   dfl_loss  Instances       Size\n"
          ]
        },
        {
          "output_type": "stream",
          "name": "stderr",
          "text": [
            "      19/65         8G     0.6876      1.181     0.5686      1.112         10        640: 100%|██████████| 93/93 [01:07<00:00,  1.37it/s]\n",
            "                 Class     Images  Instances      Box(P          R      mAP50  mAP50-95)     Mask(P          R      mAP50  mAP50-95): 100%|██████████| 12/12 [00:06<00:00,  1.82it/s]"
          ]
        },
        {
          "output_type": "stream",
          "name": "stdout",
          "text": [
            "                   all        369        486       0.92      0.856      0.929      0.758      0.932      0.844      0.898      0.748\n"
          ]
        },
        {
          "output_type": "stream",
          "name": "stderr",
          "text": [
            "\n"
          ]
        },
        {
          "output_type": "stream",
          "name": "stdout",
          "text": [
            "\n",
            "      Epoch    GPU_mem   box_loss   seg_loss   cls_loss   dfl_loss  Instances       Size\n"
          ]
        },
        {
          "output_type": "stream",
          "name": "stderr",
          "text": [
            "      20/65      7.96G     0.6689      1.157     0.5476      1.094         17        640: 100%|██████████| 93/93 [01:07<00:00,  1.38it/s]\n",
            "                 Class     Images  Instances      Box(P          R      mAP50  mAP50-95)     Mask(P          R      mAP50  mAP50-95): 100%|██████████| 12/12 [00:08<00:00,  1.43it/s]"
          ]
        },
        {
          "output_type": "stream",
          "name": "stdout",
          "text": [
            "                   all        369        486      0.925      0.858      0.937      0.792      0.909      0.843      0.891      0.734\n"
          ]
        },
        {
          "output_type": "stream",
          "name": "stderr",
          "text": [
            "\n"
          ]
        },
        {
          "output_type": "stream",
          "name": "stdout",
          "text": [
            "\n",
            "      Epoch    GPU_mem   box_loss   seg_loss   cls_loss   dfl_loss  Instances       Size\n"
          ]
        },
        {
          "output_type": "stream",
          "name": "stderr",
          "text": [
            "      21/65      8.17G     0.6518      1.158     0.5601      1.097         18        640: 100%|██████████| 93/93 [01:07<00:00,  1.37it/s]\n",
            "                 Class     Images  Instances      Box(P          R      mAP50  mAP50-95)     Mask(P          R      mAP50  mAP50-95): 100%|██████████| 12/12 [00:07<00:00,  1.68it/s]"
          ]
        },
        {
          "output_type": "stream",
          "name": "stdout",
          "text": [
            "                   all        369        486      0.942       0.87      0.925      0.791      0.949      0.839       0.89      0.732\n"
          ]
        },
        {
          "output_type": "stream",
          "name": "stderr",
          "text": [
            "\n"
          ]
        },
        {
          "output_type": "stream",
          "name": "stdout",
          "text": [
            "\n",
            "      Epoch    GPU_mem   box_loss   seg_loss   cls_loss   dfl_loss  Instances       Size\n"
          ]
        },
        {
          "output_type": "stream",
          "name": "stderr",
          "text": [
            "      22/65      7.95G     0.6244      1.112     0.5274       1.08         17        640: 100%|██████████| 93/93 [01:08<00:00,  1.37it/s]\n",
            "                 Class     Images  Instances      Box(P          R      mAP50  mAP50-95)     Mask(P          R      mAP50  mAP50-95): 100%|██████████| 12/12 [00:07<00:00,  1.66it/s]"
          ]
        },
        {
          "output_type": "stream",
          "name": "stdout",
          "text": [
            "                   all        369        486      0.923      0.901      0.936       0.81      0.938      0.848      0.898      0.755\n"
          ]
        },
        {
          "output_type": "stream",
          "name": "stderr",
          "text": [
            "\n"
          ]
        },
        {
          "output_type": "stream",
          "name": "stdout",
          "text": [
            "\n",
            "      Epoch    GPU_mem   box_loss   seg_loss   cls_loss   dfl_loss  Instances       Size\n"
          ]
        },
        {
          "output_type": "stream",
          "name": "stderr",
          "text": [
            "      23/65      7.94G     0.6078       1.05     0.5052      1.071         16        640: 100%|██████████| 93/93 [01:07<00:00,  1.37it/s]\n",
            "                 Class     Images  Instances      Box(P          R      mAP50  mAP50-95)     Mask(P          R      mAP50  mAP50-95): 100%|██████████| 12/12 [00:06<00:00,  1.72it/s]"
          ]
        },
        {
          "output_type": "stream",
          "name": "stdout",
          "text": [
            "                   all        369        486      0.919      0.882       0.94      0.805      0.926      0.864      0.915      0.763\n"
          ]
        },
        {
          "output_type": "stream",
          "name": "stderr",
          "text": [
            "\n"
          ]
        },
        {
          "output_type": "stream",
          "name": "stdout",
          "text": [
            "\n",
            "      Epoch    GPU_mem   box_loss   seg_loss   cls_loss   dfl_loss  Instances       Size\n"
          ]
        },
        {
          "output_type": "stream",
          "name": "stderr",
          "text": [
            "      24/65      7.95G     0.6073       1.11     0.5124      1.059         29        640: 100%|██████████| 93/93 [01:08<00:00,  1.36it/s]\n",
            "                 Class     Images  Instances      Box(P          R      mAP50  mAP50-95)     Mask(P          R      mAP50  mAP50-95): 100%|██████████| 12/12 [00:06<00:00,  1.90it/s]"
          ]
        },
        {
          "output_type": "stream",
          "name": "stdout",
          "text": [
            "                   all        369        486      0.926      0.929      0.958      0.834      0.904      0.907       0.93       0.78\n"
          ]
        },
        {
          "output_type": "stream",
          "name": "stderr",
          "text": [
            "\n"
          ]
        },
        {
          "output_type": "stream",
          "name": "stdout",
          "text": [
            "\n",
            "      Epoch    GPU_mem   box_loss   seg_loss   cls_loss   dfl_loss  Instances       Size\n"
          ]
        },
        {
          "output_type": "stream",
          "name": "stderr",
          "text": [
            "      25/65      8.17G     0.5962      1.042     0.5003       1.06         13        640: 100%|██████████| 93/93 [01:07<00:00,  1.38it/s]\n",
            "                 Class     Images  Instances      Box(P          R      mAP50  mAP50-95)     Mask(P          R      mAP50  mAP50-95): 100%|██████████| 12/12 [00:08<00:00,  1.42it/s]"
          ]
        },
        {
          "output_type": "stream",
          "name": "stdout",
          "text": [
            "                   all        369        486      0.945      0.912      0.951      0.824      0.932      0.876      0.921      0.767\n"
          ]
        },
        {
          "output_type": "stream",
          "name": "stderr",
          "text": [
            "\n"
          ]
        },
        {
          "output_type": "stream",
          "name": "stdout",
          "text": [
            "\n",
            "      Epoch    GPU_mem   box_loss   seg_loss   cls_loss   dfl_loss  Instances       Size\n"
          ]
        },
        {
          "output_type": "stream",
          "name": "stderr",
          "text": [
            "      26/65      7.95G     0.6008       1.02      0.499      1.061         16        640: 100%|██████████| 93/93 [01:08<00:00,  1.36it/s]\n",
            "                 Class     Images  Instances      Box(P          R      mAP50  mAP50-95)     Mask(P          R      mAP50  mAP50-95): 100%|██████████| 12/12 [00:06<00:00,  1.88it/s]"
          ]
        },
        {
          "output_type": "stream",
          "name": "stdout",
          "text": [
            "                   all        369        486      0.916      0.916      0.947      0.812      0.913      0.891      0.916      0.759\n"
          ]
        },
        {
          "output_type": "stream",
          "name": "stderr",
          "text": [
            "\n"
          ]
        },
        {
          "output_type": "stream",
          "name": "stdout",
          "text": [
            "\n",
            "      Epoch    GPU_mem   box_loss   seg_loss   cls_loss   dfl_loss  Instances       Size\n"
          ]
        },
        {
          "output_type": "stream",
          "name": "stderr",
          "text": [
            "      27/65      7.98G     0.5891      1.034     0.4861      1.052         13        640: 100%|██████████| 93/93 [01:07<00:00,  1.38it/s]\n",
            "                 Class     Images  Instances      Box(P          R      mAP50  mAP50-95)     Mask(P          R      mAP50  mAP50-95): 100%|██████████| 12/12 [00:06<00:00,  1.74it/s]"
          ]
        },
        {
          "output_type": "stream",
          "name": "stdout",
          "text": [
            "                   all        369        486      0.941      0.866      0.944      0.814      0.958       0.84      0.918      0.768\n"
          ]
        },
        {
          "output_type": "stream",
          "name": "stderr",
          "text": [
            "\n"
          ]
        },
        {
          "output_type": "stream",
          "name": "stdout",
          "text": [
            "\n",
            "      Epoch    GPU_mem   box_loss   seg_loss   cls_loss   dfl_loss  Instances       Size\n"
          ]
        },
        {
          "output_type": "stream",
          "name": "stderr",
          "text": [
            "      28/65      7.93G      0.576     0.9442     0.4802      1.048         15        640: 100%|██████████| 93/93 [01:08<00:00,  1.36it/s]\n",
            "                 Class     Images  Instances      Box(P          R      mAP50  mAP50-95)     Mask(P          R      mAP50  mAP50-95): 100%|██████████| 12/12 [00:07<00:00,  1.53it/s]"
          ]
        },
        {
          "output_type": "stream",
          "name": "stdout",
          "text": [
            "                   all        369        486      0.955       0.91      0.961      0.827      0.945      0.885      0.934      0.794\n"
          ]
        },
        {
          "output_type": "stream",
          "name": "stderr",
          "text": [
            "\n"
          ]
        },
        {
          "output_type": "stream",
          "name": "stdout",
          "text": [
            "\n",
            "      Epoch    GPU_mem   box_loss   seg_loss   cls_loss   dfl_loss  Instances       Size\n"
          ]
        },
        {
          "output_type": "stream",
          "name": "stderr",
          "text": [
            "      29/65      8.18G     0.5733     0.9885     0.4867      1.045         16        640: 100%|██████████| 93/93 [01:07<00:00,  1.38it/s]\n",
            "                 Class     Images  Instances      Box(P          R      mAP50  mAP50-95)     Mask(P          R      mAP50  mAP50-95): 100%|██████████| 12/12 [00:06<00:00,  1.75it/s]"
          ]
        },
        {
          "output_type": "stream",
          "name": "stdout",
          "text": [
            "                   all        369        486      0.967      0.872      0.948      0.834      0.957      0.864      0.929      0.789\n"
          ]
        },
        {
          "output_type": "stream",
          "name": "stderr",
          "text": [
            "\n"
          ]
        },
        {
          "output_type": "stream",
          "name": "stdout",
          "text": [
            "\n",
            "      Epoch    GPU_mem   box_loss   seg_loss   cls_loss   dfl_loss  Instances       Size\n"
          ]
        },
        {
          "output_type": "stream",
          "name": "stderr",
          "text": [
            "      30/65      7.96G     0.5721      1.045     0.4854       1.05         24        640: 100%|██████████| 93/93 [01:06<00:00,  1.39it/s]\n",
            "                 Class     Images  Instances      Box(P          R      mAP50  mAP50-95)     Mask(P          R      mAP50  mAP50-95): 100%|██████████| 12/12 [00:08<00:00,  1.50it/s]"
          ]
        },
        {
          "output_type": "stream",
          "name": "stdout",
          "text": [
            "                   all        369        486      0.951      0.911      0.959      0.839      0.936      0.896      0.936       0.79\n"
          ]
        },
        {
          "output_type": "stream",
          "name": "stderr",
          "text": [
            "\n"
          ]
        },
        {
          "output_type": "stream",
          "name": "stdout",
          "text": [
            "\n",
            "      Epoch    GPU_mem   box_loss   seg_loss   cls_loss   dfl_loss  Instances       Size\n"
          ]
        },
        {
          "output_type": "stream",
          "name": "stderr",
          "text": [
            "      31/65      7.99G      0.565      0.968      0.473      1.043         21        640: 100%|██████████| 93/93 [01:07<00:00,  1.39it/s]\n",
            "                 Class     Images  Instances      Box(P          R      mAP50  mAP50-95)     Mask(P          R      mAP50  mAP50-95): 100%|██████████| 12/12 [00:06<00:00,  1.89it/s]"
          ]
        },
        {
          "output_type": "stream",
          "name": "stdout",
          "text": [
            "                   all        369        486      0.942      0.899      0.947      0.833      0.936      0.872      0.931      0.779\n"
          ]
        },
        {
          "output_type": "stream",
          "name": "stderr",
          "text": [
            "\n"
          ]
        },
        {
          "output_type": "stream",
          "name": "stdout",
          "text": [
            "\n",
            "      Epoch    GPU_mem   box_loss   seg_loss   cls_loss   dfl_loss  Instances       Size\n"
          ]
        },
        {
          "output_type": "stream",
          "name": "stderr",
          "text": [
            "      32/65      7.96G     0.5412     0.9593     0.4606      1.033         11        640: 100%|██████████| 93/93 [01:08<00:00,  1.36it/s]\n",
            "                 Class     Images  Instances      Box(P          R      mAP50  mAP50-95)     Mask(P          R      mAP50  mAP50-95): 100%|██████████| 12/12 [00:06<00:00,  1.89it/s]"
          ]
        },
        {
          "output_type": "stream",
          "name": "stdout",
          "text": [
            "                   all        369        486      0.955      0.914      0.957       0.85      0.937      0.886      0.926      0.794\n"
          ]
        },
        {
          "output_type": "stream",
          "name": "stderr",
          "text": [
            "\n"
          ]
        },
        {
          "output_type": "stream",
          "name": "stdout",
          "text": [
            "\n",
            "      Epoch    GPU_mem   box_loss   seg_loss   cls_loss   dfl_loss  Instances       Size\n"
          ]
        },
        {
          "output_type": "stream",
          "name": "stderr",
          "text": [
            "      33/65      8.17G     0.5355     0.9535     0.4474      1.023         17        640: 100%|██████████| 93/93 [01:07<00:00,  1.38it/s]\n",
            "                 Class     Images  Instances      Box(P          R      mAP50  mAP50-95)     Mask(P          R      mAP50  mAP50-95): 100%|██████████| 12/12 [00:07<00:00,  1.50it/s]"
          ]
        },
        {
          "output_type": "stream",
          "name": "stdout",
          "text": [
            "                   all        369        486      0.955      0.899      0.953      0.844      0.932      0.876       0.93      0.791\n"
          ]
        },
        {
          "output_type": "stream",
          "name": "stderr",
          "text": [
            "\n"
          ]
        },
        {
          "output_type": "stream",
          "name": "stdout",
          "text": [
            "\n",
            "      Epoch    GPU_mem   box_loss   seg_loss   cls_loss   dfl_loss  Instances       Size\n"
          ]
        },
        {
          "output_type": "stream",
          "name": "stderr",
          "text": [
            "      34/65      7.96G     0.5373     0.9445     0.4371      1.023         14        640: 100%|██████████| 93/93 [01:08<00:00,  1.37it/s]\n",
            "                 Class     Images  Instances      Box(P          R      mAP50  mAP50-95)     Mask(P          R      mAP50  mAP50-95): 100%|██████████| 12/12 [00:06<00:00,  1.84it/s]"
          ]
        },
        {
          "output_type": "stream",
          "name": "stdout",
          "text": [
            "                   all        369        486      0.953      0.908      0.949      0.843      0.962      0.866      0.924      0.798\n"
          ]
        },
        {
          "output_type": "stream",
          "name": "stderr",
          "text": [
            "\n"
          ]
        },
        {
          "output_type": "stream",
          "name": "stdout",
          "text": [
            "\n",
            "      Epoch    GPU_mem   box_loss   seg_loss   cls_loss   dfl_loss  Instances       Size\n"
          ]
        },
        {
          "output_type": "stream",
          "name": "stderr",
          "text": [
            "      35/65      7.96G     0.5227     0.8908     0.4374      1.019         14        640: 100%|██████████| 93/93 [01:06<00:00,  1.39it/s]\n",
            "                 Class     Images  Instances      Box(P          R      mAP50  mAP50-95)     Mask(P          R      mAP50  mAP50-95): 100%|██████████| 12/12 [00:08<00:00,  1.41it/s]"
          ]
        },
        {
          "output_type": "stream",
          "name": "stdout",
          "text": [
            "                   all        369        486      0.963      0.903      0.954      0.848      0.964       0.89      0.942      0.805\n"
          ]
        },
        {
          "output_type": "stream",
          "name": "stderr",
          "text": [
            "\n"
          ]
        },
        {
          "output_type": "stream",
          "name": "stdout",
          "text": [
            "\n",
            "      Epoch    GPU_mem   box_loss   seg_loss   cls_loss   dfl_loss  Instances       Size\n"
          ]
        },
        {
          "output_type": "stream",
          "name": "stderr",
          "text": [
            "      36/65      7.93G     0.5348     0.9055     0.4349       1.03         14        640: 100%|██████████| 93/93 [01:08<00:00,  1.37it/s]\n",
            "                 Class     Images  Instances      Box(P          R      mAP50  mAP50-95)     Mask(P          R      mAP50  mAP50-95): 100%|██████████| 12/12 [00:06<00:00,  1.87it/s]"
          ]
        },
        {
          "output_type": "stream",
          "name": "stdout",
          "text": [
            "                   all        369        486      0.941       0.92      0.965      0.864      0.947       0.87       0.94      0.813\n"
          ]
        },
        {
          "output_type": "stream",
          "name": "stderr",
          "text": [
            "\n"
          ]
        },
        {
          "output_type": "stream",
          "name": "stdout",
          "text": [
            "\n",
            "      Epoch    GPU_mem   box_loss   seg_loss   cls_loss   dfl_loss  Instances       Size\n"
          ]
        },
        {
          "output_type": "stream",
          "name": "stderr",
          "text": [
            "      37/65      8.18G     0.5135      0.866     0.4336      1.014          9        640: 100%|██████████| 93/93 [01:07<00:00,  1.37it/s]\n",
            "                 Class     Images  Instances      Box(P          R      mAP50  mAP50-95)     Mask(P          R      mAP50  mAP50-95): 100%|██████████| 12/12 [00:06<00:00,  1.75it/s]"
          ]
        },
        {
          "output_type": "stream",
          "name": "stdout",
          "text": [
            "                   all        369        486      0.963      0.901      0.943      0.837      0.959      0.897      0.931      0.806\n"
          ]
        },
        {
          "output_type": "stream",
          "name": "stderr",
          "text": [
            "\n"
          ]
        },
        {
          "output_type": "stream",
          "name": "stdout",
          "text": [
            "\n",
            "      Epoch    GPU_mem   box_loss   seg_loss   cls_loss   dfl_loss  Instances       Size\n"
          ]
        },
        {
          "output_type": "stream",
          "name": "stderr",
          "text": [
            "      38/65      7.97G     0.4976     0.8612      0.415      1.008         13        640: 100%|██████████| 93/93 [01:06<00:00,  1.39it/s]\n",
            "                 Class     Images  Instances      Box(P          R      mAP50  mAP50-95)     Mask(P          R      mAP50  mAP50-95): 100%|██████████| 12/12 [00:08<00:00,  1.47it/s]"
          ]
        },
        {
          "output_type": "stream",
          "name": "stdout",
          "text": [
            "                   all        369        486      0.957      0.926      0.964      0.864       0.95      0.918      0.951      0.823\n"
          ]
        },
        {
          "output_type": "stream",
          "name": "stderr",
          "text": [
            "\n"
          ]
        },
        {
          "output_type": "stream",
          "name": "stdout",
          "text": [
            "\n",
            "      Epoch    GPU_mem   box_loss   seg_loss   cls_loss   dfl_loss  Instances       Size\n"
          ]
        },
        {
          "output_type": "stream",
          "name": "stderr",
          "text": [
            "      39/65      7.96G     0.4923     0.8394      0.402     0.9999         20        640: 100%|██████████| 93/93 [01:08<00:00,  1.37it/s]\n",
            "                 Class     Images  Instances      Box(P          R      mAP50  mAP50-95)     Mask(P          R      mAP50  mAP50-95): 100%|██████████| 12/12 [00:06<00:00,  1.87it/s]"
          ]
        },
        {
          "output_type": "stream",
          "name": "stdout",
          "text": [
            "                   all        369        486      0.961      0.907      0.964      0.873      0.957      0.893      0.951      0.837\n"
          ]
        },
        {
          "output_type": "stream",
          "name": "stderr",
          "text": [
            "\n"
          ]
        },
        {
          "output_type": "stream",
          "name": "stdout",
          "text": [
            "\n",
            "      Epoch    GPU_mem   box_loss   seg_loss   cls_loss   dfl_loss  Instances       Size\n"
          ]
        },
        {
          "output_type": "stream",
          "name": "stderr",
          "text": [
            "      40/65      7.98G     0.4939     0.9027     0.4189      1.002         15        640: 100%|██████████| 93/93 [01:07<00:00,  1.38it/s]\n",
            "                 Class     Images  Instances      Box(P          R      mAP50  mAP50-95)     Mask(P          R      mAP50  mAP50-95): 100%|██████████| 12/12 [00:07<00:00,  1.54it/s]"
          ]
        },
        {
          "output_type": "stream",
          "name": "stdout",
          "text": [
            "                   all        369        486      0.951      0.924      0.964      0.873       0.94      0.918      0.955      0.829\n"
          ]
        },
        {
          "output_type": "stream",
          "name": "stderr",
          "text": [
            "\n"
          ]
        },
        {
          "output_type": "stream",
          "name": "stdout",
          "text": [
            "\n",
            "      Epoch    GPU_mem   box_loss   seg_loss   cls_loss   dfl_loss  Instances       Size\n"
          ]
        },
        {
          "output_type": "stream",
          "name": "stderr",
          "text": [
            "      41/65      8.18G     0.4827     0.8532     0.4033     0.9937         10        640: 100%|██████████| 93/93 [01:07<00:00,  1.38it/s]\n",
            "                 Class     Images  Instances      Box(P          R      mAP50  mAP50-95)     Mask(P          R      mAP50  mAP50-95): 100%|██████████| 12/12 [00:06<00:00,  1.77it/s]"
          ]
        },
        {
          "output_type": "stream",
          "name": "stdout",
          "text": [
            "                   all        369        486      0.949       0.92      0.963      0.865      0.933      0.905      0.944      0.825\n"
          ]
        },
        {
          "output_type": "stream",
          "name": "stderr",
          "text": [
            "\n"
          ]
        },
        {
          "output_type": "stream",
          "name": "stdout",
          "text": [
            "\n",
            "      Epoch    GPU_mem   box_loss   seg_loss   cls_loss   dfl_loss  Instances       Size\n"
          ]
        },
        {
          "output_type": "stream",
          "name": "stderr",
          "text": [
            "      42/65      7.96G      0.481     0.8225     0.3931     0.9945         13        640: 100%|██████████| 93/93 [01:08<00:00,  1.35it/s]\n",
            "                 Class     Images  Instances      Box(P          R      mAP50  mAP50-95)     Mask(P          R      mAP50  mAP50-95): 100%|██████████| 12/12 [00:08<00:00,  1.44it/s]"
          ]
        },
        {
          "output_type": "stream",
          "name": "stdout",
          "text": [
            "                   all        369        486       0.97      0.924      0.965       0.88      0.961      0.916      0.958      0.831\n"
          ]
        },
        {
          "output_type": "stream",
          "name": "stderr",
          "text": [
            "\n"
          ]
        },
        {
          "output_type": "stream",
          "name": "stdout",
          "text": [
            "\n",
            "      Epoch    GPU_mem   box_loss   seg_loss   cls_loss   dfl_loss  Instances       Size\n"
          ]
        },
        {
          "output_type": "stream",
          "name": "stderr",
          "text": [
            "      43/65      7.95G     0.4804     0.8535     0.4016     0.9984         19        640: 100%|██████████| 93/93 [01:07<00:00,  1.38it/s]\n",
            "                 Class     Images  Instances      Box(P          R      mAP50  mAP50-95)     Mask(P          R      mAP50  mAP50-95): 100%|██████████| 12/12 [00:06<00:00,  1.86it/s]"
          ]
        },
        {
          "output_type": "stream",
          "name": "stdout",
          "text": [
            "                   all        369        486      0.971      0.899      0.957      0.868       0.96      0.888      0.942      0.835\n"
          ]
        },
        {
          "output_type": "stream",
          "name": "stderr",
          "text": [
            "\n"
          ]
        },
        {
          "output_type": "stream",
          "name": "stdout",
          "text": [
            "\n",
            "      Epoch    GPU_mem   box_loss   seg_loss   cls_loss   dfl_loss  Instances       Size\n"
          ]
        },
        {
          "output_type": "stream",
          "name": "stderr",
          "text": [
            "      44/65      7.96G     0.4672     0.8049     0.3905     0.9919         16        640: 100%|██████████| 93/93 [01:07<00:00,  1.37it/s]\n",
            "                 Class     Images  Instances      Box(P          R      mAP50  mAP50-95)     Mask(P          R      mAP50  mAP50-95): 100%|██████████| 12/12 [00:06<00:00,  1.86it/s]"
          ]
        },
        {
          "output_type": "stream",
          "name": "stdout",
          "text": [
            "                   all        369        486      0.961      0.907      0.965      0.882      0.957      0.903      0.956      0.839\n"
          ]
        },
        {
          "output_type": "stream",
          "name": "stderr",
          "text": [
            "\n"
          ]
        },
        {
          "output_type": "stream",
          "name": "stdout",
          "text": [
            "\n",
            "      Epoch    GPU_mem   box_loss   seg_loss   cls_loss   dfl_loss  Instances       Size\n"
          ]
        },
        {
          "output_type": "stream",
          "name": "stderr",
          "text": [
            "      45/65      8.19G     0.4527     0.7848     0.3632     0.9869         13        640: 100%|██████████| 93/93 [01:07<00:00,  1.38it/s]\n",
            "                 Class     Images  Instances      Box(P          R      mAP50  mAP50-95)     Mask(P          R      mAP50  mAP50-95): 100%|██████████| 12/12 [00:06<00:00,  1.75it/s]"
          ]
        },
        {
          "output_type": "stream",
          "name": "stdout",
          "text": [
            "                   all        369        486      0.943      0.924      0.957      0.867      0.936      0.918      0.946      0.822\n"
          ]
        },
        {
          "output_type": "stream",
          "name": "stderr",
          "text": [
            "\n"
          ]
        },
        {
          "output_type": "stream",
          "name": "stdout",
          "text": [
            "\n",
            "      Epoch    GPU_mem   box_loss   seg_loss   cls_loss   dfl_loss  Instances       Size\n"
          ]
        },
        {
          "output_type": "stream",
          "name": "stderr",
          "text": [
            "      46/65      7.95G     0.4406     0.7318      0.366     0.9784         17        640: 100%|██████████| 93/93 [01:06<00:00,  1.40it/s]\n",
            "                 Class     Images  Instances      Box(P          R      mAP50  mAP50-95)     Mask(P          R      mAP50  mAP50-95): 100%|██████████| 12/12 [00:08<00:00,  1.42it/s]"
          ]
        },
        {
          "output_type": "stream",
          "name": "stdout",
          "text": [
            "                   all        369        486      0.936      0.936      0.965       0.88       0.95      0.908      0.955      0.843\n"
          ]
        },
        {
          "output_type": "stream",
          "name": "stderr",
          "text": [
            "\n"
          ]
        },
        {
          "output_type": "stream",
          "name": "stdout",
          "text": [
            "\n",
            "      Epoch    GPU_mem   box_loss   seg_loss   cls_loss   dfl_loss  Instances       Size\n"
          ]
        },
        {
          "output_type": "stream",
          "name": "stderr",
          "text": [
            "      47/65      7.97G      0.453     0.7812     0.3669     0.9768         15        640: 100%|██████████| 93/93 [01:07<00:00,  1.38it/s]\n",
            "                 Class     Images  Instances      Box(P          R      mAP50  mAP50-95)     Mask(P          R      mAP50  mAP50-95): 100%|██████████| 12/12 [00:06<00:00,  1.89it/s]"
          ]
        },
        {
          "output_type": "stream",
          "name": "stdout",
          "text": [
            "                   all        369        486      0.962      0.926      0.972      0.881      0.953      0.915      0.955      0.844\n"
          ]
        },
        {
          "output_type": "stream",
          "name": "stderr",
          "text": [
            "\n"
          ]
        },
        {
          "output_type": "stream",
          "name": "stdout",
          "text": [
            "\n",
            "      Epoch    GPU_mem   box_loss   seg_loss   cls_loss   dfl_loss  Instances       Size\n"
          ]
        },
        {
          "output_type": "stream",
          "name": "stderr",
          "text": [
            "      48/65      7.98G     0.4344      0.748     0.3607     0.9652         14        640: 100%|██████████| 93/93 [01:07<00:00,  1.37it/s]\n",
            "                 Class     Images  Instances      Box(P          R      mAP50  mAP50-95)     Mask(P          R      mAP50  mAP50-95): 100%|██████████| 12/12 [00:06<00:00,  1.75it/s]"
          ]
        },
        {
          "output_type": "stream",
          "name": "stdout",
          "text": [
            "                   all        369        486      0.968      0.921      0.969      0.889      0.961      0.915      0.959      0.845\n"
          ]
        },
        {
          "output_type": "stream",
          "name": "stderr",
          "text": [
            "\n"
          ]
        },
        {
          "output_type": "stream",
          "name": "stdout",
          "text": [
            "\n",
            "      Epoch    GPU_mem   box_loss   seg_loss   cls_loss   dfl_loss  Instances       Size\n"
          ]
        },
        {
          "output_type": "stream",
          "name": "stderr",
          "text": [
            "      49/65      8.17G     0.4318      0.734     0.3469     0.9653         17        640: 100%|██████████| 93/93 [01:08<00:00,  1.37it/s]\n",
            "                 Class     Images  Instances      Box(P          R      mAP50  mAP50-95)     Mask(P          R      mAP50  mAP50-95): 100%|██████████| 12/12 [00:06<00:00,  1.89it/s]"
          ]
        },
        {
          "output_type": "stream",
          "name": "stdout",
          "text": [
            "                   all        369        486      0.952      0.933      0.972      0.892      0.963       0.91      0.963      0.849\n"
          ]
        },
        {
          "output_type": "stream",
          "name": "stderr",
          "text": [
            "\n"
          ]
        },
        {
          "output_type": "stream",
          "name": "stdout",
          "text": [
            "\n",
            "      Epoch    GPU_mem   box_loss   seg_loss   cls_loss   dfl_loss  Instances       Size\n"
          ]
        },
        {
          "output_type": "stream",
          "name": "stderr",
          "text": [
            "      50/65      7.97G     0.4316     0.7453     0.3525     0.9699         17        640: 100%|██████████| 93/93 [01:07<00:00,  1.39it/s]\n",
            "                 Class     Images  Instances      Box(P          R      mAP50  mAP50-95)     Mask(P          R      mAP50  mAP50-95): 100%|██████████| 12/12 [00:08<00:00,  1.40it/s]"
          ]
        },
        {
          "output_type": "stream",
          "name": "stdout",
          "text": [
            "                   all        369        486      0.977      0.922      0.969      0.886      0.973      0.916       0.96      0.848\n"
          ]
        },
        {
          "output_type": "stream",
          "name": "stderr",
          "text": [
            "\n"
          ]
        },
        {
          "output_type": "stream",
          "name": "stdout",
          "text": [
            "\n",
            "      Epoch    GPU_mem   box_loss   seg_loss   cls_loss   dfl_loss  Instances       Size\n"
          ]
        },
        {
          "output_type": "stream",
          "name": "stderr",
          "text": [
            "      51/65      7.94G     0.4181     0.7132     0.3405     0.9572         16        640: 100%|██████████| 93/93 [01:08<00:00,  1.37it/s]\n",
            "                 Class     Images  Instances      Box(P          R      mAP50  mAP50-95)     Mask(P          R      mAP50  mAP50-95): 100%|██████████| 12/12 [00:06<00:00,  1.88it/s]"
          ]
        },
        {
          "output_type": "stream",
          "name": "stdout",
          "text": [
            "                   all        369        486      0.963       0.91      0.969      0.888      0.965      0.904      0.959      0.846\n"
          ]
        },
        {
          "output_type": "stream",
          "name": "stderr",
          "text": [
            "\n"
          ]
        },
        {
          "output_type": "stream",
          "name": "stdout",
          "text": [
            "\n",
            "      Epoch    GPU_mem   box_loss   seg_loss   cls_loss   dfl_loss  Instances       Size\n"
          ]
        },
        {
          "output_type": "stream",
          "name": "stderr",
          "text": [
            "      52/65      7.96G     0.4203     0.7269     0.3406     0.9659         17        640: 100%|██████████| 93/93 [01:07<00:00,  1.37it/s]\n",
            "                 Class     Images  Instances      Box(P          R      mAP50  mAP50-95)     Mask(P          R      mAP50  mAP50-95): 100%|██████████| 12/12 [00:06<00:00,  1.82it/s]"
          ]
        },
        {
          "output_type": "stream",
          "name": "stdout",
          "text": [
            "                   all        369        486       0.96      0.928       0.97      0.894      0.947      0.917      0.955      0.855\n"
          ]
        },
        {
          "output_type": "stream",
          "name": "stderr",
          "text": [
            "\n"
          ]
        },
        {
          "output_type": "stream",
          "name": "stdout",
          "text": [
            "\n",
            "      Epoch    GPU_mem   box_loss   seg_loss   cls_loss   dfl_loss  Instances       Size\n"
          ]
        },
        {
          "output_type": "stream",
          "name": "stderr",
          "text": [
            "      53/65      8.24G     0.4169     0.7198     0.3365     0.9627         14        640: 100%|██████████| 93/93 [01:08<00:00,  1.37it/s]\n",
            "                 Class     Images  Instances      Box(P          R      mAP50  mAP50-95)     Mask(P          R      mAP50  mAP50-95): 100%|██████████| 12/12 [00:07<00:00,  1.61it/s]"
          ]
        },
        {
          "output_type": "stream",
          "name": "stdout",
          "text": [
            "                   all        369        486      0.968      0.926      0.971      0.892      0.963      0.924      0.966      0.852\n"
          ]
        },
        {
          "output_type": "stream",
          "name": "stderr",
          "text": [
            "\n"
          ]
        },
        {
          "output_type": "stream",
          "name": "stdout",
          "text": [
            "\n",
            "      Epoch    GPU_mem   box_loss   seg_loss   cls_loss   dfl_loss  Instances       Size\n"
          ]
        },
        {
          "output_type": "stream",
          "name": "stderr",
          "text": [
            "      54/65      7.96G     0.4063     0.7024     0.3378     0.9653         19        640: 100%|██████████| 93/93 [01:08<00:00,  1.37it/s]\n",
            "                 Class     Images  Instances      Box(P          R      mAP50  mAP50-95)     Mask(P          R      mAP50  mAP50-95): 100%|██████████| 12/12 [00:06<00:00,  1.74it/s]"
          ]
        },
        {
          "output_type": "stream",
          "name": "stdout",
          "text": [
            "                   all        369        486      0.952       0.94      0.973      0.903      0.956       0.93      0.971      0.867\n"
          ]
        },
        {
          "output_type": "stream",
          "name": "stderr",
          "text": [
            "\n"
          ]
        },
        {
          "output_type": "stream",
          "name": "stdout",
          "text": [
            "\n",
            "      Epoch    GPU_mem   box_loss   seg_loss   cls_loss   dfl_loss  Instances       Size\n"
          ]
        },
        {
          "output_type": "stream",
          "name": "stderr",
          "text": [
            "      55/65      7.94G     0.3941      0.674      0.316     0.9511         16        640: 100%|██████████| 93/93 [01:07<00:00,  1.39it/s]\n",
            "                 Class     Images  Instances      Box(P          R      mAP50  mAP50-95)     Mask(P          R      mAP50  mAP50-95): 100%|██████████| 12/12 [00:08<00:00,  1.46it/s]"
          ]
        },
        {
          "output_type": "stream",
          "name": "stdout",
          "text": [
            "                   all        369        486      0.959      0.922      0.971      0.896      0.959      0.922       0.97      0.861\n"
          ]
        },
        {
          "output_type": "stream",
          "name": "stderr",
          "text": [
            "\n"
          ]
        },
        {
          "output_type": "stream",
          "name": "stdout",
          "text": [
            "Closing dataloader mosaic\n",
            "\u001b[34m\u001b[1malbumentations: \u001b[0mBlur(p=0.01, blur_limit=(3, 7)), MedianBlur(p=0.01, blur_limit=(3, 7)), ToGray(p=0.01, num_output_channels=3, method='weighted_average'), CLAHE(p=0.01, clip_limit=(1.0, 4.0), tile_grid_size=(8, 8))\n",
            "\n",
            "      Epoch    GPU_mem   box_loss   seg_loss   cls_loss   dfl_loss  Instances       Size\n"
          ]
        },
        {
          "output_type": "stream",
          "name": "stderr",
          "text": [
            "      56/65      7.87G      0.353     0.6123     0.3146     0.9546          7        640: 100%|██████████| 93/93 [01:07<00:00,  1.38it/s]\n",
            "                 Class     Images  Instances      Box(P          R      mAP50  mAP50-95)     Mask(P          R      mAP50  mAP50-95): 100%|██████████| 12/12 [00:08<00:00,  1.43it/s]"
          ]
        },
        {
          "output_type": "stream",
          "name": "stdout",
          "text": [
            "                   all        369        486      0.966      0.922      0.969        0.9      0.963       0.92      0.962      0.858\n"
          ]
        },
        {
          "output_type": "stream",
          "name": "stderr",
          "text": [
            "\n"
          ]
        },
        {
          "output_type": "stream",
          "name": "stdout",
          "text": [
            "\n",
            "      Epoch    GPU_mem   box_loss   seg_loss   cls_loss   dfl_loss  Instances       Size\n"
          ]
        },
        {
          "output_type": "stream",
          "name": "stderr",
          "text": [
            "      57/65      7.83G     0.3413     0.5845     0.2962     0.9494          6        640: 100%|██████████| 93/93 [01:07<00:00,  1.38it/s]\n",
            "                 Class     Images  Instances      Box(P          R      mAP50  mAP50-95)     Mask(P          R      mAP50  mAP50-95): 100%|██████████| 12/12 [00:06<00:00,  1.87it/s]"
          ]
        },
        {
          "output_type": "stream",
          "name": "stdout",
          "text": [
            "                   all        369        486      0.971      0.916       0.97      0.907      0.936      0.942      0.968      0.866\n"
          ]
        },
        {
          "output_type": "stream",
          "name": "stderr",
          "text": [
            "\n"
          ]
        },
        {
          "output_type": "stream",
          "name": "stdout",
          "text": [
            "\n",
            "      Epoch    GPU_mem   box_loss   seg_loss   cls_loss   dfl_loss  Instances       Size\n"
          ]
        },
        {
          "output_type": "stream",
          "name": "stderr",
          "text": [
            "      58/65      7.89G     0.3312     0.5458     0.2861     0.9407         11        640: 100%|██████████| 93/93 [01:06<00:00,  1.41it/s]\n",
            "                 Class     Images  Instances      Box(P          R      mAP50  mAP50-95)     Mask(P          R      mAP50  mAP50-95): 100%|██████████| 12/12 [00:08<00:00,  1.47it/s]"
          ]
        },
        {
          "output_type": "stream",
          "name": "stdout",
          "text": [
            "                   all        369        486      0.972      0.918      0.975      0.904      0.969      0.916      0.969      0.866\n"
          ]
        },
        {
          "output_type": "stream",
          "name": "stderr",
          "text": [
            "\n"
          ]
        },
        {
          "output_type": "stream",
          "name": "stdout",
          "text": [
            "\n",
            "      Epoch    GPU_mem   box_loss   seg_loss   cls_loss   dfl_loss  Instances       Size\n"
          ]
        },
        {
          "output_type": "stream",
          "name": "stderr",
          "text": [
            "      59/65      7.87G     0.3119     0.5249     0.2733     0.9232          7        640: 100%|██████████| 93/93 [01:06<00:00,  1.40it/s]\n",
            "                 Class     Images  Instances      Box(P          R      mAP50  mAP50-95)     Mask(P          R      mAP50  mAP50-95): 100%|██████████| 12/12 [00:06<00:00,  1.87it/s]"
          ]
        },
        {
          "output_type": "stream",
          "name": "stdout",
          "text": [
            "                   all        369        486      0.959      0.917      0.974      0.909      0.943      0.934       0.97      0.878\n"
          ]
        },
        {
          "output_type": "stream",
          "name": "stderr",
          "text": [
            "\n"
          ]
        },
        {
          "output_type": "stream",
          "name": "stdout",
          "text": [
            "\n",
            "      Epoch    GPU_mem   box_loss   seg_loss   cls_loss   dfl_loss  Instances       Size\n"
          ]
        },
        {
          "output_type": "stream",
          "name": "stderr",
          "text": [
            "      60/65      7.91G     0.3121     0.5126      0.269     0.9133          5        640: 100%|██████████| 93/93 [01:05<00:00,  1.41it/s]\n",
            "                 Class     Images  Instances      Box(P          R      mAP50  mAP50-95)     Mask(P          R      mAP50  mAP50-95): 100%|██████████| 12/12 [00:08<00:00,  1.45it/s]"
          ]
        },
        {
          "output_type": "stream",
          "name": "stdout",
          "text": [
            "                   all        369        486      0.969      0.908      0.972      0.909      0.963      0.902      0.969      0.868\n"
          ]
        },
        {
          "output_type": "stream",
          "name": "stderr",
          "text": [
            "\n"
          ]
        },
        {
          "output_type": "stream",
          "name": "stdout",
          "text": [
            "\n",
            "      Epoch    GPU_mem   box_loss   seg_loss   cls_loss   dfl_loss  Instances       Size\n"
          ]
        },
        {
          "output_type": "stream",
          "name": "stderr",
          "text": [
            "      61/65      8.11G     0.3082     0.5123     0.2589     0.9136          6        640: 100%|██████████| 93/93 [01:06<00:00,  1.40it/s]\n",
            "                 Class     Images  Instances      Box(P          R      mAP50  mAP50-95)     Mask(P          R      mAP50  mAP50-95): 100%|██████████| 12/12 [00:06<00:00,  1.75it/s]"
          ]
        },
        {
          "output_type": "stream",
          "name": "stdout",
          "text": [
            "                   all        369        486      0.942      0.935      0.975      0.906      0.971      0.906      0.968      0.872\n"
          ]
        },
        {
          "output_type": "stream",
          "name": "stderr",
          "text": [
            "\n"
          ]
        },
        {
          "output_type": "stream",
          "name": "stdout",
          "text": [
            "\n",
            "      Epoch    GPU_mem   box_loss   seg_loss   cls_loss   dfl_loss  Instances       Size\n"
          ]
        },
        {
          "output_type": "stream",
          "name": "stderr",
          "text": [
            "      62/65      7.89G     0.2897     0.5108     0.2549     0.9027          8        640: 100%|██████████| 93/93 [01:06<00:00,  1.40it/s]\n",
            "                 Class     Images  Instances      Box(P          R      mAP50  mAP50-95)     Mask(P          R      mAP50  mAP50-95): 100%|██████████| 12/12 [00:06<00:00,  1.72it/s]"
          ]
        },
        {
          "output_type": "stream",
          "name": "stdout",
          "text": [
            "                   all        369        486      0.961      0.926      0.971      0.907      0.959      0.925      0.968      0.875\n"
          ]
        },
        {
          "output_type": "stream",
          "name": "stderr",
          "text": [
            "\n"
          ]
        },
        {
          "output_type": "stream",
          "name": "stdout",
          "text": [
            "\n",
            "      Epoch    GPU_mem   box_loss   seg_loss   cls_loss   dfl_loss  Instances       Size\n"
          ]
        },
        {
          "output_type": "stream",
          "name": "stderr",
          "text": [
            "      63/65      7.89G     0.2722     0.4835     0.2411     0.8893          6        640: 100%|██████████| 93/93 [01:06<00:00,  1.41it/s]\n",
            "                 Class     Images  Instances      Box(P          R      mAP50  mAP50-95)     Mask(P          R      mAP50  mAP50-95): 100%|██████████| 12/12 [00:07<00:00,  1.59it/s]"
          ]
        },
        {
          "output_type": "stream",
          "name": "stdout",
          "text": [
            "                   all        369        486      0.957      0.925      0.975      0.911      0.964      0.918      0.971      0.878\n"
          ]
        },
        {
          "output_type": "stream",
          "name": "stderr",
          "text": [
            "\n"
          ]
        },
        {
          "output_type": "stream",
          "name": "stdout",
          "text": [
            "\n",
            "      Epoch    GPU_mem   box_loss   seg_loss   cls_loss   dfl_loss  Instances       Size\n"
          ]
        },
        {
          "output_type": "stream",
          "name": "stderr",
          "text": [
            "      64/65      7.89G     0.2612     0.4767      0.238     0.8871          8        640: 100%|██████████| 93/93 [01:05<00:00,  1.41it/s]\n",
            "                 Class     Images  Instances      Box(P          R      mAP50  mAP50-95)     Mask(P          R      mAP50  mAP50-95): 100%|██████████| 12/12 [00:06<00:00,  1.75it/s]"
          ]
        },
        {
          "output_type": "stream",
          "name": "stdout",
          "text": [
            "                   all        369        486       0.96       0.92      0.977      0.913       0.96       0.92      0.971      0.881\n"
          ]
        },
        {
          "output_type": "stream",
          "name": "stderr",
          "text": [
            "\n"
          ]
        },
        {
          "output_type": "stream",
          "name": "stdout",
          "text": [
            "\n",
            "      Epoch    GPU_mem   box_loss   seg_loss   cls_loss   dfl_loss  Instances       Size\n"
          ]
        },
        {
          "output_type": "stream",
          "name": "stderr",
          "text": [
            "      65/65      8.16G     0.2619     0.4772     0.2278     0.8865          5        640: 100%|██████████| 93/93 [01:05<00:00,  1.42it/s]\n",
            "                 Class     Images  Instances      Box(P          R      mAP50  mAP50-95)     Mask(P          R      mAP50  mAP50-95): 100%|██████████| 12/12 [00:06<00:00,  1.75it/s]"
          ]
        },
        {
          "output_type": "stream",
          "name": "stdout",
          "text": [
            "                   all        369        486      0.965      0.922      0.973      0.914      0.965      0.922      0.971       0.88\n"
          ]
        },
        {
          "output_type": "stream",
          "name": "stderr",
          "text": [
            "\n"
          ]
        },
        {
          "output_type": "stream",
          "name": "stdout",
          "text": [
            "\n",
            "65 epochs completed in 1.496 hours.\n",
            "Optimizer stripped from runs/segment/train/weights/last.pt, 54.8MB\n",
            "Optimizer stripped from runs/segment/train/weights/best.pt, 54.8MB\n",
            "\n",
            "Validating runs/segment/train/weights/best.pt...\n",
            "Ultralytics 8.3.30 🚀 Python-3.10.12 torch-2.5.0+cu121 CUDA:0 (Tesla T4, 15102MiB)\n",
            "YOLOv8m-seg summary (fused): 245 layers, 27,222,963 parameters, 0 gradients, 110.0 GFLOPs\n"
          ]
        },
        {
          "output_type": "stream",
          "name": "stderr",
          "text": [
            "                 Class     Images  Instances      Box(P          R      mAP50  mAP50-95)     Mask(P          R      mAP50  mAP50-95): 100%|██████████| 12/12 [00:10<00:00,  1.16it/s]\n"
          ]
        },
        {
          "output_type": "stream",
          "name": "stdout",
          "text": [
            "                   all        369        486       0.96       0.92      0.977      0.913       0.96       0.92      0.971      0.882\n",
            "Speed: 0.2ms preprocess, 10.1ms inference, 0.0ms loss, 2.7ms postprocess per image\n",
            "Results saved to \u001b[1mruns/segment/train\u001b[0m\n"
          ]
        },
        {
          "output_type": "execute_result",
          "data": {
            "text/plain": [
              "ultralytics.utils.metrics.SegmentMetrics object with attributes:\n",
              "\n",
              "ap_class_index: array([0])\n",
              "box: ultralytics.utils.metrics.Metric object\n",
              "confusion_matrix: <ultralytics.utils.metrics.ConfusionMatrix object at 0x79c0f3dcd480>\n",
              "curves: ['Precision-Recall(B)', 'F1-Confidence(B)', 'Precision-Confidence(B)', 'Recall-Confidence(B)', 'Precision-Recall(M)', 'F1-Confidence(M)', 'Precision-Confidence(M)', 'Recall-Confidence(M)']\n",
              "curves_results: [[array([          0,    0.001001,    0.002002,    0.003003,    0.004004,    0.005005,    0.006006,    0.007007,    0.008008,    0.009009,     0.01001,    0.011011,    0.012012,    0.013013,    0.014014,    0.015015,    0.016016,    0.017017,    0.018018,    0.019019,     0.02002,    0.021021,    0.022022,    0.023023,\n",
              "          0.024024,    0.025025,    0.026026,    0.027027,    0.028028,    0.029029,     0.03003,    0.031031,    0.032032,    0.033033,    0.034034,    0.035035,    0.036036,    0.037037,    0.038038,    0.039039,     0.04004,    0.041041,    0.042042,    0.043043,    0.044044,    0.045045,    0.046046,    0.047047,\n",
              "          0.048048,    0.049049,     0.05005,    0.051051,    0.052052,    0.053053,    0.054054,    0.055055,    0.056056,    0.057057,    0.058058,    0.059059,     0.06006,    0.061061,    0.062062,    0.063063,    0.064064,    0.065065,    0.066066,    0.067067,    0.068068,    0.069069,     0.07007,    0.071071,\n",
              "          0.072072,    0.073073,    0.074074,    0.075075,    0.076076,    0.077077,    0.078078,    0.079079,     0.08008,    0.081081,    0.082082,    0.083083,    0.084084,    0.085085,    0.086086,    0.087087,    0.088088,    0.089089,     0.09009,    0.091091,    0.092092,    0.093093,    0.094094,    0.095095,\n",
              "          0.096096,    0.097097,    0.098098,    0.099099,      0.1001,      0.1011,      0.1021,      0.1031,      0.1041,     0.10511,     0.10611,     0.10711,     0.10811,     0.10911,     0.11011,     0.11111,     0.11211,     0.11311,     0.11411,     0.11512,     0.11612,     0.11712,     0.11812,     0.11912,\n",
              "           0.12012,     0.12112,     0.12212,     0.12312,     0.12412,     0.12513,     0.12613,     0.12713,     0.12813,     0.12913,     0.13013,     0.13113,     0.13213,     0.13313,     0.13413,     0.13514,     0.13614,     0.13714,     0.13814,     0.13914,     0.14014,     0.14114,     0.14214,     0.14314,\n",
              "           0.14414,     0.14515,     0.14615,     0.14715,     0.14815,     0.14915,     0.15015,     0.15115,     0.15215,     0.15315,     0.15415,     0.15516,     0.15616,     0.15716,     0.15816,     0.15916,     0.16016,     0.16116,     0.16216,     0.16316,     0.16416,     0.16517,     0.16617,     0.16717,\n",
              "           0.16817,     0.16917,     0.17017,     0.17117,     0.17217,     0.17317,     0.17417,     0.17518,     0.17618,     0.17718,     0.17818,     0.17918,     0.18018,     0.18118,     0.18218,     0.18318,     0.18418,     0.18519,     0.18619,     0.18719,     0.18819,     0.18919,     0.19019,     0.19119,\n",
              "           0.19219,     0.19319,     0.19419,      0.1952,      0.1962,      0.1972,      0.1982,      0.1992,      0.2002,      0.2012,      0.2022,      0.2032,      0.2042,     0.20521,     0.20621,     0.20721,     0.20821,     0.20921,     0.21021,     0.21121,     0.21221,     0.21321,     0.21421,     0.21522,\n",
              "           0.21622,     0.21722,     0.21822,     0.21922,     0.22022,     0.22122,     0.22222,     0.22322,     0.22422,     0.22523,     0.22623,     0.22723,     0.22823,     0.22923,     0.23023,     0.23123,     0.23223,     0.23323,     0.23423,     0.23524,     0.23624,     0.23724,     0.23824,     0.23924,\n",
              "           0.24024,     0.24124,     0.24224,     0.24324,     0.24424,     0.24525,     0.24625,     0.24725,     0.24825,     0.24925,     0.25025,     0.25125,     0.25225,     0.25325,     0.25425,     0.25526,     0.25626,     0.25726,     0.25826,     0.25926,     0.26026,     0.26126,     0.26226,     0.26326,\n",
              "           0.26426,     0.26527,     0.26627,     0.26727,     0.26827,     0.26927,     0.27027,     0.27127,     0.27227,     0.27327,     0.27427,     0.27528,     0.27628,     0.27728,     0.27828,     0.27928,     0.28028,     0.28128,     0.28228,     0.28328,     0.28428,     0.28529,     0.28629,     0.28729,\n",
              "           0.28829,     0.28929,     0.29029,     0.29129,     0.29229,     0.29329,     0.29429,      0.2953,      0.2963,      0.2973,      0.2983,      0.2993,      0.3003,      0.3013,      0.3023,      0.3033,      0.3043,     0.30531,     0.30631,     0.30731,     0.30831,     0.30931,     0.31031,     0.31131,\n",
              "           0.31231,     0.31331,     0.31431,     0.31532,     0.31632,     0.31732,     0.31832,     0.31932,     0.32032,     0.32132,     0.32232,     0.32332,     0.32432,     0.32533,     0.32633,     0.32733,     0.32833,     0.32933,     0.33033,     0.33133,     0.33233,     0.33333,     0.33433,     0.33534,\n",
              "           0.33634,     0.33734,     0.33834,     0.33934,     0.34034,     0.34134,     0.34234,     0.34334,     0.34434,     0.34535,     0.34635,     0.34735,     0.34835,     0.34935,     0.35035,     0.35135,     0.35235,     0.35335,     0.35435,     0.35536,     0.35636,     0.35736,     0.35836,     0.35936,\n",
              "           0.36036,     0.36136,     0.36236,     0.36336,     0.36436,     0.36537,     0.36637,     0.36737,     0.36837,     0.36937,     0.37037,     0.37137,     0.37237,     0.37337,     0.37437,     0.37538,     0.37638,     0.37738,     0.37838,     0.37938,     0.38038,     0.38138,     0.38238,     0.38338,\n",
              "           0.38438,     0.38539,     0.38639,     0.38739,     0.38839,     0.38939,     0.39039,     0.39139,     0.39239,     0.39339,     0.39439,      0.3954,      0.3964,      0.3974,      0.3984,      0.3994,      0.4004,      0.4014,      0.4024,      0.4034,      0.4044,     0.40541,     0.40641,     0.40741,\n",
              "           0.40841,     0.40941,     0.41041,     0.41141,     0.41241,     0.41341,     0.41441,     0.41542,     0.41642,     0.41742,     0.41842,     0.41942,     0.42042,     0.42142,     0.42242,     0.42342,     0.42442,     0.42543,     0.42643,     0.42743,     0.42843,     0.42943,     0.43043,     0.43143,\n",
              "           0.43243,     0.43343,     0.43443,     0.43544,     0.43644,     0.43744,     0.43844,     0.43944,     0.44044,     0.44144,     0.44244,     0.44344,     0.44444,     0.44545,     0.44645,     0.44745,     0.44845,     0.44945,     0.45045,     0.45145,     0.45245,     0.45345,     0.45445,     0.45546,\n",
              "           0.45646,     0.45746,     0.45846,     0.45946,     0.46046,     0.46146,     0.46246,     0.46346,     0.46446,     0.46547,     0.46647,     0.46747,     0.46847,     0.46947,     0.47047,     0.47147,     0.47247,     0.47347,     0.47447,     0.47548,     0.47648,     0.47748,     0.47848,     0.47948,\n",
              "           0.48048,     0.48148,     0.48248,     0.48348,     0.48448,     0.48549,     0.48649,     0.48749,     0.48849,     0.48949,     0.49049,     0.49149,     0.49249,     0.49349,     0.49449,      0.4955,      0.4965,      0.4975,      0.4985,      0.4995,      0.5005,      0.5015,      0.5025,      0.5035,\n",
              "            0.5045,     0.50551,     0.50651,     0.50751,     0.50851,     0.50951,     0.51051,     0.51151,     0.51251,     0.51351,     0.51451,     0.51552,     0.51652,     0.51752,     0.51852,     0.51952,     0.52052,     0.52152,     0.52252,     0.52352,     0.52452,     0.52553,     0.52653,     0.52753,\n",
              "           0.52853,     0.52953,     0.53053,     0.53153,     0.53253,     0.53353,     0.53453,     0.53554,     0.53654,     0.53754,     0.53854,     0.53954,     0.54054,     0.54154,     0.54254,     0.54354,     0.54454,     0.54555,     0.54655,     0.54755,     0.54855,     0.54955,     0.55055,     0.55155,\n",
              "           0.55255,     0.55355,     0.55455,     0.55556,     0.55656,     0.55756,     0.55856,     0.55956,     0.56056,     0.56156,     0.56256,     0.56356,     0.56456,     0.56557,     0.56657,     0.56757,     0.56857,     0.56957,     0.57057,     0.57157,     0.57257,     0.57357,     0.57457,     0.57558,\n",
              "           0.57658,     0.57758,     0.57858,     0.57958,     0.58058,     0.58158,     0.58258,     0.58358,     0.58458,     0.58559,     0.58659,     0.58759,     0.58859,     0.58959,     0.59059,     0.59159,     0.59259,     0.59359,     0.59459,      0.5956,      0.5966,      0.5976,      0.5986,      0.5996,\n",
              "            0.6006,      0.6016,      0.6026,      0.6036,      0.6046,     0.60561,     0.60661,     0.60761,     0.60861,     0.60961,     0.61061,     0.61161,     0.61261,     0.61361,     0.61461,     0.61562,     0.61662,     0.61762,     0.61862,     0.61962,     0.62062,     0.62162,     0.62262,     0.62362,\n",
              "           0.62462,     0.62563,     0.62663,     0.62763,     0.62863,     0.62963,     0.63063,     0.63163,     0.63263,     0.63363,     0.63463,     0.63564,     0.63664,     0.63764,     0.63864,     0.63964,     0.64064,     0.64164,     0.64264,     0.64364,     0.64464,     0.64565,     0.64665,     0.64765,\n",
              "           0.64865,     0.64965,     0.65065,     0.65165,     0.65265,     0.65365,     0.65465,     0.65566,     0.65666,     0.65766,     0.65866,     0.65966,     0.66066,     0.66166,     0.66266,     0.66366,     0.66466,     0.66567,     0.66667,     0.66767,     0.66867,     0.66967,     0.67067,     0.67167,\n",
              "           0.67267,     0.67367,     0.67467,     0.67568,     0.67668,     0.67768,     0.67868,     0.67968,     0.68068,     0.68168,     0.68268,     0.68368,     0.68468,     0.68569,     0.68669,     0.68769,     0.68869,     0.68969,     0.69069,     0.69169,     0.69269,     0.69369,     0.69469,      0.6957,\n",
              "            0.6967,      0.6977,      0.6987,      0.6997,      0.7007,      0.7017,      0.7027,      0.7037,      0.7047,     0.70571,     0.70671,     0.70771,     0.70871,     0.70971,     0.71071,     0.71171,     0.71271,     0.71371,     0.71471,     0.71572,     0.71672,     0.71772,     0.71872,     0.71972,\n",
              "           0.72072,     0.72172,     0.72272,     0.72372,     0.72472,     0.72573,     0.72673,     0.72773,     0.72873,     0.72973,     0.73073,     0.73173,     0.73273,     0.73373,     0.73473,     0.73574,     0.73674,     0.73774,     0.73874,     0.73974,     0.74074,     0.74174,     0.74274,     0.74374,\n",
              "           0.74474,     0.74575,     0.74675,     0.74775,     0.74875,     0.74975,     0.75075,     0.75175,     0.75275,     0.75375,     0.75475,     0.75576,     0.75676,     0.75776,     0.75876,     0.75976,     0.76076,     0.76176,     0.76276,     0.76376,     0.76476,     0.76577,     0.76677,     0.76777,\n",
              "           0.76877,     0.76977,     0.77077,     0.77177,     0.77277,     0.77377,     0.77477,     0.77578,     0.77678,     0.77778,     0.77878,     0.77978,     0.78078,     0.78178,     0.78278,     0.78378,     0.78478,     0.78579,     0.78679,     0.78779,     0.78879,     0.78979,     0.79079,     0.79179,\n",
              "           0.79279,     0.79379,     0.79479,      0.7958,      0.7968,      0.7978,      0.7988,      0.7998,      0.8008,      0.8018,      0.8028,      0.8038,      0.8048,     0.80581,     0.80681,     0.80781,     0.80881,     0.80981,     0.81081,     0.81181,     0.81281,     0.81381,     0.81481,     0.81582,\n",
              "           0.81682,     0.81782,     0.81882,     0.81982,     0.82082,     0.82182,     0.82282,     0.82382,     0.82482,     0.82583,     0.82683,     0.82783,     0.82883,     0.82983,     0.83083,     0.83183,     0.83283,     0.83383,     0.83483,     0.83584,     0.83684,     0.83784,     0.83884,     0.83984,\n",
              "           0.84084,     0.84184,     0.84284,     0.84384,     0.84484,     0.84585,     0.84685,     0.84785,     0.84885,     0.84985,     0.85085,     0.85185,     0.85285,     0.85385,     0.85485,     0.85586,     0.85686,     0.85786,     0.85886,     0.85986,     0.86086,     0.86186,     0.86286,     0.86386,\n",
              "           0.86486,     0.86587,     0.86687,     0.86787,     0.86887,     0.86987,     0.87087,     0.87187,     0.87287,     0.87387,     0.87487,     0.87588,     0.87688,     0.87788,     0.87888,     0.87988,     0.88088,     0.88188,     0.88288,     0.88388,     0.88488,     0.88589,     0.88689,     0.88789,\n",
              "           0.88889,     0.88989,     0.89089,     0.89189,     0.89289,     0.89389,     0.89489,      0.8959,      0.8969,      0.8979,      0.8989,      0.8999,      0.9009,      0.9019,      0.9029,      0.9039,      0.9049,     0.90591,     0.90691,     0.90791,     0.90891,     0.90991,     0.91091,     0.91191,\n",
              "           0.91291,     0.91391,     0.91491,     0.91592,     0.91692,     0.91792,     0.91892,     0.91992,     0.92092,     0.92192,     0.92292,     0.92392,     0.92492,     0.92593,     0.92693,     0.92793,     0.92893,     0.92993,     0.93093,     0.93193,     0.93293,     0.93393,     0.93493,     0.93594,\n",
              "           0.93694,     0.93794,     0.93894,     0.93994,     0.94094,     0.94194,     0.94294,     0.94394,     0.94494,     0.94595,     0.94695,     0.94795,     0.94895,     0.94995,     0.95095,     0.95195,     0.95295,     0.95395,     0.95495,     0.95596,     0.95696,     0.95796,     0.95896,     0.95996,\n",
              "           0.96096,     0.96196,     0.96296,     0.96396,     0.96496,     0.96597,     0.96697,     0.96797,     0.96897,     0.96997,     0.97097,     0.97197,     0.97297,     0.97397,     0.97497,     0.97598,     0.97698,     0.97798,     0.97898,     0.97998,     0.98098,     0.98198,     0.98298,     0.98398,\n",
              "           0.98498,     0.98599,     0.98699,     0.98799,     0.98899,     0.98999,     0.99099,     0.99199,     0.99299,     0.99399,     0.99499,       0.996,       0.997,       0.998,       0.999,           1]), array([[          1,           1,           1,           1,           1,           1,           1,           1,           1,           1,           1,           1,           1,           1,           1,           1,           1,           1,           1,           1,           1,           1,           1,\n",
              "                  1,           1,           1,           1,           1,           1,           1,           1,           1,           1,           1,           1,           1,           1,           1,           1,           1,           1,           1,           1,           1,           1,           1,\n",
              "                  1,           1,           1,           1,           1,           1,           1,           1,           1,           1,           1,           1,           1,           1,           1,           1,           1,           1,           1,           1,           1,           1,           1,\n",
              "                  1,           1,           1,           1,           1,           1,           1,           1,           1,           1,           1,           1,           1,           1,           1,           1,           1,           1,           1,           1,           1,           1,           1,\n",
              "                  1,           1,           1,           1,           1,           1,           1,           1,           1,           1,           1,           1,           1,           1,           1,           1,           1,           1,           1,           1,           1,           1,           1,\n",
              "                  1,           1,           1,           1,           1,           1,           1,           1,           1,           1,           1,           1,           1,           1,           1,           1,           1,           1,           1,           1,           1,           1,           1,\n",
              "                  1,           1,           1,           1,           1,           1,           1,           1,           1,           1,           1,           1,           1,           1,           1,           1,           1,           1,           1,           1,           1,           1,           1,\n",
              "                  1,           1,           1,           1,           1,           1,           1,           1,           1,           1,           1,           1,           1,           1,           1,           1,           1,           1,           1,           1,           1,           1,           1,\n",
              "                  1,           1,           1,           1,           1,           1,           1,           1,           1,           1,           1,           1,           1,           1,           1,           1,           1,           1,           1,           1,           1,           1,           1,\n",
              "                  1,           1,           1,           1,           1,           1,           1,           1,           1,           1,           1,           1,           1,           1,           1,           1,           1,           1,           1,           1,           1,           1,           1,\n",
              "                  1,           1,           1,           1,           1,           1,           1,           1,           1,           1,           1,           1,           1,           1,           1,           1,           1,           1,           1,           1,           1,           1,           1,\n",
              "                  1,           1,           1,           1,           1,           1,           1,           1,           1,           1,           1,           1,           1,           1,           1,           1,           1,           1,           1,           1,           1,           1,           1,\n",
              "                  1,           1,           1,           1,           1,           1,           1,           1,           1,           1,           1,           1,           1,           1,           1,           1,           1,           1,           1,           1,           1,           1,           1,\n",
              "                  1,           1,           1,           1,           1,           1,           1,           1,           1,           1,           1,           1,           1,           1,           1,           1,           1,           1,           1,           1,           1,           1,           1,\n",
              "                  1,           1,           1,           1,           1,           1,           1,           1,           1,           1,           1,           1,           1,           1,           1,           1,           1,           1,           1,           1,           1,           1,           1,\n",
              "                  1,           1,           1,           1,           1,           1,           1,           1,           1,           1,           1,           1,           1,           1,           1,           1,           1,           1,           1,           1,           1,           1,           1,\n",
              "                  1,           1,           1,           1,           1,           1,           1,           1,           1,           1,           1,           1,           1,           1,           1,           1,           1,           1,           1,           1,           1,           1,           1,\n",
              "                  1,           1,           1,           1,           1,           1,           1,           1,           1,           1,           1,           1,           1,           1,           1,           1,           1,           1,           1,           1,           1,           1,           1,\n",
              "                  1,           1,           1,           1,           1,           1,           1,           1,           1,           1,           1,           1,           1,           1,           1,           1,           1,           1,           1,           1,           1,           1,           1,\n",
              "                  1,           1,           1,           1,           1,           1,           1,           1,           1,           1,           1,           1,           1,           1,           1,           1,           1,           1,           1,           1,           1,           1,           1,\n",
              "                  1,           1,           1,           1,           1,           1,           1,           1,           1,           1,           1,           1,           1,           1,           1,           1,           1,           1,           1,           1,           1,           1,           1,\n",
              "                  1,           1,           1,           1,           1,           1,           1,           1,           1,           1,           1,           1,           1,           1,           1,           1,           1,           1,           1,           1,           1,           1,           1,\n",
              "                  1,           1,           1,           1,           1,           1,           1,           1,           1,           1,           1,           1,           1,           1,           1,           1,           1,           1,           1,           1,           1,           1,           1,\n",
              "                  1,           1,           1,           1,           1,           1,           1,           1,           1,           1,           1,           1,           1,           1,           1,           1,           1,           1,           1,           1,           1,           1,           1,\n",
              "                  1,           1,           1,           1,           1,           1,           1,           1,           1,           1,           1,           1,           1,           1,           1,           1,           1,           1,           1,           1,           1,           1,           1,\n",
              "                  1,           1,           1,           1,           1,           1,           1,           1,           1,           1,           1,           1,           1,           1,           1,           1,           1,           1,           1,           1,           1,           1,           1,\n",
              "                  1,           1,           1,           1,           1,           1,           1,           1,           1,           1,           1,           1,           1,           1,           1,           1,           1,           1,           1,           1,           1,           1,           1,\n",
              "                  1,           1,           1,           1,           1,           1,           1,           1,           1,           1,           1,           1,           1,           1,           1,           1,           1,           1,           1,           1,           1,           1,           1,\n",
              "                  1,           1,           1,           1,           1,           1,           1,           1,           1,           1,           1,           1,           1,           1,           1,           1,           1,           1,           1,           1,           1,           1,           1,\n",
              "                  1,           1,           1,           1,           1,           1,           1,           1,           1,           1,           1,           1,           1,           1,           1,           1,           1,           1,           1,           1,           1,           1,           1,\n",
              "                  1,           1,           1,           1,           1,           1,           1,           1,           1,           1,           1,           1,           1,           1,           1,           1,           1,           1,           1,           1,           1,           1,           1,\n",
              "                  1,           1,           1,           1,           1,           1,           1,           1,           1,           1,           1,           1,           1,           1,           1,           1,           1,           1,           1,           1,           1,           1,           1,\n",
              "                  1,           1,           1,           1,           1,           1,           1,           1,           1,           1,           1,           1,           1,           1,           1,           1,           1,           1,           1,           1,           1,           1,           1,\n",
              "                  1,           1,           1,           1,           1,           1,           1,           1,           1,           1,           1,           1,     0.99751,     0.99751,     0.99751,     0.99751,     0.99751,     0.99751,     0.99751,     0.99751,     0.99751,     0.99751,     0.99751,\n",
              "            0.99751,     0.99751,     0.99751,     0.99751,     0.99751,     0.99751,     0.99751,     0.99751,     0.99751,     0.99751,     0.99751,     0.99751,     0.99751,     0.99751,     0.99751,     0.99751,     0.99751,     0.99751,     0.99751,     0.99751,     0.99751,     0.99751,     0.99751,\n",
              "            0.99751,     0.99751,     0.99751,     0.99751,     0.99751,     0.99751,     0.99751,     0.99751,     0.99751,     0.99751,     0.99751,     0.99751,     0.99751,     0.99751,     0.99751,     0.99751,     0.99751,     0.99751,     0.99751,     0.99751,     0.99517,     0.99517,     0.99517,\n",
              "            0.99517,     0.99517,     0.99517,     0.99517,     0.99517,     0.99517,     0.99517,     0.99517,     0.99517,     0.99517,     0.99517,     0.99517,     0.99517,     0.99517,     0.99517,     0.99517,     0.99517,     0.99517,     0.99517,     0.99292,     0.99292,     0.99292,     0.99292,\n",
              "            0.99292,     0.99292,     0.99292,     0.99292,     0.99292,     0.99292,     0.99292,     0.99292,     0.99292,     0.99292,     0.99292,     0.99292,     0.99292,     0.99292,     0.99292,      0.9908,      0.9908,      0.9908,      0.9908,      0.9908,      0.9908,      0.9908,      0.9908,\n",
              "             0.9908,      0.9908,      0.9908,      0.9908,      0.9908,      0.9908,      0.9908,      0.9908,      0.9908,      0.9908,      0.9908,      0.9908,     0.98856,     0.98856,     0.98636,     0.98636,     0.98636,     0.98636,     0.98636,      0.9842,      0.9842,      0.9842,      0.9842,\n",
              "            0.98202,     0.98202,     0.97987,     0.97987,     0.97561,     0.97561,     0.97561,     0.97561,     0.97357,     0.97357,     0.97357,     0.97357,     0.97155,     0.97155,     0.97155,     0.97155,     0.96957,     0.96957,     0.96957,     0.96957,     0.96753,     0.96753,     0.95754,\n",
              "            0.95754,     0.95754,     0.95754,     0.95754,     0.95754,     0.95754,     0.95754,     0.95754,     0.94969,     0.94969,     0.94969,     0.94969,     0.94583,     0.94583,     0.94421,     0.94421,     0.94421,     0.94421,     0.94421,     0.94421,     0.93279,     0.93279,     0.92757,\n",
              "            0.92757,     0.92757,     0.92757,     0.92757,     0.92757,     0.92216,     0.92216,     0.92063,     0.92063,     0.92063,     0.92063,     0.91913,     0.91913,     0.91913,     0.91913,     0.91033,     0.91033,         0.9,         0.9,     0.88158,     0.88158,     0.88158,      0.8561,\n",
              "             0.8561,     0.85018,     0.85018,     0.83986,     0.83986,     0.83717,     0.83717,     0.79933,     0.79933,     0.79431,     0.79431,     0.75676,     0.75676,      0.6377,      0.6377,     0.25599,     0.24177,     0.22755,     0.21332,      0.1991,     0.18488,     0.17066,     0.15644,\n",
              "            0.14222,     0.12799,     0.11377,    0.099551,     0.08533,    0.071108,    0.056886,    0.042665,    0.028443,    0.014222,           0]]), 'Recall', 'Precision'], [array([          0,    0.001001,    0.002002,    0.003003,    0.004004,    0.005005,    0.006006,    0.007007,    0.008008,    0.009009,     0.01001,    0.011011,    0.012012,    0.013013,    0.014014,    0.015015,    0.016016,    0.017017,    0.018018,    0.019019,     0.02002,    0.021021,    0.022022,    0.023023,\n",
              "          0.024024,    0.025025,    0.026026,    0.027027,    0.028028,    0.029029,     0.03003,    0.031031,    0.032032,    0.033033,    0.034034,    0.035035,    0.036036,    0.037037,    0.038038,    0.039039,     0.04004,    0.041041,    0.042042,    0.043043,    0.044044,    0.045045,    0.046046,    0.047047,\n",
              "          0.048048,    0.049049,     0.05005,    0.051051,    0.052052,    0.053053,    0.054054,    0.055055,    0.056056,    0.057057,    0.058058,    0.059059,     0.06006,    0.061061,    0.062062,    0.063063,    0.064064,    0.065065,    0.066066,    0.067067,    0.068068,    0.069069,     0.07007,    0.071071,\n",
              "          0.072072,    0.073073,    0.074074,    0.075075,    0.076076,    0.077077,    0.078078,    0.079079,     0.08008,    0.081081,    0.082082,    0.083083,    0.084084,    0.085085,    0.086086,    0.087087,    0.088088,    0.089089,     0.09009,    0.091091,    0.092092,    0.093093,    0.094094,    0.095095,\n",
              "          0.096096,    0.097097,    0.098098,    0.099099,      0.1001,      0.1011,      0.1021,      0.1031,      0.1041,     0.10511,     0.10611,     0.10711,     0.10811,     0.10911,     0.11011,     0.11111,     0.11211,     0.11311,     0.11411,     0.11512,     0.11612,     0.11712,     0.11812,     0.11912,\n",
              "           0.12012,     0.12112,     0.12212,     0.12312,     0.12412,     0.12513,     0.12613,     0.12713,     0.12813,     0.12913,     0.13013,     0.13113,     0.13213,     0.13313,     0.13413,     0.13514,     0.13614,     0.13714,     0.13814,     0.13914,     0.14014,     0.14114,     0.14214,     0.14314,\n",
              "           0.14414,     0.14515,     0.14615,     0.14715,     0.14815,     0.14915,     0.15015,     0.15115,     0.15215,     0.15315,     0.15415,     0.15516,     0.15616,     0.15716,     0.15816,     0.15916,     0.16016,     0.16116,     0.16216,     0.16316,     0.16416,     0.16517,     0.16617,     0.16717,\n",
              "           0.16817,     0.16917,     0.17017,     0.17117,     0.17217,     0.17317,     0.17417,     0.17518,     0.17618,     0.17718,     0.17818,     0.17918,     0.18018,     0.18118,     0.18218,     0.18318,     0.18418,     0.18519,     0.18619,     0.18719,     0.18819,     0.18919,     0.19019,     0.19119,\n",
              "           0.19219,     0.19319,     0.19419,      0.1952,      0.1962,      0.1972,      0.1982,      0.1992,      0.2002,      0.2012,      0.2022,      0.2032,      0.2042,     0.20521,     0.20621,     0.20721,     0.20821,     0.20921,     0.21021,     0.21121,     0.21221,     0.21321,     0.21421,     0.21522,\n",
              "           0.21622,     0.21722,     0.21822,     0.21922,     0.22022,     0.22122,     0.22222,     0.22322,     0.22422,     0.22523,     0.22623,     0.22723,     0.22823,     0.22923,     0.23023,     0.23123,     0.23223,     0.23323,     0.23423,     0.23524,     0.23624,     0.23724,     0.23824,     0.23924,\n",
              "           0.24024,     0.24124,     0.24224,     0.24324,     0.24424,     0.24525,     0.24625,     0.24725,     0.24825,     0.24925,     0.25025,     0.25125,     0.25225,     0.25325,     0.25425,     0.25526,     0.25626,     0.25726,     0.25826,     0.25926,     0.26026,     0.26126,     0.26226,     0.26326,\n",
              "           0.26426,     0.26527,     0.26627,     0.26727,     0.26827,     0.26927,     0.27027,     0.27127,     0.27227,     0.27327,     0.27427,     0.27528,     0.27628,     0.27728,     0.27828,     0.27928,     0.28028,     0.28128,     0.28228,     0.28328,     0.28428,     0.28529,     0.28629,     0.28729,\n",
              "           0.28829,     0.28929,     0.29029,     0.29129,     0.29229,     0.29329,     0.29429,      0.2953,      0.2963,      0.2973,      0.2983,      0.2993,      0.3003,      0.3013,      0.3023,      0.3033,      0.3043,     0.30531,     0.30631,     0.30731,     0.30831,     0.30931,     0.31031,     0.31131,\n",
              "           0.31231,     0.31331,     0.31431,     0.31532,     0.31632,     0.31732,     0.31832,     0.31932,     0.32032,     0.32132,     0.32232,     0.32332,     0.32432,     0.32533,     0.32633,     0.32733,     0.32833,     0.32933,     0.33033,     0.33133,     0.33233,     0.33333,     0.33433,     0.33534,\n",
              "           0.33634,     0.33734,     0.33834,     0.33934,     0.34034,     0.34134,     0.34234,     0.34334,     0.34434,     0.34535,     0.34635,     0.34735,     0.34835,     0.34935,     0.35035,     0.35135,     0.35235,     0.35335,     0.35435,     0.35536,     0.35636,     0.35736,     0.35836,     0.35936,\n",
              "           0.36036,     0.36136,     0.36236,     0.36336,     0.36436,     0.36537,     0.36637,     0.36737,     0.36837,     0.36937,     0.37037,     0.37137,     0.37237,     0.37337,     0.37437,     0.37538,     0.37638,     0.37738,     0.37838,     0.37938,     0.38038,     0.38138,     0.38238,     0.38338,\n",
              "           0.38438,     0.38539,     0.38639,     0.38739,     0.38839,     0.38939,     0.39039,     0.39139,     0.39239,     0.39339,     0.39439,      0.3954,      0.3964,      0.3974,      0.3984,      0.3994,      0.4004,      0.4014,      0.4024,      0.4034,      0.4044,     0.40541,     0.40641,     0.40741,\n",
              "           0.40841,     0.40941,     0.41041,     0.41141,     0.41241,     0.41341,     0.41441,     0.41542,     0.41642,     0.41742,     0.41842,     0.41942,     0.42042,     0.42142,     0.42242,     0.42342,     0.42442,     0.42543,     0.42643,     0.42743,     0.42843,     0.42943,     0.43043,     0.43143,\n",
              "           0.43243,     0.43343,     0.43443,     0.43544,     0.43644,     0.43744,     0.43844,     0.43944,     0.44044,     0.44144,     0.44244,     0.44344,     0.44444,     0.44545,     0.44645,     0.44745,     0.44845,     0.44945,     0.45045,     0.45145,     0.45245,     0.45345,     0.45445,     0.45546,\n",
              "           0.45646,     0.45746,     0.45846,     0.45946,     0.46046,     0.46146,     0.46246,     0.46346,     0.46446,     0.46547,     0.46647,     0.46747,     0.46847,     0.46947,     0.47047,     0.47147,     0.47247,     0.47347,     0.47447,     0.47548,     0.47648,     0.47748,     0.47848,     0.47948,\n",
              "           0.48048,     0.48148,     0.48248,     0.48348,     0.48448,     0.48549,     0.48649,     0.48749,     0.48849,     0.48949,     0.49049,     0.49149,     0.49249,     0.49349,     0.49449,      0.4955,      0.4965,      0.4975,      0.4985,      0.4995,      0.5005,      0.5015,      0.5025,      0.5035,\n",
              "            0.5045,     0.50551,     0.50651,     0.50751,     0.50851,     0.50951,     0.51051,     0.51151,     0.51251,     0.51351,     0.51451,     0.51552,     0.51652,     0.51752,     0.51852,     0.51952,     0.52052,     0.52152,     0.52252,     0.52352,     0.52452,     0.52553,     0.52653,     0.52753,\n",
              "           0.52853,     0.52953,     0.53053,     0.53153,     0.53253,     0.53353,     0.53453,     0.53554,     0.53654,     0.53754,     0.53854,     0.53954,     0.54054,     0.54154,     0.54254,     0.54354,     0.54454,     0.54555,     0.54655,     0.54755,     0.54855,     0.54955,     0.55055,     0.55155,\n",
              "           0.55255,     0.55355,     0.55455,     0.55556,     0.55656,     0.55756,     0.55856,     0.55956,     0.56056,     0.56156,     0.56256,     0.56356,     0.56456,     0.56557,     0.56657,     0.56757,     0.56857,     0.56957,     0.57057,     0.57157,     0.57257,     0.57357,     0.57457,     0.57558,\n",
              "           0.57658,     0.57758,     0.57858,     0.57958,     0.58058,     0.58158,     0.58258,     0.58358,     0.58458,     0.58559,     0.58659,     0.58759,     0.58859,     0.58959,     0.59059,     0.59159,     0.59259,     0.59359,     0.59459,      0.5956,      0.5966,      0.5976,      0.5986,      0.5996,\n",
              "            0.6006,      0.6016,      0.6026,      0.6036,      0.6046,     0.60561,     0.60661,     0.60761,     0.60861,     0.60961,     0.61061,     0.61161,     0.61261,     0.61361,     0.61461,     0.61562,     0.61662,     0.61762,     0.61862,     0.61962,     0.62062,     0.62162,     0.62262,     0.62362,\n",
              "           0.62462,     0.62563,     0.62663,     0.62763,     0.62863,     0.62963,     0.63063,     0.63163,     0.63263,     0.63363,     0.63463,     0.63564,     0.63664,     0.63764,     0.63864,     0.63964,     0.64064,     0.64164,     0.64264,     0.64364,     0.64464,     0.64565,     0.64665,     0.64765,\n",
              "           0.64865,     0.64965,     0.65065,     0.65165,     0.65265,     0.65365,     0.65465,     0.65566,     0.65666,     0.65766,     0.65866,     0.65966,     0.66066,     0.66166,     0.66266,     0.66366,     0.66466,     0.66567,     0.66667,     0.66767,     0.66867,     0.66967,     0.67067,     0.67167,\n",
              "           0.67267,     0.67367,     0.67467,     0.67568,     0.67668,     0.67768,     0.67868,     0.67968,     0.68068,     0.68168,     0.68268,     0.68368,     0.68468,     0.68569,     0.68669,     0.68769,     0.68869,     0.68969,     0.69069,     0.69169,     0.69269,     0.69369,     0.69469,      0.6957,\n",
              "            0.6967,      0.6977,      0.6987,      0.6997,      0.7007,      0.7017,      0.7027,      0.7037,      0.7047,     0.70571,     0.70671,     0.70771,     0.70871,     0.70971,     0.71071,     0.71171,     0.71271,     0.71371,     0.71471,     0.71572,     0.71672,     0.71772,     0.71872,     0.71972,\n",
              "           0.72072,     0.72172,     0.72272,     0.72372,     0.72472,     0.72573,     0.72673,     0.72773,     0.72873,     0.72973,     0.73073,     0.73173,     0.73273,     0.73373,     0.73473,     0.73574,     0.73674,     0.73774,     0.73874,     0.73974,     0.74074,     0.74174,     0.74274,     0.74374,\n",
              "           0.74474,     0.74575,     0.74675,     0.74775,     0.74875,     0.74975,     0.75075,     0.75175,     0.75275,     0.75375,     0.75475,     0.75576,     0.75676,     0.75776,     0.75876,     0.75976,     0.76076,     0.76176,     0.76276,     0.76376,     0.76476,     0.76577,     0.76677,     0.76777,\n",
              "           0.76877,     0.76977,     0.77077,     0.77177,     0.77277,     0.77377,     0.77477,     0.77578,     0.77678,     0.77778,     0.77878,     0.77978,     0.78078,     0.78178,     0.78278,     0.78378,     0.78478,     0.78579,     0.78679,     0.78779,     0.78879,     0.78979,     0.79079,     0.79179,\n",
              "           0.79279,     0.79379,     0.79479,      0.7958,      0.7968,      0.7978,      0.7988,      0.7998,      0.8008,      0.8018,      0.8028,      0.8038,      0.8048,     0.80581,     0.80681,     0.80781,     0.80881,     0.80981,     0.81081,     0.81181,     0.81281,     0.81381,     0.81481,     0.81582,\n",
              "           0.81682,     0.81782,     0.81882,     0.81982,     0.82082,     0.82182,     0.82282,     0.82382,     0.82482,     0.82583,     0.82683,     0.82783,     0.82883,     0.82983,     0.83083,     0.83183,     0.83283,     0.83383,     0.83483,     0.83584,     0.83684,     0.83784,     0.83884,     0.83984,\n",
              "           0.84084,     0.84184,     0.84284,     0.84384,     0.84484,     0.84585,     0.84685,     0.84785,     0.84885,     0.84985,     0.85085,     0.85185,     0.85285,     0.85385,     0.85485,     0.85586,     0.85686,     0.85786,     0.85886,     0.85986,     0.86086,     0.86186,     0.86286,     0.86386,\n",
              "           0.86486,     0.86587,     0.86687,     0.86787,     0.86887,     0.86987,     0.87087,     0.87187,     0.87287,     0.87387,     0.87487,     0.87588,     0.87688,     0.87788,     0.87888,     0.87988,     0.88088,     0.88188,     0.88288,     0.88388,     0.88488,     0.88589,     0.88689,     0.88789,\n",
              "           0.88889,     0.88989,     0.89089,     0.89189,     0.89289,     0.89389,     0.89489,      0.8959,      0.8969,      0.8979,      0.8989,      0.8999,      0.9009,      0.9019,      0.9029,      0.9039,      0.9049,     0.90591,     0.90691,     0.90791,     0.90891,     0.90991,     0.91091,     0.91191,\n",
              "           0.91291,     0.91391,     0.91491,     0.91592,     0.91692,     0.91792,     0.91892,     0.91992,     0.92092,     0.92192,     0.92292,     0.92392,     0.92492,     0.92593,     0.92693,     0.92793,     0.92893,     0.92993,     0.93093,     0.93193,     0.93293,     0.93393,     0.93493,     0.93594,\n",
              "           0.93694,     0.93794,     0.93894,     0.93994,     0.94094,     0.94194,     0.94294,     0.94394,     0.94494,     0.94595,     0.94695,     0.94795,     0.94895,     0.94995,     0.95095,     0.95195,     0.95295,     0.95395,     0.95495,     0.95596,     0.95696,     0.95796,     0.95896,     0.95996,\n",
              "           0.96096,     0.96196,     0.96296,     0.96396,     0.96496,     0.96597,     0.96697,     0.96797,     0.96897,     0.96997,     0.97097,     0.97197,     0.97297,     0.97397,     0.97497,     0.97598,     0.97698,     0.97798,     0.97898,     0.97998,     0.98098,     0.98198,     0.98298,     0.98398,\n",
              "           0.98498,     0.98599,     0.98699,     0.98799,     0.98899,     0.98999,     0.99099,     0.99199,     0.99299,     0.99399,     0.99499,       0.996,       0.997,       0.998,       0.999,           1]), array([[    0.41496,     0.41496,     0.51875,     0.57538,     0.61904,     0.64731,     0.67043,     0.69076,     0.70566,     0.71881,     0.72603,     0.73436,     0.74576,     0.75171,     0.75918,     0.76544,     0.77649,     0.78777,       0.792,     0.79522,     0.79993,      0.8043,     0.80691,\n",
              "             0.8081,     0.81495,     0.81883,     0.82045,     0.82462,     0.83019,     0.83213,      0.8358,     0.83994,     0.84209,     0.84701,     0.84869,     0.84954,     0.85189,     0.85316,     0.85479,     0.85751,     0.85859,     0.86179,     0.86358,     0.86443,     0.86491,     0.86714,\n",
              "            0.87034,     0.87149,     0.87249,      0.8728,     0.87311,     0.87393,     0.87441,     0.87544,     0.87655,      0.8774,     0.87793,     0.87827,     0.87855,     0.87768,     0.87786,     0.87823,     0.87944,     0.88095,     0.88147,     0.88209,      0.8834,     0.88492,     0.88758,\n",
              "            0.88797,     0.88854,     0.88957,     0.89057,     0.89162,     0.89253,     0.89332,     0.89365,     0.89399,     0.89457,     0.89563,     0.89658,     0.89771,     0.89873,      0.8996,     0.89952,     0.90006,     0.90056,      0.9015,      0.9019,     0.90229,     0.90331,     0.90345,\n",
              "             0.9036,     0.90375,     0.90389,     0.90405,      0.9044,     0.90475,     0.90501,     0.90521,     0.90541,     0.90561,     0.90571,     0.90539,     0.90507,     0.90475,     0.90556,     0.90589,      0.9062,     0.90655,     0.90713,     0.90758,     0.90796,     0.90812,     0.90782,\n",
              "            0.90752,     0.90722,     0.90732,     0.90752,     0.90772,     0.90792,     0.90903,     0.90946,     0.90984,     0.91004,     0.91025,     0.91046,     0.91067,     0.91087,     0.91107,     0.91127,     0.91147,     0.91192,     0.91358,     0.91491,      0.9154,     0.91571,     0.91694,\n",
              "            0.91743,     0.91787,     0.91814,     0.91842,     0.91869,     0.91988,      0.9205,     0.92072,     0.92094,     0.92116,     0.92138,     0.92121,     0.92096,     0.92071,     0.92046,     0.92042,     0.92053,     0.92064,     0.92075,     0.92086,     0.92097,     0.92108,     0.92119,\n",
              "            0.92128,     0.92135,     0.92141,     0.92147,     0.92153,     0.92159,     0.92165,     0.92171,     0.92178,     0.92184,      0.9219,     0.92196,     0.92202,     0.92208,     0.92215,     0.92231,     0.92254,     0.92276,     0.92299,     0.92332,     0.92371,     0.92408,     0.92439,\n",
              "             0.9247,     0.92521,      0.9259,      0.9262,      0.9265,     0.92697,     0.92805,     0.92879,     0.92921,     0.93038,     0.92995,     0.92951,      0.9295,     0.92973,     0.92996,     0.93019,     0.93124,     0.93137,     0.93151,     0.93164,     0.93177,     0.93191,     0.93204,\n",
              "            0.93215,     0.93222,     0.93228,     0.93234,      0.9324,     0.93246,     0.93252,     0.93259,     0.93265,     0.93271,     0.93277,     0.93283,     0.93289,     0.93295,     0.93302,     0.93309,     0.93325,      0.9334,     0.93355,     0.93371,     0.93386,       0.934,     0.93405,\n",
              "             0.9341,     0.93415,      0.9342,     0.93425,      0.9343,     0.93435,      0.9344,     0.93445,      0.9345,     0.93455,      0.9346,     0.93465,      0.9347,     0.93475,      0.9348,     0.93485,      0.9349,     0.93491,     0.93483,     0.93475,     0.93468,      0.9346,     0.93452,\n",
              "            0.93444,     0.93436,     0.93428,      0.9342,     0.93412,     0.93404,     0.93397,     0.93389,       0.934,     0.93418,     0.93435,     0.93452,      0.9347,     0.93484,     0.93494,     0.93504,     0.93513,     0.93523,     0.93532,     0.93542,     0.93552,     0.93561,     0.93571,\n",
              "            0.93592,      0.9362,     0.93647,      0.9367,      0.9368,     0.93689,     0.93698,     0.93707,     0.93716,     0.93726,     0.93735,     0.93744,     0.93753,     0.93762,     0.93857,      0.9384,     0.93823,     0.93806,     0.93789,     0.93773,     0.93756,     0.93652,     0.93656,\n",
              "            0.93671,     0.93685,     0.93699,     0.93714,     0.93728,     0.93736,     0.93731,     0.93726,     0.93722,     0.93717,     0.93712,     0.93708,     0.93703,     0.93698,     0.93694,     0.93689,     0.93684,      0.9368,     0.93675,      0.9367,     0.93665,     0.93661,     0.93656,\n",
              "            0.93651,     0.93647,     0.93642,     0.93637,     0.93633,     0.93568,     0.93525,      0.9353,     0.93534,     0.93538,     0.93543,     0.93547,     0.93551,     0.93555,      0.9356,     0.93564,     0.93568,     0.93573,     0.93577,     0.93581,     0.93586,      0.9359,     0.93594,\n",
              "            0.93599,     0.93603,     0.93607,     0.93612,     0.93616,     0.93612,     0.93605,     0.93597,      0.9359,     0.93583,     0.93576,     0.93569,     0.93562,     0.93555,     0.93548,      0.9354,     0.93533,     0.93526,     0.93519,     0.93512,     0.93511,     0.93515,     0.93518,\n",
              "            0.93522,     0.93526,     0.93529,     0.93533,     0.93536,      0.9354,     0.93543,     0.93547,     0.93551,     0.93554,     0.93558,     0.93561,     0.93565,     0.93568,     0.93572,     0.93576,     0.93579,     0.93583,     0.93586,      0.9359,     0.93593,     0.93597,     0.93601,\n",
              "            0.93605,     0.93638,      0.9367,     0.93713,      0.9379,     0.93777,     0.93764,     0.93752,     0.93739,     0.93726,     0.93714,     0.93701,     0.93688,     0.93667,     0.93643,      0.9362,     0.93597,     0.93573,     0.93551,     0.93529,     0.93507,     0.93484,     0.93476,\n",
              "            0.93497,     0.93517,     0.93538,     0.93559,     0.93569,     0.93575,     0.93582,     0.93588,     0.93594,       0.936,     0.93607,     0.93613,     0.93619,     0.93625,     0.93631,     0.93638,     0.93644,      0.9365,     0.93656,     0.93667,     0.93688,     0.93709,     0.93729,\n",
              "             0.9375,     0.93752,     0.93746,     0.93739,     0.93733,     0.93727,     0.93721,     0.93714,     0.93708,     0.93702,     0.93695,     0.93689,     0.93683,     0.93677,      0.9367,     0.93664,     0.93658,     0.93651,     0.93748,     0.93759,      0.9377,     0.93781,     0.93792,\n",
              "            0.93803,     0.93814,     0.93824,     0.93835,     0.93847,      0.9386,     0.93872,     0.93884,     0.93897,     0.93909,     0.93921,     0.93934,     0.93938,     0.93939,     0.93941,     0.93943,     0.93945,     0.93947,     0.93948,      0.9395,     0.93952,     0.93954,     0.93955,\n",
              "            0.93957,     0.93959,     0.93961,     0.93962,     0.93964,     0.93966,     0.93968,      0.9397,     0.93971,     0.93973,     0.93975,     0.93977,     0.93978,      0.9398,     0.93982,     0.93984,     0.93985,     0.93987,     0.93989,     0.93991,     0.93993,     0.93994,     0.93996,\n",
              "            0.93998,        0.94,     0.94001,     0.94003,     0.94005,     0.94007,     0.94008,      0.9401,     0.94012,     0.94014,     0.94016,     0.94017,     0.94019,     0.94021,     0.94023,     0.94024,     0.94026,     0.94028,      0.9403,     0.94031,     0.94036,     0.94052,     0.94069,\n",
              "            0.94085,     0.94102,     0.94118,     0.94132,     0.94138,     0.94144,      0.9415,     0.94157,     0.94163,     0.94169,     0.94175,     0.94181,     0.94188,     0.94194,       0.942,     0.94206,     0.94212,     0.94219,     0.94225,     0.94216,       0.942,     0.94184,     0.94168,\n",
              "            0.94152,     0.94136,      0.9412,      0.9411,     0.94101,     0.94092,     0.94083,     0.94074,     0.94065,     0.94056,     0.94047,     0.94038,     0.94029,      0.9402,     0.94011,     0.94005,     0.94001,     0.93996,     0.93992,     0.93988,     0.93983,     0.93979,     0.93974,\n",
              "             0.9397,     0.93966,     0.93961,     0.93957,     0.93952,     0.93948,     0.93944,     0.93939,     0.93935,      0.9393,     0.93926,     0.93922,     0.93917,     0.93913,     0.93908,     0.93904,       0.939,     0.93904,      0.9391,     0.93916,     0.93922,     0.93929,     0.93935,\n",
              "            0.93941,     0.93947,     0.93953,      0.9396,     0.93966,     0.93972,     0.93978,     0.93985,     0.93991,     0.93989,     0.93951,     0.93914,     0.93892,     0.93917,     0.93942,     0.93967,      0.9399,     0.94008,     0.94026,     0.94044,     0.94063,     0.94081,     0.94074,\n",
              "            0.94067,      0.9406,     0.94053,     0.94046,     0.94039,     0.94032,     0.94025,     0.94018,     0.94011,     0.94003,     0.93996,     0.93989,     0.93982,     0.93975,     0.93959,     0.93926,     0.93894,     0.93862,      0.9388,       0.939,      0.9392,      0.9394,      0.9396,\n",
              "            0.93974,     0.93988,     0.94003,     0.94017,     0.94031,     0.94046,      0.9406,     0.94076,     0.94091,     0.94107,     0.94122,     0.94138,     0.94153,     0.94165,     0.94176,     0.94187,     0.94198,      0.9421,     0.94221,     0.94232,     0.94243,     0.94132,     0.94056,\n",
              "            0.94009,     0.93977,     0.93944,     0.93916,       0.939,     0.93884,     0.93867,     0.93851,     0.93835,     0.93818,     0.93813,     0.93821,     0.93829,     0.93837,     0.93845,     0.93853,     0.93861,     0.93869,     0.93877,     0.93885,     0.93893,     0.93901,      0.9391,\n",
              "             0.9392,      0.9393,      0.9394,      0.9395,     0.93961,     0.93971,     0.93981,     0.93991,     0.94001,     0.94026,     0.94066,     0.94107,     0.94148,     0.94188,     0.94213,     0.94226,      0.9424,     0.94253,     0.94267,     0.94281,     0.94294,     0.94271,     0.94195,\n",
              "            0.94202,      0.9421,     0.94217,     0.94225,     0.94232,      0.9424,     0.94247,     0.94255,     0.94263,      0.9427,     0.94278,     0.94285,     0.94286,     0.94248,      0.9421,     0.94155,     0.94092,     0.94164,     0.94148,     0.94133,     0.94117,     0.94102,     0.94087,\n",
              "            0.94071,     0.94056,     0.93983,     0.93992,     0.94032,     0.94011,      0.9399,     0.93969,     0.93948,     0.93928,     0.93915,     0.93902,     0.93889,     0.93876,     0.93864,     0.93851,     0.93838,     0.93825,     0.93831,     0.93872,     0.93914,     0.93897,     0.93876,\n",
              "            0.93855,     0.93834,     0.93813,     0.93778,     0.93731,     0.93692,     0.93709,     0.93726,     0.93743,      0.9376,     0.93778,     0.93793,     0.93803,     0.93812,     0.93822,     0.93832,     0.93842,     0.93852,     0.93861,     0.93871,     0.93881,      0.9389,     0.93831,\n",
              "             0.9378,     0.93832,     0.93877,     0.93869,      0.9386,     0.93852,     0.93844,     0.93836,     0.93828,      0.9382,     0.93812,     0.93804,     0.93796,     0.93788,      0.9378,     0.93772,     0.93764,     0.93729,     0.93708,     0.93687,     0.93665,     0.93644,     0.93667,\n",
              "            0.93719,     0.93685,     0.93618,     0.93596,     0.93575,     0.93553,     0.93532,      0.9351,     0.93515,     0.93525,     0.93534,     0.93544,     0.93554,     0.93564,     0.93574,     0.93584,     0.93594,     0.93604,     0.93573,     0.93514,     0.93511,     0.93541,     0.93571,\n",
              "            0.93543,     0.93459,     0.93433,     0.93406,      0.9338,     0.93342,     0.93283,     0.93239,     0.93221,     0.93202,     0.93184,     0.93166,     0.93147,     0.93129,     0.93116,     0.93103,     0.93089,     0.93076,     0.93063,     0.93049,     0.93036,     0.93023,     0.93003,\n",
              "            0.92963,     0.92923,      0.9289,     0.92873,     0.92856,     0.92839,     0.92822,     0.92805,     0.92787,     0.92762,     0.92727,     0.92693,     0.92639,     0.92519,     0.92479,     0.92439,     0.92481,     0.92273,     0.92192,     0.92146,     0.92111,     0.92076,     0.92043,\n",
              "            0.92012,     0.91982,     0.91951,      0.9188,     0.91581,     0.91522,     0.91514,     0.91433,     0.91383,     0.91334,     0.91183,       0.911,     0.90868,     0.90799,     0.90758,     0.90716,     0.90488,     0.90272,     0.90279,     0.90087,     0.90024,     0.89973,     0.89891,\n",
              "            0.89672,     0.89621,     0.89569,     0.89378,     0.89284,     0.89219,     0.89162,      0.8911,     0.89029,     0.88854,     0.88669,     0.88582,     0.88143,     0.87903,      0.8785,     0.87797,     0.87715,     0.87562,     0.87282,     0.87092,     0.86786,     0.86651,     0.86515,\n",
              "            0.86269,     0.86036,     0.85762,     0.85215,     0.84937,     0.84245,     0.83777,     0.83117,     0.82545,     0.82254,     0.81352,     0.80941,     0.80495,     0.79748,     0.78841,     0.78531,     0.78219,     0.77598,     0.77126,      0.7665,       0.757,     0.75049,     0.74719,\n",
              "            0.73898,     0.73087,      0.7275,     0.72215,     0.71361,     0.70323,     0.69443,     0.69043,     0.68186,     0.66731,     0.65987,      0.6486,     0.63713,     0.62547,     0.60765,     0.59751,     0.57687,     0.57049,     0.55765,     0.54893,     0.53791,     0.51999,     0.49699,\n",
              "            0.48516,     0.46349,     0.45112,     0.41823,     0.36212,     0.31368,     0.28072,      0.2316,     0.20416,     0.17018,     0.12047,    0.083222,    0.048393,    0.036368,    0.012071,           0,           0,           0,           0,           0,           0,           0,           0,\n",
              "                  0,           0,           0,           0,           0,           0,           0,           0,           0,           0,           0]]), 'Confidence', 'F1'], [array([          0,    0.001001,    0.002002,    0.003003,    0.004004,    0.005005,    0.006006,    0.007007,    0.008008,    0.009009,     0.01001,    0.011011,    0.012012,    0.013013,    0.014014,    0.015015,    0.016016,    0.017017,    0.018018,    0.019019,     0.02002,    0.021021,    0.022022,    0.023023,\n",
              "          0.024024,    0.025025,    0.026026,    0.027027,    0.028028,    0.029029,     0.03003,    0.031031,    0.032032,    0.033033,    0.034034,    0.035035,    0.036036,    0.037037,    0.038038,    0.039039,     0.04004,    0.041041,    0.042042,    0.043043,    0.044044,    0.045045,    0.046046,    0.047047,\n",
              "          0.048048,    0.049049,     0.05005,    0.051051,    0.052052,    0.053053,    0.054054,    0.055055,    0.056056,    0.057057,    0.058058,    0.059059,     0.06006,    0.061061,    0.062062,    0.063063,    0.064064,    0.065065,    0.066066,    0.067067,    0.068068,    0.069069,     0.07007,    0.071071,\n",
              "          0.072072,    0.073073,    0.074074,    0.075075,    0.076076,    0.077077,    0.078078,    0.079079,     0.08008,    0.081081,    0.082082,    0.083083,    0.084084,    0.085085,    0.086086,    0.087087,    0.088088,    0.089089,     0.09009,    0.091091,    0.092092,    0.093093,    0.094094,    0.095095,\n",
              "          0.096096,    0.097097,    0.098098,    0.099099,      0.1001,      0.1011,      0.1021,      0.1031,      0.1041,     0.10511,     0.10611,     0.10711,     0.10811,     0.10911,     0.11011,     0.11111,     0.11211,     0.11311,     0.11411,     0.11512,     0.11612,     0.11712,     0.11812,     0.11912,\n",
              "           0.12012,     0.12112,     0.12212,     0.12312,     0.12412,     0.12513,     0.12613,     0.12713,     0.12813,     0.12913,     0.13013,     0.13113,     0.13213,     0.13313,     0.13413,     0.13514,     0.13614,     0.13714,     0.13814,     0.13914,     0.14014,     0.14114,     0.14214,     0.14314,\n",
              "           0.14414,     0.14515,     0.14615,     0.14715,     0.14815,     0.14915,     0.15015,     0.15115,     0.15215,     0.15315,     0.15415,     0.15516,     0.15616,     0.15716,     0.15816,     0.15916,     0.16016,     0.16116,     0.16216,     0.16316,     0.16416,     0.16517,     0.16617,     0.16717,\n",
              "           0.16817,     0.16917,     0.17017,     0.17117,     0.17217,     0.17317,     0.17417,     0.17518,     0.17618,     0.17718,     0.17818,     0.17918,     0.18018,     0.18118,     0.18218,     0.18318,     0.18418,     0.18519,     0.18619,     0.18719,     0.18819,     0.18919,     0.19019,     0.19119,\n",
              "           0.19219,     0.19319,     0.19419,      0.1952,      0.1962,      0.1972,      0.1982,      0.1992,      0.2002,      0.2012,      0.2022,      0.2032,      0.2042,     0.20521,     0.20621,     0.20721,     0.20821,     0.20921,     0.21021,     0.21121,     0.21221,     0.21321,     0.21421,     0.21522,\n",
              "           0.21622,     0.21722,     0.21822,     0.21922,     0.22022,     0.22122,     0.22222,     0.22322,     0.22422,     0.22523,     0.22623,     0.22723,     0.22823,     0.22923,     0.23023,     0.23123,     0.23223,     0.23323,     0.23423,     0.23524,     0.23624,     0.23724,     0.23824,     0.23924,\n",
              "           0.24024,     0.24124,     0.24224,     0.24324,     0.24424,     0.24525,     0.24625,     0.24725,     0.24825,     0.24925,     0.25025,     0.25125,     0.25225,     0.25325,     0.25425,     0.25526,     0.25626,     0.25726,     0.25826,     0.25926,     0.26026,     0.26126,     0.26226,     0.26326,\n",
              "           0.26426,     0.26527,     0.26627,     0.26727,     0.26827,     0.26927,     0.27027,     0.27127,     0.27227,     0.27327,     0.27427,     0.27528,     0.27628,     0.27728,     0.27828,     0.27928,     0.28028,     0.28128,     0.28228,     0.28328,     0.28428,     0.28529,     0.28629,     0.28729,\n",
              "           0.28829,     0.28929,     0.29029,     0.29129,     0.29229,     0.29329,     0.29429,      0.2953,      0.2963,      0.2973,      0.2983,      0.2993,      0.3003,      0.3013,      0.3023,      0.3033,      0.3043,     0.30531,     0.30631,     0.30731,     0.30831,     0.30931,     0.31031,     0.31131,\n",
              "           0.31231,     0.31331,     0.31431,     0.31532,     0.31632,     0.31732,     0.31832,     0.31932,     0.32032,     0.32132,     0.32232,     0.32332,     0.32432,     0.32533,     0.32633,     0.32733,     0.32833,     0.32933,     0.33033,     0.33133,     0.33233,     0.33333,     0.33433,     0.33534,\n",
              "           0.33634,     0.33734,     0.33834,     0.33934,     0.34034,     0.34134,     0.34234,     0.34334,     0.34434,     0.34535,     0.34635,     0.34735,     0.34835,     0.34935,     0.35035,     0.35135,     0.35235,     0.35335,     0.35435,     0.35536,     0.35636,     0.35736,     0.35836,     0.35936,\n",
              "           0.36036,     0.36136,     0.36236,     0.36336,     0.36436,     0.36537,     0.36637,     0.36737,     0.36837,     0.36937,     0.37037,     0.37137,     0.37237,     0.37337,     0.37437,     0.37538,     0.37638,     0.37738,     0.37838,     0.37938,     0.38038,     0.38138,     0.38238,     0.38338,\n",
              "           0.38438,     0.38539,     0.38639,     0.38739,     0.38839,     0.38939,     0.39039,     0.39139,     0.39239,     0.39339,     0.39439,      0.3954,      0.3964,      0.3974,      0.3984,      0.3994,      0.4004,      0.4014,      0.4024,      0.4034,      0.4044,     0.40541,     0.40641,     0.40741,\n",
              "           0.40841,     0.40941,     0.41041,     0.41141,     0.41241,     0.41341,     0.41441,     0.41542,     0.41642,     0.41742,     0.41842,     0.41942,     0.42042,     0.42142,     0.42242,     0.42342,     0.42442,     0.42543,     0.42643,     0.42743,     0.42843,     0.42943,     0.43043,     0.43143,\n",
              "           0.43243,     0.43343,     0.43443,     0.43544,     0.43644,     0.43744,     0.43844,     0.43944,     0.44044,     0.44144,     0.44244,     0.44344,     0.44444,     0.44545,     0.44645,     0.44745,     0.44845,     0.44945,     0.45045,     0.45145,     0.45245,     0.45345,     0.45445,     0.45546,\n",
              "           0.45646,     0.45746,     0.45846,     0.45946,     0.46046,     0.46146,     0.46246,     0.46346,     0.46446,     0.46547,     0.46647,     0.46747,     0.46847,     0.46947,     0.47047,     0.47147,     0.47247,     0.47347,     0.47447,     0.47548,     0.47648,     0.47748,     0.47848,     0.47948,\n",
              "           0.48048,     0.48148,     0.48248,     0.48348,     0.48448,     0.48549,     0.48649,     0.48749,     0.48849,     0.48949,     0.49049,     0.49149,     0.49249,     0.49349,     0.49449,      0.4955,      0.4965,      0.4975,      0.4985,      0.4995,      0.5005,      0.5015,      0.5025,      0.5035,\n",
              "            0.5045,     0.50551,     0.50651,     0.50751,     0.50851,     0.50951,     0.51051,     0.51151,     0.51251,     0.51351,     0.51451,     0.51552,     0.51652,     0.51752,     0.51852,     0.51952,     0.52052,     0.52152,     0.52252,     0.52352,     0.52452,     0.52553,     0.52653,     0.52753,\n",
              "           0.52853,     0.52953,     0.53053,     0.53153,     0.53253,     0.53353,     0.53453,     0.53554,     0.53654,     0.53754,     0.53854,     0.53954,     0.54054,     0.54154,     0.54254,     0.54354,     0.54454,     0.54555,     0.54655,     0.54755,     0.54855,     0.54955,     0.55055,     0.55155,\n",
              "           0.55255,     0.55355,     0.55455,     0.55556,     0.55656,     0.55756,     0.55856,     0.55956,     0.56056,     0.56156,     0.56256,     0.56356,     0.56456,     0.56557,     0.56657,     0.56757,     0.56857,     0.56957,     0.57057,     0.57157,     0.57257,     0.57357,     0.57457,     0.57558,\n",
              "           0.57658,     0.57758,     0.57858,     0.57958,     0.58058,     0.58158,     0.58258,     0.58358,     0.58458,     0.58559,     0.58659,     0.58759,     0.58859,     0.58959,     0.59059,     0.59159,     0.59259,     0.59359,     0.59459,      0.5956,      0.5966,      0.5976,      0.5986,      0.5996,\n",
              "            0.6006,      0.6016,      0.6026,      0.6036,      0.6046,     0.60561,     0.60661,     0.60761,     0.60861,     0.60961,     0.61061,     0.61161,     0.61261,     0.61361,     0.61461,     0.61562,     0.61662,     0.61762,     0.61862,     0.61962,     0.62062,     0.62162,     0.62262,     0.62362,\n",
              "           0.62462,     0.62563,     0.62663,     0.62763,     0.62863,     0.62963,     0.63063,     0.63163,     0.63263,     0.63363,     0.63463,     0.63564,     0.63664,     0.63764,     0.63864,     0.63964,     0.64064,     0.64164,     0.64264,     0.64364,     0.64464,     0.64565,     0.64665,     0.64765,\n",
              "           0.64865,     0.64965,     0.65065,     0.65165,     0.65265,     0.65365,     0.65465,     0.65566,     0.65666,     0.65766,     0.65866,     0.65966,     0.66066,     0.66166,     0.66266,     0.66366,     0.66466,     0.66567,     0.66667,     0.66767,     0.66867,     0.66967,     0.67067,     0.67167,\n",
              "           0.67267,     0.67367,     0.67467,     0.67568,     0.67668,     0.67768,     0.67868,     0.67968,     0.68068,     0.68168,     0.68268,     0.68368,     0.68468,     0.68569,     0.68669,     0.68769,     0.68869,     0.68969,     0.69069,     0.69169,     0.69269,     0.69369,     0.69469,      0.6957,\n",
              "            0.6967,      0.6977,      0.6987,      0.6997,      0.7007,      0.7017,      0.7027,      0.7037,      0.7047,     0.70571,     0.70671,     0.70771,     0.70871,     0.70971,     0.71071,     0.71171,     0.71271,     0.71371,     0.71471,     0.71572,     0.71672,     0.71772,     0.71872,     0.71972,\n",
              "           0.72072,     0.72172,     0.72272,     0.72372,     0.72472,     0.72573,     0.72673,     0.72773,     0.72873,     0.72973,     0.73073,     0.73173,     0.73273,     0.73373,     0.73473,     0.73574,     0.73674,     0.73774,     0.73874,     0.73974,     0.74074,     0.74174,     0.74274,     0.74374,\n",
              "           0.74474,     0.74575,     0.74675,     0.74775,     0.74875,     0.74975,     0.75075,     0.75175,     0.75275,     0.75375,     0.75475,     0.75576,     0.75676,     0.75776,     0.75876,     0.75976,     0.76076,     0.76176,     0.76276,     0.76376,     0.76476,     0.76577,     0.76677,     0.76777,\n",
              "           0.76877,     0.76977,     0.77077,     0.77177,     0.77277,     0.77377,     0.77477,     0.77578,     0.77678,     0.77778,     0.77878,     0.77978,     0.78078,     0.78178,     0.78278,     0.78378,     0.78478,     0.78579,     0.78679,     0.78779,     0.78879,     0.78979,     0.79079,     0.79179,\n",
              "           0.79279,     0.79379,     0.79479,      0.7958,      0.7968,      0.7978,      0.7988,      0.7998,      0.8008,      0.8018,      0.8028,      0.8038,      0.8048,     0.80581,     0.80681,     0.80781,     0.80881,     0.80981,     0.81081,     0.81181,     0.81281,     0.81381,     0.81481,     0.81582,\n",
              "           0.81682,     0.81782,     0.81882,     0.81982,     0.82082,     0.82182,     0.82282,     0.82382,     0.82482,     0.82583,     0.82683,     0.82783,     0.82883,     0.82983,     0.83083,     0.83183,     0.83283,     0.83383,     0.83483,     0.83584,     0.83684,     0.83784,     0.83884,     0.83984,\n",
              "           0.84084,     0.84184,     0.84284,     0.84384,     0.84484,     0.84585,     0.84685,     0.84785,     0.84885,     0.84985,     0.85085,     0.85185,     0.85285,     0.85385,     0.85485,     0.85586,     0.85686,     0.85786,     0.85886,     0.85986,     0.86086,     0.86186,     0.86286,     0.86386,\n",
              "           0.86486,     0.86587,     0.86687,     0.86787,     0.86887,     0.86987,     0.87087,     0.87187,     0.87287,     0.87387,     0.87487,     0.87588,     0.87688,     0.87788,     0.87888,     0.87988,     0.88088,     0.88188,     0.88288,     0.88388,     0.88488,     0.88589,     0.88689,     0.88789,\n",
              "           0.88889,     0.88989,     0.89089,     0.89189,     0.89289,     0.89389,     0.89489,      0.8959,      0.8969,      0.8979,      0.8989,      0.8999,      0.9009,      0.9019,      0.9029,      0.9039,      0.9049,     0.90591,     0.90691,     0.90791,     0.90891,     0.90991,     0.91091,     0.91191,\n",
              "           0.91291,     0.91391,     0.91491,     0.91592,     0.91692,     0.91792,     0.91892,     0.91992,     0.92092,     0.92192,     0.92292,     0.92392,     0.92492,     0.92593,     0.92693,     0.92793,     0.92893,     0.92993,     0.93093,     0.93193,     0.93293,     0.93393,     0.93493,     0.93594,\n",
              "           0.93694,     0.93794,     0.93894,     0.93994,     0.94094,     0.94194,     0.94294,     0.94394,     0.94494,     0.94595,     0.94695,     0.94795,     0.94895,     0.94995,     0.95095,     0.95195,     0.95295,     0.95395,     0.95495,     0.95596,     0.95696,     0.95796,     0.95896,     0.95996,\n",
              "           0.96096,     0.96196,     0.96296,     0.96396,     0.96496,     0.96597,     0.96697,     0.96797,     0.96897,     0.96997,     0.97097,     0.97197,     0.97297,     0.97397,     0.97497,     0.97598,     0.97698,     0.97798,     0.97898,     0.97998,     0.98098,     0.98198,     0.98298,     0.98398,\n",
              "           0.98498,     0.98599,     0.98699,     0.98799,     0.98899,     0.98999,     0.99099,     0.99199,     0.99299,     0.99399,     0.99499,       0.996,       0.997,       0.998,       0.999,           1]), array([[     0.2631,      0.2631,     0.35254,     0.40698,     0.45209,     0.48289,     0.50909,     0.53291,     0.55086,     0.56705,     0.57609,     0.58664,     0.60134,     0.60911,     0.61898,     0.62735,     0.64322,     0.65884,     0.66478,     0.66934,     0.67603,      0.6823,     0.68606,\n",
              "            0.68779,     0.69777,     0.70348,     0.70588,     0.71208,     0.72043,     0.72335,     0.72891,     0.73523,     0.73854,     0.74613,     0.74874,     0.75006,     0.75374,     0.75573,     0.75954,     0.76385,     0.76556,     0.77066,     0.77352,     0.77489,     0.77566,     0.77926,\n",
              "            0.78443,     0.78631,     0.78795,     0.78845,     0.78895,      0.7903,     0.79108,     0.79276,     0.79596,     0.79736,     0.79823,     0.79879,     0.79931,     0.79903,     0.79951,     0.80011,     0.80212,     0.80464,     0.80551,     0.80655,     0.80874,     0.81129,     0.81577,\n",
              "            0.81643,      0.8174,     0.81914,     0.82083,     0.82263,     0.82418,     0.82552,     0.82609,     0.82667,     0.82767,     0.82948,      0.8311,     0.83304,     0.83481,      0.8363,     0.83701,     0.83863,     0.83951,     0.84269,     0.84338,     0.84407,     0.84585,     0.84611,\n",
              "            0.84637,     0.84662,     0.84688,     0.84716,     0.84777,     0.84838,     0.84885,     0.84919,     0.84954,     0.84989,     0.85017,     0.85008,        0.85,     0.84992,     0.85139,     0.85198,     0.85253,     0.85316,     0.85418,     0.85497,     0.85565,     0.85608,       0.856,\n",
              "            0.85593,     0.85586,     0.85612,     0.85648,     0.85685,     0.85721,     0.85918,     0.85994,     0.86062,     0.86099,     0.86137,     0.86174,     0.86211,     0.86247,     0.86283,     0.86319,     0.86355,     0.86436,     0.86735,     0.86975,     0.87062,      0.8712,     0.87342,\n",
              "            0.87431,     0.87511,     0.87561,      0.8761,      0.8766,     0.87878,      0.8799,     0.88032,     0.88071,     0.88111,     0.88151,     0.88154,     0.88148,     0.88143,     0.88138,     0.88147,     0.88167,     0.88188,     0.88208,     0.88228,     0.88249,     0.88269,      0.8829,\n",
              "            0.88306,     0.88318,     0.88329,      0.8834,     0.88352,     0.88363,     0.88374,     0.88386,     0.88397,     0.88408,     0.88419,     0.88431,     0.88442,     0.88453,     0.88465,     0.88495,     0.88537,     0.88579,      0.8862,     0.88681,     0.88754,     0.88822,     0.88879,\n",
              "            0.88937,     0.89031,     0.89158,     0.89214,      0.8927,     0.89358,     0.89558,     0.89696,     0.89774,     0.89999,     0.89991,     0.89984,     0.90008,     0.90051,     0.90095,     0.90138,     0.90335,      0.9036,     0.90385,     0.90411,     0.90436,     0.90461,     0.90486,\n",
              "            0.90507,     0.90519,     0.90531,     0.90542,     0.90554,     0.90565,     0.90577,     0.90589,       0.906,     0.90612,     0.90624,     0.90635,     0.90647,     0.90658,      0.9067,     0.90685,     0.90714,     0.90743,     0.90772,       0.908,     0.90829,     0.90857,     0.90866,\n",
              "            0.90876,     0.90885,     0.90894,     0.90904,     0.90913,     0.90923,     0.90932,     0.90942,     0.90951,     0.90961,      0.9097,     0.90979,     0.90989,     0.90998,     0.91008,     0.91017,     0.91027,     0.91033,     0.91031,      0.9103,     0.91029,     0.91028,     0.91026,\n",
              "            0.91025,     0.91024,     0.91022,     0.91021,      0.9102,     0.91019,     0.91017,     0.91016,     0.91041,     0.91074,     0.91107,     0.91141,     0.91174,     0.91201,     0.91219,     0.91238,     0.91256,     0.91274,     0.91293,     0.91311,     0.91329,     0.91348,     0.91366,\n",
              "            0.91406,     0.91459,     0.91511,     0.91556,     0.91574,     0.91591,     0.91609,     0.91626,     0.91644,     0.91662,     0.91679,     0.91697,     0.91714,     0.91732,     0.91913,     0.91911,     0.91908,     0.91906,     0.91903,     0.91901,     0.91898,     0.91883,     0.91907,\n",
              "            0.91935,     0.91962,      0.9199,     0.92018,     0.92045,     0.92063,     0.92063,     0.92062,     0.92061,      0.9206,      0.9206,     0.92059,     0.92058,     0.92058,     0.92057,     0.92056,     0.92056,     0.92055,     0.92054,     0.92054,     0.92053,     0.92052,     0.92052,\n",
              "            0.92051,      0.9205,     0.92049,     0.92049,     0.92048,     0.92039,     0.92038,     0.92046,     0.92054,     0.92063,     0.92071,     0.92079,     0.92088,     0.92096,     0.92105,     0.92113,     0.92121,      0.9213,     0.92138,     0.92146,     0.92155,     0.92163,     0.92172,\n",
              "             0.9218,     0.92188,     0.92197,     0.92205,     0.92213,     0.92215,     0.92214,     0.92213,     0.92212,     0.92211,      0.9221,     0.92209,     0.92208,     0.92207,     0.92206,     0.92205,     0.92203,     0.92202,     0.92201,       0.922,     0.92204,     0.92211,     0.92218,\n",
              "            0.92225,     0.92232,     0.92239,     0.92246,     0.92253,      0.9226,     0.92267,     0.92274,     0.92281,     0.92288,     0.92295,     0.92302,     0.92309,     0.92316,     0.92322,     0.92329,     0.92336,     0.92343,      0.9235,     0.92357,     0.92364,     0.92371,     0.92378,\n",
              "            0.92387,      0.9245,     0.92514,     0.92598,     0.92756,     0.92754,     0.92752,     0.92751,     0.92749,     0.92747,     0.92746,     0.92744,     0.92742,     0.92739,     0.92736,     0.92733,      0.9273,     0.92727,     0.92724,     0.92721,     0.92718,     0.92715,     0.92726,\n",
              "            0.92766,     0.92807,     0.92848,     0.92888,     0.92909,     0.92921,     0.92934,     0.92946,     0.92958,     0.92971,     0.92983,     0.92995,     0.93007,      0.9302,     0.93032,     0.93044,     0.93057,     0.93069,     0.93081,     0.93103,     0.93144,     0.93185,     0.93226,\n",
              "            0.93266,     0.93278,     0.93278,     0.93277,     0.93276,     0.93275,     0.93275,     0.93274,     0.93273,     0.93272,     0.93271,     0.93271,      0.9327,     0.93269,     0.93268,     0.93267,     0.93267,     0.93266,     0.93464,     0.93486,     0.93508,      0.9353,     0.93551,\n",
              "            0.93573,     0.93595,     0.93617,     0.93639,     0.93662,     0.93687,     0.93712,     0.93736,     0.93761,     0.93785,      0.9381,     0.93835,     0.93843,     0.93846,      0.9385,     0.93853,     0.93857,      0.9386,     0.93864,     0.93867,     0.93871,     0.93874,     0.93878,\n",
              "            0.93882,     0.93885,     0.93889,     0.93892,     0.93896,     0.93899,     0.93903,     0.93906,      0.9391,     0.93913,     0.93917,      0.9392,     0.93924,     0.93927,     0.93931,     0.93935,     0.93938,     0.93942,     0.93945,     0.93949,     0.93952,     0.93956,     0.93959,\n",
              "            0.93963,     0.93966,      0.9397,     0.93973,     0.93977,      0.9398,     0.93984,     0.93988,     0.93991,     0.93995,     0.93998,     0.94002,     0.94005,     0.94009,     0.94012,     0.94016,     0.94019,     0.94023,     0.94026,      0.9403,     0.94038,     0.94071,     0.94104,\n",
              "            0.94138,     0.94171,     0.94204,     0.94231,     0.94243,     0.94256,     0.94268,     0.94281,     0.94293,     0.94305,     0.94318,      0.9433,     0.94343,     0.94355,     0.94368,      0.9438,     0.94393,     0.94405,     0.94418,      0.9442,     0.94419,     0.94417,     0.94415,\n",
              "            0.94414,     0.94412,      0.9441,     0.94409,     0.94408,     0.94407,     0.94406,     0.94405,     0.94404,     0.94403,     0.94402,     0.94402,     0.94401,       0.944,     0.94399,     0.94398,     0.94398,     0.94397,     0.94397,     0.94396,     0.94396,     0.94395,     0.94395,\n",
              "            0.94394,     0.94394,     0.94393,     0.94393,     0.94392,     0.94392,     0.94391,     0.94391,     0.94391,      0.9439,      0.9439,     0.94389,     0.94389,     0.94388,     0.94388,     0.94387,     0.94387,     0.94397,     0.94409,     0.94422,     0.94435,     0.94447,      0.9446,\n",
              "            0.94472,     0.94485,     0.94497,      0.9451,     0.94523,     0.94535,     0.94548,      0.9456,     0.94573,     0.94583,     0.94579,     0.94575,     0.94585,     0.94636,     0.94687,     0.94737,     0.94783,      0.9482,     0.94857,     0.94894,     0.94931,     0.94968,     0.94968,\n",
              "            0.94967,     0.94967,     0.94966,     0.94965,     0.94964,     0.94964,     0.94963,     0.94962,     0.94962,     0.94961,      0.9496,      0.9496,     0.94959,     0.94958,     0.94957,     0.94954,     0.94951,     0.94947,     0.94987,     0.95028,     0.95069,      0.9511,      0.9515,\n",
              "             0.9518,     0.95209,     0.95239,     0.95268,     0.95298,     0.95327,     0.95357,     0.95389,     0.95421,     0.95453,     0.95485,     0.95516,     0.95548,     0.95572,     0.95595,     0.95618,     0.95641,     0.95664,     0.95688,     0.95711,     0.95734,     0.95744,     0.95738,\n",
              "            0.95734,     0.95731,     0.95728,     0.95726,     0.95725,     0.95723,     0.95722,     0.95721,     0.95719,     0.95718,     0.95725,     0.95741,     0.95758,     0.95775,     0.95792,     0.95809,     0.95826,     0.95843,     0.95859,     0.95876,     0.95893,      0.9591,     0.95928,\n",
              "            0.95949,      0.9597,     0.95991,     0.96012,     0.96033,     0.96055,     0.96076,     0.96097,     0.96118,      0.9617,     0.96255,      0.9634,     0.96425,      0.9651,     0.96561,      0.9659,     0.96619,     0.96647,     0.96676,     0.96704,     0.96733,     0.96751,     0.96751,\n",
              "            0.96767,     0.96783,     0.96799,     0.96815,     0.96831,     0.96847,     0.96863,     0.96879,     0.96895,     0.96911,     0.96927,     0.96943,     0.96956,     0.96954,     0.96952,     0.96948,     0.96995,     0.97155,     0.97154,     0.97153,     0.97153,     0.97152,     0.97151,\n",
              "             0.9715,     0.97149,     0.97145,     0.97248,     0.97356,     0.97355,     0.97354,     0.97353,     0.97352,     0.97351,      0.9735,      0.9735,     0.97349,     0.97348,     0.97348,     0.97347,     0.97346,     0.97346,     0.97377,     0.97465,     0.97554,      0.9756,     0.97559,\n",
              "            0.97558,     0.97557,     0.97556,     0.97554,     0.97552,     0.97554,     0.97592,     0.97629,     0.97666,     0.97703,      0.9774,     0.97773,     0.97795,     0.97816,     0.97838,     0.97859,      0.9788,     0.97902,     0.97923,     0.97944,     0.97966,     0.97987,     0.97984,\n",
              "             0.9799,     0.98103,     0.98202,     0.98202,     0.98202,     0.98201,     0.98201,     0.98201,       0.982,       0.982,       0.982,       0.982,     0.98199,     0.98199,     0.98199,     0.98198,     0.98198,     0.98416,     0.98415,     0.98414,     0.98414,     0.98413,     0.98482,\n",
              "            0.98597,     0.98635,     0.98633,     0.98633,     0.98632,     0.98631,     0.98631,      0.9863,     0.98648,      0.9867,     0.98692,     0.98714,     0.98736,     0.98758,     0.98781,     0.98803,     0.98825,     0.98847,     0.98855,     0.98854,     0.98895,     0.98962,     0.99028,\n",
              "             0.9908,     0.99078,     0.99078,     0.99077,     0.99077,     0.99076,     0.99075,     0.99074,     0.99074,     0.99073,     0.99073,     0.99073,     0.99072,     0.99072,     0.99072,     0.99071,     0.99071,     0.99071,     0.99071,      0.9907,      0.9907,      0.9907,      0.9907,\n",
              "            0.99069,     0.99068,     0.99067,     0.99067,     0.99067,     0.99067,     0.99066,     0.99066,     0.99066,     0.99065,     0.99064,     0.99064,     0.99063,     0.99061,      0.9906,     0.99059,     0.99292,     0.99289,     0.99288,     0.99287,     0.99287,     0.99286,     0.99286,\n",
              "            0.99285,     0.99285,     0.99284,     0.99283,     0.99279,     0.99436,     0.99517,     0.99516,     0.99515,     0.99515,     0.99513,     0.99512,      0.9951,      0.9951,     0.99509,     0.99509,     0.99506,     0.99504,     0.99663,      0.9975,      0.9975,      0.9975,     0.99749,\n",
              "            0.99748,     0.99748,     0.99747,     0.99746,     0.99746,     0.99746,     0.99745,     0.99745,     0.99745,     0.99744,     0.99743,     0.99742,      0.9974,     0.99739,     0.99739,     0.99738,     0.99738,     0.99737,     0.99736,     0.99959,           1,           1,           1,\n",
              "                  1,           1,           1,           1,           1,           1,           1,           1,           1,           1,           1,           1,           1,           1,           1,           1,           1,           1,           1,           1,           1,           1,           1,\n",
              "                  1,           1,           1,           1,           1,           1,           1,           1,           1,           1,           1,           1,           1,           1,           1,           1,           1,           1,           1,           1,           1,           1,           1,\n",
              "                  1,           1,           1,           1,           1,           1,           1,           1,           1,           1,           1,           1,           1,           1,           1,           1,           1,           1,           1,           1,           1,           1,           1,\n",
              "                  1,           1,           1,           1,           1,           1,           1,           1,           1,           1,           1]]), 'Confidence', 'Precision'], [array([          0,    0.001001,    0.002002,    0.003003,    0.004004,    0.005005,    0.006006,    0.007007,    0.008008,    0.009009,     0.01001,    0.011011,    0.012012,    0.013013,    0.014014,    0.015015,    0.016016,    0.017017,    0.018018,    0.019019,     0.02002,    0.021021,    0.022022,    0.023023,\n",
              "          0.024024,    0.025025,    0.026026,    0.027027,    0.028028,    0.029029,     0.03003,    0.031031,    0.032032,    0.033033,    0.034034,    0.035035,    0.036036,    0.037037,    0.038038,    0.039039,     0.04004,    0.041041,    0.042042,    0.043043,    0.044044,    0.045045,    0.046046,    0.047047,\n",
              "          0.048048,    0.049049,     0.05005,    0.051051,    0.052052,    0.053053,    0.054054,    0.055055,    0.056056,    0.057057,    0.058058,    0.059059,     0.06006,    0.061061,    0.062062,    0.063063,    0.064064,    0.065065,    0.066066,    0.067067,    0.068068,    0.069069,     0.07007,    0.071071,\n",
              "          0.072072,    0.073073,    0.074074,    0.075075,    0.076076,    0.077077,    0.078078,    0.079079,     0.08008,    0.081081,    0.082082,    0.083083,    0.084084,    0.085085,    0.086086,    0.087087,    0.088088,    0.089089,     0.09009,    0.091091,    0.092092,    0.093093,    0.094094,    0.095095,\n",
              "          0.096096,    0.097097,    0.098098,    0.099099,      0.1001,      0.1011,      0.1021,      0.1031,      0.1041,     0.10511,     0.10611,     0.10711,     0.10811,     0.10911,     0.11011,     0.11111,     0.11211,     0.11311,     0.11411,     0.11512,     0.11612,     0.11712,     0.11812,     0.11912,\n",
              "           0.12012,     0.12112,     0.12212,     0.12312,     0.12412,     0.12513,     0.12613,     0.12713,     0.12813,     0.12913,     0.13013,     0.13113,     0.13213,     0.13313,     0.13413,     0.13514,     0.13614,     0.13714,     0.13814,     0.13914,     0.14014,     0.14114,     0.14214,     0.14314,\n",
              "           0.14414,     0.14515,     0.14615,     0.14715,     0.14815,     0.14915,     0.15015,     0.15115,     0.15215,     0.15315,     0.15415,     0.15516,     0.15616,     0.15716,     0.15816,     0.15916,     0.16016,     0.16116,     0.16216,     0.16316,     0.16416,     0.16517,     0.16617,     0.16717,\n",
              "           0.16817,     0.16917,     0.17017,     0.17117,     0.17217,     0.17317,     0.17417,     0.17518,     0.17618,     0.17718,     0.17818,     0.17918,     0.18018,     0.18118,     0.18218,     0.18318,     0.18418,     0.18519,     0.18619,     0.18719,     0.18819,     0.18919,     0.19019,     0.19119,\n",
              "           0.19219,     0.19319,     0.19419,      0.1952,      0.1962,      0.1972,      0.1982,      0.1992,      0.2002,      0.2012,      0.2022,      0.2032,      0.2042,     0.20521,     0.20621,     0.20721,     0.20821,     0.20921,     0.21021,     0.21121,     0.21221,     0.21321,     0.21421,     0.21522,\n",
              "           0.21622,     0.21722,     0.21822,     0.21922,     0.22022,     0.22122,     0.22222,     0.22322,     0.22422,     0.22523,     0.22623,     0.22723,     0.22823,     0.22923,     0.23023,     0.23123,     0.23223,     0.23323,     0.23423,     0.23524,     0.23624,     0.23724,     0.23824,     0.23924,\n",
              "           0.24024,     0.24124,     0.24224,     0.24324,     0.24424,     0.24525,     0.24625,     0.24725,     0.24825,     0.24925,     0.25025,     0.25125,     0.25225,     0.25325,     0.25425,     0.25526,     0.25626,     0.25726,     0.25826,     0.25926,     0.26026,     0.26126,     0.26226,     0.26326,\n",
              "           0.26426,     0.26527,     0.26627,     0.26727,     0.26827,     0.26927,     0.27027,     0.27127,     0.27227,     0.27327,     0.27427,     0.27528,     0.27628,     0.27728,     0.27828,     0.27928,     0.28028,     0.28128,     0.28228,     0.28328,     0.28428,     0.28529,     0.28629,     0.28729,\n",
              "           0.28829,     0.28929,     0.29029,     0.29129,     0.29229,     0.29329,     0.29429,      0.2953,      0.2963,      0.2973,      0.2983,      0.2993,      0.3003,      0.3013,      0.3023,      0.3033,      0.3043,     0.30531,     0.30631,     0.30731,     0.30831,     0.30931,     0.31031,     0.31131,\n",
              "           0.31231,     0.31331,     0.31431,     0.31532,     0.31632,     0.31732,     0.31832,     0.31932,     0.32032,     0.32132,     0.32232,     0.32332,     0.32432,     0.32533,     0.32633,     0.32733,     0.32833,     0.32933,     0.33033,     0.33133,     0.33233,     0.33333,     0.33433,     0.33534,\n",
              "           0.33634,     0.33734,     0.33834,     0.33934,     0.34034,     0.34134,     0.34234,     0.34334,     0.34434,     0.34535,     0.34635,     0.34735,     0.34835,     0.34935,     0.35035,     0.35135,     0.35235,     0.35335,     0.35435,     0.35536,     0.35636,     0.35736,     0.35836,     0.35936,\n",
              "           0.36036,     0.36136,     0.36236,     0.36336,     0.36436,     0.36537,     0.36637,     0.36737,     0.36837,     0.36937,     0.37037,     0.37137,     0.37237,     0.37337,     0.37437,     0.37538,     0.37638,     0.37738,     0.37838,     0.37938,     0.38038,     0.38138,     0.38238,     0.38338,\n",
              "           0.38438,     0.38539,     0.38639,     0.38739,     0.38839,     0.38939,     0.39039,     0.39139,     0.39239,     0.39339,     0.39439,      0.3954,      0.3964,      0.3974,      0.3984,      0.3994,      0.4004,      0.4014,      0.4024,      0.4034,      0.4044,     0.40541,     0.40641,     0.40741,\n",
              "           0.40841,     0.40941,     0.41041,     0.41141,     0.41241,     0.41341,     0.41441,     0.41542,     0.41642,     0.41742,     0.41842,     0.41942,     0.42042,     0.42142,     0.42242,     0.42342,     0.42442,     0.42543,     0.42643,     0.42743,     0.42843,     0.42943,     0.43043,     0.43143,\n",
              "           0.43243,     0.43343,     0.43443,     0.43544,     0.43644,     0.43744,     0.43844,     0.43944,     0.44044,     0.44144,     0.44244,     0.44344,     0.44444,     0.44545,     0.44645,     0.44745,     0.44845,     0.44945,     0.45045,     0.45145,     0.45245,     0.45345,     0.45445,     0.45546,\n",
              "           0.45646,     0.45746,     0.45846,     0.45946,     0.46046,     0.46146,     0.46246,     0.46346,     0.46446,     0.46547,     0.46647,     0.46747,     0.46847,     0.46947,     0.47047,     0.47147,     0.47247,     0.47347,     0.47447,     0.47548,     0.47648,     0.47748,     0.47848,     0.47948,\n",
              "           0.48048,     0.48148,     0.48248,     0.48348,     0.48448,     0.48549,     0.48649,     0.48749,     0.48849,     0.48949,     0.49049,     0.49149,     0.49249,     0.49349,     0.49449,      0.4955,      0.4965,      0.4975,      0.4985,      0.4995,      0.5005,      0.5015,      0.5025,      0.5035,\n",
              "            0.5045,     0.50551,     0.50651,     0.50751,     0.50851,     0.50951,     0.51051,     0.51151,     0.51251,     0.51351,     0.51451,     0.51552,     0.51652,     0.51752,     0.51852,     0.51952,     0.52052,     0.52152,     0.52252,     0.52352,     0.52452,     0.52553,     0.52653,     0.52753,\n",
              "           0.52853,     0.52953,     0.53053,     0.53153,     0.53253,     0.53353,     0.53453,     0.53554,     0.53654,     0.53754,     0.53854,     0.53954,     0.54054,     0.54154,     0.54254,     0.54354,     0.54454,     0.54555,     0.54655,     0.54755,     0.54855,     0.54955,     0.55055,     0.55155,\n",
              "           0.55255,     0.55355,     0.55455,     0.55556,     0.55656,     0.55756,     0.55856,     0.55956,     0.56056,     0.56156,     0.56256,     0.56356,     0.56456,     0.56557,     0.56657,     0.56757,     0.56857,     0.56957,     0.57057,     0.57157,     0.57257,     0.57357,     0.57457,     0.57558,\n",
              "           0.57658,     0.57758,     0.57858,     0.57958,     0.58058,     0.58158,     0.58258,     0.58358,     0.58458,     0.58559,     0.58659,     0.58759,     0.58859,     0.58959,     0.59059,     0.59159,     0.59259,     0.59359,     0.59459,      0.5956,      0.5966,      0.5976,      0.5986,      0.5996,\n",
              "            0.6006,      0.6016,      0.6026,      0.6036,      0.6046,     0.60561,     0.60661,     0.60761,     0.60861,     0.60961,     0.61061,     0.61161,     0.61261,     0.61361,     0.61461,     0.61562,     0.61662,     0.61762,     0.61862,     0.61962,     0.62062,     0.62162,     0.62262,     0.62362,\n",
              "           0.62462,     0.62563,     0.62663,     0.62763,     0.62863,     0.62963,     0.63063,     0.63163,     0.63263,     0.63363,     0.63463,     0.63564,     0.63664,     0.63764,     0.63864,     0.63964,     0.64064,     0.64164,     0.64264,     0.64364,     0.64464,     0.64565,     0.64665,     0.64765,\n",
              "           0.64865,     0.64965,     0.65065,     0.65165,     0.65265,     0.65365,     0.65465,     0.65566,     0.65666,     0.65766,     0.65866,     0.65966,     0.66066,     0.66166,     0.66266,     0.66366,     0.66466,     0.66567,     0.66667,     0.66767,     0.66867,     0.66967,     0.67067,     0.67167,\n",
              "           0.67267,     0.67367,     0.67467,     0.67568,     0.67668,     0.67768,     0.67868,     0.67968,     0.68068,     0.68168,     0.68268,     0.68368,     0.68468,     0.68569,     0.68669,     0.68769,     0.68869,     0.68969,     0.69069,     0.69169,     0.69269,     0.69369,     0.69469,      0.6957,\n",
              "            0.6967,      0.6977,      0.6987,      0.6997,      0.7007,      0.7017,      0.7027,      0.7037,      0.7047,     0.70571,     0.70671,     0.70771,     0.70871,     0.70971,     0.71071,     0.71171,     0.71271,     0.71371,     0.71471,     0.71572,     0.71672,     0.71772,     0.71872,     0.71972,\n",
              "           0.72072,     0.72172,     0.72272,     0.72372,     0.72472,     0.72573,     0.72673,     0.72773,     0.72873,     0.72973,     0.73073,     0.73173,     0.73273,     0.73373,     0.73473,     0.73574,     0.73674,     0.73774,     0.73874,     0.73974,     0.74074,     0.74174,     0.74274,     0.74374,\n",
              "           0.74474,     0.74575,     0.74675,     0.74775,     0.74875,     0.74975,     0.75075,     0.75175,     0.75275,     0.75375,     0.75475,     0.75576,     0.75676,     0.75776,     0.75876,     0.75976,     0.76076,     0.76176,     0.76276,     0.76376,     0.76476,     0.76577,     0.76677,     0.76777,\n",
              "           0.76877,     0.76977,     0.77077,     0.77177,     0.77277,     0.77377,     0.77477,     0.77578,     0.77678,     0.77778,     0.77878,     0.77978,     0.78078,     0.78178,     0.78278,     0.78378,     0.78478,     0.78579,     0.78679,     0.78779,     0.78879,     0.78979,     0.79079,     0.79179,\n",
              "           0.79279,     0.79379,     0.79479,      0.7958,      0.7968,      0.7978,      0.7988,      0.7998,      0.8008,      0.8018,      0.8028,      0.8038,      0.8048,     0.80581,     0.80681,     0.80781,     0.80881,     0.80981,     0.81081,     0.81181,     0.81281,     0.81381,     0.81481,     0.81582,\n",
              "           0.81682,     0.81782,     0.81882,     0.81982,     0.82082,     0.82182,     0.82282,     0.82382,     0.82482,     0.82583,     0.82683,     0.82783,     0.82883,     0.82983,     0.83083,     0.83183,     0.83283,     0.83383,     0.83483,     0.83584,     0.83684,     0.83784,     0.83884,     0.83984,\n",
              "           0.84084,     0.84184,     0.84284,     0.84384,     0.84484,     0.84585,     0.84685,     0.84785,     0.84885,     0.84985,     0.85085,     0.85185,     0.85285,     0.85385,     0.85485,     0.85586,     0.85686,     0.85786,     0.85886,     0.85986,     0.86086,     0.86186,     0.86286,     0.86386,\n",
              "           0.86486,     0.86587,     0.86687,     0.86787,     0.86887,     0.86987,     0.87087,     0.87187,     0.87287,     0.87387,     0.87487,     0.87588,     0.87688,     0.87788,     0.87888,     0.87988,     0.88088,     0.88188,     0.88288,     0.88388,     0.88488,     0.88589,     0.88689,     0.88789,\n",
              "           0.88889,     0.88989,     0.89089,     0.89189,     0.89289,     0.89389,     0.89489,      0.8959,      0.8969,      0.8979,      0.8989,      0.8999,      0.9009,      0.9019,      0.9029,      0.9039,      0.9049,     0.90591,     0.90691,     0.90791,     0.90891,     0.90991,     0.91091,     0.91191,\n",
              "           0.91291,     0.91391,     0.91491,     0.91592,     0.91692,     0.91792,     0.91892,     0.91992,     0.92092,     0.92192,     0.92292,     0.92392,     0.92492,     0.92593,     0.92693,     0.92793,     0.92893,     0.92993,     0.93093,     0.93193,     0.93293,     0.93393,     0.93493,     0.93594,\n",
              "           0.93694,     0.93794,     0.93894,     0.93994,     0.94094,     0.94194,     0.94294,     0.94394,     0.94494,     0.94595,     0.94695,     0.94795,     0.94895,     0.94995,     0.95095,     0.95195,     0.95295,     0.95395,     0.95495,     0.95596,     0.95696,     0.95796,     0.95896,     0.95996,\n",
              "           0.96096,     0.96196,     0.96296,     0.96396,     0.96496,     0.96597,     0.96697,     0.96797,     0.96897,     0.96997,     0.97097,     0.97197,     0.97297,     0.97397,     0.97497,     0.97598,     0.97698,     0.97798,     0.97898,     0.97998,     0.98098,     0.98198,     0.98298,     0.98398,\n",
              "           0.98498,     0.98599,     0.98699,     0.98799,     0.98899,     0.98999,     0.99099,     0.99199,     0.99299,     0.99399,     0.99499,       0.996,       0.997,       0.998,       0.999,           1]), array([[    0.98148,     0.98148,     0.98148,     0.98148,     0.98148,     0.98148,     0.98148,     0.98148,     0.98148,     0.98148,     0.98148,     0.98148,     0.98148,     0.98148,     0.98148,     0.98148,     0.97942,     0.97942,     0.97942,     0.97942,     0.97942,     0.97942,     0.97942,\n",
              "            0.97942,     0.97942,     0.97942,     0.97942,     0.97942,     0.97942,     0.97942,     0.97942,     0.97942,     0.97942,     0.97942,     0.97942,     0.97942,     0.97942,     0.97942,     0.97737,     0.97737,     0.97737,     0.97737,     0.97737,     0.97737,     0.97737,     0.97737,\n",
              "            0.97737,     0.97737,     0.97737,     0.97737,     0.97737,     0.97737,     0.97737,     0.97737,     0.97531,     0.97531,     0.97531,     0.97531,     0.97523,      0.9735,     0.97325,     0.97325,     0.97325,     0.97325,     0.97325,     0.97325,     0.97325,     0.97325,     0.97325,\n",
              "            0.97325,     0.97325,     0.97325,     0.97325,     0.97325,     0.97325,     0.97325,     0.97325,     0.97325,     0.97325,     0.97325,     0.97325,     0.97325,     0.97325,     0.97325,     0.97213,     0.97119,     0.97119,     0.96914,     0.96914,     0.96914,     0.96914,     0.96914,\n",
              "            0.96914,     0.96914,     0.96914,     0.96914,     0.96914,     0.96914,     0.96914,     0.96914,     0.96914,     0.96914,     0.96903,      0.9684,     0.96778,     0.96715,     0.96708,     0.96708,     0.96708,     0.96708,     0.96708,     0.96708,     0.96708,     0.96689,     0.96631,\n",
              "            0.96573,     0.96515,     0.96502,     0.96502,     0.96502,     0.96502,     0.96502,     0.96502,     0.96502,     0.96502,     0.96502,     0.96502,     0.96502,     0.96502,     0.96502,     0.96502,     0.96502,     0.96502,     0.96502,     0.96502,     0.96502,     0.96502,     0.96502,\n",
              "            0.96502,     0.96502,     0.96502,     0.96502,     0.96502,     0.96502,     0.96502,     0.96502,     0.96502,     0.96502,     0.96502,     0.96462,     0.96414,     0.96365,     0.96317,     0.96296,     0.96296,     0.96296,     0.96296,     0.96296,     0.96296,     0.96296,     0.96296,\n",
              "            0.96296,     0.96296,     0.96296,     0.96296,     0.96296,     0.96296,     0.96296,     0.96296,     0.96296,     0.96296,     0.96296,     0.96296,     0.96296,     0.96296,     0.96296,     0.96296,     0.96296,     0.96296,     0.96296,     0.96296,     0.96296,     0.96296,     0.96296,\n",
              "            0.96296,     0.96296,     0.96296,     0.96296,     0.96296,     0.96296,     0.96296,     0.96296,     0.96296,      0.9629,     0.96205,     0.96121,     0.96091,     0.96091,     0.96091,     0.96091,     0.96091,     0.96091,     0.96091,     0.96091,     0.96091,     0.96091,     0.96091,\n",
              "            0.96091,     0.96091,     0.96091,     0.96091,     0.96091,     0.96091,     0.96091,     0.96091,     0.96091,     0.96091,     0.96091,     0.96091,     0.96091,     0.96091,     0.96091,     0.96091,     0.96091,     0.96091,     0.96091,     0.96091,     0.96091,     0.96091,     0.96091,\n",
              "            0.96091,     0.96091,     0.96091,     0.96091,     0.96091,     0.96091,     0.96091,     0.96091,     0.96091,     0.96091,     0.96091,     0.96091,     0.96091,     0.96091,     0.96091,     0.96091,     0.96091,     0.96086,     0.96071,     0.96056,      0.9604,     0.96025,      0.9601,\n",
              "            0.95995,      0.9598,     0.95964,     0.95949,     0.95934,     0.95919,     0.95904,     0.95888,     0.95885,     0.95885,     0.95885,     0.95885,     0.95885,     0.95885,     0.95885,     0.95885,     0.95885,     0.95885,     0.95885,     0.95885,     0.95885,     0.95885,     0.95885,\n",
              "            0.95885,     0.95885,     0.95885,     0.95885,     0.95885,     0.95885,     0.95885,     0.95885,     0.95885,     0.95885,     0.95885,     0.95885,     0.95885,     0.95885,     0.95885,     0.95852,      0.9582,     0.95787,     0.95755,     0.95722,      0.9569,     0.95492,     0.95473,\n",
              "            0.95473,     0.95473,     0.95473,     0.95473,     0.95473,      0.9547,     0.95461,     0.95452,     0.95443,     0.95434,     0.95425,     0.95416,     0.95407,     0.95398,     0.95389,      0.9538,     0.95371,     0.95362,     0.95353,     0.95344,     0.95335,     0.95327,     0.95318,\n",
              "            0.95309,       0.953,     0.95291,     0.95282,     0.95273,     0.95149,     0.95062,     0.95062,     0.95062,     0.95062,     0.95062,     0.95062,     0.95062,     0.95062,     0.95062,     0.95062,     0.95062,     0.95062,     0.95062,     0.95062,     0.95062,     0.95062,     0.95062,\n",
              "            0.95062,     0.95062,     0.95062,     0.95062,     0.95062,     0.95052,     0.95038,     0.95024,     0.95011,     0.94997,     0.94984,      0.9497,     0.94956,     0.94943,     0.94929,     0.94916,     0.94902,     0.94888,     0.94875,     0.94861,     0.94856,     0.94856,     0.94856,\n",
              "            0.94856,     0.94856,     0.94856,     0.94856,     0.94856,     0.94856,     0.94856,     0.94856,     0.94856,     0.94856,     0.94856,     0.94856,     0.94856,     0.94856,     0.94856,     0.94856,     0.94856,     0.94856,     0.94856,     0.94856,     0.94856,     0.94856,     0.94856,\n",
              "            0.94856,     0.94856,     0.94856,     0.94856,     0.94847,     0.94823,     0.94799,     0.94775,     0.94751,     0.94726,     0.94702,     0.94678,     0.94654,     0.94613,     0.94569,     0.94524,      0.9448,     0.94436,     0.94394,     0.94351,     0.94309,     0.94267,     0.94239,\n",
              "            0.94239,     0.94239,     0.94239,     0.94239,     0.94239,     0.94239,     0.94239,     0.94239,     0.94239,     0.94239,     0.94239,     0.94239,     0.94239,     0.94239,     0.94239,     0.94239,     0.94239,     0.94239,     0.94239,     0.94239,     0.94239,     0.94239,     0.94239,\n",
              "            0.94239,      0.9423,     0.94219,     0.94207,     0.94195,     0.94183,     0.94171,     0.94159,     0.94147,     0.94135,     0.94124,     0.94112,       0.941,     0.94088,     0.94076,     0.94064,     0.94052,      0.9404,     0.94033,     0.94033,     0.94033,     0.94033,     0.94033,\n",
              "            0.94033,     0.94033,     0.94033,     0.94033,     0.94033,     0.94033,     0.94033,     0.94033,     0.94033,     0.94033,     0.94033,     0.94033,     0.94033,     0.94033,     0.94033,     0.94033,     0.94033,     0.94033,     0.94033,     0.94033,     0.94033,     0.94033,     0.94033,\n",
              "            0.94033,     0.94033,     0.94033,     0.94033,     0.94033,     0.94033,     0.94033,     0.94033,     0.94033,     0.94033,     0.94033,     0.94033,     0.94033,     0.94033,     0.94033,     0.94033,     0.94033,     0.94033,     0.94033,     0.94033,     0.94033,     0.94033,     0.94033,\n",
              "            0.94033,     0.94033,     0.94033,     0.94033,     0.94033,     0.94033,     0.94033,     0.94033,     0.94033,     0.94033,     0.94033,     0.94033,     0.94033,     0.94033,     0.94033,     0.94033,     0.94033,     0.94033,     0.94033,     0.94033,     0.94033,     0.94033,     0.94033,\n",
              "            0.94033,     0.94033,     0.94033,     0.94033,     0.94033,     0.94033,     0.94033,     0.94033,     0.94033,     0.94033,     0.94033,     0.94033,     0.94033,     0.94033,     0.94033,     0.94033,     0.94033,     0.94033,     0.94033,     0.94012,     0.93982,     0.93952,     0.93922,\n",
              "            0.93891,     0.93861,     0.93831,     0.93813,     0.93796,     0.93779,     0.93762,     0.93745,     0.93728,     0.93711,     0.93694,     0.93678,     0.93661,     0.93644,     0.93627,     0.93616,     0.93608,     0.93599,     0.93591,     0.93583,     0.93574,     0.93566,     0.93558,\n",
              "             0.9355,     0.93541,     0.93533,     0.93525,     0.93517,     0.93508,       0.935,     0.93492,     0.93484,     0.93475,     0.93467,     0.93459,      0.9345,     0.93442,     0.93434,     0.93426,     0.93417,     0.93416,     0.93416,     0.93416,     0.93416,     0.93416,     0.93416,\n",
              "            0.93416,     0.93416,     0.93416,     0.93416,     0.93416,     0.93416,     0.93416,     0.93416,     0.93416,     0.93403,     0.93332,     0.93262,      0.9321,      0.9321,      0.9321,      0.9321,      0.9321,      0.9321,      0.9321,      0.9321,      0.9321,      0.9321,     0.93197,\n",
              "            0.93184,      0.9317,     0.93157,     0.93144,     0.93131,     0.93118,     0.93105,     0.93091,     0.93078,     0.93065,     0.93052,     0.93039,     0.93025,     0.93012,     0.92981,     0.92921,     0.92861,       0.928,     0.92798,     0.92798,     0.92798,     0.92798,     0.92798,\n",
              "            0.92798,     0.92798,     0.92798,     0.92798,     0.92798,     0.92798,     0.92798,     0.92798,     0.92798,     0.92798,     0.92798,     0.92798,     0.92798,     0.92798,     0.92798,     0.92798,     0.92798,     0.92798,     0.92798,     0.92798,     0.92798,     0.92573,     0.92433,\n",
              "            0.92346,     0.92286,     0.92226,     0.92173,     0.92143,     0.92113,     0.92083,     0.92053,     0.92023,     0.91992,     0.91975,     0.91975,     0.91975,     0.91975,     0.91975,     0.91975,     0.91975,     0.91975,     0.91975,     0.91975,     0.91975,     0.91975,     0.91975,\n",
              "            0.91975,     0.91975,     0.91975,     0.91975,     0.91975,     0.91975,     0.91975,     0.91975,     0.91975,     0.91975,     0.91975,     0.91975,     0.91975,     0.91975,     0.91975,     0.91975,     0.91975,     0.91975,     0.91975,     0.91975,     0.91975,     0.91915,      0.9177,\n",
              "             0.9177,      0.9177,      0.9177,      0.9177,      0.9177,      0.9177,      0.9177,      0.9177,      0.9177,      0.9177,      0.9177,      0.9177,      0.9176,     0.91689,     0.91619,     0.91519,     0.91358,     0.91351,     0.91323,     0.91294,     0.91266,     0.91238,      0.9121,\n",
              "            0.91182,     0.91154,     0.91019,     0.90947,     0.90927,     0.90889,      0.9085,     0.90812,     0.90774,     0.90737,     0.90714,     0.90691,     0.90667,     0.90644,      0.9062,     0.90597,     0.90573,      0.9055,     0.90535,     0.90535,     0.90535,       0.905,     0.90461,\n",
              "            0.90423,     0.90385,     0.90346,     0.90282,     0.90198,     0.90123,     0.90123,     0.90123,     0.90123,     0.90123,     0.90123,     0.90123,     0.90123,     0.90123,     0.90123,     0.90123,     0.90123,     0.90123,     0.90123,     0.90123,     0.90123,     0.90121,     0.90016,\n",
              "            0.89918,     0.89918,     0.89916,     0.89901,     0.89887,     0.89872,     0.89858,     0.89843,     0.89829,     0.89814,       0.898,     0.89785,     0.89771,     0.89756,     0.89741,     0.89727,     0.89712,     0.89469,     0.89431,     0.89392,     0.89354,     0.89316,       0.893,\n",
              "              0.893,     0.89208,     0.89087,     0.89049,     0.89011,     0.88972,     0.88934,     0.88896,     0.88889,     0.88889,     0.88889,     0.88889,     0.88889,     0.88889,     0.88889,     0.88889,     0.88889,     0.88889,     0.88828,     0.88722,     0.88683,     0.88683,     0.88683,\n",
              "            0.88592,     0.88443,     0.88396,      0.8835,     0.88303,     0.88236,     0.88131,     0.88053,     0.88021,     0.87988,     0.87956,     0.87924,     0.87891,     0.87859,     0.87836,     0.87812,     0.87789,     0.87765,     0.87742,     0.87718,     0.87695,     0.87672,     0.87636,\n",
              "            0.87565,     0.87495,     0.87438,     0.87408,     0.87378,     0.87348,     0.87318,     0.87288,     0.87258,     0.87212,     0.87152,     0.87092,     0.86997,     0.86789,     0.86718,     0.86648,     0.86545,     0.86184,     0.86043,     0.85963,     0.85903,     0.85842,     0.85785,\n",
              "            0.85732,     0.85679,     0.85626,     0.85505,     0.84991,     0.84774,     0.84702,     0.84564,      0.8448,     0.84395,      0.8414,     0.83999,     0.83607,     0.83491,     0.83421,     0.83351,     0.82969,     0.82607,      0.8251,      0.8213,     0.82027,     0.81943,     0.81806,\n",
              "            0.81445,      0.8136,     0.81276,     0.80962,     0.80808,     0.80702,     0.80609,     0.80525,     0.80392,     0.80109,     0.79808,     0.79668,     0.78961,     0.78578,     0.78494,      0.7841,     0.78279,     0.78036,     0.77593,      0.7716,     0.76657,     0.76446,     0.76235,\n",
              "            0.75854,     0.75495,     0.75073,     0.74239,     0.73818,     0.72779,     0.72084,     0.71112,     0.70279,     0.69857,     0.68565,     0.67984,     0.67357,     0.66318,     0.65073,     0.64651,     0.64229,     0.63396,     0.62768,     0.62141,     0.60901,     0.60062,     0.59641,\n",
              "            0.58601,     0.57588,     0.57171,     0.56513,     0.55474,     0.54229,      0.5319,     0.52721,     0.51729,     0.50073,     0.49239,     0.47994,     0.46749,     0.45505,     0.43642,     0.42603,     0.40535,     0.39908,     0.38663,      0.3783,      0.3679,     0.35134,     0.33066,\n",
              "            0.32027,     0.30165,     0.29126,     0.26441,     0.22109,     0.18601,     0.16327,     0.13097,     0.11369,    0.093007,    0.064097,    0.043418,    0.024796,    0.018521,   0.0060719,           0,           0,           0,           0,           0,           0,           0,           0,\n",
              "                  0,           0,           0,           0,           0,           0,           0,           0,           0,           0,           0]]), 'Confidence', 'Recall'], [array([          0,    0.001001,    0.002002,    0.003003,    0.004004,    0.005005,    0.006006,    0.007007,    0.008008,    0.009009,     0.01001,    0.011011,    0.012012,    0.013013,    0.014014,    0.015015,    0.016016,    0.017017,    0.018018,    0.019019,     0.02002,    0.021021,    0.022022,    0.023023,\n",
              "          0.024024,    0.025025,    0.026026,    0.027027,    0.028028,    0.029029,     0.03003,    0.031031,    0.032032,    0.033033,    0.034034,    0.035035,    0.036036,    0.037037,    0.038038,    0.039039,     0.04004,    0.041041,    0.042042,    0.043043,    0.044044,    0.045045,    0.046046,    0.047047,\n",
              "          0.048048,    0.049049,     0.05005,    0.051051,    0.052052,    0.053053,    0.054054,    0.055055,    0.056056,    0.057057,    0.058058,    0.059059,     0.06006,    0.061061,    0.062062,    0.063063,    0.064064,    0.065065,    0.066066,    0.067067,    0.068068,    0.069069,     0.07007,    0.071071,\n",
              "          0.072072,    0.073073,    0.074074,    0.075075,    0.076076,    0.077077,    0.078078,    0.079079,     0.08008,    0.081081,    0.082082,    0.083083,    0.084084,    0.085085,    0.086086,    0.087087,    0.088088,    0.089089,     0.09009,    0.091091,    0.092092,    0.093093,    0.094094,    0.095095,\n",
              "          0.096096,    0.097097,    0.098098,    0.099099,      0.1001,      0.1011,      0.1021,      0.1031,      0.1041,     0.10511,     0.10611,     0.10711,     0.10811,     0.10911,     0.11011,     0.11111,     0.11211,     0.11311,     0.11411,     0.11512,     0.11612,     0.11712,     0.11812,     0.11912,\n",
              "           0.12012,     0.12112,     0.12212,     0.12312,     0.12412,     0.12513,     0.12613,     0.12713,     0.12813,     0.12913,     0.13013,     0.13113,     0.13213,     0.13313,     0.13413,     0.13514,     0.13614,     0.13714,     0.13814,     0.13914,     0.14014,     0.14114,     0.14214,     0.14314,\n",
              "           0.14414,     0.14515,     0.14615,     0.14715,     0.14815,     0.14915,     0.15015,     0.15115,     0.15215,     0.15315,     0.15415,     0.15516,     0.15616,     0.15716,     0.15816,     0.15916,     0.16016,     0.16116,     0.16216,     0.16316,     0.16416,     0.16517,     0.16617,     0.16717,\n",
              "           0.16817,     0.16917,     0.17017,     0.17117,     0.17217,     0.17317,     0.17417,     0.17518,     0.17618,     0.17718,     0.17818,     0.17918,     0.18018,     0.18118,     0.18218,     0.18318,     0.18418,     0.18519,     0.18619,     0.18719,     0.18819,     0.18919,     0.19019,     0.19119,\n",
              "           0.19219,     0.19319,     0.19419,      0.1952,      0.1962,      0.1972,      0.1982,      0.1992,      0.2002,      0.2012,      0.2022,      0.2032,      0.2042,     0.20521,     0.20621,     0.20721,     0.20821,     0.20921,     0.21021,     0.21121,     0.21221,     0.21321,     0.21421,     0.21522,\n",
              "           0.21622,     0.21722,     0.21822,     0.21922,     0.22022,     0.22122,     0.22222,     0.22322,     0.22422,     0.22523,     0.22623,     0.22723,     0.22823,     0.22923,     0.23023,     0.23123,     0.23223,     0.23323,     0.23423,     0.23524,     0.23624,     0.23724,     0.23824,     0.23924,\n",
              "           0.24024,     0.24124,     0.24224,     0.24324,     0.24424,     0.24525,     0.24625,     0.24725,     0.24825,     0.24925,     0.25025,     0.25125,     0.25225,     0.25325,     0.25425,     0.25526,     0.25626,     0.25726,     0.25826,     0.25926,     0.26026,     0.26126,     0.26226,     0.26326,\n",
              "           0.26426,     0.26527,     0.26627,     0.26727,     0.26827,     0.26927,     0.27027,     0.27127,     0.27227,     0.27327,     0.27427,     0.27528,     0.27628,     0.27728,     0.27828,     0.27928,     0.28028,     0.28128,     0.28228,     0.28328,     0.28428,     0.28529,     0.28629,     0.28729,\n",
              "           0.28829,     0.28929,     0.29029,     0.29129,     0.29229,     0.29329,     0.29429,      0.2953,      0.2963,      0.2973,      0.2983,      0.2993,      0.3003,      0.3013,      0.3023,      0.3033,      0.3043,     0.30531,     0.30631,     0.30731,     0.30831,     0.30931,     0.31031,     0.31131,\n",
              "           0.31231,     0.31331,     0.31431,     0.31532,     0.31632,     0.31732,     0.31832,     0.31932,     0.32032,     0.32132,     0.32232,     0.32332,     0.32432,     0.32533,     0.32633,     0.32733,     0.32833,     0.32933,     0.33033,     0.33133,     0.33233,     0.33333,     0.33433,     0.33534,\n",
              "           0.33634,     0.33734,     0.33834,     0.33934,     0.34034,     0.34134,     0.34234,     0.34334,     0.34434,     0.34535,     0.34635,     0.34735,     0.34835,     0.34935,     0.35035,     0.35135,     0.35235,     0.35335,     0.35435,     0.35536,     0.35636,     0.35736,     0.35836,     0.35936,\n",
              "           0.36036,     0.36136,     0.36236,     0.36336,     0.36436,     0.36537,     0.36637,     0.36737,     0.36837,     0.36937,     0.37037,     0.37137,     0.37237,     0.37337,     0.37437,     0.37538,     0.37638,     0.37738,     0.37838,     0.37938,     0.38038,     0.38138,     0.38238,     0.38338,\n",
              "           0.38438,     0.38539,     0.38639,     0.38739,     0.38839,     0.38939,     0.39039,     0.39139,     0.39239,     0.39339,     0.39439,      0.3954,      0.3964,      0.3974,      0.3984,      0.3994,      0.4004,      0.4014,      0.4024,      0.4034,      0.4044,     0.40541,     0.40641,     0.40741,\n",
              "           0.40841,     0.40941,     0.41041,     0.41141,     0.41241,     0.41341,     0.41441,     0.41542,     0.41642,     0.41742,     0.41842,     0.41942,     0.42042,     0.42142,     0.42242,     0.42342,     0.42442,     0.42543,     0.42643,     0.42743,     0.42843,     0.42943,     0.43043,     0.43143,\n",
              "           0.43243,     0.43343,     0.43443,     0.43544,     0.43644,     0.43744,     0.43844,     0.43944,     0.44044,     0.44144,     0.44244,     0.44344,     0.44444,     0.44545,     0.44645,     0.44745,     0.44845,     0.44945,     0.45045,     0.45145,     0.45245,     0.45345,     0.45445,     0.45546,\n",
              "           0.45646,     0.45746,     0.45846,     0.45946,     0.46046,     0.46146,     0.46246,     0.46346,     0.46446,     0.46547,     0.46647,     0.46747,     0.46847,     0.46947,     0.47047,     0.47147,     0.47247,     0.47347,     0.47447,     0.47548,     0.47648,     0.47748,     0.47848,     0.47948,\n",
              "           0.48048,     0.48148,     0.48248,     0.48348,     0.48448,     0.48549,     0.48649,     0.48749,     0.48849,     0.48949,     0.49049,     0.49149,     0.49249,     0.49349,     0.49449,      0.4955,      0.4965,      0.4975,      0.4985,      0.4995,      0.5005,      0.5015,      0.5025,      0.5035,\n",
              "            0.5045,     0.50551,     0.50651,     0.50751,     0.50851,     0.50951,     0.51051,     0.51151,     0.51251,     0.51351,     0.51451,     0.51552,     0.51652,     0.51752,     0.51852,     0.51952,     0.52052,     0.52152,     0.52252,     0.52352,     0.52452,     0.52553,     0.52653,     0.52753,\n",
              "           0.52853,     0.52953,     0.53053,     0.53153,     0.53253,     0.53353,     0.53453,     0.53554,     0.53654,     0.53754,     0.53854,     0.53954,     0.54054,     0.54154,     0.54254,     0.54354,     0.54454,     0.54555,     0.54655,     0.54755,     0.54855,     0.54955,     0.55055,     0.55155,\n",
              "           0.55255,     0.55355,     0.55455,     0.55556,     0.55656,     0.55756,     0.55856,     0.55956,     0.56056,     0.56156,     0.56256,     0.56356,     0.56456,     0.56557,     0.56657,     0.56757,     0.56857,     0.56957,     0.57057,     0.57157,     0.57257,     0.57357,     0.57457,     0.57558,\n",
              "           0.57658,     0.57758,     0.57858,     0.57958,     0.58058,     0.58158,     0.58258,     0.58358,     0.58458,     0.58559,     0.58659,     0.58759,     0.58859,     0.58959,     0.59059,     0.59159,     0.59259,     0.59359,     0.59459,      0.5956,      0.5966,      0.5976,      0.5986,      0.5996,\n",
              "            0.6006,      0.6016,      0.6026,      0.6036,      0.6046,     0.60561,     0.60661,     0.60761,     0.60861,     0.60961,     0.61061,     0.61161,     0.61261,     0.61361,     0.61461,     0.61562,     0.61662,     0.61762,     0.61862,     0.61962,     0.62062,     0.62162,     0.62262,     0.62362,\n",
              "           0.62462,     0.62563,     0.62663,     0.62763,     0.62863,     0.62963,     0.63063,     0.63163,     0.63263,     0.63363,     0.63463,     0.63564,     0.63664,     0.63764,     0.63864,     0.63964,     0.64064,     0.64164,     0.64264,     0.64364,     0.64464,     0.64565,     0.64665,     0.64765,\n",
              "           0.64865,     0.64965,     0.65065,     0.65165,     0.65265,     0.65365,     0.65465,     0.65566,     0.65666,     0.65766,     0.65866,     0.65966,     0.66066,     0.66166,     0.66266,     0.66366,     0.66466,     0.66567,     0.66667,     0.66767,     0.66867,     0.66967,     0.67067,     0.67167,\n",
              "           0.67267,     0.67367,     0.67467,     0.67568,     0.67668,     0.67768,     0.67868,     0.67968,     0.68068,     0.68168,     0.68268,     0.68368,     0.68468,     0.68569,     0.68669,     0.68769,     0.68869,     0.68969,     0.69069,     0.69169,     0.69269,     0.69369,     0.69469,      0.6957,\n",
              "            0.6967,      0.6977,      0.6987,      0.6997,      0.7007,      0.7017,      0.7027,      0.7037,      0.7047,     0.70571,     0.70671,     0.70771,     0.70871,     0.70971,     0.71071,     0.71171,     0.71271,     0.71371,     0.71471,     0.71572,     0.71672,     0.71772,     0.71872,     0.71972,\n",
              "           0.72072,     0.72172,     0.72272,     0.72372,     0.72472,     0.72573,     0.72673,     0.72773,     0.72873,     0.72973,     0.73073,     0.73173,     0.73273,     0.73373,     0.73473,     0.73574,     0.73674,     0.73774,     0.73874,     0.73974,     0.74074,     0.74174,     0.74274,     0.74374,\n",
              "           0.74474,     0.74575,     0.74675,     0.74775,     0.74875,     0.74975,     0.75075,     0.75175,     0.75275,     0.75375,     0.75475,     0.75576,     0.75676,     0.75776,     0.75876,     0.75976,     0.76076,     0.76176,     0.76276,     0.76376,     0.76476,     0.76577,     0.76677,     0.76777,\n",
              "           0.76877,     0.76977,     0.77077,     0.77177,     0.77277,     0.77377,     0.77477,     0.77578,     0.77678,     0.77778,     0.77878,     0.77978,     0.78078,     0.78178,     0.78278,     0.78378,     0.78478,     0.78579,     0.78679,     0.78779,     0.78879,     0.78979,     0.79079,     0.79179,\n",
              "           0.79279,     0.79379,     0.79479,      0.7958,      0.7968,      0.7978,      0.7988,      0.7998,      0.8008,      0.8018,      0.8028,      0.8038,      0.8048,     0.80581,     0.80681,     0.80781,     0.80881,     0.80981,     0.81081,     0.81181,     0.81281,     0.81381,     0.81481,     0.81582,\n",
              "           0.81682,     0.81782,     0.81882,     0.81982,     0.82082,     0.82182,     0.82282,     0.82382,     0.82482,     0.82583,     0.82683,     0.82783,     0.82883,     0.82983,     0.83083,     0.83183,     0.83283,     0.83383,     0.83483,     0.83584,     0.83684,     0.83784,     0.83884,     0.83984,\n",
              "           0.84084,     0.84184,     0.84284,     0.84384,     0.84484,     0.84585,     0.84685,     0.84785,     0.84885,     0.84985,     0.85085,     0.85185,     0.85285,     0.85385,     0.85485,     0.85586,     0.85686,     0.85786,     0.85886,     0.85986,     0.86086,     0.86186,     0.86286,     0.86386,\n",
              "           0.86486,     0.86587,     0.86687,     0.86787,     0.86887,     0.86987,     0.87087,     0.87187,     0.87287,     0.87387,     0.87487,     0.87588,     0.87688,     0.87788,     0.87888,     0.87988,     0.88088,     0.88188,     0.88288,     0.88388,     0.88488,     0.88589,     0.88689,     0.88789,\n",
              "           0.88889,     0.88989,     0.89089,     0.89189,     0.89289,     0.89389,     0.89489,      0.8959,      0.8969,      0.8979,      0.8989,      0.8999,      0.9009,      0.9019,      0.9029,      0.9039,      0.9049,     0.90591,     0.90691,     0.90791,     0.90891,     0.90991,     0.91091,     0.91191,\n",
              "           0.91291,     0.91391,     0.91491,     0.91592,     0.91692,     0.91792,     0.91892,     0.91992,     0.92092,     0.92192,     0.92292,     0.92392,     0.92492,     0.92593,     0.92693,     0.92793,     0.92893,     0.92993,     0.93093,     0.93193,     0.93293,     0.93393,     0.93493,     0.93594,\n",
              "           0.93694,     0.93794,     0.93894,     0.93994,     0.94094,     0.94194,     0.94294,     0.94394,     0.94494,     0.94595,     0.94695,     0.94795,     0.94895,     0.94995,     0.95095,     0.95195,     0.95295,     0.95395,     0.95495,     0.95596,     0.95696,     0.95796,     0.95896,     0.95996,\n",
              "           0.96096,     0.96196,     0.96296,     0.96396,     0.96496,     0.96597,     0.96697,     0.96797,     0.96897,     0.96997,     0.97097,     0.97197,     0.97297,     0.97397,     0.97497,     0.97598,     0.97698,     0.97798,     0.97898,     0.97998,     0.98098,     0.98198,     0.98298,     0.98398,\n",
              "           0.98498,     0.98599,     0.98699,     0.98799,     0.98899,     0.98999,     0.99099,     0.99199,     0.99299,     0.99399,     0.99499,       0.996,       0.997,       0.998,       0.999,           1]), array([[          1,           1,           1,           1,           1,           1,           1,           1,           1,           1,           1,           1,           1,           1,           1,           1,           1,           1,           1,           1,           1,           1,           1,\n",
              "                  1,           1,           1,           1,           1,           1,           1,           1,           1,           1,           1,           1,           1,           1,           1,           1,           1,           1,           1,           1,           1,           1,           1,\n",
              "                  1,           1,           1,           1,           1,           1,           1,           1,           1,           1,           1,           1,           1,           1,           1,           1,           1,           1,           1,           1,           1,           1,           1,\n",
              "                  1,           1,           1,           1,           1,           1,           1,           1,           1,           1,           1,           1,           1,           1,           1,           1,           1,           1,           1,           1,           1,           1,           1,\n",
              "                  1,           1,           1,           1,           1,           1,           1,           1,           1,           1,           1,           1,           1,           1,           1,           1,           1,           1,           1,           1,           1,           1,           1,\n",
              "                  1,           1,           1,           1,           1,           1,           1,           1,           1,           1,           1,           1,           1,           1,           1,           1,           1,           1,           1,           1,           1,           1,           1,\n",
              "                  1,           1,           1,           1,           1,           1,           1,           1,           1,           1,           1,           1,           1,           1,           1,           1,           1,           1,           1,           1,           1,           1,           1,\n",
              "                  1,           1,           1,           1,           1,           1,           1,           1,           1,           1,           1,           1,           1,           1,           1,           1,           1,           1,           1,           1,           1,           1,           1,\n",
              "                  1,           1,           1,           1,           1,           1,           1,           1,           1,           1,           1,           1,           1,           1,           1,           1,           1,           1,           1,           1,           1,           1,           1,\n",
              "                  1,           1,           1,           1,           1,           1,           1,           1,           1,           1,           1,           1,           1,           1,           1,           1,           1,           1,           1,           1,           1,           1,           1,\n",
              "                  1,           1,           1,           1,           1,           1,           1,           1,           1,           1,           1,           1,           1,           1,           1,           1,           1,           1,           1,           1,           1,           1,           1,\n",
              "                  1,           1,           1,           1,           1,           1,           1,           1,           1,           1,           1,           1,           1,           1,           1,           1,           1,           1,           1,           1,           1,           1,           1,\n",
              "                  1,           1,           1,           1,           1,           1,           1,           1,           1,           1,           1,           1,           1,           1,           1,           1,           1,           1,           1,           1,           1,           1,           1,\n",
              "                  1,           1,           1,           1,           1,           1,           1,           1,           1,           1,           1,           1,           1,           1,           1,           1,           1,           1,           1,           1,           1,           1,           1,\n",
              "                  1,           1,           1,           1,           1,           1,           1,           1,           1,           1,           1,           1,           1,           1,           1,           1,           1,           1,           1,           1,           1,           1,           1,\n",
              "                  1,           1,           1,           1,           1,           1,           1,           1,           1,           1,           1,           1,           1,           1,           1,           1,           1,           1,           1,           1,           1,           1,           1,\n",
              "                  1,           1,           1,           1,           1,           1,           1,           1,           1,           1,           1,           1,           1,           1,           1,           1,           1,           1,           1,           1,           1,           1,           1,\n",
              "                  1,           1,           1,           1,           1,           1,           1,           1,           1,           1,           1,           1,           1,           1,           1,           1,           1,           1,           1,           1,           1,           1,           1,\n",
              "                  1,           1,           1,           1,           1,           1,           1,           1,           1,           1,           1,           1,           1,           1,           1,           1,           1,           1,           1,           1,           1,           1,           1,\n",
              "                  1,           1,           1,           1,           1,           1,           1,           1,           1,           1,           1,           1,           1,           1,           1,           1,           1,           1,           1,           1,           1,           1,           1,\n",
              "                  1,           1,           1,           1,           1,           1,           1,           1,           1,           1,           1,           1,           1,           1,           1,           1,           1,           1,           1,           1,           1,           1,           1,\n",
              "                  1,           1,           1,           1,           1,           1,           1,           1,           1,           1,           1,           1,           1,           1,           1,           1,           1,           1,           1,           1,           1,           1,           1,\n",
              "                  1,           1,           1,           1,           1,           1,           1,           1,           1,           1,           1,           1,           1,           1,           1,           1,           1,           1,           1,           1,           1,           1,           1,\n",
              "                  1,           1,           1,           1,           1,           1,           1,           1,           1,           1,           1,           1,           1,           1,           1,           1,           1,           1,           1,           1,           1,           1,           1,\n",
              "                  1,           1,           1,           1,           1,           1,           1,           1,           1,           1,           1,           1,           1,           1,           1,           1,           1,           1,           1,           1,           1,           1,           1,\n",
              "                  1,           1,           1,           1,           1,           1,           1,           1,           1,           1,           1,           1,           1,           1,           1,           1,           1,           1,           1,           1,           1,           1,           1,\n",
              "                  1,           1,           1,           1,           1,           1,           1,           1,           1,           1,           1,           1,           1,           1,           1,           1,           1,           1,           1,           1,           1,           1,           1,\n",
              "                  1,           1,           1,           1,           1,           1,           1,           1,           1,           1,           1,           1,           1,           1,           1,           1,           1,           1,           1,           1,           1,           1,           1,\n",
              "                  1,           1,           1,           1,           1,           1,           1,           1,           1,           1,           1,           1,           1,           1,           1,           1,           1,           1,           1,           1,           1,           1,           1,\n",
              "                  1,           1,           1,           1,           1,           1,           1,           1,           1,           1,           1,           1,           1,           1,           1,           1,           1,           1,           1,           1,           1,           1,           1,\n",
              "                  1,           1,           1,           1,           1,           1,           1,           1,           1,           1,           1,           1,           1,           1,           1,           1,           1,           1,           1,           1,           1,           1,           1,\n",
              "                  1,           1,           1,           1,           1,           1,           1,           1,           1,           1,           1,           1,           1,           1,           1,           1,           1,           1,           1,           1,           1,           1,           1,\n",
              "                  1,           1,           1,           1,           1,           1,           1,           1,           1,           1,           1,           1,           1,           1,           1,           1,           1,           1,           1,           1,           1,           1,           1,\n",
              "                  1,           1,           1,           1,           1,           1,           1,           1,           1,           1,           1,           1,     0.99751,     0.99751,     0.99751,     0.99751,     0.99751,     0.99751,     0.99751,     0.99751,     0.99751,     0.99751,     0.99751,\n",
              "            0.99751,     0.99751,     0.99751,     0.99751,     0.99751,     0.99751,     0.99751,     0.99751,     0.99751,     0.99751,     0.99751,     0.99751,     0.99751,     0.99751,     0.99751,     0.99751,     0.99751,     0.99751,     0.99751,     0.99751,     0.99751,     0.99751,     0.99751,\n",
              "            0.99751,     0.99751,     0.99751,     0.99751,     0.99751,     0.99751,     0.99751,     0.99751,     0.99751,     0.99751,     0.99751,     0.99751,     0.99751,     0.99751,     0.99751,     0.99751,     0.99751,     0.99751,     0.99751,     0.99751,     0.99517,     0.99517,     0.99517,\n",
              "            0.99517,     0.99517,     0.99517,     0.99517,     0.99517,     0.99517,     0.99517,     0.99517,     0.99517,     0.99517,     0.99517,     0.99517,     0.99517,     0.99517,     0.99517,     0.99517,     0.99517,     0.99517,     0.99517,     0.99292,     0.99292,     0.99292,     0.99292,\n",
              "            0.99292,     0.99292,     0.99292,     0.99292,     0.99292,     0.99292,     0.99292,     0.99292,     0.99292,     0.99292,     0.99292,     0.99292,     0.99292,     0.99292,     0.99292,     0.99078,     0.99078,     0.99078,     0.99078,     0.99078,     0.99078,     0.99078,     0.99078,\n",
              "            0.99078,     0.99078,     0.99078,     0.99078,     0.99078,     0.99078,     0.99078,     0.99078,     0.99078,     0.99078,     0.98627,     0.98627,     0.98409,     0.98409,     0.98409,     0.98409,     0.98409,     0.98194,     0.98194,     0.98194,     0.98194,     0.97987,     0.97987,\n",
              "            0.97987,     0.97987,     0.97987,     0.97987,     0.97561,     0.97561,     0.97561,     0.97561,     0.97357,     0.97357,     0.97357,     0.97357,     0.97155,     0.97155,     0.97155,     0.97155,     0.96957,     0.96957,     0.96957,     0.96957,     0.96753,     0.96753,     0.95754,\n",
              "            0.95754,     0.95754,     0.95754,     0.95754,     0.95754,     0.95754,     0.95754,     0.95754,     0.94969,     0.94969,     0.94969,     0.94969,     0.94583,     0.94583,      0.9441,      0.9441,      0.9441,      0.9441,     0.93075,     0.93075,     0.92555,     0.92555,     0.92555,\n",
              "            0.92555,     0.92555,     0.92555,     0.92016,     0.92016,     0.91667,     0.91667,     0.91519,     0.91519,     0.91519,     0.91519,     0.90998,     0.90998,     0.90838,     0.90838,     0.87782,     0.87782,     0.85246,     0.85246,     0.84657,     0.84657,     0.84657,      0.8363,\n",
              "             0.8363,     0.83363,     0.83363,      0.7893,      0.7893,     0.75199,     0.75199,     0.42588,     0.42588,     0.25438,     0.24378,     0.23318,     0.22258,     0.21198,     0.20138,     0.19078,     0.18019,     0.16959,     0.15899,     0.14839,     0.13779,     0.12719,     0.11659,\n",
              "            0.10599,    0.095392,    0.084793,    0.074194,    0.063595,    0.052996,    0.042397,    0.031797,    0.021198,    0.010599,           0]]), 'Recall', 'Precision'], [array([          0,    0.001001,    0.002002,    0.003003,    0.004004,    0.005005,    0.006006,    0.007007,    0.008008,    0.009009,     0.01001,    0.011011,    0.012012,    0.013013,    0.014014,    0.015015,    0.016016,    0.017017,    0.018018,    0.019019,     0.02002,    0.021021,    0.022022,    0.023023,\n",
              "          0.024024,    0.025025,    0.026026,    0.027027,    0.028028,    0.029029,     0.03003,    0.031031,    0.032032,    0.033033,    0.034034,    0.035035,    0.036036,    0.037037,    0.038038,    0.039039,     0.04004,    0.041041,    0.042042,    0.043043,    0.044044,    0.045045,    0.046046,    0.047047,\n",
              "          0.048048,    0.049049,     0.05005,    0.051051,    0.052052,    0.053053,    0.054054,    0.055055,    0.056056,    0.057057,    0.058058,    0.059059,     0.06006,    0.061061,    0.062062,    0.063063,    0.064064,    0.065065,    0.066066,    0.067067,    0.068068,    0.069069,     0.07007,    0.071071,\n",
              "          0.072072,    0.073073,    0.074074,    0.075075,    0.076076,    0.077077,    0.078078,    0.079079,     0.08008,    0.081081,    0.082082,    0.083083,    0.084084,    0.085085,    0.086086,    0.087087,    0.088088,    0.089089,     0.09009,    0.091091,    0.092092,    0.093093,    0.094094,    0.095095,\n",
              "          0.096096,    0.097097,    0.098098,    0.099099,      0.1001,      0.1011,      0.1021,      0.1031,      0.1041,     0.10511,     0.10611,     0.10711,     0.10811,     0.10911,     0.11011,     0.11111,     0.11211,     0.11311,     0.11411,     0.11512,     0.11612,     0.11712,     0.11812,     0.11912,\n",
              "           0.12012,     0.12112,     0.12212,     0.12312,     0.12412,     0.12513,     0.12613,     0.12713,     0.12813,     0.12913,     0.13013,     0.13113,     0.13213,     0.13313,     0.13413,     0.13514,     0.13614,     0.13714,     0.13814,     0.13914,     0.14014,     0.14114,     0.14214,     0.14314,\n",
              "           0.14414,     0.14515,     0.14615,     0.14715,     0.14815,     0.14915,     0.15015,     0.15115,     0.15215,     0.15315,     0.15415,     0.15516,     0.15616,     0.15716,     0.15816,     0.15916,     0.16016,     0.16116,     0.16216,     0.16316,     0.16416,     0.16517,     0.16617,     0.16717,\n",
              "           0.16817,     0.16917,     0.17017,     0.17117,     0.17217,     0.17317,     0.17417,     0.17518,     0.17618,     0.17718,     0.17818,     0.17918,     0.18018,     0.18118,     0.18218,     0.18318,     0.18418,     0.18519,     0.18619,     0.18719,     0.18819,     0.18919,     0.19019,     0.19119,\n",
              "           0.19219,     0.19319,     0.19419,      0.1952,      0.1962,      0.1972,      0.1982,      0.1992,      0.2002,      0.2012,      0.2022,      0.2032,      0.2042,     0.20521,     0.20621,     0.20721,     0.20821,     0.20921,     0.21021,     0.21121,     0.21221,     0.21321,     0.21421,     0.21522,\n",
              "           0.21622,     0.21722,     0.21822,     0.21922,     0.22022,     0.22122,     0.22222,     0.22322,     0.22422,     0.22523,     0.22623,     0.22723,     0.22823,     0.22923,     0.23023,     0.23123,     0.23223,     0.23323,     0.23423,     0.23524,     0.23624,     0.23724,     0.23824,     0.23924,\n",
              "           0.24024,     0.24124,     0.24224,     0.24324,     0.24424,     0.24525,     0.24625,     0.24725,     0.24825,     0.24925,     0.25025,     0.25125,     0.25225,     0.25325,     0.25425,     0.25526,     0.25626,     0.25726,     0.25826,     0.25926,     0.26026,     0.26126,     0.26226,     0.26326,\n",
              "           0.26426,     0.26527,     0.26627,     0.26727,     0.26827,     0.26927,     0.27027,     0.27127,     0.27227,     0.27327,     0.27427,     0.27528,     0.27628,     0.27728,     0.27828,     0.27928,     0.28028,     0.28128,     0.28228,     0.28328,     0.28428,     0.28529,     0.28629,     0.28729,\n",
              "           0.28829,     0.28929,     0.29029,     0.29129,     0.29229,     0.29329,     0.29429,      0.2953,      0.2963,      0.2973,      0.2983,      0.2993,      0.3003,      0.3013,      0.3023,      0.3033,      0.3043,     0.30531,     0.30631,     0.30731,     0.30831,     0.30931,     0.31031,     0.31131,\n",
              "           0.31231,     0.31331,     0.31431,     0.31532,     0.31632,     0.31732,     0.31832,     0.31932,     0.32032,     0.32132,     0.32232,     0.32332,     0.32432,     0.32533,     0.32633,     0.32733,     0.32833,     0.32933,     0.33033,     0.33133,     0.33233,     0.33333,     0.33433,     0.33534,\n",
              "           0.33634,     0.33734,     0.33834,     0.33934,     0.34034,     0.34134,     0.34234,     0.34334,     0.34434,     0.34535,     0.34635,     0.34735,     0.34835,     0.34935,     0.35035,     0.35135,     0.35235,     0.35335,     0.35435,     0.35536,     0.35636,     0.35736,     0.35836,     0.35936,\n",
              "           0.36036,     0.36136,     0.36236,     0.36336,     0.36436,     0.36537,     0.36637,     0.36737,     0.36837,     0.36937,     0.37037,     0.37137,     0.37237,     0.37337,     0.37437,     0.37538,     0.37638,     0.37738,     0.37838,     0.37938,     0.38038,     0.38138,     0.38238,     0.38338,\n",
              "           0.38438,     0.38539,     0.38639,     0.38739,     0.38839,     0.38939,     0.39039,     0.39139,     0.39239,     0.39339,     0.39439,      0.3954,      0.3964,      0.3974,      0.3984,      0.3994,      0.4004,      0.4014,      0.4024,      0.4034,      0.4044,     0.40541,     0.40641,     0.40741,\n",
              "           0.40841,     0.40941,     0.41041,     0.41141,     0.41241,     0.41341,     0.41441,     0.41542,     0.41642,     0.41742,     0.41842,     0.41942,     0.42042,     0.42142,     0.42242,     0.42342,     0.42442,     0.42543,     0.42643,     0.42743,     0.42843,     0.42943,     0.43043,     0.43143,\n",
              "           0.43243,     0.43343,     0.43443,     0.43544,     0.43644,     0.43744,     0.43844,     0.43944,     0.44044,     0.44144,     0.44244,     0.44344,     0.44444,     0.44545,     0.44645,     0.44745,     0.44845,     0.44945,     0.45045,     0.45145,     0.45245,     0.45345,     0.45445,     0.45546,\n",
              "           0.45646,     0.45746,     0.45846,     0.45946,     0.46046,     0.46146,     0.46246,     0.46346,     0.46446,     0.46547,     0.46647,     0.46747,     0.46847,     0.46947,     0.47047,     0.47147,     0.47247,     0.47347,     0.47447,     0.47548,     0.47648,     0.47748,     0.47848,     0.47948,\n",
              "           0.48048,     0.48148,     0.48248,     0.48348,     0.48448,     0.48549,     0.48649,     0.48749,     0.48849,     0.48949,     0.49049,     0.49149,     0.49249,     0.49349,     0.49449,      0.4955,      0.4965,      0.4975,      0.4985,      0.4995,      0.5005,      0.5015,      0.5025,      0.5035,\n",
              "            0.5045,     0.50551,     0.50651,     0.50751,     0.50851,     0.50951,     0.51051,     0.51151,     0.51251,     0.51351,     0.51451,     0.51552,     0.51652,     0.51752,     0.51852,     0.51952,     0.52052,     0.52152,     0.52252,     0.52352,     0.52452,     0.52553,     0.52653,     0.52753,\n",
              "           0.52853,     0.52953,     0.53053,     0.53153,     0.53253,     0.53353,     0.53453,     0.53554,     0.53654,     0.53754,     0.53854,     0.53954,     0.54054,     0.54154,     0.54254,     0.54354,     0.54454,     0.54555,     0.54655,     0.54755,     0.54855,     0.54955,     0.55055,     0.55155,\n",
              "           0.55255,     0.55355,     0.55455,     0.55556,     0.55656,     0.55756,     0.55856,     0.55956,     0.56056,     0.56156,     0.56256,     0.56356,     0.56456,     0.56557,     0.56657,     0.56757,     0.56857,     0.56957,     0.57057,     0.57157,     0.57257,     0.57357,     0.57457,     0.57558,\n",
              "           0.57658,     0.57758,     0.57858,     0.57958,     0.58058,     0.58158,     0.58258,     0.58358,     0.58458,     0.58559,     0.58659,     0.58759,     0.58859,     0.58959,     0.59059,     0.59159,     0.59259,     0.59359,     0.59459,      0.5956,      0.5966,      0.5976,      0.5986,      0.5996,\n",
              "            0.6006,      0.6016,      0.6026,      0.6036,      0.6046,     0.60561,     0.60661,     0.60761,     0.60861,     0.60961,     0.61061,     0.61161,     0.61261,     0.61361,     0.61461,     0.61562,     0.61662,     0.61762,     0.61862,     0.61962,     0.62062,     0.62162,     0.62262,     0.62362,\n",
              "           0.62462,     0.62563,     0.62663,     0.62763,     0.62863,     0.62963,     0.63063,     0.63163,     0.63263,     0.63363,     0.63463,     0.63564,     0.63664,     0.63764,     0.63864,     0.63964,     0.64064,     0.64164,     0.64264,     0.64364,     0.64464,     0.64565,     0.64665,     0.64765,\n",
              "           0.64865,     0.64965,     0.65065,     0.65165,     0.65265,     0.65365,     0.65465,     0.65566,     0.65666,     0.65766,     0.65866,     0.65966,     0.66066,     0.66166,     0.66266,     0.66366,     0.66466,     0.66567,     0.66667,     0.66767,     0.66867,     0.66967,     0.67067,     0.67167,\n",
              "           0.67267,     0.67367,     0.67467,     0.67568,     0.67668,     0.67768,     0.67868,     0.67968,     0.68068,     0.68168,     0.68268,     0.68368,     0.68468,     0.68569,     0.68669,     0.68769,     0.68869,     0.68969,     0.69069,     0.69169,     0.69269,     0.69369,     0.69469,      0.6957,\n",
              "            0.6967,      0.6977,      0.6987,      0.6997,      0.7007,      0.7017,      0.7027,      0.7037,      0.7047,     0.70571,     0.70671,     0.70771,     0.70871,     0.70971,     0.71071,     0.71171,     0.71271,     0.71371,     0.71471,     0.71572,     0.71672,     0.71772,     0.71872,     0.71972,\n",
              "           0.72072,     0.72172,     0.72272,     0.72372,     0.72472,     0.72573,     0.72673,     0.72773,     0.72873,     0.72973,     0.73073,     0.73173,     0.73273,     0.73373,     0.73473,     0.73574,     0.73674,     0.73774,     0.73874,     0.73974,     0.74074,     0.74174,     0.74274,     0.74374,\n",
              "           0.74474,     0.74575,     0.74675,     0.74775,     0.74875,     0.74975,     0.75075,     0.75175,     0.75275,     0.75375,     0.75475,     0.75576,     0.75676,     0.75776,     0.75876,     0.75976,     0.76076,     0.76176,     0.76276,     0.76376,     0.76476,     0.76577,     0.76677,     0.76777,\n",
              "           0.76877,     0.76977,     0.77077,     0.77177,     0.77277,     0.77377,     0.77477,     0.77578,     0.77678,     0.77778,     0.77878,     0.77978,     0.78078,     0.78178,     0.78278,     0.78378,     0.78478,     0.78579,     0.78679,     0.78779,     0.78879,     0.78979,     0.79079,     0.79179,\n",
              "           0.79279,     0.79379,     0.79479,      0.7958,      0.7968,      0.7978,      0.7988,      0.7998,      0.8008,      0.8018,      0.8028,      0.8038,      0.8048,     0.80581,     0.80681,     0.80781,     0.80881,     0.80981,     0.81081,     0.81181,     0.81281,     0.81381,     0.81481,     0.81582,\n",
              "           0.81682,     0.81782,     0.81882,     0.81982,     0.82082,     0.82182,     0.82282,     0.82382,     0.82482,     0.82583,     0.82683,     0.82783,     0.82883,     0.82983,     0.83083,     0.83183,     0.83283,     0.83383,     0.83483,     0.83584,     0.83684,     0.83784,     0.83884,     0.83984,\n",
              "           0.84084,     0.84184,     0.84284,     0.84384,     0.84484,     0.84585,     0.84685,     0.84785,     0.84885,     0.84985,     0.85085,     0.85185,     0.85285,     0.85385,     0.85485,     0.85586,     0.85686,     0.85786,     0.85886,     0.85986,     0.86086,     0.86186,     0.86286,     0.86386,\n",
              "           0.86486,     0.86587,     0.86687,     0.86787,     0.86887,     0.86987,     0.87087,     0.87187,     0.87287,     0.87387,     0.87487,     0.87588,     0.87688,     0.87788,     0.87888,     0.87988,     0.88088,     0.88188,     0.88288,     0.88388,     0.88488,     0.88589,     0.88689,     0.88789,\n",
              "           0.88889,     0.88989,     0.89089,     0.89189,     0.89289,     0.89389,     0.89489,      0.8959,      0.8969,      0.8979,      0.8989,      0.8999,      0.9009,      0.9019,      0.9029,      0.9039,      0.9049,     0.90591,     0.90691,     0.90791,     0.90891,     0.90991,     0.91091,     0.91191,\n",
              "           0.91291,     0.91391,     0.91491,     0.91592,     0.91692,     0.91792,     0.91892,     0.91992,     0.92092,     0.92192,     0.92292,     0.92392,     0.92492,     0.92593,     0.92693,     0.92793,     0.92893,     0.92993,     0.93093,     0.93193,     0.93293,     0.93393,     0.93493,     0.93594,\n",
              "           0.93694,     0.93794,     0.93894,     0.93994,     0.94094,     0.94194,     0.94294,     0.94394,     0.94494,     0.94595,     0.94695,     0.94795,     0.94895,     0.94995,     0.95095,     0.95195,     0.95295,     0.95395,     0.95495,     0.95596,     0.95696,     0.95796,     0.95896,     0.95996,\n",
              "           0.96096,     0.96196,     0.96296,     0.96396,     0.96496,     0.96597,     0.96697,     0.96797,     0.96897,     0.96997,     0.97097,     0.97197,     0.97297,     0.97397,     0.97497,     0.97598,     0.97698,     0.97798,     0.97898,     0.97998,     0.98098,     0.98198,     0.98298,     0.98398,\n",
              "           0.98498,     0.98599,     0.98699,     0.98799,     0.98899,     0.98999,     0.99099,     0.99199,     0.99299,     0.99399,     0.99499,       0.996,       0.997,       0.998,       0.999,           1]), array([[    0.41235,     0.41235,     0.51548,     0.57176,     0.61385,     0.64188,     0.66481,     0.68497,     0.69974,     0.71278,     0.71994,      0.7282,     0.73951,     0.74541,     0.75281,     0.75902,      0.7716,      0.7828,     0.78701,     0.79021,     0.79489,     0.79923,     0.80182,\n",
              "            0.80301,     0.80981,     0.81367,     0.81528,     0.81943,     0.82496,     0.82689,     0.83053,     0.83464,     0.83678,     0.84167,     0.84334,     0.84418,     0.84652,     0.84778,     0.84939,      0.8521,     0.85317,     0.85635,     0.85812,     0.85897,     0.85944,     0.86167,\n",
              "            0.86484,     0.86598,     0.86698,     0.86729,     0.86759,     0.86841,     0.86889,     0.86991,       0.871,     0.87185,     0.87237,     0.87271,     0.87306,     0.87374,     0.87415,     0.87452,     0.87572,     0.87723,     0.87774,     0.87836,     0.87967,     0.88118,     0.88383,\n",
              "            0.88421,     0.88479,     0.88581,      0.8868,     0.88785,     0.88876,     0.88954,     0.88988,     0.89021,     0.89079,     0.89185,     0.89279,     0.89391,     0.89493,     0.89579,     0.89572,     0.89625,     0.89675,     0.89768,     0.89807,     0.89846,     0.89947,     0.89962,\n",
              "            0.89976,     0.89991,     0.90006,     0.90021,     0.90056,     0.90091,     0.90117,     0.90137,     0.90156,     0.90176,     0.90187,     0.90155,     0.90123,      0.9009,      0.9017,     0.90203,     0.90234,      0.9027,     0.90327,     0.90371,     0.90409,     0.90425,     0.90395,\n",
              "            0.90365,     0.90335,     0.90345,     0.90365,     0.90385,     0.90405,     0.90515,     0.90558,     0.90596,     0.90616,     0.90637,     0.90658,     0.90678,     0.90698,     0.90718,     0.90738,     0.90759,     0.90803,     0.90969,     0.91101,     0.91149,     0.91181,     0.91303,\n",
              "            0.91352,     0.91395,     0.91423,      0.9145,     0.91477,     0.91596,     0.91657,      0.9168,     0.91701,     0.91723,     0.91745,     0.91728,     0.91703,     0.91678,     0.91653,     0.91648,     0.91659,      0.9167,     0.91681,     0.91692,     0.91704,     0.91715,     0.91726,\n",
              "            0.91735,     0.91741,     0.91747,     0.91753,     0.91759,     0.91765,     0.91771,     0.91778,     0.91784,      0.9179,     0.91796,     0.91802,     0.91808,     0.91814,      0.9182,     0.91837,      0.9186,     0.91882,     0.91905,     0.91937,     0.91976,     0.92013,     0.92044,\n",
              "            0.92075,     0.92126,     0.92194,     0.92224,     0.92254,     0.92301,     0.92408,     0.92482,     0.92524,     0.92647,     0.92685,     0.92723,     0.92751,     0.92774,     0.92797,      0.9282,     0.92925,     0.92938,     0.92951,     0.92965,     0.92978,     0.92991,     0.93005,\n",
              "            0.93016,     0.93022,     0.93028,     0.93034,      0.9304,     0.93047,     0.93053,     0.93059,     0.93065,     0.93071,     0.93077,     0.93083,      0.9309,     0.93096,     0.93102,      0.9311,     0.93125,      0.9314,     0.93155,     0.93171,     0.93186,       0.932,     0.93205,\n",
              "             0.9321,     0.93215,      0.9322,     0.93225,      0.9323,     0.93235,      0.9324,     0.93245,      0.9325,     0.93255,      0.9326,     0.93265,      0.9327,     0.93275,      0.9328,     0.93285,      0.9329,     0.93291,     0.93283,     0.93275,     0.93267,     0.93259,     0.93251,\n",
              "            0.93244,     0.93236,     0.93228,      0.9322,     0.93212,     0.93204,     0.93196,     0.93188,       0.932,     0.93217,     0.93235,     0.93252,     0.93269,     0.93275,     0.93265,     0.93254,     0.93243,     0.93232,     0.93221,      0.9321,     0.93199,     0.93188,     0.93177,\n",
              "             0.9319,     0.93218,     0.93245,     0.93268,     0.93278,     0.93287,     0.93296,     0.93305,     0.93314,     0.93323,     0.93333,     0.93342,     0.93351,      0.9336,     0.93454,     0.93437,      0.9342,     0.93403,     0.93386,     0.93369,     0.93352,     0.93249,     0.93253,\n",
              "            0.93267,     0.93281,     0.93295,      0.9331,     0.93324,     0.93332,     0.93327,     0.93322,     0.93318,     0.93313,     0.93308,     0.93303,     0.93299,     0.93294,     0.93289,     0.93285,      0.9328,     0.93275,     0.93271,     0.93266,     0.93261,     0.93256,     0.93252,\n",
              "            0.93247,     0.93242,     0.93238,     0.93233,     0.93228,      0.9328,     0.93323,     0.93327,     0.93331,     0.93336,      0.9334,     0.93344,     0.93349,     0.93353,     0.93357,     0.93362,     0.93366,      0.9337,     0.93375,     0.93379,     0.93383,     0.93387,     0.93392,\n",
              "            0.93396,       0.934,     0.93405,     0.93409,     0.93413,     0.93409,     0.93402,     0.93395,     0.93388,     0.93381,     0.93373,     0.93366,     0.93359,     0.93352,     0.93345,     0.93338,      0.9333,     0.93323,     0.93316,     0.93309,     0.93308,     0.93312,     0.93316,\n",
              "            0.93319,     0.93323,     0.93326,      0.9333,     0.93333,     0.93337,     0.93341,     0.93344,     0.93348,     0.93351,     0.93355,     0.93358,     0.93362,     0.93366,     0.93369,     0.93373,     0.93376,      0.9338,     0.93383,     0.93387,      0.9339,     0.93394,     0.93398,\n",
              "            0.93402,     0.93435,     0.93467,      0.9351,     0.93586,     0.93574,     0.93561,     0.93548,     0.93536,     0.93523,      0.9351,     0.93497,     0.93485,     0.93463,      0.9344,     0.93416,     0.93393,      0.9337,     0.93347,     0.93325,     0.93303,      0.9328,     0.93272,\n",
              "            0.93293,     0.93313,     0.93334,     0.93354,     0.93365,     0.93371,     0.93377,     0.93384,      0.9339,     0.93396,     0.93402,     0.93408,     0.93415,     0.93421,     0.93427,     0.93433,     0.93439,     0.93446,     0.93452,     0.93463,     0.93483,     0.93504,     0.93525,\n",
              "            0.93545,     0.93547,     0.93541,     0.93535,     0.93528,     0.93522,     0.93516,      0.9351,     0.93503,     0.93497,     0.93491,     0.93484,     0.93478,     0.93472,     0.93465,     0.93459,     0.93453,     0.93447,     0.93543,     0.93554,     0.93564,     0.93575,     0.93586,\n",
              "            0.93597,     0.93608,     0.93619,      0.9363,     0.93642,     0.93654,     0.93667,     0.93679,     0.93691,     0.93704,     0.93716,     0.93728,     0.93732,     0.93734,     0.93736,     0.93737,     0.93739,     0.93741,     0.93743,     0.93744,     0.93746,     0.93748,      0.9375,\n",
              "            0.93752,     0.93753,     0.93755,     0.93757,     0.93759,      0.9376,     0.93762,     0.93764,     0.93766,     0.93767,     0.93769,     0.93771,     0.93773,     0.93775,     0.93776,     0.93778,      0.9378,     0.93782,     0.93783,     0.93785,     0.93787,     0.93789,      0.9379,\n",
              "            0.93792,     0.93794,     0.93796,     0.93797,     0.93799,     0.93801,     0.93803,     0.93805,     0.93806,     0.93808,      0.9381,     0.93812,     0.93813,     0.93815,     0.93817,     0.93819,      0.9382,     0.93822,     0.93824,     0.93826,      0.9383,     0.93846,     0.93863,\n",
              "            0.93879,     0.93896,     0.93912,     0.93926,     0.93932,     0.93938,     0.93944,     0.93951,     0.93957,     0.93963,     0.93969,     0.93975,     0.93982,     0.93988,     0.93994,        0.94,     0.94006,     0.94013,     0.94019,     0.94031,     0.94045,     0.94059,     0.94073,\n",
              "            0.94087,     0.94102,     0.94116,      0.9411,     0.94101,     0.94092,     0.94083,     0.94074,     0.94065,     0.94056,     0.94047,     0.94038,     0.94029,      0.9402,     0.94011,     0.94005,     0.94001,     0.93996,     0.93992,     0.93988,     0.93983,     0.93979,     0.93974,\n",
              "             0.9397,     0.93966,     0.93961,     0.93957,     0.93952,     0.93948,     0.93944,     0.93939,     0.93935,      0.9393,     0.93926,     0.93922,     0.93917,     0.93913,     0.93908,     0.93904,       0.939,     0.93904,      0.9391,     0.93916,     0.93922,     0.93929,     0.93935,\n",
              "            0.93941,     0.93947,     0.93953,      0.9396,     0.93966,     0.93972,     0.93978,     0.93985,     0.93991,     0.93989,     0.93951,     0.93914,     0.93892,     0.93917,     0.93942,     0.93967,      0.9399,     0.94008,     0.94026,     0.94044,     0.94063,     0.94081,     0.94074,\n",
              "            0.94067,      0.9406,     0.94053,     0.94046,     0.94039,     0.94032,     0.94025,     0.94018,     0.94011,     0.94003,     0.93996,     0.93989,     0.93982,     0.93975,     0.93959,     0.93926,     0.93894,     0.93862,      0.9388,       0.939,      0.9392,      0.9394,      0.9396,\n",
              "            0.93974,     0.93988,     0.94003,     0.94017,     0.94031,     0.94046,      0.9406,     0.94076,     0.94091,     0.94107,     0.94122,     0.94138,     0.94153,     0.94165,     0.94176,     0.94187,     0.94198,      0.9421,     0.94221,     0.94232,     0.94243,     0.94132,     0.94056,\n",
              "            0.94009,     0.93977,     0.93944,     0.93916,       0.939,     0.93884,     0.93867,     0.93851,     0.93835,     0.93818,     0.93813,     0.93821,     0.93829,     0.93837,     0.93845,     0.93853,     0.93861,     0.93869,     0.93877,     0.93885,     0.93893,     0.93901,      0.9391,\n",
              "             0.9392,      0.9393,      0.9394,      0.9395,     0.93961,     0.93971,     0.93981,     0.93991,     0.94001,     0.94026,     0.94066,     0.94107,     0.94148,     0.94188,     0.94213,     0.94226,      0.9424,     0.94253,     0.94267,     0.94281,     0.94294,     0.94271,     0.94195,\n",
              "            0.94202,      0.9421,     0.94217,     0.94225,     0.94232,      0.9424,     0.94247,     0.94255,     0.94263,      0.9427,     0.94278,     0.94285,     0.94286,     0.94248,      0.9421,     0.94155,     0.94092,     0.94164,     0.94148,     0.94133,     0.94117,     0.94102,     0.94087,\n",
              "            0.94071,     0.94056,     0.93983,     0.93992,     0.94032,     0.94011,      0.9399,     0.93969,     0.93948,     0.93928,     0.93915,     0.93902,     0.93889,     0.93876,     0.93864,     0.93851,     0.93838,     0.93825,     0.93831,     0.93872,     0.93914,     0.93897,     0.93876,\n",
              "            0.93855,     0.93834,     0.93813,     0.93778,     0.93731,     0.93692,     0.93709,     0.93726,     0.93743,      0.9376,     0.93778,     0.93793,     0.93803,     0.93812,     0.93822,     0.93832,     0.93842,     0.93852,     0.93861,     0.93871,     0.93881,      0.9389,     0.93831,\n",
              "            0.93773,     0.93714,     0.93662,     0.93654,     0.93646,     0.93638,     0.93629,     0.93621,     0.93613,     0.93605,     0.93597,     0.93589,     0.93581,     0.93573,     0.93565,     0.93557,     0.93549,     0.93514,     0.93492,     0.93471,      0.9345,     0.93428,     0.93451,\n",
              "            0.93503,     0.93469,     0.93401,      0.9338,     0.93358,     0.93337,     0.93315,     0.93294,     0.93298,     0.93308,     0.93318,     0.93328,     0.93338,     0.93348,     0.93357,     0.93367,     0.93377,     0.93387,     0.93357,     0.93297,     0.93294,     0.93324,     0.93354,\n",
              "            0.93422,     0.93459,     0.93433,     0.93406,      0.9338,     0.93342,     0.93283,     0.93239,     0.93221,     0.93202,     0.93184,     0.93166,     0.93147,     0.93129,     0.93116,     0.93103,     0.93089,     0.93076,     0.93063,     0.93049,     0.93036,     0.93023,     0.93003,\n",
              "            0.92963,     0.92923,      0.9289,     0.92873,     0.92856,     0.92839,     0.92822,     0.92805,     0.92787,     0.92762,     0.92727,     0.92693,     0.92639,     0.92519,     0.92479,     0.92439,     0.92481,     0.92273,     0.92192,     0.92146,     0.92111,     0.92076,     0.92043,\n",
              "            0.92012,     0.91982,     0.91951,      0.9188,     0.91581,     0.91522,     0.91514,     0.91433,     0.91383,     0.91334,     0.91183,       0.911,     0.90868,     0.90799,     0.90758,     0.90716,     0.90488,     0.90272,     0.90279,     0.90087,     0.90024,     0.89973,     0.89891,\n",
              "            0.89672,     0.89621,     0.89569,     0.89378,     0.89284,     0.89219,     0.89162,      0.8911,     0.89029,     0.88854,     0.88669,     0.88582,     0.88143,     0.87903,      0.8785,     0.87797,     0.87715,     0.87562,     0.87282,     0.87092,     0.86786,     0.86651,     0.86515,\n",
              "            0.86269,     0.86036,     0.85762,     0.85215,     0.84937,     0.84245,     0.83777,     0.83117,     0.82545,     0.82254,     0.81352,     0.80941,     0.80495,     0.79748,     0.78841,     0.78531,     0.78219,     0.77598,     0.77126,      0.7665,       0.757,     0.75049,     0.74719,\n",
              "            0.73898,     0.73087,      0.7275,     0.72215,     0.71361,     0.70323,     0.69443,     0.69043,     0.68186,     0.66731,     0.65987,      0.6486,     0.63713,     0.62547,     0.60765,     0.59751,     0.57687,     0.57049,     0.55765,     0.54893,     0.53791,     0.51999,     0.49699,\n",
              "            0.48516,     0.46349,     0.45112,     0.41823,     0.36212,     0.31368,     0.28072,      0.2316,     0.20416,     0.17018,     0.12047,    0.083222,    0.048393,    0.036368,    0.012071,           0,           0,           0,           0,           0,           0,           0,           0,\n",
              "                  0,           0,           0,           0,           0,           0,           0,           0,           0,           0,           0]]), 'Confidence', 'F1'], [array([          0,    0.001001,    0.002002,    0.003003,    0.004004,    0.005005,    0.006006,    0.007007,    0.008008,    0.009009,     0.01001,    0.011011,    0.012012,    0.013013,    0.014014,    0.015015,    0.016016,    0.017017,    0.018018,    0.019019,     0.02002,    0.021021,    0.022022,    0.023023,\n",
              "          0.024024,    0.025025,    0.026026,    0.027027,    0.028028,    0.029029,     0.03003,    0.031031,    0.032032,    0.033033,    0.034034,    0.035035,    0.036036,    0.037037,    0.038038,    0.039039,     0.04004,    0.041041,    0.042042,    0.043043,    0.044044,    0.045045,    0.046046,    0.047047,\n",
              "          0.048048,    0.049049,     0.05005,    0.051051,    0.052052,    0.053053,    0.054054,    0.055055,    0.056056,    0.057057,    0.058058,    0.059059,     0.06006,    0.061061,    0.062062,    0.063063,    0.064064,    0.065065,    0.066066,    0.067067,    0.068068,    0.069069,     0.07007,    0.071071,\n",
              "          0.072072,    0.073073,    0.074074,    0.075075,    0.076076,    0.077077,    0.078078,    0.079079,     0.08008,    0.081081,    0.082082,    0.083083,    0.084084,    0.085085,    0.086086,    0.087087,    0.088088,    0.089089,     0.09009,    0.091091,    0.092092,    0.093093,    0.094094,    0.095095,\n",
              "          0.096096,    0.097097,    0.098098,    0.099099,      0.1001,      0.1011,      0.1021,      0.1031,      0.1041,     0.10511,     0.10611,     0.10711,     0.10811,     0.10911,     0.11011,     0.11111,     0.11211,     0.11311,     0.11411,     0.11512,     0.11612,     0.11712,     0.11812,     0.11912,\n",
              "           0.12012,     0.12112,     0.12212,     0.12312,     0.12412,     0.12513,     0.12613,     0.12713,     0.12813,     0.12913,     0.13013,     0.13113,     0.13213,     0.13313,     0.13413,     0.13514,     0.13614,     0.13714,     0.13814,     0.13914,     0.14014,     0.14114,     0.14214,     0.14314,\n",
              "           0.14414,     0.14515,     0.14615,     0.14715,     0.14815,     0.14915,     0.15015,     0.15115,     0.15215,     0.15315,     0.15415,     0.15516,     0.15616,     0.15716,     0.15816,     0.15916,     0.16016,     0.16116,     0.16216,     0.16316,     0.16416,     0.16517,     0.16617,     0.16717,\n",
              "           0.16817,     0.16917,     0.17017,     0.17117,     0.17217,     0.17317,     0.17417,     0.17518,     0.17618,     0.17718,     0.17818,     0.17918,     0.18018,     0.18118,     0.18218,     0.18318,     0.18418,     0.18519,     0.18619,     0.18719,     0.18819,     0.18919,     0.19019,     0.19119,\n",
              "           0.19219,     0.19319,     0.19419,      0.1952,      0.1962,      0.1972,      0.1982,      0.1992,      0.2002,      0.2012,      0.2022,      0.2032,      0.2042,     0.20521,     0.20621,     0.20721,     0.20821,     0.20921,     0.21021,     0.21121,     0.21221,     0.21321,     0.21421,     0.21522,\n",
              "           0.21622,     0.21722,     0.21822,     0.21922,     0.22022,     0.22122,     0.22222,     0.22322,     0.22422,     0.22523,     0.22623,     0.22723,     0.22823,     0.22923,     0.23023,     0.23123,     0.23223,     0.23323,     0.23423,     0.23524,     0.23624,     0.23724,     0.23824,     0.23924,\n",
              "           0.24024,     0.24124,     0.24224,     0.24324,     0.24424,     0.24525,     0.24625,     0.24725,     0.24825,     0.24925,     0.25025,     0.25125,     0.25225,     0.25325,     0.25425,     0.25526,     0.25626,     0.25726,     0.25826,     0.25926,     0.26026,     0.26126,     0.26226,     0.26326,\n",
              "           0.26426,     0.26527,     0.26627,     0.26727,     0.26827,     0.26927,     0.27027,     0.27127,     0.27227,     0.27327,     0.27427,     0.27528,     0.27628,     0.27728,     0.27828,     0.27928,     0.28028,     0.28128,     0.28228,     0.28328,     0.28428,     0.28529,     0.28629,     0.28729,\n",
              "           0.28829,     0.28929,     0.29029,     0.29129,     0.29229,     0.29329,     0.29429,      0.2953,      0.2963,      0.2973,      0.2983,      0.2993,      0.3003,      0.3013,      0.3023,      0.3033,      0.3043,     0.30531,     0.30631,     0.30731,     0.30831,     0.30931,     0.31031,     0.31131,\n",
              "           0.31231,     0.31331,     0.31431,     0.31532,     0.31632,     0.31732,     0.31832,     0.31932,     0.32032,     0.32132,     0.32232,     0.32332,     0.32432,     0.32533,     0.32633,     0.32733,     0.32833,     0.32933,     0.33033,     0.33133,     0.33233,     0.33333,     0.33433,     0.33534,\n",
              "           0.33634,     0.33734,     0.33834,     0.33934,     0.34034,     0.34134,     0.34234,     0.34334,     0.34434,     0.34535,     0.34635,     0.34735,     0.34835,     0.34935,     0.35035,     0.35135,     0.35235,     0.35335,     0.35435,     0.35536,     0.35636,     0.35736,     0.35836,     0.35936,\n",
              "           0.36036,     0.36136,     0.36236,     0.36336,     0.36436,     0.36537,     0.36637,     0.36737,     0.36837,     0.36937,     0.37037,     0.37137,     0.37237,     0.37337,     0.37437,     0.37538,     0.37638,     0.37738,     0.37838,     0.37938,     0.38038,     0.38138,     0.38238,     0.38338,\n",
              "           0.38438,     0.38539,     0.38639,     0.38739,     0.38839,     0.38939,     0.39039,     0.39139,     0.39239,     0.39339,     0.39439,      0.3954,      0.3964,      0.3974,      0.3984,      0.3994,      0.4004,      0.4014,      0.4024,      0.4034,      0.4044,     0.40541,     0.40641,     0.40741,\n",
              "           0.40841,     0.40941,     0.41041,     0.41141,     0.41241,     0.41341,     0.41441,     0.41542,     0.41642,     0.41742,     0.41842,     0.41942,     0.42042,     0.42142,     0.42242,     0.42342,     0.42442,     0.42543,     0.42643,     0.42743,     0.42843,     0.42943,     0.43043,     0.43143,\n",
              "           0.43243,     0.43343,     0.43443,     0.43544,     0.43644,     0.43744,     0.43844,     0.43944,     0.44044,     0.44144,     0.44244,     0.44344,     0.44444,     0.44545,     0.44645,     0.44745,     0.44845,     0.44945,     0.45045,     0.45145,     0.45245,     0.45345,     0.45445,     0.45546,\n",
              "           0.45646,     0.45746,     0.45846,     0.45946,     0.46046,     0.46146,     0.46246,     0.46346,     0.46446,     0.46547,     0.46647,     0.46747,     0.46847,     0.46947,     0.47047,     0.47147,     0.47247,     0.47347,     0.47447,     0.47548,     0.47648,     0.47748,     0.47848,     0.47948,\n",
              "           0.48048,     0.48148,     0.48248,     0.48348,     0.48448,     0.48549,     0.48649,     0.48749,     0.48849,     0.48949,     0.49049,     0.49149,     0.49249,     0.49349,     0.49449,      0.4955,      0.4965,      0.4975,      0.4985,      0.4995,      0.5005,      0.5015,      0.5025,      0.5035,\n",
              "            0.5045,     0.50551,     0.50651,     0.50751,     0.50851,     0.50951,     0.51051,     0.51151,     0.51251,     0.51351,     0.51451,     0.51552,     0.51652,     0.51752,     0.51852,     0.51952,     0.52052,     0.52152,     0.52252,     0.52352,     0.52452,     0.52553,     0.52653,     0.52753,\n",
              "           0.52853,     0.52953,     0.53053,     0.53153,     0.53253,     0.53353,     0.53453,     0.53554,     0.53654,     0.53754,     0.53854,     0.53954,     0.54054,     0.54154,     0.54254,     0.54354,     0.54454,     0.54555,     0.54655,     0.54755,     0.54855,     0.54955,     0.55055,     0.55155,\n",
              "           0.55255,     0.55355,     0.55455,     0.55556,     0.55656,     0.55756,     0.55856,     0.55956,     0.56056,     0.56156,     0.56256,     0.56356,     0.56456,     0.56557,     0.56657,     0.56757,     0.56857,     0.56957,     0.57057,     0.57157,     0.57257,     0.57357,     0.57457,     0.57558,\n",
              "           0.57658,     0.57758,     0.57858,     0.57958,     0.58058,     0.58158,     0.58258,     0.58358,     0.58458,     0.58559,     0.58659,     0.58759,     0.58859,     0.58959,     0.59059,     0.59159,     0.59259,     0.59359,     0.59459,      0.5956,      0.5966,      0.5976,      0.5986,      0.5996,\n",
              "            0.6006,      0.6016,      0.6026,      0.6036,      0.6046,     0.60561,     0.60661,     0.60761,     0.60861,     0.60961,     0.61061,     0.61161,     0.61261,     0.61361,     0.61461,     0.61562,     0.61662,     0.61762,     0.61862,     0.61962,     0.62062,     0.62162,     0.62262,     0.62362,\n",
              "           0.62462,     0.62563,     0.62663,     0.62763,     0.62863,     0.62963,     0.63063,     0.63163,     0.63263,     0.63363,     0.63463,     0.63564,     0.63664,     0.63764,     0.63864,     0.63964,     0.64064,     0.64164,     0.64264,     0.64364,     0.64464,     0.64565,     0.64665,     0.64765,\n",
              "           0.64865,     0.64965,     0.65065,     0.65165,     0.65265,     0.65365,     0.65465,     0.65566,     0.65666,     0.65766,     0.65866,     0.65966,     0.66066,     0.66166,     0.66266,     0.66366,     0.66466,     0.66567,     0.66667,     0.66767,     0.66867,     0.66967,     0.67067,     0.67167,\n",
              "           0.67267,     0.67367,     0.67467,     0.67568,     0.67668,     0.67768,     0.67868,     0.67968,     0.68068,     0.68168,     0.68268,     0.68368,     0.68468,     0.68569,     0.68669,     0.68769,     0.68869,     0.68969,     0.69069,     0.69169,     0.69269,     0.69369,     0.69469,      0.6957,\n",
              "            0.6967,      0.6977,      0.6987,      0.6997,      0.7007,      0.7017,      0.7027,      0.7037,      0.7047,     0.70571,     0.70671,     0.70771,     0.70871,     0.70971,     0.71071,     0.71171,     0.71271,     0.71371,     0.71471,     0.71572,     0.71672,     0.71772,     0.71872,     0.71972,\n",
              "           0.72072,     0.72172,     0.72272,     0.72372,     0.72472,     0.72573,     0.72673,     0.72773,     0.72873,     0.72973,     0.73073,     0.73173,     0.73273,     0.73373,     0.73473,     0.73574,     0.73674,     0.73774,     0.73874,     0.73974,     0.74074,     0.74174,     0.74274,     0.74374,\n",
              "           0.74474,     0.74575,     0.74675,     0.74775,     0.74875,     0.74975,     0.75075,     0.75175,     0.75275,     0.75375,     0.75475,     0.75576,     0.75676,     0.75776,     0.75876,     0.75976,     0.76076,     0.76176,     0.76276,     0.76376,     0.76476,     0.76577,     0.76677,     0.76777,\n",
              "           0.76877,     0.76977,     0.77077,     0.77177,     0.77277,     0.77377,     0.77477,     0.77578,     0.77678,     0.77778,     0.77878,     0.77978,     0.78078,     0.78178,     0.78278,     0.78378,     0.78478,     0.78579,     0.78679,     0.78779,     0.78879,     0.78979,     0.79079,     0.79179,\n",
              "           0.79279,     0.79379,     0.79479,      0.7958,      0.7968,      0.7978,      0.7988,      0.7998,      0.8008,      0.8018,      0.8028,      0.8038,      0.8048,     0.80581,     0.80681,     0.80781,     0.80881,     0.80981,     0.81081,     0.81181,     0.81281,     0.81381,     0.81481,     0.81582,\n",
              "           0.81682,     0.81782,     0.81882,     0.81982,     0.82082,     0.82182,     0.82282,     0.82382,     0.82482,     0.82583,     0.82683,     0.82783,     0.82883,     0.82983,     0.83083,     0.83183,     0.83283,     0.83383,     0.83483,     0.83584,     0.83684,     0.83784,     0.83884,     0.83984,\n",
              "           0.84084,     0.84184,     0.84284,     0.84384,     0.84484,     0.84585,     0.84685,     0.84785,     0.84885,     0.84985,     0.85085,     0.85185,     0.85285,     0.85385,     0.85485,     0.85586,     0.85686,     0.85786,     0.85886,     0.85986,     0.86086,     0.86186,     0.86286,     0.86386,\n",
              "           0.86486,     0.86587,     0.86687,     0.86787,     0.86887,     0.86987,     0.87087,     0.87187,     0.87287,     0.87387,     0.87487,     0.87588,     0.87688,     0.87788,     0.87888,     0.87988,     0.88088,     0.88188,     0.88288,     0.88388,     0.88488,     0.88589,     0.88689,     0.88789,\n",
              "           0.88889,     0.88989,     0.89089,     0.89189,     0.89289,     0.89389,     0.89489,      0.8959,      0.8969,      0.8979,      0.8989,      0.8999,      0.9009,      0.9019,      0.9029,      0.9039,      0.9049,     0.90591,     0.90691,     0.90791,     0.90891,     0.90991,     0.91091,     0.91191,\n",
              "           0.91291,     0.91391,     0.91491,     0.91592,     0.91692,     0.91792,     0.91892,     0.91992,     0.92092,     0.92192,     0.92292,     0.92392,     0.92492,     0.92593,     0.92693,     0.92793,     0.92893,     0.92993,     0.93093,     0.93193,     0.93293,     0.93393,     0.93493,     0.93594,\n",
              "           0.93694,     0.93794,     0.93894,     0.93994,     0.94094,     0.94194,     0.94294,     0.94394,     0.94494,     0.94595,     0.94695,     0.94795,     0.94895,     0.94995,     0.95095,     0.95195,     0.95295,     0.95395,     0.95495,     0.95596,     0.95696,     0.95796,     0.95896,     0.95996,\n",
              "           0.96096,     0.96196,     0.96296,     0.96396,     0.96496,     0.96597,     0.96697,     0.96797,     0.96897,     0.96997,     0.97097,     0.97197,     0.97297,     0.97397,     0.97497,     0.97598,     0.97698,     0.97798,     0.97898,     0.97998,     0.98098,     0.98198,     0.98298,     0.98398,\n",
              "           0.98498,     0.98599,     0.98699,     0.98799,     0.98899,     0.98999,     0.99099,     0.99199,     0.99299,     0.99399,     0.99499,       0.996,       0.997,       0.998,       0.999,           1]), array([[    0.26145,     0.26145,     0.35032,     0.40442,      0.4483,     0.47885,     0.50482,     0.52844,     0.54624,      0.5623,     0.57126,     0.58173,      0.5963,     0.60401,     0.61379,     0.62209,     0.63916,     0.65469,     0.66059,     0.66512,     0.67177,       0.678,     0.68174,\n",
              "            0.68346,     0.69337,     0.69904,     0.70143,     0.70759,     0.71589,     0.71879,     0.72432,     0.73059,     0.73388,     0.74143,     0.74403,     0.74534,     0.74899,     0.75097,     0.75474,     0.75902,     0.76072,      0.7658,     0.76863,     0.76999,     0.77076,     0.77434,\n",
              "            0.77948,     0.78134,     0.78297,     0.78347,     0.78396,      0.7853,     0.78608,     0.78775,     0.79092,     0.79232,     0.79318,     0.79374,     0.79432,     0.79544,     0.79613,     0.79673,     0.79873,     0.80124,      0.8021,     0.80314,     0.80532,     0.80786,     0.81232,\n",
              "            0.81298,     0.81394,     0.81567,     0.81736,     0.81915,     0.82069,     0.82203,      0.8226,     0.82318,     0.82417,     0.82597,     0.82759,     0.82952,     0.83128,     0.83277,     0.83347,     0.83508,     0.83595,     0.83912,      0.8398,     0.84049,     0.84226,     0.84252,\n",
              "            0.84277,     0.84303,     0.84329,     0.84356,     0.84417,     0.84478,     0.84524,     0.84559,     0.84594,     0.84628,     0.84656,     0.84647,     0.84639,      0.8463,     0.84777,     0.84836,      0.8489,     0.84953,     0.85054,     0.85134,       0.852,     0.85243,     0.85236,\n",
              "            0.85228,     0.85221,     0.85247,     0.85283,     0.85319,     0.85355,     0.85552,     0.85627,     0.85695,     0.85732,     0.85769,     0.85806,     0.85843,     0.85879,     0.85915,     0.85951,     0.85987,     0.86068,     0.86365,     0.86604,     0.86691,     0.86749,     0.86969,\n",
              "            0.87058,     0.87138,     0.87187,     0.87237,     0.87286,     0.87503,     0.87615,     0.87656,     0.87696,     0.87736,     0.87775,     0.87777,     0.87772,     0.87767,     0.87761,      0.8777,     0.87791,     0.87811,     0.87831,     0.87851,     0.87872,     0.87892,     0.87912,\n",
              "            0.87929,      0.8794,     0.87951,     0.87963,     0.87974,     0.87985,     0.87997,     0.88008,     0.88019,      0.8803,     0.88042,     0.88053,     0.88064,     0.88075,     0.88087,     0.88117,     0.88159,       0.882,     0.88242,     0.88302,     0.88374,     0.88442,       0.885,\n",
              "            0.88557,      0.8865,     0.88777,     0.88833,     0.88888,     0.88976,     0.89175,     0.89312,      0.8939,     0.89621,     0.89692,     0.89762,     0.89816,     0.89859,     0.89902,     0.89945,     0.90142,     0.90167,     0.90192,     0.90217,     0.90242,     0.90267,     0.90292,\n",
              "            0.90314,     0.90325,     0.90337,     0.90348,      0.9036,     0.90372,     0.90383,     0.90395,     0.90406,     0.90418,     0.90429,     0.90441,     0.90453,     0.90464,     0.90476,     0.90491,     0.90519,     0.90548,     0.90577,     0.90606,     0.90635,     0.90662,     0.90672,\n",
              "            0.90681,      0.9069,       0.907,     0.90709,     0.90719,     0.90728,     0.90738,     0.90747,     0.90756,     0.90766,     0.90775,     0.90785,     0.90794,     0.90803,     0.90813,     0.90822,     0.90832,     0.90838,     0.90836,     0.90835,     0.90834,     0.90833,     0.90831,\n",
              "             0.9083,     0.90829,     0.90827,     0.90826,     0.90825,     0.90823,     0.90822,     0.90821,     0.90846,     0.90879,     0.90912,     0.90945,     0.90978,     0.90997,     0.90996,     0.90994,     0.90992,      0.9099,     0.90988,     0.90986,     0.90985,     0.90983,     0.90981,\n",
              "            0.91014,     0.91066,     0.91119,     0.91163,     0.91181,     0.91198,     0.91216,     0.91233,     0.91251,     0.91268,     0.91286,     0.91303,     0.91321,     0.91338,     0.91519,     0.91516,     0.91513,     0.91511,     0.91508,     0.91506,     0.91503,     0.91487,     0.91511,\n",
              "            0.91538,     0.91566,     0.91594,     0.91621,     0.91649,     0.91666,     0.91666,     0.91665,     0.91664,     0.91664,     0.91663,     0.91662,     0.91661,     0.91661,      0.9166,     0.91659,     0.91658,     0.91658,     0.91657,     0.91656,     0.91656,     0.91655,     0.91654,\n",
              "            0.91653,     0.91653,     0.91652,     0.91651,     0.91651,     0.91756,     0.91838,     0.91847,     0.91855,     0.91863,     0.91872,      0.9188,     0.91889,     0.91897,     0.91905,     0.91914,     0.91922,      0.9193,     0.91939,     0.91947,     0.91955,     0.91964,     0.91972,\n",
              "             0.9198,     0.91989,     0.91997,     0.92005,     0.92014,     0.92015,     0.92014,     0.92013,     0.92012,     0.92011,      0.9201,     0.92009,     0.92008,     0.92007,     0.92006,     0.92005,     0.92004,     0.92003,     0.92001,        0.92,     0.92004,     0.92011,     0.92018,\n",
              "            0.92025,     0.92032,     0.92039,     0.92046,     0.92053,      0.9206,     0.92067,     0.92074,     0.92081,     0.92088,     0.92094,     0.92101,     0.92108,     0.92115,     0.92122,     0.92129,     0.92136,     0.92143,      0.9215,     0.92157,     0.92164,     0.92171,     0.92178,\n",
              "            0.92187,      0.9225,     0.92313,     0.92397,     0.92555,     0.92553,     0.92551,     0.92549,     0.92548,     0.92546,     0.92544,     0.92542,     0.92541,     0.92538,     0.92534,     0.92531,     0.92528,     0.92525,     0.92522,     0.92518,     0.92515,     0.92512,     0.92523,\n",
              "            0.92564,     0.92604,     0.92645,     0.92685,     0.92706,     0.92719,     0.92731,     0.92743,     0.92755,     0.92768,      0.9278,     0.92792,     0.92804,     0.92817,     0.92829,     0.92841,     0.92853,     0.92866,     0.92878,       0.929,      0.9294,     0.92981,     0.93022,\n",
              "            0.93063,     0.93075,     0.93074,     0.93073,     0.93072,     0.93072,     0.93071,      0.9307,     0.93069,     0.93068,     0.93067,     0.93067,     0.93066,     0.93065,     0.93064,     0.93063,     0.93063,     0.93062,      0.9326,     0.93282,     0.93303,     0.93325,     0.93347,\n",
              "            0.93369,      0.9339,     0.93412,     0.93434,     0.93457,     0.93482,     0.93506,     0.93531,     0.93556,      0.9358,     0.93605,     0.93629,     0.93637,     0.93641,     0.93644,     0.93648,     0.93651,     0.93655,     0.93658,     0.93662,     0.93666,     0.93669,     0.93673,\n",
              "            0.93676,      0.9368,     0.93683,     0.93687,      0.9369,     0.93694,     0.93697,     0.93701,     0.93704,     0.93708,     0.93711,     0.93715,     0.93718,     0.93722,     0.93725,     0.93729,     0.93733,     0.93736,      0.9374,     0.93743,     0.93747,      0.9375,     0.93754,\n",
              "            0.93757,     0.93761,     0.93764,     0.93768,     0.93771,     0.93775,     0.93778,     0.93782,     0.93785,     0.93789,     0.93792,     0.93796,       0.938,     0.93803,     0.93807,      0.9381,     0.93814,     0.93817,     0.93821,     0.93824,     0.93832,     0.93865,     0.93899,\n",
              "            0.93932,     0.93965,     0.93998,     0.94024,     0.94037,     0.94049,     0.94062,     0.94074,     0.94087,     0.94099,     0.94112,     0.94124,     0.94136,     0.94149,     0.94161,     0.94174,     0.94186,     0.94199,     0.94211,     0.94235,     0.94263,     0.94292,      0.9432,\n",
              "            0.94349,     0.94378,     0.94406,     0.94409,     0.94408,     0.94407,     0.94406,     0.94405,     0.94404,     0.94403,     0.94402,     0.94402,     0.94401,       0.944,     0.94399,     0.94398,     0.94398,     0.94397,     0.94397,     0.94396,     0.94396,     0.94395,     0.94395,\n",
              "            0.94394,     0.94394,     0.94393,     0.94393,     0.94392,     0.94392,     0.94391,     0.94391,     0.94391,      0.9439,      0.9439,     0.94389,     0.94389,     0.94388,     0.94388,     0.94387,     0.94387,     0.94397,     0.94409,     0.94422,     0.94435,     0.94447,      0.9446,\n",
              "            0.94472,     0.94485,     0.94497,      0.9451,     0.94523,     0.94535,     0.94548,      0.9456,     0.94573,     0.94583,     0.94579,     0.94575,     0.94585,     0.94636,     0.94687,     0.94737,     0.94783,      0.9482,     0.94857,     0.94894,     0.94931,     0.94968,     0.94968,\n",
              "            0.94967,     0.94967,     0.94966,     0.94965,     0.94964,     0.94964,     0.94963,     0.94962,     0.94962,     0.94961,      0.9496,      0.9496,     0.94959,     0.94958,     0.94957,     0.94954,     0.94951,     0.94947,     0.94987,     0.95028,     0.95069,      0.9511,      0.9515,\n",
              "             0.9518,     0.95209,     0.95239,     0.95268,     0.95298,     0.95327,     0.95357,     0.95389,     0.95421,     0.95453,     0.95485,     0.95516,     0.95548,     0.95572,     0.95595,     0.95618,     0.95641,     0.95664,     0.95688,     0.95711,     0.95734,     0.95744,     0.95738,\n",
              "            0.95734,     0.95731,     0.95728,     0.95726,     0.95725,     0.95723,     0.95722,     0.95721,     0.95719,     0.95718,     0.95725,     0.95741,     0.95758,     0.95775,     0.95792,     0.95809,     0.95826,     0.95843,     0.95859,     0.95876,     0.95893,      0.9591,     0.95928,\n",
              "            0.95949,      0.9597,     0.95991,     0.96012,     0.96033,     0.96055,     0.96076,     0.96097,     0.96118,      0.9617,     0.96255,      0.9634,     0.96425,      0.9651,     0.96561,      0.9659,     0.96619,     0.96647,     0.96676,     0.96704,     0.96733,     0.96751,     0.96751,\n",
              "            0.96767,     0.96783,     0.96799,     0.96815,     0.96831,     0.96847,     0.96863,     0.96879,     0.96895,     0.96911,     0.96927,     0.96943,     0.96956,     0.96954,     0.96952,     0.96948,     0.96995,     0.97155,     0.97154,     0.97153,     0.97153,     0.97152,     0.97151,\n",
              "             0.9715,     0.97149,     0.97145,     0.97248,     0.97356,     0.97355,     0.97354,     0.97353,     0.97352,     0.97351,      0.9735,      0.9735,     0.97349,     0.97348,     0.97348,     0.97347,     0.97346,     0.97346,     0.97377,     0.97465,     0.97554,      0.9756,     0.97559,\n",
              "            0.97558,     0.97557,     0.97556,     0.97554,     0.97552,     0.97554,     0.97592,     0.97629,     0.97666,     0.97703,      0.9774,     0.97773,     0.97795,     0.97816,     0.97838,     0.97859,      0.9788,     0.97902,     0.97923,     0.97944,     0.97966,     0.97987,     0.97984,\n",
              "            0.97982,      0.9798,     0.97977,     0.97977,     0.97977,     0.97977,     0.97976,     0.97976,     0.97976,     0.97975,     0.97975,     0.97975,     0.97974,     0.97974,     0.97974,     0.97973,     0.97973,     0.98189,     0.98189,     0.98188,     0.98187,     0.98186,     0.98255,\n",
              "            0.98369,     0.98407,     0.98405,     0.98405,     0.98404,     0.98403,     0.98403,     0.98402,      0.9842,     0.98442,     0.98464,     0.98486,     0.98508,      0.9853,     0.98552,     0.98574,     0.98596,     0.98618,     0.98626,     0.98624,     0.98666,     0.98732,     0.98798,\n",
              "            0.98951,     0.99078,     0.99078,     0.99077,     0.99077,     0.99076,     0.99075,     0.99074,     0.99074,     0.99073,     0.99073,     0.99073,     0.99072,     0.99072,     0.99072,     0.99071,     0.99071,     0.99071,     0.99071,      0.9907,      0.9907,      0.9907,      0.9907,\n",
              "            0.99069,     0.99068,     0.99067,     0.99067,     0.99067,     0.99067,     0.99066,     0.99066,     0.99066,     0.99065,     0.99064,     0.99064,     0.99063,     0.99061,      0.9906,     0.99059,     0.99292,     0.99289,     0.99288,     0.99287,     0.99287,     0.99286,     0.99286,\n",
              "            0.99285,     0.99285,     0.99284,     0.99283,     0.99279,     0.99436,     0.99517,     0.99516,     0.99515,     0.99515,     0.99513,     0.99512,      0.9951,      0.9951,     0.99509,     0.99509,     0.99506,     0.99504,     0.99663,      0.9975,      0.9975,      0.9975,     0.99749,\n",
              "            0.99748,     0.99748,     0.99747,     0.99746,     0.99746,     0.99746,     0.99745,     0.99745,     0.99745,     0.99744,     0.99743,     0.99742,      0.9974,     0.99739,     0.99739,     0.99738,     0.99738,     0.99737,     0.99736,     0.99959,           1,           1,           1,\n",
              "                  1,           1,           1,           1,           1,           1,           1,           1,           1,           1,           1,           1,           1,           1,           1,           1,           1,           1,           1,           1,           1,           1,           1,\n",
              "                  1,           1,           1,           1,           1,           1,           1,           1,           1,           1,           1,           1,           1,           1,           1,           1,           1,           1,           1,           1,           1,           1,           1,\n",
              "                  1,           1,           1,           1,           1,           1,           1,           1,           1,           1,           1,           1,           1,           1,           1,           1,           1,           1,           1,           1,           1,           1,           1,\n",
              "                  1,           1,           1,           1,           1,           1,           1,           1,           1,           1,           1]]), 'Confidence', 'Precision'], [array([          0,    0.001001,    0.002002,    0.003003,    0.004004,    0.005005,    0.006006,    0.007007,    0.008008,    0.009009,     0.01001,    0.011011,    0.012012,    0.013013,    0.014014,    0.015015,    0.016016,    0.017017,    0.018018,    0.019019,     0.02002,    0.021021,    0.022022,    0.023023,\n",
              "          0.024024,    0.025025,    0.026026,    0.027027,    0.028028,    0.029029,     0.03003,    0.031031,    0.032032,    0.033033,    0.034034,    0.035035,    0.036036,    0.037037,    0.038038,    0.039039,     0.04004,    0.041041,    0.042042,    0.043043,    0.044044,    0.045045,    0.046046,    0.047047,\n",
              "          0.048048,    0.049049,     0.05005,    0.051051,    0.052052,    0.053053,    0.054054,    0.055055,    0.056056,    0.057057,    0.058058,    0.059059,     0.06006,    0.061061,    0.062062,    0.063063,    0.064064,    0.065065,    0.066066,    0.067067,    0.068068,    0.069069,     0.07007,    0.071071,\n",
              "          0.072072,    0.073073,    0.074074,    0.075075,    0.076076,    0.077077,    0.078078,    0.079079,     0.08008,    0.081081,    0.082082,    0.083083,    0.084084,    0.085085,    0.086086,    0.087087,    0.088088,    0.089089,     0.09009,    0.091091,    0.092092,    0.093093,    0.094094,    0.095095,\n",
              "          0.096096,    0.097097,    0.098098,    0.099099,      0.1001,      0.1011,      0.1021,      0.1031,      0.1041,     0.10511,     0.10611,     0.10711,     0.10811,     0.10911,     0.11011,     0.11111,     0.11211,     0.11311,     0.11411,     0.11512,     0.11612,     0.11712,     0.11812,     0.11912,\n",
              "           0.12012,     0.12112,     0.12212,     0.12312,     0.12412,     0.12513,     0.12613,     0.12713,     0.12813,     0.12913,     0.13013,     0.13113,     0.13213,     0.13313,     0.13413,     0.13514,     0.13614,     0.13714,     0.13814,     0.13914,     0.14014,     0.14114,     0.14214,     0.14314,\n",
              "           0.14414,     0.14515,     0.14615,     0.14715,     0.14815,     0.14915,     0.15015,     0.15115,     0.15215,     0.15315,     0.15415,     0.15516,     0.15616,     0.15716,     0.15816,     0.15916,     0.16016,     0.16116,     0.16216,     0.16316,     0.16416,     0.16517,     0.16617,     0.16717,\n",
              "           0.16817,     0.16917,     0.17017,     0.17117,     0.17217,     0.17317,     0.17417,     0.17518,     0.17618,     0.17718,     0.17818,     0.17918,     0.18018,     0.18118,     0.18218,     0.18318,     0.18418,     0.18519,     0.18619,     0.18719,     0.18819,     0.18919,     0.19019,     0.19119,\n",
              "           0.19219,     0.19319,     0.19419,      0.1952,      0.1962,      0.1972,      0.1982,      0.1992,      0.2002,      0.2012,      0.2022,      0.2032,      0.2042,     0.20521,     0.20621,     0.20721,     0.20821,     0.20921,     0.21021,     0.21121,     0.21221,     0.21321,     0.21421,     0.21522,\n",
              "           0.21622,     0.21722,     0.21822,     0.21922,     0.22022,     0.22122,     0.22222,     0.22322,     0.22422,     0.22523,     0.22623,     0.22723,     0.22823,     0.22923,     0.23023,     0.23123,     0.23223,     0.23323,     0.23423,     0.23524,     0.23624,     0.23724,     0.23824,     0.23924,\n",
              "           0.24024,     0.24124,     0.24224,     0.24324,     0.24424,     0.24525,     0.24625,     0.24725,     0.24825,     0.24925,     0.25025,     0.25125,     0.25225,     0.25325,     0.25425,     0.25526,     0.25626,     0.25726,     0.25826,     0.25926,     0.26026,     0.26126,     0.26226,     0.26326,\n",
              "           0.26426,     0.26527,     0.26627,     0.26727,     0.26827,     0.26927,     0.27027,     0.27127,     0.27227,     0.27327,     0.27427,     0.27528,     0.27628,     0.27728,     0.27828,     0.27928,     0.28028,     0.28128,     0.28228,     0.28328,     0.28428,     0.28529,     0.28629,     0.28729,\n",
              "           0.28829,     0.28929,     0.29029,     0.29129,     0.29229,     0.29329,     0.29429,      0.2953,      0.2963,      0.2973,      0.2983,      0.2993,      0.3003,      0.3013,      0.3023,      0.3033,      0.3043,     0.30531,     0.30631,     0.30731,     0.30831,     0.30931,     0.31031,     0.31131,\n",
              "           0.31231,     0.31331,     0.31431,     0.31532,     0.31632,     0.31732,     0.31832,     0.31932,     0.32032,     0.32132,     0.32232,     0.32332,     0.32432,     0.32533,     0.32633,     0.32733,     0.32833,     0.32933,     0.33033,     0.33133,     0.33233,     0.33333,     0.33433,     0.33534,\n",
              "           0.33634,     0.33734,     0.33834,     0.33934,     0.34034,     0.34134,     0.34234,     0.34334,     0.34434,     0.34535,     0.34635,     0.34735,     0.34835,     0.34935,     0.35035,     0.35135,     0.35235,     0.35335,     0.35435,     0.35536,     0.35636,     0.35736,     0.35836,     0.35936,\n",
              "           0.36036,     0.36136,     0.36236,     0.36336,     0.36436,     0.36537,     0.36637,     0.36737,     0.36837,     0.36937,     0.37037,     0.37137,     0.37237,     0.37337,     0.37437,     0.37538,     0.37638,     0.37738,     0.37838,     0.37938,     0.38038,     0.38138,     0.38238,     0.38338,\n",
              "           0.38438,     0.38539,     0.38639,     0.38739,     0.38839,     0.38939,     0.39039,     0.39139,     0.39239,     0.39339,     0.39439,      0.3954,      0.3964,      0.3974,      0.3984,      0.3994,      0.4004,      0.4014,      0.4024,      0.4034,      0.4044,     0.40541,     0.40641,     0.40741,\n",
              "           0.40841,     0.40941,     0.41041,     0.41141,     0.41241,     0.41341,     0.41441,     0.41542,     0.41642,     0.41742,     0.41842,     0.41942,     0.42042,     0.42142,     0.42242,     0.42342,     0.42442,     0.42543,     0.42643,     0.42743,     0.42843,     0.42943,     0.43043,     0.43143,\n",
              "           0.43243,     0.43343,     0.43443,     0.43544,     0.43644,     0.43744,     0.43844,     0.43944,     0.44044,     0.44144,     0.44244,     0.44344,     0.44444,     0.44545,     0.44645,     0.44745,     0.44845,     0.44945,     0.45045,     0.45145,     0.45245,     0.45345,     0.45445,     0.45546,\n",
              "           0.45646,     0.45746,     0.45846,     0.45946,     0.46046,     0.46146,     0.46246,     0.46346,     0.46446,     0.46547,     0.46647,     0.46747,     0.46847,     0.46947,     0.47047,     0.47147,     0.47247,     0.47347,     0.47447,     0.47548,     0.47648,     0.47748,     0.47848,     0.47948,\n",
              "           0.48048,     0.48148,     0.48248,     0.48348,     0.48448,     0.48549,     0.48649,     0.48749,     0.48849,     0.48949,     0.49049,     0.49149,     0.49249,     0.49349,     0.49449,      0.4955,      0.4965,      0.4975,      0.4985,      0.4995,      0.5005,      0.5015,      0.5025,      0.5035,\n",
              "            0.5045,     0.50551,     0.50651,     0.50751,     0.50851,     0.50951,     0.51051,     0.51151,     0.51251,     0.51351,     0.51451,     0.51552,     0.51652,     0.51752,     0.51852,     0.51952,     0.52052,     0.52152,     0.52252,     0.52352,     0.52452,     0.52553,     0.52653,     0.52753,\n",
              "           0.52853,     0.52953,     0.53053,     0.53153,     0.53253,     0.53353,     0.53453,     0.53554,     0.53654,     0.53754,     0.53854,     0.53954,     0.54054,     0.54154,     0.54254,     0.54354,     0.54454,     0.54555,     0.54655,     0.54755,     0.54855,     0.54955,     0.55055,     0.55155,\n",
              "           0.55255,     0.55355,     0.55455,     0.55556,     0.55656,     0.55756,     0.55856,     0.55956,     0.56056,     0.56156,     0.56256,     0.56356,     0.56456,     0.56557,     0.56657,     0.56757,     0.56857,     0.56957,     0.57057,     0.57157,     0.57257,     0.57357,     0.57457,     0.57558,\n",
              "           0.57658,     0.57758,     0.57858,     0.57958,     0.58058,     0.58158,     0.58258,     0.58358,     0.58458,     0.58559,     0.58659,     0.58759,     0.58859,     0.58959,     0.59059,     0.59159,     0.59259,     0.59359,     0.59459,      0.5956,      0.5966,      0.5976,      0.5986,      0.5996,\n",
              "            0.6006,      0.6016,      0.6026,      0.6036,      0.6046,     0.60561,     0.60661,     0.60761,     0.60861,     0.60961,     0.61061,     0.61161,     0.61261,     0.61361,     0.61461,     0.61562,     0.61662,     0.61762,     0.61862,     0.61962,     0.62062,     0.62162,     0.62262,     0.62362,\n",
              "           0.62462,     0.62563,     0.62663,     0.62763,     0.62863,     0.62963,     0.63063,     0.63163,     0.63263,     0.63363,     0.63463,     0.63564,     0.63664,     0.63764,     0.63864,     0.63964,     0.64064,     0.64164,     0.64264,     0.64364,     0.64464,     0.64565,     0.64665,     0.64765,\n",
              "           0.64865,     0.64965,     0.65065,     0.65165,     0.65265,     0.65365,     0.65465,     0.65566,     0.65666,     0.65766,     0.65866,     0.65966,     0.66066,     0.66166,     0.66266,     0.66366,     0.66466,     0.66567,     0.66667,     0.66767,     0.66867,     0.66967,     0.67067,     0.67167,\n",
              "           0.67267,     0.67367,     0.67467,     0.67568,     0.67668,     0.67768,     0.67868,     0.67968,     0.68068,     0.68168,     0.68268,     0.68368,     0.68468,     0.68569,     0.68669,     0.68769,     0.68869,     0.68969,     0.69069,     0.69169,     0.69269,     0.69369,     0.69469,      0.6957,\n",
              "            0.6967,      0.6977,      0.6987,      0.6997,      0.7007,      0.7017,      0.7027,      0.7037,      0.7047,     0.70571,     0.70671,     0.70771,     0.70871,     0.70971,     0.71071,     0.71171,     0.71271,     0.71371,     0.71471,     0.71572,     0.71672,     0.71772,     0.71872,     0.71972,\n",
              "           0.72072,     0.72172,     0.72272,     0.72372,     0.72472,     0.72573,     0.72673,     0.72773,     0.72873,     0.72973,     0.73073,     0.73173,     0.73273,     0.73373,     0.73473,     0.73574,     0.73674,     0.73774,     0.73874,     0.73974,     0.74074,     0.74174,     0.74274,     0.74374,\n",
              "           0.74474,     0.74575,     0.74675,     0.74775,     0.74875,     0.74975,     0.75075,     0.75175,     0.75275,     0.75375,     0.75475,     0.75576,     0.75676,     0.75776,     0.75876,     0.75976,     0.76076,     0.76176,     0.76276,     0.76376,     0.76476,     0.76577,     0.76677,     0.76777,\n",
              "           0.76877,     0.76977,     0.77077,     0.77177,     0.77277,     0.77377,     0.77477,     0.77578,     0.77678,     0.77778,     0.77878,     0.77978,     0.78078,     0.78178,     0.78278,     0.78378,     0.78478,     0.78579,     0.78679,     0.78779,     0.78879,     0.78979,     0.79079,     0.79179,\n",
              "           0.79279,     0.79379,     0.79479,      0.7958,      0.7968,      0.7978,      0.7988,      0.7998,      0.8008,      0.8018,      0.8028,      0.8038,      0.8048,     0.80581,     0.80681,     0.80781,     0.80881,     0.80981,     0.81081,     0.81181,     0.81281,     0.81381,     0.81481,     0.81582,\n",
              "           0.81682,     0.81782,     0.81882,     0.81982,     0.82082,     0.82182,     0.82282,     0.82382,     0.82482,     0.82583,     0.82683,     0.82783,     0.82883,     0.82983,     0.83083,     0.83183,     0.83283,     0.83383,     0.83483,     0.83584,     0.83684,     0.83784,     0.83884,     0.83984,\n",
              "           0.84084,     0.84184,     0.84284,     0.84384,     0.84484,     0.84585,     0.84685,     0.84785,     0.84885,     0.84985,     0.85085,     0.85185,     0.85285,     0.85385,     0.85485,     0.85586,     0.85686,     0.85786,     0.85886,     0.85986,     0.86086,     0.86186,     0.86286,     0.86386,\n",
              "           0.86486,     0.86587,     0.86687,     0.86787,     0.86887,     0.86987,     0.87087,     0.87187,     0.87287,     0.87387,     0.87487,     0.87588,     0.87688,     0.87788,     0.87888,     0.87988,     0.88088,     0.88188,     0.88288,     0.88388,     0.88488,     0.88589,     0.88689,     0.88789,\n",
              "           0.88889,     0.88989,     0.89089,     0.89189,     0.89289,     0.89389,     0.89489,      0.8959,      0.8969,      0.8979,      0.8989,      0.8999,      0.9009,      0.9019,      0.9029,      0.9039,      0.9049,     0.90591,     0.90691,     0.90791,     0.90891,     0.90991,     0.91091,     0.91191,\n",
              "           0.91291,     0.91391,     0.91491,     0.91592,     0.91692,     0.91792,     0.91892,     0.91992,     0.92092,     0.92192,     0.92292,     0.92392,     0.92492,     0.92593,     0.92693,     0.92793,     0.92893,     0.92993,     0.93093,     0.93193,     0.93293,     0.93393,     0.93493,     0.93594,\n",
              "           0.93694,     0.93794,     0.93894,     0.93994,     0.94094,     0.94194,     0.94294,     0.94394,     0.94494,     0.94595,     0.94695,     0.94795,     0.94895,     0.94995,     0.95095,     0.95195,     0.95295,     0.95395,     0.95495,     0.95596,     0.95696,     0.95796,     0.95896,     0.95996,\n",
              "           0.96096,     0.96196,     0.96296,     0.96396,     0.96496,     0.96597,     0.96697,     0.96797,     0.96897,     0.96997,     0.97097,     0.97197,     0.97297,     0.97397,     0.97497,     0.97598,     0.97698,     0.97798,     0.97898,     0.97998,     0.98098,     0.98198,     0.98298,     0.98398,\n",
              "           0.98498,     0.98599,     0.98699,     0.98799,     0.98899,     0.98999,     0.99099,     0.99199,     0.99299,     0.99399,     0.99499,       0.996,       0.997,       0.998,       0.999,           1]), array([[    0.97531,     0.97531,     0.97531,     0.97531,     0.97325,     0.97325,     0.97325,     0.97325,     0.97325,     0.97325,     0.97325,     0.97325,     0.97325,     0.97325,     0.97325,     0.97325,     0.97325,     0.97325,     0.97325,     0.97325,     0.97325,     0.97325,     0.97325,\n",
              "            0.97325,     0.97325,     0.97325,     0.97325,     0.97325,     0.97325,     0.97325,     0.97325,     0.97325,     0.97325,     0.97325,     0.97325,     0.97325,     0.97325,     0.97325,     0.97119,     0.97119,     0.97119,     0.97119,     0.97119,     0.97119,     0.97119,     0.97119,\n",
              "            0.97119,     0.97119,     0.97119,     0.97119,     0.97119,     0.97119,     0.97119,     0.97119,     0.96914,     0.96914,     0.96914,     0.96914,     0.96914,     0.96914,     0.96914,     0.96914,     0.96914,     0.96914,     0.96914,     0.96914,     0.96914,     0.96914,     0.96914,\n",
              "            0.96914,     0.96914,     0.96914,     0.96914,     0.96914,     0.96914,     0.96914,     0.96914,     0.96914,     0.96914,     0.96914,     0.96914,     0.96914,     0.96914,     0.96914,     0.96801,     0.96708,     0.96708,     0.96502,     0.96502,     0.96502,     0.96502,     0.96502,\n",
              "            0.96502,     0.96502,     0.96502,     0.96502,     0.96502,     0.96502,     0.96502,     0.96502,     0.96502,     0.96502,     0.96491,     0.96429,     0.96366,     0.96304,     0.96296,     0.96296,     0.96296,     0.96296,     0.96296,     0.96296,     0.96296,     0.96278,      0.9622,\n",
              "            0.96161,     0.96103,     0.96091,     0.96091,     0.96091,     0.96091,     0.96091,     0.96091,     0.96091,     0.96091,     0.96091,     0.96091,     0.96091,     0.96091,     0.96091,     0.96091,     0.96091,     0.96091,     0.96091,     0.96091,     0.96091,     0.96091,     0.96091,\n",
              "            0.96091,     0.96091,     0.96091,     0.96091,     0.96091,     0.96091,     0.96091,     0.96091,     0.96091,     0.96091,     0.96091,      0.9605,     0.96002,     0.95954,     0.95906,     0.95885,     0.95885,     0.95885,     0.95885,     0.95885,     0.95885,     0.95885,     0.95885,\n",
              "            0.95885,     0.95885,     0.95885,     0.95885,     0.95885,     0.95885,     0.95885,     0.95885,     0.95885,     0.95885,     0.95885,     0.95885,     0.95885,     0.95885,     0.95885,     0.95885,     0.95885,     0.95885,     0.95885,     0.95885,     0.95885,     0.95885,     0.95885,\n",
              "            0.95885,     0.95885,     0.95885,     0.95885,     0.95885,     0.95885,     0.95885,     0.95885,     0.95885,     0.95885,     0.95885,     0.95885,     0.95885,     0.95885,     0.95885,     0.95885,     0.95885,     0.95885,     0.95885,     0.95885,     0.95885,     0.95885,     0.95885,\n",
              "            0.95885,     0.95885,     0.95885,     0.95885,     0.95885,     0.95885,     0.95885,     0.95885,     0.95885,     0.95885,     0.95885,     0.95885,     0.95885,     0.95885,     0.95885,     0.95885,     0.95885,     0.95885,     0.95885,     0.95885,     0.95885,     0.95885,     0.95885,\n",
              "            0.95885,     0.95885,     0.95885,     0.95885,     0.95885,     0.95885,     0.95885,     0.95885,     0.95885,     0.95885,     0.95885,     0.95885,     0.95885,     0.95885,     0.95885,     0.95885,     0.95885,      0.9588,     0.95865,      0.9585,     0.95835,     0.95819,     0.95804,\n",
              "            0.95789,     0.95774,     0.95759,     0.95743,     0.95728,     0.95713,     0.95698,     0.95683,     0.95679,     0.95679,     0.95679,     0.95679,     0.95679,     0.95671,      0.9565,     0.95628,     0.95607,     0.95586,     0.95565,     0.95544,     0.95523,     0.95502,     0.95481,\n",
              "            0.95473,     0.95473,     0.95473,     0.95473,     0.95473,     0.95473,     0.95473,     0.95473,     0.95473,     0.95473,     0.95473,     0.95473,     0.95473,     0.95473,     0.95473,     0.95441,     0.95408,     0.95376,     0.95343,     0.95311,     0.95278,      0.9508,     0.95062,\n",
              "            0.95062,     0.95062,     0.95062,     0.95062,     0.95062,     0.95059,      0.9505,     0.95041,     0.95032,     0.95023,     0.95014,     0.95005,     0.94996,     0.94987,     0.94978,     0.94969,      0.9496,     0.94951,     0.94942,     0.94933,     0.94924,     0.94915,     0.94906,\n",
              "            0.94897,     0.94888,     0.94879,      0.9487,     0.94861,     0.94856,     0.94856,     0.94856,     0.94856,     0.94856,     0.94856,     0.94856,     0.94856,     0.94856,     0.94856,     0.94856,     0.94856,     0.94856,     0.94856,     0.94856,     0.94856,     0.94856,     0.94856,\n",
              "            0.94856,     0.94856,     0.94856,     0.94856,     0.94856,     0.94846,     0.94832,     0.94819,     0.94805,     0.94791,     0.94778,     0.94764,     0.94751,     0.94737,     0.94723,      0.9471,     0.94696,     0.94683,     0.94669,     0.94655,      0.9465,      0.9465,      0.9465,\n",
              "             0.9465,      0.9465,      0.9465,      0.9465,      0.9465,      0.9465,      0.9465,      0.9465,      0.9465,      0.9465,      0.9465,      0.9465,      0.9465,      0.9465,      0.9465,      0.9465,      0.9465,      0.9465,      0.9465,      0.9465,      0.9465,      0.9465,      0.9465,\n",
              "             0.9465,      0.9465,      0.9465,      0.9465,     0.94641,     0.94617,     0.94593,     0.94569,     0.94545,     0.94521,     0.94497,     0.94472,     0.94448,     0.94407,     0.94363,     0.94318,     0.94274,      0.9423,     0.94188,     0.94146,     0.94103,     0.94061,     0.94033,\n",
              "            0.94033,     0.94033,     0.94033,     0.94033,     0.94033,     0.94033,     0.94033,     0.94033,     0.94033,     0.94033,     0.94033,     0.94033,     0.94033,     0.94033,     0.94033,     0.94033,     0.94033,     0.94033,     0.94033,     0.94033,     0.94033,     0.94033,     0.94033,\n",
              "            0.94033,     0.94025,     0.94013,     0.94001,     0.93989,     0.93977,     0.93965,     0.93953,     0.93942,      0.9393,     0.93918,     0.93906,     0.93894,     0.93882,      0.9387,     0.93858,     0.93846,     0.93835,     0.93827,     0.93827,     0.93827,     0.93827,     0.93827,\n",
              "            0.93827,     0.93827,     0.93827,     0.93827,     0.93827,     0.93827,     0.93827,     0.93827,     0.93827,     0.93827,     0.93827,     0.93827,     0.93827,     0.93827,     0.93827,     0.93827,     0.93827,     0.93827,     0.93827,     0.93827,     0.93827,     0.93827,     0.93827,\n",
              "            0.93827,     0.93827,     0.93827,     0.93827,     0.93827,     0.93827,     0.93827,     0.93827,     0.93827,     0.93827,     0.93827,     0.93827,     0.93827,     0.93827,     0.93827,     0.93827,     0.93827,     0.93827,     0.93827,     0.93827,     0.93827,     0.93827,     0.93827,\n",
              "            0.93827,     0.93827,     0.93827,     0.93827,     0.93827,     0.93827,     0.93827,     0.93827,     0.93827,     0.93827,     0.93827,     0.93827,     0.93827,     0.93827,     0.93827,     0.93827,     0.93827,     0.93827,     0.93827,     0.93827,     0.93827,     0.93827,     0.93827,\n",
              "            0.93827,     0.93827,     0.93827,     0.93827,     0.93827,     0.93827,     0.93827,     0.93827,     0.93827,     0.93827,     0.93827,     0.93827,     0.93827,     0.93827,     0.93827,     0.93827,     0.93827,     0.93827,     0.93827,     0.93827,     0.93827,     0.93827,     0.93827,\n",
              "            0.93827,     0.93827,     0.93827,     0.93813,     0.93796,     0.93779,     0.93762,     0.93745,     0.93728,     0.93711,     0.93694,     0.93678,     0.93661,     0.93644,     0.93627,     0.93616,     0.93608,     0.93599,     0.93591,     0.93583,     0.93574,     0.93566,     0.93558,\n",
              "             0.9355,     0.93541,     0.93533,     0.93525,     0.93517,     0.93508,       0.935,     0.93492,     0.93484,     0.93475,     0.93467,     0.93459,      0.9345,     0.93442,     0.93434,     0.93426,     0.93417,     0.93416,     0.93416,     0.93416,     0.93416,     0.93416,     0.93416,\n",
              "            0.93416,     0.93416,     0.93416,     0.93416,     0.93416,     0.93416,     0.93416,     0.93416,     0.93416,     0.93403,     0.93332,     0.93262,      0.9321,      0.9321,      0.9321,      0.9321,      0.9321,      0.9321,      0.9321,      0.9321,      0.9321,      0.9321,     0.93197,\n",
              "            0.93184,      0.9317,     0.93157,     0.93144,     0.93131,     0.93118,     0.93105,     0.93091,     0.93078,     0.93065,     0.93052,     0.93039,     0.93025,     0.93012,     0.92981,     0.92921,     0.92861,       0.928,     0.92798,     0.92798,     0.92798,     0.92798,     0.92798,\n",
              "            0.92798,     0.92798,     0.92798,     0.92798,     0.92798,     0.92798,     0.92798,     0.92798,     0.92798,     0.92798,     0.92798,     0.92798,     0.92798,     0.92798,     0.92798,     0.92798,     0.92798,     0.92798,     0.92798,     0.92798,     0.92798,     0.92573,     0.92433,\n",
              "            0.92346,     0.92286,     0.92226,     0.92173,     0.92143,     0.92113,     0.92083,     0.92053,     0.92023,     0.91992,     0.91975,     0.91975,     0.91975,     0.91975,     0.91975,     0.91975,     0.91975,     0.91975,     0.91975,     0.91975,     0.91975,     0.91975,     0.91975,\n",
              "            0.91975,     0.91975,     0.91975,     0.91975,     0.91975,     0.91975,     0.91975,     0.91975,     0.91975,     0.91975,     0.91975,     0.91975,     0.91975,     0.91975,     0.91975,     0.91975,     0.91975,     0.91975,     0.91975,     0.91975,     0.91975,     0.91915,      0.9177,\n",
              "             0.9177,      0.9177,      0.9177,      0.9177,      0.9177,      0.9177,      0.9177,      0.9177,      0.9177,      0.9177,      0.9177,      0.9177,      0.9176,     0.91689,     0.91619,     0.91519,     0.91358,     0.91351,     0.91323,     0.91294,     0.91266,     0.91238,      0.9121,\n",
              "            0.91182,     0.91154,     0.91019,     0.90947,     0.90927,     0.90889,      0.9085,     0.90812,     0.90774,     0.90737,     0.90714,     0.90691,     0.90667,     0.90644,      0.9062,     0.90597,     0.90573,      0.9055,     0.90535,     0.90535,     0.90535,       0.905,     0.90461,\n",
              "            0.90423,     0.90385,     0.90346,     0.90282,     0.90198,     0.90123,     0.90123,     0.90123,     0.90123,     0.90123,     0.90123,     0.90123,     0.90123,     0.90123,     0.90123,     0.90123,     0.90123,     0.90123,     0.90123,     0.90123,     0.90123,     0.90121,     0.90016,\n",
              "            0.89911,     0.89805,      0.8971,     0.89696,     0.89681,     0.89667,     0.89652,     0.89638,     0.89623,     0.89608,     0.89594,     0.89579,     0.89565,      0.8955,     0.89536,     0.89521,     0.89507,     0.89263,     0.89225,     0.89186,     0.89148,      0.8911,     0.89095,\n",
              "            0.89095,     0.89003,     0.88882,     0.88843,     0.88805,     0.88767,     0.88728,      0.8869,     0.88683,     0.88683,     0.88683,     0.88683,     0.88683,     0.88683,     0.88683,     0.88683,     0.88683,     0.88683,     0.88622,     0.88516,     0.88477,     0.88477,     0.88477,\n",
              "            0.88477,     0.88443,     0.88396,      0.8835,     0.88303,     0.88236,     0.88131,     0.88053,     0.88021,     0.87988,     0.87956,     0.87924,     0.87891,     0.87859,     0.87836,     0.87812,     0.87789,     0.87765,     0.87742,     0.87718,     0.87695,     0.87672,     0.87636,\n",
              "            0.87565,     0.87495,     0.87438,     0.87408,     0.87378,     0.87348,     0.87318,     0.87288,     0.87258,     0.87212,     0.87152,     0.87092,     0.86997,     0.86789,     0.86718,     0.86648,     0.86545,     0.86184,     0.86043,     0.85963,     0.85903,     0.85842,     0.85785,\n",
              "            0.85732,     0.85679,     0.85626,     0.85505,     0.84991,     0.84774,     0.84702,     0.84564,      0.8448,     0.84395,      0.8414,     0.83999,     0.83607,     0.83491,     0.83421,     0.83351,     0.82969,     0.82607,      0.8251,      0.8213,     0.82027,     0.81943,     0.81806,\n",
              "            0.81445,      0.8136,     0.81276,     0.80962,     0.80808,     0.80702,     0.80609,     0.80525,     0.80392,     0.80109,     0.79808,     0.79668,     0.78961,     0.78578,     0.78494,      0.7841,     0.78279,     0.78036,     0.77593,      0.7716,     0.76657,     0.76446,     0.76235,\n",
              "            0.75854,     0.75495,     0.75073,     0.74239,     0.73818,     0.72779,     0.72084,     0.71112,     0.70279,     0.69857,     0.68565,     0.67984,     0.67357,     0.66318,     0.65073,     0.64651,     0.64229,     0.63396,     0.62768,     0.62141,     0.60901,     0.60062,     0.59641,\n",
              "            0.58601,     0.57588,     0.57171,     0.56513,     0.55474,     0.54229,      0.5319,     0.52721,     0.51729,     0.50073,     0.49239,     0.47994,     0.46749,     0.45505,     0.43642,     0.42603,     0.40535,     0.39908,     0.38663,      0.3783,      0.3679,     0.35134,     0.33066,\n",
              "            0.32027,     0.30165,     0.29126,     0.26441,     0.22109,     0.18601,     0.16327,     0.13097,     0.11369,    0.093007,    0.064097,    0.043418,    0.024796,    0.018521,   0.0060719,           0,           0,           0,           0,           0,           0,           0,           0,\n",
              "                  0,           0,           0,           0,           0,           0,           0,           0,           0,           0,           0]]), 'Confidence', 'Recall']]\n",
              "fitness: 1.810513005065994\n",
              "keys: ['metrics/precision(B)', 'metrics/recall(B)', 'metrics/mAP50(B)', 'metrics/mAP50-95(B)', 'metrics/precision(M)', 'metrics/recall(M)', 'metrics/mAP50(M)', 'metrics/mAP50-95(M)']\n",
              "maps: array([     1.7952])\n",
              "names: {0: 'Trout'}\n",
              "plot: True\n",
              "results_dict: {'metrics/precision(B)': 0.9601232299723231, 'metrics/recall(B)': 0.9197530864197531, 'metrics/mAP50(B)': 0.9768669835889323, 'metrics/mAP50-95(B)': 0.9133586450889221, 'metrics/precision(M)': 0.9601232299723231, 'metrics/recall(M)': 0.9197530864197531, 'metrics/mAP50(M)': 0.9712024246881396, 'metrics/mAP50-95(M)': 0.8818703151758411, 'fitness': 1.810513005065994}\n",
              "save_dir: PosixPath('runs/segment/train')\n",
              "seg: ultralytics.utils.metrics.Metric object\n",
              "speed: {'preprocess': 0.20051584011170923, 'inference': 10.0732696088672, 'loss': 0.0006635660724588203, 'postprocess': 2.6617237545933503}\n",
              "task: 'segment'"
            ]
          },
          "metadata": {},
          "execution_count": 5
        }
      ]
    },
    {
      "source": [
        "import locale\n",
        "def getpreferredencoding(do_setlocale = True):\n",
        "    return \"UTF-8\"\n",
        "locale.getpreferredencoding = getpreferredencoding\n",
        "import shutil\n",
        "import os\n",
        "\n",
        "# Check if the destination directory exists\n",
        "if os.path.exists('/content/gdrive/MyDrive/Yolo'):\n",
        "\n",
        "    shutil.rmtree('/content/gdrive/MyDrive/Yolo')\n",
        "\n",
        "    for item in os.listdir('/content/runs'):\n",
        "         s = os.path.join('/content/runs', item)\n",
        "         d = os.path.join('/content/gdrive/MyDrive/Yolo', item)\n",
        "         if os.path.isdir(s):\n",
        "             shutil.copytree(s, d, dirs_exist_ok=True)  # Merge directories\n",
        "         else:\n",
        "             shutil.copy2(s, d)  # Copy files, overwriting if they exist\n",
        "else:\n",
        "    # If it doesn't exist, create it and copy the contents\n",
        "    shutil.copytree('/content/runs', '/content/gdrive/MyDrive/Yolo')"
      ],
      "cell_type": "code",
      "metadata": {
        "id": "3ebQ3hvMqKTQ"
      },
      "execution_count": null,
      "outputs": []
    },
    {
      "cell_type": "markdown",
      "source": [],
      "metadata": {
        "id": "GUoYlwCCpua6"
      }
    },
    {
      "cell_type": "code",
      "source": [
        "import os\n",
        "from ultralytics import YOLO\n",
        "\n",
        "model = YOLO('yolov8m-seg.pt')  # load a pretrained model (recommended for training)\n",
        "\n",
        "# Entrenamiento del modelo con las rutas locales\n",
        "model.train(data=r'/content/gdrive/MyDrive/DatasetPeces/dataset.yaml',\n",
        "            epochs=100,\n",
        "            imgsz=640,\n",
        "            batch=16,\n",
        "            lr0=0.01,\n",
        "            optimizer='AdamW',\n",
        "            weight_decay=0.0005,\n",
        "            cache='disk',\n",
        "            device=0)  # Si tienes GPU, se usará automáticamente\n",
        "\n"
      ],
      "metadata": {
        "colab": {
          "base_uri": "https://localhost:8080/",
          "height": 1000,
          "referenced_widgets": [
            "fe7c4feea8394ea0b69785ec67ab7288",
            "4b5c373b998c4c47a32e273a6623c83d",
            "015b725a3233489ca0e1d66c516be085",
            "b1d2a0700370459c9638d42a7e960e60",
            "042acd8419dc46719d7205a5f5ebef2b",
            "3a367c58843b4a4ea0511f319846a578",
            "9cf3d72b4a5d45588c3d3875727afcb9",
            "a7e6341956f94043ad146885c8b62058"
          ]
        },
        "id": "6CzF_yvp_KG1",
        "outputId": "2f027791-0915-482c-85ee-45ec87b7d8ab"
      },
      "execution_count": null,
      "outputs": [
        {
          "output_type": "stream",
          "name": "stdout",
          "text": [
            "Ultralytics 8.3.18 🚀 Python-3.10.12 torch-2.4.1+cu121 CUDA:0 (Tesla T4, 15102MiB)\n",
            "\u001b[34m\u001b[1mengine/trainer: \u001b[0mtask=segment, mode=train, model=yolov8m-seg.pt, data=/content/gdrive/MyDrive/DatasetPeces/dataset.yaml, epochs=100, time=None, patience=100, batch=16, imgsz=640, save=True, save_period=-1, cache=disk, device=0, workers=8, project=None, name=train4, exist_ok=False, pretrained=True, optimizer=AdamW, verbose=True, seed=0, deterministic=True, single_cls=False, rect=False, cos_lr=False, close_mosaic=10, resume=False, amp=True, fraction=1.0, profile=False, freeze=None, multi_scale=False, overlap_mask=True, mask_ratio=4, dropout=0.0, val=True, split=val, save_json=False, save_hybrid=False, conf=None, iou=0.7, max_det=300, half=False, dnn=False, plots=True, source=None, vid_stride=1, stream_buffer=False, visualize=False, augment=False, agnostic_nms=False, classes=None, retina_masks=False, embed=None, show=False, save_frames=False, save_txt=False, save_conf=False, save_crop=False, show_labels=True, show_conf=True, show_boxes=True, line_width=None, format=torchscript, keras=False, optimize=False, int8=False, dynamic=False, simplify=True, opset=None, workspace=4, nms=False, lr0=0.01, lrf=0.01, momentum=0.937, weight_decay=0.0005, warmup_epochs=3.0, warmup_momentum=0.8, warmup_bias_lr=0.1, box=7.5, cls=0.5, dfl=1.5, pose=12.0, kobj=1.0, label_smoothing=0.0, nbs=64, hsv_h=0.015, hsv_s=0.7, hsv_v=0.4, degrees=0.0, translate=0.1, scale=0.5, shear=0.0, perspective=0.0, flipud=0.0, fliplr=0.5, bgr=0.0, mosaic=1.0, mixup=0.0, copy_paste=0.0, copy_paste_mode=flip, auto_augment=randaugment, erasing=0.4, crop_fraction=1.0, cfg=None, tracker=botsort.yaml, save_dir=runs/segment/train4\n",
            "Overriding model.yaml nc=80 with nc=1\n",
            "\n",
            "                   from  n    params  module                                       arguments                     \n",
            "  0                  -1  1      1392  ultralytics.nn.modules.conv.Conv             [3, 48, 3, 2]                 \n",
            "  1                  -1  1     41664  ultralytics.nn.modules.conv.Conv             [48, 96, 3, 2]                \n",
            "  2                  -1  2    111360  ultralytics.nn.modules.block.C2f             [96, 96, 2, True]             \n",
            "  3                  -1  1    166272  ultralytics.nn.modules.conv.Conv             [96, 192, 3, 2]               \n",
            "  4                  -1  4    813312  ultralytics.nn.modules.block.C2f             [192, 192, 4, True]           \n",
            "  5                  -1  1    664320  ultralytics.nn.modules.conv.Conv             [192, 384, 3, 2]              \n",
            "  6                  -1  4   3248640  ultralytics.nn.modules.block.C2f             [384, 384, 4, True]           \n",
            "  7                  -1  1   1991808  ultralytics.nn.modules.conv.Conv             [384, 576, 3, 2]              \n",
            "  8                  -1  2   3985920  ultralytics.nn.modules.block.C2f             [576, 576, 2, True]           \n",
            "  9                  -1  1    831168  ultralytics.nn.modules.block.SPPF            [576, 576, 5]                 \n",
            " 10                  -1  1         0  torch.nn.modules.upsampling.Upsample         [None, 2, 'nearest']          \n",
            " 11             [-1, 6]  1         0  ultralytics.nn.modules.conv.Concat           [1]                           \n",
            " 12                  -1  2   1993728  ultralytics.nn.modules.block.C2f             [960, 384, 2]                 \n",
            " 13                  -1  1         0  torch.nn.modules.upsampling.Upsample         [None, 2, 'nearest']          \n",
            " 14             [-1, 4]  1         0  ultralytics.nn.modules.conv.Concat           [1]                           \n",
            " 15                  -1  2    517632  ultralytics.nn.modules.block.C2f             [576, 192, 2]                 \n",
            " 16                  -1  1    332160  ultralytics.nn.modules.conv.Conv             [192, 192, 3, 2]              \n",
            " 17            [-1, 12]  1         0  ultralytics.nn.modules.conv.Concat           [1]                           \n",
            " 18                  -1  2   1846272  ultralytics.nn.modules.block.C2f             [576, 384, 2]                 \n",
            " 19                  -1  1   1327872  ultralytics.nn.modules.conv.Conv             [384, 384, 3, 2]              \n",
            " 20             [-1, 9]  1         0  ultralytics.nn.modules.conv.Concat           [1]                           \n",
            " 21                  -1  2   4207104  ultralytics.nn.modules.block.C2f             [960, 576, 2]                 \n",
            " 22        [15, 18, 21]  1   5159603  ultralytics.nn.modules.head.Segment          [1, 32, 192, [192, 384, 576]] \n",
            "YOLOv8m-seg summary: 331 layers, 27,240,227 parameters, 27,240,211 gradients, 110.4 GFLOPs\n",
            "\n",
            "Transferred 531/537 items from pretrained weights\n",
            "\u001b[34m\u001b[1mTensorBoard: \u001b[0mStart with 'tensorboard --logdir runs/segment/train4', view at http://localhost:6006/\n"
          ]
        },
        {
          "output_type": "stream",
          "name": "stderr",
          "text": [
            "\u001b[34m\u001b[1mwandb\u001b[0m: Currently logged in as: \u001b[33mbraytonleonardo12\u001b[0m (\u001b[33mbraytonleonardo12-abc\u001b[0m). Use \u001b[1m`wandb login --relogin`\u001b[0m to force relogin\n"
          ]
        },
        {
          "output_type": "display_data",
          "data": {
            "text/plain": [
              "<IPython.core.display.HTML object>"
            ],
            "text/html": [
              "Tracking run with wandb version 0.18.3"
            ]
          },
          "metadata": {}
        },
        {
          "output_type": "display_data",
          "data": {
            "text/plain": [
              "<IPython.core.display.HTML object>"
            ],
            "text/html": [
              "Run data is saved locally in <code>/content/wandb/run-20241020_093716-yky68wye</code>"
            ]
          },
          "metadata": {}
        },
        {
          "output_type": "display_data",
          "data": {
            "text/plain": [
              "<IPython.core.display.HTML object>"
            ],
            "text/html": [
              "Syncing run <strong><a href='https://wandb.ai/braytonleonardo12-abc/Ultralytics/runs/yky68wye' target=\"_blank\">train4</a></strong> to <a href='https://wandb.ai/braytonleonardo12-abc/Ultralytics' target=\"_blank\">Weights & Biases</a> (<a href='https://wandb.me/run' target=\"_blank\">docs</a>)<br/>"
            ]
          },
          "metadata": {}
        },
        {
          "output_type": "display_data",
          "data": {
            "text/plain": [
              "<IPython.core.display.HTML object>"
            ],
            "text/html": [
              " View project at <a href='https://wandb.ai/braytonleonardo12-abc/Ultralytics' target=\"_blank\">https://wandb.ai/braytonleonardo12-abc/Ultralytics</a>"
            ]
          },
          "metadata": {}
        },
        {
          "output_type": "display_data",
          "data": {
            "text/plain": [
              "<IPython.core.display.HTML object>"
            ],
            "text/html": [
              " View run at <a href='https://wandb.ai/braytonleonardo12-abc/Ultralytics/runs/yky68wye' target=\"_blank\">https://wandb.ai/braytonleonardo12-abc/Ultralytics/runs/yky68wye</a>"
            ]
          },
          "metadata": {}
        },
        {
          "output_type": "stream",
          "name": "stdout",
          "text": [
            "Freezing layer 'model.22.dfl.conv.weight'\n",
            "\u001b[34m\u001b[1mAMP: \u001b[0mrunning Automatic Mixed Precision (AMP) checks with YOLO11n...\n",
            "\u001b[34m\u001b[1mAMP: \u001b[0mchecks passed ✅\n"
          ]
        },
        {
          "output_type": "stream",
          "name": "stderr",
          "text": [
            "\u001b[34m\u001b[1mtrain: \u001b[0mScanning /content/gdrive/MyDrive/DatasetPeces/train/labels.cache... 1018 images, 0 backgrounds, 0 corrupt: 100%|██████████| 1018/1018 [00:00<?, ?it/s]\n",
            "\u001b[34m\u001b[1mtrain: \u001b[0mCaching images (0.7GB Disk): 100%|██████████| 1018/1018 [00:00<00:00, 3204.64it/s]"
          ]
        },
        {
          "output_type": "stream",
          "name": "stdout",
          "text": [
            "\u001b[34m\u001b[1malbumentations: \u001b[0mBlur(p=0.01, blur_limit=(3, 7)), MedianBlur(p=0.01, blur_limit=(3, 7)), ToGray(p=0.01, num_output_channels=3, method='weighted_average'), CLAHE(p=0.01, clip_limit=(1, 4.0), tile_grid_size=(8, 8))\n"
          ]
        },
        {
          "output_type": "stream",
          "name": "stderr",
          "text": [
            "\n",
            "\u001b[34m\u001b[1mval: \u001b[0mScanning /content/gdrive/MyDrive/DatasetPeces/val/labels.cache... 251 images, 0 backgrounds, 0 corrupt: 100%|██████████| 251/251 [00:00<?, ?it/s]\n",
            "\u001b[34m\u001b[1mval: \u001b[0mCaching images (0.2GB Disk): 100%|██████████| 251/251 [00:00<00:00, 1285.02it/s]\n"
          ]
        },
        {
          "output_type": "stream",
          "name": "stdout",
          "text": [
            "Plotting labels to runs/segment/train4/labels.jpg... \n",
            "\u001b[34m\u001b[1moptimizer:\u001b[0m AdamW(lr=0.01, momentum=0.937) with parameter groups 86 weight(decay=0.0), 97 weight(decay=0.0005), 96 bias(decay=0.0)\n",
            "\u001b[34m\u001b[1mTensorBoard: \u001b[0mmodel graph visualization added ✅\n",
            "Image sizes 640 train, 640 val\n",
            "Using 2 dataloader workers\n",
            "Logging results to \u001b[1mruns/segment/train4\u001b[0m\n",
            "Starting training for 100 epochs...\n",
            "\n",
            "      Epoch    GPU_mem   box_loss   seg_loss   cls_loss   dfl_loss  Instances       Size\n"
          ]
        },
        {
          "output_type": "stream",
          "name": "stderr",
          "text": [
            "      1/100       8.8G      1.361      1.669      2.163      1.643         34        640: 100%|██████████| 64/64 [01:03<00:00,  1.00it/s]\n",
            "                 Class     Images  Instances      Box(P          R      mAP50  mAP50-95)     Mask(P          R      mAP50  mAP50-95): 100%|██████████| 8/8 [00:04<00:00,  1.94it/s]"
          ]
        },
        {
          "output_type": "stream",
          "name": "stdout",
          "text": [
            "                   all        251        328     0.0048      0.723    0.00482    0.00222          0          0          0          0\n"
          ]
        },
        {
          "output_type": "stream",
          "name": "stderr",
          "text": [
            "\n"
          ]
        },
        {
          "output_type": "stream",
          "name": "stdout",
          "text": [
            "\n",
            "      Epoch    GPU_mem   box_loss   seg_loss   cls_loss   dfl_loss  Instances       Size\n"
          ]
        },
        {
          "output_type": "stream",
          "name": "stderr",
          "text": [
            "      2/100      8.15G      1.319      1.528       1.08      1.548         31        640: 100%|██████████| 64/64 [00:49<00:00,  1.30it/s]\n",
            "                 Class     Images  Instances      Box(P          R      mAP50  mAP50-95)     Mask(P          R      mAP50  mAP50-95): 100%|██████████| 8/8 [00:06<00:00,  1.22it/s]"
          ]
        },
        {
          "output_type": "stream",
          "name": "stdout",
          "text": [
            "                   all        251        328      0.362      0.546      0.232     0.0604      0.366      0.552      0.224     0.0783\n"
          ]
        },
        {
          "output_type": "stream",
          "name": "stderr",
          "text": [
            "\n"
          ]
        },
        {
          "output_type": "stream",
          "name": "stdout",
          "text": [
            "\n",
            "      Epoch    GPU_mem   box_loss   seg_loss   cls_loss   dfl_loss  Instances       Size\n"
          ]
        },
        {
          "output_type": "stream",
          "name": "stderr",
          "text": [
            "      3/100      7.95G      1.218      1.305      0.981      1.478         29        640: 100%|██████████| 64/64 [00:48<00:00,  1.31it/s]\n",
            "                 Class     Images  Instances      Box(P          R      mAP50  mAP50-95)     Mask(P          R      mAP50  mAP50-95): 100%|██████████| 8/8 [00:05<00:00,  1.35it/s]"
          ]
        },
        {
          "output_type": "stream",
          "name": "stdout",
          "text": [
            "                   all        251        328     0.0859      0.337     0.0795     0.0257     0.0946      0.357     0.0896     0.0355\n"
          ]
        },
        {
          "output_type": "stream",
          "name": "stderr",
          "text": [
            "\n"
          ]
        },
        {
          "output_type": "stream",
          "name": "stdout",
          "text": [
            "\n",
            "      Epoch    GPU_mem   box_loss   seg_loss   cls_loss   dfl_loss  Instances       Size\n"
          ]
        },
        {
          "output_type": "stream",
          "name": "stderr",
          "text": [
            "      4/100      7.92G      1.037      1.252     0.8408      1.347         31        640: 100%|██████████| 64/64 [00:48<00:00,  1.32it/s]\n",
            "                 Class     Images  Instances      Box(P          R      mAP50  mAP50-95)     Mask(P          R      mAP50  mAP50-95): 100%|██████████| 8/8 [00:05<00:00,  1.46it/s]"
          ]
        },
        {
          "output_type": "stream",
          "name": "stdout",
          "text": [
            "                   all        251        328      0.753      0.652      0.677      0.404      0.773      0.665      0.693      0.456\n"
          ]
        },
        {
          "output_type": "stream",
          "name": "stderr",
          "text": [
            "\n"
          ]
        },
        {
          "output_type": "stream",
          "name": "stdout",
          "text": [
            "\n",
            "      Epoch    GPU_mem   box_loss   seg_loss   cls_loss   dfl_loss  Instances       Size\n"
          ]
        },
        {
          "output_type": "stream",
          "name": "stderr",
          "text": [
            "      5/100      7.96G     0.9141      1.158     0.7462      1.263         26        640: 100%|██████████| 64/64 [00:49<00:00,  1.29it/s]\n",
            "                 Class     Images  Instances      Box(P          R      mAP50  mAP50-95)     Mask(P          R      mAP50  mAP50-95): 100%|██████████| 8/8 [00:05<00:00,  1.54it/s]"
          ]
        },
        {
          "output_type": "stream",
          "name": "stdout",
          "text": [
            "                   all        251        328      0.917      0.695      0.752      0.522      0.909      0.689      0.742      0.571\n"
          ]
        },
        {
          "output_type": "stream",
          "name": "stderr",
          "text": [
            "\n"
          ]
        },
        {
          "output_type": "stream",
          "name": "stdout",
          "text": [
            "\n",
            "      Epoch    GPU_mem   box_loss   seg_loss   cls_loss   dfl_loss  Instances       Size\n"
          ]
        },
        {
          "output_type": "stream",
          "name": "stderr",
          "text": [
            "      6/100      7.93G     0.8589     0.9971     0.6731      1.214         40        640: 100%|██████████| 64/64 [00:49<00:00,  1.30it/s]\n",
            "                 Class     Images  Instances      Box(P          R      mAP50  mAP50-95)     Mask(P          R      mAP50  mAP50-95): 100%|██████████| 8/8 [00:05<00:00,  1.58it/s]"
          ]
        },
        {
          "output_type": "stream",
          "name": "stdout",
          "text": [
            "                   all        251        328      0.802      0.579       0.62      0.432       0.79       0.57      0.603      0.426\n"
          ]
        },
        {
          "output_type": "stream",
          "name": "stderr",
          "text": [
            "\n"
          ]
        },
        {
          "output_type": "stream",
          "name": "stdout",
          "text": [
            "\n",
            "      Epoch    GPU_mem   box_loss   seg_loss   cls_loss   dfl_loss  Instances       Size\n"
          ]
        },
        {
          "output_type": "stream",
          "name": "stderr",
          "text": [
            "      7/100      7.95G      0.855      1.078     0.6712       1.22         32        640: 100%|██████████| 64/64 [00:48<00:00,  1.31it/s]\n",
            "                 Class     Images  Instances      Box(P          R      mAP50  mAP50-95)     Mask(P          R      mAP50  mAP50-95): 100%|██████████| 8/8 [00:05<00:00,  1.35it/s]"
          ]
        },
        {
          "output_type": "stream",
          "name": "stdout",
          "text": [
            "                   all        251        328      0.703      0.585      0.584      0.381      0.699      0.582      0.584      0.408\n"
          ]
        },
        {
          "output_type": "stream",
          "name": "stderr",
          "text": [
            "\n"
          ]
        },
        {
          "output_type": "stream",
          "name": "stdout",
          "text": [
            "\n",
            "      Epoch    GPU_mem   box_loss   seg_loss   cls_loss   dfl_loss  Instances       Size\n"
          ]
        },
        {
          "output_type": "stream",
          "name": "stderr",
          "text": [
            "      8/100      7.96G     0.8577      1.064     0.6646       1.22         22        640: 100%|██████████| 64/64 [00:48<00:00,  1.32it/s]\n",
            "                 Class     Images  Instances      Box(P          R      mAP50  mAP50-95)     Mask(P          R      mAP50  mAP50-95): 100%|██████████| 8/8 [00:05<00:00,  1.54it/s]"
          ]
        },
        {
          "output_type": "stream",
          "name": "stdout",
          "text": [
            "                   all        251        328      0.895      0.729      0.748      0.591      0.887      0.723      0.738       0.61\n"
          ]
        },
        {
          "output_type": "stream",
          "name": "stderr",
          "text": [
            "\n"
          ]
        },
        {
          "output_type": "stream",
          "name": "stdout",
          "text": [
            "\n",
            "      Epoch    GPU_mem   box_loss   seg_loss   cls_loss   dfl_loss  Instances       Size\n"
          ]
        },
        {
          "output_type": "stream",
          "name": "stderr",
          "text": [
            "      9/100      7.97G     0.7945     0.9934     0.6067      1.174         28        640: 100%|██████████| 64/64 [00:48<00:00,  1.33it/s]\n",
            "                 Class     Images  Instances      Box(P          R      mAP50  mAP50-95)     Mask(P          R      mAP50  mAP50-95): 100%|██████████| 8/8 [00:05<00:00,  1.47it/s]"
          ]
        },
        {
          "output_type": "stream",
          "name": "stdout",
          "text": [
            "                   all        251        328      0.896      0.735       0.76      0.605      0.894      0.749      0.768      0.629\n"
          ]
        },
        {
          "output_type": "stream",
          "name": "stderr",
          "text": [
            "\n"
          ]
        },
        {
          "output_type": "stream",
          "name": "stdout",
          "text": [
            "\n",
            "      Epoch    GPU_mem   box_loss   seg_loss   cls_loss   dfl_loss  Instances       Size\n"
          ]
        },
        {
          "output_type": "stream",
          "name": "stderr",
          "text": [
            "     10/100      7.98G     0.7333     0.9431     0.5865      1.142         30        640: 100%|██████████| 64/64 [00:48<00:00,  1.32it/s]\n",
            "                 Class     Images  Instances      Box(P          R      mAP50  mAP50-95)     Mask(P          R      mAP50  mAP50-95): 100%|██████████| 8/8 [00:05<00:00,  1.39it/s]"
          ]
        },
        {
          "output_type": "stream",
          "name": "stdout",
          "text": [
            "                   all        251        328      0.947      0.768      0.779      0.622      0.944      0.765      0.778      0.648\n"
          ]
        },
        {
          "output_type": "stream",
          "name": "stderr",
          "text": [
            "\n"
          ]
        },
        {
          "output_type": "stream",
          "name": "stdout",
          "text": [
            "\n",
            "      Epoch    GPU_mem   box_loss   seg_loss   cls_loss   dfl_loss  Instances       Size\n"
          ]
        },
        {
          "output_type": "stream",
          "name": "stderr",
          "text": [
            "     11/100      7.95G     0.7347     0.9712     0.5782      1.138         29        640: 100%|██████████| 64/64 [00:49<00:00,  1.30it/s]\n",
            "                 Class     Images  Instances      Box(P          R      mAP50  mAP50-95)     Mask(P          R      mAP50  mAP50-95): 100%|██████████| 8/8 [00:06<00:00,  1.31it/s]"
          ]
        },
        {
          "output_type": "stream",
          "name": "stdout",
          "text": [
            "                   all        251        328      0.973      0.768      0.791      0.651      0.987      0.771      0.793      0.677\n"
          ]
        },
        {
          "output_type": "stream",
          "name": "stderr",
          "text": [
            "\n"
          ]
        },
        {
          "output_type": "stream",
          "name": "stdout",
          "text": [
            "\n",
            "      Epoch    GPU_mem   box_loss   seg_loss   cls_loss   dfl_loss  Instances       Size\n"
          ]
        },
        {
          "output_type": "stream",
          "name": "stderr",
          "text": [
            "     12/100      7.95G     0.7058       0.89     0.5445      1.127         26        640: 100%|██████████| 64/64 [00:48<00:00,  1.32it/s]\n",
            "                 Class     Images  Instances      Box(P          R      mAP50  mAP50-95)     Mask(P          R      mAP50  mAP50-95): 100%|██████████| 8/8 [00:06<00:00,  1.29it/s]"
          ]
        },
        {
          "output_type": "stream",
          "name": "stdout",
          "text": [
            "                   all        251        328      0.959      0.756      0.779      0.627      0.951       0.75       0.77      0.638\n"
          ]
        },
        {
          "output_type": "stream",
          "name": "stderr",
          "text": [
            "\n"
          ]
        },
        {
          "output_type": "stream",
          "name": "stdout",
          "text": [
            "\n",
            "      Epoch    GPU_mem   box_loss   seg_loss   cls_loss   dfl_loss  Instances       Size\n"
          ]
        },
        {
          "output_type": "stream",
          "name": "stderr",
          "text": [
            "     13/100      7.93G     0.6901     0.9132      0.541      1.123         30        640: 100%|██████████| 64/64 [00:48<00:00,  1.33it/s]\n",
            "                 Class     Images  Instances      Box(P          R      mAP50  mAP50-95)     Mask(P          R      mAP50  mAP50-95): 100%|██████████| 8/8 [00:06<00:00,  1.32it/s]"
          ]
        },
        {
          "output_type": "stream",
          "name": "stdout",
          "text": [
            "                   all        251        328       0.92      0.659      0.739      0.602       0.93       0.65      0.724      0.593\n"
          ]
        },
        {
          "output_type": "stream",
          "name": "stderr",
          "text": [
            "\n"
          ]
        },
        {
          "output_type": "stream",
          "name": "stdout",
          "text": [
            "\n",
            "      Epoch    GPU_mem   box_loss   seg_loss   cls_loss   dfl_loss  Instances       Size\n"
          ]
        },
        {
          "output_type": "stream",
          "name": "stderr",
          "text": [
            "     14/100      7.95G      0.663     0.8512     0.5245      1.098         32        640: 100%|██████████| 64/64 [00:47<00:00,  1.33it/s]\n",
            "                 Class     Images  Instances      Box(P          R      mAP50  mAP50-95)     Mask(P          R      mAP50  mAP50-95): 100%|██████████| 8/8 [00:05<00:00,  1.59it/s]"
          ]
        },
        {
          "output_type": "stream",
          "name": "stdout",
          "text": [
            "                   all        251        328      0.965      0.762      0.779      0.685      0.973      0.764      0.779      0.693\n"
          ]
        },
        {
          "output_type": "stream",
          "name": "stderr",
          "text": [
            "\n"
          ]
        },
        {
          "output_type": "stream",
          "name": "stdout",
          "text": [
            "\n",
            "      Epoch    GPU_mem   box_loss   seg_loss   cls_loss   dfl_loss  Instances       Size\n"
          ]
        },
        {
          "output_type": "stream",
          "name": "stderr",
          "text": [
            "     15/100      7.95G     0.6514     0.8543     0.5065      1.087         25        640: 100%|██████████| 64/64 [00:49<00:00,  1.30it/s]\n",
            "                 Class     Images  Instances      Box(P          R      mAP50  mAP50-95)     Mask(P          R      mAP50  mAP50-95): 100%|██████████| 8/8 [00:04<00:00,  1.63it/s]"
          ]
        },
        {
          "output_type": "stream",
          "name": "stdout",
          "text": [
            "                   all        251        328      0.983      0.765      0.796        0.7      0.983      0.765      0.795      0.716\n"
          ]
        },
        {
          "output_type": "stream",
          "name": "stderr",
          "text": [
            "\n"
          ]
        },
        {
          "output_type": "stream",
          "name": "stdout",
          "text": [
            "\n",
            "      Epoch    GPU_mem   box_loss   seg_loss   cls_loss   dfl_loss  Instances       Size\n"
          ]
        },
        {
          "output_type": "stream",
          "name": "stderr",
          "text": [
            "     16/100      7.95G     0.6408      0.782     0.5008       1.08         30        640: 100%|██████████| 64/64 [00:48<00:00,  1.31it/s]\n",
            "                 Class     Images  Instances      Box(P          R      mAP50  mAP50-95)     Mask(P          R      mAP50  mAP50-95): 100%|██████████| 8/8 [00:05<00:00,  1.40it/s]"
          ]
        },
        {
          "output_type": "stream",
          "name": "stdout",
          "text": [
            "                   all        251        328      0.996      0.768      0.808      0.729      0.996      0.768      0.806       0.74\n"
          ]
        },
        {
          "output_type": "stream",
          "name": "stderr",
          "text": [
            "\n"
          ]
        },
        {
          "output_type": "stream",
          "name": "stdout",
          "text": [
            "\n",
            "      Epoch    GPU_mem   box_loss   seg_loss   cls_loss   dfl_loss  Instances       Size\n"
          ]
        },
        {
          "output_type": "stream",
          "name": "stderr",
          "text": [
            "     17/100      7.96G      0.627     0.8041      0.489      1.077         27        640: 100%|██████████| 64/64 [00:49<00:00,  1.30it/s]\n",
            "                 Class     Images  Instances      Box(P          R      mAP50  mAP50-95)     Mask(P          R      mAP50  mAP50-95): 100%|██████████| 8/8 [00:04<00:00,  1.96it/s]"
          ]
        },
        {
          "output_type": "stream",
          "name": "stdout",
          "text": [
            "                   all        251        328      0.886      0.759      0.761      0.665      0.886      0.759      0.753      0.674\n"
          ]
        },
        {
          "output_type": "stream",
          "name": "stderr",
          "text": [
            "\n"
          ]
        },
        {
          "output_type": "stream",
          "name": "stdout",
          "text": [
            "\n",
            "      Epoch    GPU_mem   box_loss   seg_loss   cls_loss   dfl_loss  Instances       Size\n"
          ]
        },
        {
          "output_type": "stream",
          "name": "stderr",
          "text": [
            "     18/100      7.95G     0.6185     0.8084     0.4755      1.066         45        640: 100%|██████████| 64/64 [00:48<00:00,  1.32it/s]\n",
            "                 Class     Images  Instances      Box(P          R      mAP50  mAP50-95)     Mask(P          R      mAP50  mAP50-95): 100%|██████████| 8/8 [00:05<00:00,  1.40it/s]"
          ]
        },
        {
          "output_type": "stream",
          "name": "stdout",
          "text": [
            "                   all        251        328      0.965      0.765      0.773      0.682      0.965      0.765      0.768        0.7\n"
          ]
        },
        {
          "output_type": "stream",
          "name": "stderr",
          "text": [
            "\n"
          ]
        },
        {
          "output_type": "stream",
          "name": "stdout",
          "text": [
            "\n",
            "      Epoch    GPU_mem   box_loss   seg_loss   cls_loss   dfl_loss  Instances       Size\n"
          ]
        },
        {
          "output_type": "stream",
          "name": "stderr",
          "text": [
            "     19/100      7.95G     0.6209     0.8096     0.4773       1.07         29        640: 100%|██████████| 64/64 [00:48<00:00,  1.32it/s]\n",
            "                 Class     Images  Instances      Box(P          R      mAP50  mAP50-95)     Mask(P          R      mAP50  mAP50-95): 100%|██████████| 8/8 [00:05<00:00,  1.56it/s]"
          ]
        },
        {
          "output_type": "stream",
          "name": "stdout",
          "text": [
            "                   all        251        328      0.984      0.762      0.775      0.698       0.98      0.759      0.766        0.7\n"
          ]
        },
        {
          "output_type": "stream",
          "name": "stderr",
          "text": [
            "\n"
          ]
        },
        {
          "output_type": "stream",
          "name": "stdout",
          "text": [
            "\n",
            "      Epoch    GPU_mem   box_loss   seg_loss   cls_loss   dfl_loss  Instances       Size\n"
          ]
        },
        {
          "output_type": "stream",
          "name": "stderr",
          "text": [
            "     20/100      7.94G     0.6025     0.7977     0.4804       1.07         22        640: 100%|██████████| 64/64 [00:48<00:00,  1.32it/s]\n",
            "                 Class     Images  Instances      Box(P          R      mAP50  mAP50-95)     Mask(P          R      mAP50  mAP50-95): 100%|██████████| 8/8 [00:03<00:00,  2.01it/s]"
          ]
        },
        {
          "output_type": "stream",
          "name": "stdout",
          "text": [
            "                   all        251        328      0.965      0.765      0.786      0.705      0.965      0.765      0.786       0.72\n"
          ]
        },
        {
          "output_type": "stream",
          "name": "stderr",
          "text": [
            "\n"
          ]
        },
        {
          "output_type": "stream",
          "name": "stdout",
          "text": [
            "\n",
            "      Epoch    GPU_mem   box_loss   seg_loss   cls_loss   dfl_loss  Instances       Size\n"
          ]
        },
        {
          "output_type": "stream",
          "name": "stderr",
          "text": [
            "     21/100      7.93G     0.5789      0.824     0.4626      1.057         32        640: 100%|██████████| 64/64 [00:48<00:00,  1.31it/s]\n",
            "                 Class     Images  Instances      Box(P          R      mAP50  mAP50-95)     Mask(P          R      mAP50  mAP50-95): 100%|██████████| 8/8 [00:03<00:00,  2.01it/s]"
          ]
        },
        {
          "output_type": "stream",
          "name": "stdout",
          "text": [
            "                   all        251        328      0.965      0.759      0.771      0.699      0.961      0.756      0.765      0.693\n"
          ]
        },
        {
          "output_type": "stream",
          "name": "stderr",
          "text": [
            "\n"
          ]
        },
        {
          "output_type": "stream",
          "name": "stdout",
          "text": [
            "\n",
            "      Epoch    GPU_mem   box_loss   seg_loss   cls_loss   dfl_loss  Instances       Size\n"
          ]
        },
        {
          "output_type": "stream",
          "name": "stderr",
          "text": [
            "     22/100      7.95G     0.5845     0.7754     0.4459      1.059         38        640: 100%|██████████| 64/64 [00:48<00:00,  1.32it/s]\n",
            "                 Class     Images  Instances      Box(P          R      mAP50  mAP50-95)     Mask(P          R      mAP50  mAP50-95): 100%|██████████| 8/8 [00:05<00:00,  1.38it/s]"
          ]
        },
        {
          "output_type": "stream",
          "name": "stdout",
          "text": [
            "                   all        251        328      0.979      0.756      0.781      0.694      0.983      0.759      0.782      0.716\n"
          ]
        },
        {
          "output_type": "stream",
          "name": "stderr",
          "text": [
            "\n"
          ]
        },
        {
          "output_type": "stream",
          "name": "stdout",
          "text": [
            "\n",
            "      Epoch    GPU_mem   box_loss   seg_loss   cls_loss   dfl_loss  Instances       Size\n"
          ]
        },
        {
          "output_type": "stream",
          "name": "stderr",
          "text": [
            "     23/100      7.93G     0.5684     0.7507      0.447      1.052         28        640: 100%|██████████| 64/64 [00:48<00:00,  1.31it/s]\n",
            "                 Class     Images  Instances      Box(P          R      mAP50  mAP50-95)     Mask(P          R      mAP50  mAP50-95): 100%|██████████| 8/8 [00:05<00:00,  1.37it/s]"
          ]
        },
        {
          "output_type": "stream",
          "name": "stdout",
          "text": [
            "                   all        251        328      0.979      0.771       0.79      0.725      0.984      0.766       0.79      0.733\n"
          ]
        },
        {
          "output_type": "stream",
          "name": "stderr",
          "text": [
            "\n"
          ]
        },
        {
          "output_type": "stream",
          "name": "stdout",
          "text": [
            "\n",
            "      Epoch    GPU_mem   box_loss   seg_loss   cls_loss   dfl_loss  Instances       Size\n"
          ]
        },
        {
          "output_type": "stream",
          "name": "stderr",
          "text": [
            "     24/100      7.94G     0.5728     0.7723      0.444      1.043         30        640: 100%|██████████| 64/64 [00:48<00:00,  1.32it/s]\n",
            "                 Class     Images  Instances      Box(P          R      mAP50  mAP50-95)     Mask(P          R      mAP50  mAP50-95): 100%|██████████| 8/8 [00:05<00:00,  1.40it/s]"
          ]
        },
        {
          "output_type": "stream",
          "name": "stdout",
          "text": [
            "                   all        251        328      0.996      0.768      0.784      0.701      0.992      0.765      0.783      0.716\n"
          ]
        },
        {
          "output_type": "stream",
          "name": "stderr",
          "text": [
            "\n"
          ]
        },
        {
          "output_type": "stream",
          "name": "stdout",
          "text": [
            "\n",
            "      Epoch    GPU_mem   box_loss   seg_loss   cls_loss   dfl_loss  Instances       Size\n"
          ]
        },
        {
          "output_type": "stream",
          "name": "stderr",
          "text": [
            "     25/100      7.94G     0.5742     0.7687     0.4302      1.044         28        640: 100%|██████████| 64/64 [00:48<00:00,  1.33it/s]\n",
            "                 Class     Images  Instances      Box(P          R      mAP50  mAP50-95)     Mask(P          R      mAP50  mAP50-95): 100%|██████████| 8/8 [00:05<00:00,  1.53it/s]"
          ]
        },
        {
          "output_type": "stream",
          "name": "stdout",
          "text": [
            "                   all        251        328      0.927      0.765      0.777      0.714      0.927      0.765      0.777      0.719\n"
          ]
        },
        {
          "output_type": "stream",
          "name": "stderr",
          "text": [
            "\n"
          ]
        },
        {
          "output_type": "stream",
          "name": "stdout",
          "text": [
            "\n",
            "      Epoch    GPU_mem   box_loss   seg_loss   cls_loss   dfl_loss  Instances       Size\n"
          ]
        },
        {
          "output_type": "stream",
          "name": "stderr",
          "text": [
            "     26/100      7.94G     0.5422     0.7352     0.4151      1.023         27        640: 100%|██████████| 64/64 [00:48<00:00,  1.33it/s]\n",
            "                 Class     Images  Instances      Box(P          R      mAP50  mAP50-95)     Mask(P          R      mAP50  mAP50-95): 100%|██████████| 8/8 [00:03<00:00,  2.01it/s]"
          ]
        },
        {
          "output_type": "stream",
          "name": "stdout",
          "text": [
            "                   all        251        328      0.994      0.771      0.782      0.719      0.994      0.771      0.782      0.726\n"
          ]
        },
        {
          "output_type": "stream",
          "name": "stderr",
          "text": [
            "\n"
          ]
        },
        {
          "output_type": "stream",
          "name": "stdout",
          "text": [
            "\n",
            "      Epoch    GPU_mem   box_loss   seg_loss   cls_loss   dfl_loss  Instances       Size\n"
          ]
        },
        {
          "output_type": "stream",
          "name": "stderr",
          "text": [
            "     27/100      7.94G     0.5349     0.7538     0.4186      1.031         30        640: 100%|██████████| 64/64 [00:47<00:00,  1.35it/s]\n",
            "                 Class     Images  Instances      Box(P          R      mAP50  mAP50-95)     Mask(P          R      mAP50  mAP50-95): 100%|██████████| 8/8 [00:05<00:00,  1.54it/s]"
          ]
        },
        {
          "output_type": "stream",
          "name": "stdout",
          "text": [
            "                   all        251        328       0.99      0.768      0.797      0.738       0.99      0.768      0.797      0.732\n"
          ]
        },
        {
          "output_type": "stream",
          "name": "stderr",
          "text": [
            "\n"
          ]
        },
        {
          "output_type": "stream",
          "name": "stdout",
          "text": [
            "\n",
            "      Epoch    GPU_mem   box_loss   seg_loss   cls_loss   dfl_loss  Instances       Size\n"
          ]
        },
        {
          "output_type": "stream",
          "name": "stderr",
          "text": [
            "     28/100      7.94G     0.5244     0.7175     0.4075      1.016         30        640: 100%|██████████| 64/64 [00:47<00:00,  1.35it/s]\n",
            "                 Class     Images  Instances      Box(P          R      mAP50  mAP50-95)     Mask(P          R      mAP50  mAP50-95): 100%|██████████| 8/8 [00:05<00:00,  1.56it/s]"
          ]
        },
        {
          "output_type": "stream",
          "name": "stdout",
          "text": [
            "                   all        251        328      0.996      0.768      0.783      0.725      0.996      0.768      0.784      0.732\n"
          ]
        },
        {
          "output_type": "stream",
          "name": "stderr",
          "text": [
            "\n"
          ]
        },
        {
          "output_type": "stream",
          "name": "stdout",
          "text": [
            "\n",
            "      Epoch    GPU_mem   box_loss   seg_loss   cls_loss   dfl_loss  Instances       Size\n"
          ]
        },
        {
          "output_type": "stream",
          "name": "stderr",
          "text": [
            "     29/100      7.98G     0.5168     0.6987     0.4002      1.005         23        640: 100%|██████████| 64/64 [00:47<00:00,  1.35it/s]\n",
            "                 Class     Images  Instances      Box(P          R      mAP50  mAP50-95)     Mask(P          R      mAP50  mAP50-95): 100%|██████████| 8/8 [00:04<00:00,  1.97it/s]"
          ]
        },
        {
          "output_type": "stream",
          "name": "stdout",
          "text": [
            "                   all        251        328      0.984      0.768      0.778       0.72       0.98      0.765       0.77      0.717\n"
          ]
        },
        {
          "output_type": "stream",
          "name": "stderr",
          "text": [
            "\n"
          ]
        },
        {
          "output_type": "stream",
          "name": "stdout",
          "text": [
            "\n",
            "      Epoch    GPU_mem   box_loss   seg_loss   cls_loss   dfl_loss  Instances       Size\n"
          ]
        },
        {
          "output_type": "stream",
          "name": "stderr",
          "text": [
            "     30/100      7.95G     0.5148     0.7025     0.3923      1.014         31        640: 100%|██████████| 64/64 [00:47<00:00,  1.35it/s]\n",
            "                 Class     Images  Instances      Box(P          R      mAP50  mAP50-95)     Mask(P          R      mAP50  mAP50-95): 100%|██████████| 8/8 [00:04<00:00,  1.99it/s]"
          ]
        },
        {
          "output_type": "stream",
          "name": "stdout",
          "text": [
            "                   all        251        328      0.984      0.765      0.791      0.748      0.988      0.765      0.791      0.743\n"
          ]
        },
        {
          "output_type": "stream",
          "name": "stderr",
          "text": [
            "\n"
          ]
        },
        {
          "output_type": "stream",
          "name": "stdout",
          "text": [
            "\n",
            "      Epoch    GPU_mem   box_loss   seg_loss   cls_loss   dfl_loss  Instances       Size\n"
          ]
        },
        {
          "output_type": "stream",
          "name": "stderr",
          "text": [
            "     31/100      7.97G     0.4967     0.6994     0.3918      1.008         32        640: 100%|██████████| 64/64 [00:47<00:00,  1.34it/s]\n",
            "                 Class     Images  Instances      Box(P          R      mAP50  mAP50-95)     Mask(P          R      mAP50  mAP50-95): 100%|██████████| 8/8 [00:04<00:00,  1.77it/s]"
          ]
        },
        {
          "output_type": "stream",
          "name": "stdout",
          "text": [
            "                   all        251        328      0.977      0.765      0.777      0.715      0.977      0.765      0.778      0.728\n"
          ]
        },
        {
          "output_type": "stream",
          "name": "stderr",
          "text": [
            "\n"
          ]
        },
        {
          "output_type": "stream",
          "name": "stdout",
          "text": [
            "\n",
            "      Epoch    GPU_mem   box_loss   seg_loss   cls_loss   dfl_loss  Instances       Size\n"
          ]
        },
        {
          "output_type": "stream",
          "name": "stderr",
          "text": [
            "     32/100      7.95G     0.5164     0.6825     0.3981      1.012         29        640: 100%|██████████| 64/64 [00:48<00:00,  1.33it/s]\n",
            "                 Class     Images  Instances      Box(P          R      mAP50  mAP50-95)     Mask(P          R      mAP50  mAP50-95): 100%|██████████| 8/8 [00:04<00:00,  1.77it/s]"
          ]
        },
        {
          "output_type": "stream",
          "name": "stdout",
          "text": [
            "                   all        251        328      0.999      0.771      0.797      0.741      0.995      0.768      0.795      0.749\n"
          ]
        },
        {
          "output_type": "stream",
          "name": "stderr",
          "text": [
            "\n"
          ]
        },
        {
          "output_type": "stream",
          "name": "stdout",
          "text": [
            "\n",
            "      Epoch    GPU_mem   box_loss   seg_loss   cls_loss   dfl_loss  Instances       Size\n"
          ]
        },
        {
          "output_type": "stream",
          "name": "stderr",
          "text": [
            "     33/100      7.95G     0.5096     0.6663     0.3866      1.009         26        640: 100%|██████████| 64/64 [00:48<00:00,  1.33it/s]\n",
            "                 Class     Images  Instances      Box(P          R      mAP50  mAP50-95)     Mask(P          R      mAP50  mAP50-95): 100%|██████████| 8/8 [00:05<00:00,  1.49it/s]"
          ]
        },
        {
          "output_type": "stream",
          "name": "stdout",
          "text": [
            "                   all        251        328      0.987      0.771      0.801      0.749      0.987      0.771      0.801      0.754\n"
          ]
        },
        {
          "output_type": "stream",
          "name": "stderr",
          "text": [
            "\n"
          ]
        },
        {
          "output_type": "stream",
          "name": "stdout",
          "text": [
            "\n",
            "      Epoch    GPU_mem   box_loss   seg_loss   cls_loss   dfl_loss  Instances       Size\n"
          ]
        },
        {
          "output_type": "stream",
          "name": "stderr",
          "text": [
            "     34/100      7.96G      0.498     0.6846     0.3818     0.9998         26        640: 100%|██████████| 64/64 [00:48<00:00,  1.33it/s]\n",
            "                 Class     Images  Instances      Box(P          R      mAP50  mAP50-95)     Mask(P          R      mAP50  mAP50-95): 100%|██████████| 8/8 [00:05<00:00,  1.45it/s]"
          ]
        },
        {
          "output_type": "stream",
          "name": "stdout",
          "text": [
            "                   all        251        328      0.977       0.77      0.793      0.732      0.977       0.77      0.793      0.741\n"
          ]
        },
        {
          "output_type": "stream",
          "name": "stderr",
          "text": [
            "\n"
          ]
        },
        {
          "output_type": "stream",
          "name": "stdout",
          "text": [
            "\n",
            "      Epoch    GPU_mem   box_loss   seg_loss   cls_loss   dfl_loss  Instances       Size\n"
          ]
        },
        {
          "output_type": "stream",
          "name": "stderr",
          "text": [
            "     35/100      7.93G     0.5069     0.6809     0.3918      1.007         37        640: 100%|██████████| 64/64 [00:47<00:00,  1.34it/s]\n",
            "                 Class     Images  Instances      Box(P          R      mAP50  mAP50-95)     Mask(P          R      mAP50  mAP50-95): 100%|██████████| 8/8 [00:04<00:00,  1.78it/s]"
          ]
        },
        {
          "output_type": "stream",
          "name": "stdout",
          "text": [
            "                   all        251        328      0.992      0.765      0.777      0.742      0.999      0.771      0.784      0.739\n"
          ]
        },
        {
          "output_type": "stream",
          "name": "stderr",
          "text": [
            "\n"
          ]
        },
        {
          "output_type": "stream",
          "name": "stdout",
          "text": [
            "\n",
            "      Epoch    GPU_mem   box_loss   seg_loss   cls_loss   dfl_loss  Instances       Size\n"
          ]
        },
        {
          "output_type": "stream",
          "name": "stderr",
          "text": [
            "     36/100      7.96G     0.4832     0.6608     0.3749     0.9989         26        640: 100%|██████████| 64/64 [00:47<00:00,  1.34it/s]\n",
            "                 Class     Images  Instances      Box(P          R      mAP50  mAP50-95)     Mask(P          R      mAP50  mAP50-95): 100%|██████████| 8/8 [00:05<00:00,  1.57it/s]"
          ]
        },
        {
          "output_type": "stream",
          "name": "stdout",
          "text": [
            "                   all        251        328      0.973      0.769      0.792      0.737      0.977      0.771      0.793      0.738\n"
          ]
        },
        {
          "output_type": "stream",
          "name": "stderr",
          "text": [
            "\n"
          ]
        },
        {
          "output_type": "stream",
          "name": "stdout",
          "text": [
            "\n",
            "      Epoch    GPU_mem   box_loss   seg_loss   cls_loss   dfl_loss  Instances       Size\n"
          ]
        },
        {
          "output_type": "stream",
          "name": "stderr",
          "text": [
            "     37/100      7.99G     0.4881     0.6371     0.3691     0.9946         31        640: 100%|██████████| 64/64 [00:47<00:00,  1.34it/s]\n",
            "                 Class     Images  Instances      Box(P          R      mAP50  mAP50-95)     Mask(P          R      mAP50  mAP50-95): 100%|██████████| 8/8 [00:04<00:00,  1.99it/s]"
          ]
        },
        {
          "output_type": "stream",
          "name": "stdout",
          "text": [
            "                   all        251        328      0.973      0.765      0.782      0.744      0.973      0.765      0.782      0.738\n"
          ]
        },
        {
          "output_type": "stream",
          "name": "stderr",
          "text": [
            "\n"
          ]
        },
        {
          "output_type": "stream",
          "name": "stdout",
          "text": [
            "\n",
            "      Epoch    GPU_mem   box_loss   seg_loss   cls_loss   dfl_loss  Instances       Size\n"
          ]
        },
        {
          "output_type": "stream",
          "name": "stderr",
          "text": [
            "     38/100      7.95G      0.456     0.6259     0.3493     0.9873         26        640: 100%|██████████| 64/64 [00:47<00:00,  1.34it/s]\n",
            "                 Class     Images  Instances      Box(P          R      mAP50  mAP50-95)     Mask(P          R      mAP50  mAP50-95): 100%|██████████| 8/8 [00:05<00:00,  1.42it/s]"
          ]
        },
        {
          "output_type": "stream",
          "name": "stdout",
          "text": [
            "                   all        251        328      0.987      0.765      0.802      0.759      0.991      0.768      0.805       0.76\n"
          ]
        },
        {
          "output_type": "stream",
          "name": "stderr",
          "text": [
            "\n"
          ]
        },
        {
          "output_type": "stream",
          "name": "stdout",
          "text": [
            "\n",
            "      Epoch    GPU_mem   box_loss   seg_loss   cls_loss   dfl_loss  Instances       Size\n"
          ]
        },
        {
          "output_type": "stream",
          "name": "stderr",
          "text": [
            "     39/100      7.96G     0.4618     0.6316     0.3515     0.9926         29        640: 100%|██████████| 64/64 [00:47<00:00,  1.34it/s]\n",
            "                 Class     Images  Instances      Box(P          R      mAP50  mAP50-95)     Mask(P          R      mAP50  mAP50-95): 100%|██████████| 8/8 [00:04<00:00,  1.98it/s]"
          ]
        },
        {
          "output_type": "stream",
          "name": "stdout",
          "text": [
            "                   all        251        328      0.996      0.771      0.801      0.763      0.996      0.771      0.801      0.761\n"
          ]
        },
        {
          "output_type": "stream",
          "name": "stderr",
          "text": [
            "\n"
          ]
        },
        {
          "output_type": "stream",
          "name": "stdout",
          "text": [
            "\n",
            "      Epoch    GPU_mem   box_loss   seg_loss   cls_loss   dfl_loss  Instances       Size\n"
          ]
        },
        {
          "output_type": "stream",
          "name": "stderr",
          "text": [
            "     40/100      7.95G     0.4417     0.6334     0.3468     0.9758         30        640: 100%|██████████| 64/64 [00:47<00:00,  1.34it/s]\n",
            "                 Class     Images  Instances      Box(P          R      mAP50  mAP50-95)     Mask(P          R      mAP50  mAP50-95): 100%|██████████| 8/8 [00:04<00:00,  1.63it/s]"
          ]
        },
        {
          "output_type": "stream",
          "name": "stdout",
          "text": [
            "                   all        251        328      0.988      0.765      0.776      0.742      0.988      0.765      0.776      0.736\n"
          ]
        },
        {
          "output_type": "stream",
          "name": "stderr",
          "text": [
            "\n"
          ]
        },
        {
          "output_type": "stream",
          "name": "stdout",
          "text": [
            "\n",
            "      Epoch    GPU_mem   box_loss   seg_loss   cls_loss   dfl_loss  Instances       Size\n"
          ]
        },
        {
          "output_type": "stream",
          "name": "stderr",
          "text": [
            "     41/100      7.93G     0.4506     0.6526     0.3522     0.9803         34        640: 100%|██████████| 64/64 [00:47<00:00,  1.34it/s]\n",
            "                 Class     Images  Instances      Box(P          R      mAP50  mAP50-95)     Mask(P          R      mAP50  mAP50-95): 100%|██████████| 8/8 [00:05<00:00,  1.51it/s]"
          ]
        },
        {
          "output_type": "stream",
          "name": "stdout",
          "text": [
            "                   all        251        328      0.988      0.768      0.786      0.739      0.988      0.768      0.786      0.746\n"
          ]
        },
        {
          "output_type": "stream",
          "name": "stderr",
          "text": [
            "\n"
          ]
        },
        {
          "output_type": "stream",
          "name": "stdout",
          "text": [
            "\n",
            "      Epoch    GPU_mem   box_loss   seg_loss   cls_loss   dfl_loss  Instances       Size\n"
          ]
        },
        {
          "output_type": "stream",
          "name": "stderr",
          "text": [
            "     42/100      7.96G     0.4626     0.6464     0.3561     0.9901         28        640: 100%|██████████| 64/64 [00:47<00:00,  1.35it/s]\n",
            "                 Class     Images  Instances      Box(P          R      mAP50  mAP50-95)     Mask(P          R      mAP50  mAP50-95): 100%|██████████| 8/8 [00:03<00:00,  2.02it/s]"
          ]
        },
        {
          "output_type": "stream",
          "name": "stdout",
          "text": [
            "                   all        251        328      0.995      0.771      0.789      0.752      0.995      0.771      0.789      0.747\n"
          ]
        },
        {
          "output_type": "stream",
          "name": "stderr",
          "text": [
            "\n"
          ]
        },
        {
          "output_type": "stream",
          "name": "stdout",
          "text": [
            "\n",
            "      Epoch    GPU_mem   box_loss   seg_loss   cls_loss   dfl_loss  Instances       Size\n"
          ]
        },
        {
          "output_type": "stream",
          "name": "stderr",
          "text": [
            "     43/100      7.95G     0.4666     0.6391     0.3606     0.9922         31        640: 100%|██████████| 64/64 [00:47<00:00,  1.34it/s]\n",
            "                 Class     Images  Instances      Box(P          R      mAP50  mAP50-95)     Mask(P          R      mAP50  mAP50-95): 100%|██████████| 8/8 [00:05<00:00,  1.41it/s]"
          ]
        },
        {
          "output_type": "stream",
          "name": "stdout",
          "text": [
            "                   all        251        328      0.993      0.768       0.81       0.77      0.993      0.768       0.81      0.766\n"
          ]
        },
        {
          "output_type": "stream",
          "name": "stderr",
          "text": [
            "\n"
          ]
        },
        {
          "output_type": "stream",
          "name": "stdout",
          "text": [
            "\n",
            "      Epoch    GPU_mem   box_loss   seg_loss   cls_loss   dfl_loss  Instances       Size\n"
          ]
        },
        {
          "output_type": "stream",
          "name": "stderr",
          "text": [
            "     44/100      7.94G     0.4513     0.6136     0.3393     0.9834         36        640: 100%|██████████| 64/64 [00:47<00:00,  1.34it/s]\n",
            "                 Class     Images  Instances      Box(P          R      mAP50  mAP50-95)     Mask(P          R      mAP50  mAP50-95): 100%|██████████| 8/8 [00:05<00:00,  1.41it/s]"
          ]
        },
        {
          "output_type": "stream",
          "name": "stdout",
          "text": [
            "                   all        251        328      0.996      0.771      0.817      0.785      0.996      0.771      0.817      0.784\n"
          ]
        },
        {
          "output_type": "stream",
          "name": "stderr",
          "text": [
            "\n"
          ]
        },
        {
          "output_type": "stream",
          "name": "stdout",
          "text": [
            "\n",
            "      Epoch    GPU_mem   box_loss   seg_loss   cls_loss   dfl_loss  Instances       Size\n"
          ]
        },
        {
          "output_type": "stream",
          "name": "stderr",
          "text": [
            "     45/100      7.96G     0.4462     0.6176     0.3325     0.9795         34        640: 100%|██████████| 64/64 [00:47<00:00,  1.34it/s]\n",
            "                 Class     Images  Instances      Box(P          R      mAP50  mAP50-95)     Mask(P          R      mAP50  mAP50-95): 100%|██████████| 8/8 [00:05<00:00,  1.36it/s]"
          ]
        },
        {
          "output_type": "stream",
          "name": "stdout",
          "text": [
            "                   all        251        328      0.996      0.766       0.78      0.743          1      0.768       0.78      0.739\n"
          ]
        },
        {
          "output_type": "stream",
          "name": "stderr",
          "text": [
            "\n"
          ]
        },
        {
          "output_type": "stream",
          "name": "stdout",
          "text": [
            "\n",
            "      Epoch    GPU_mem   box_loss   seg_loss   cls_loss   dfl_loss  Instances       Size\n"
          ]
        },
        {
          "output_type": "stream",
          "name": "stderr",
          "text": [
            "     46/100      7.95G     0.4181     0.5671     0.3246     0.9627         34        640: 100%|██████████| 64/64 [00:47<00:00,  1.35it/s]\n",
            "                 Class     Images  Instances      Box(P          R      mAP50  mAP50-95)     Mask(P          R      mAP50  mAP50-95): 100%|██████████| 8/8 [00:03<00:00,  2.03it/s]"
          ]
        },
        {
          "output_type": "stream",
          "name": "stdout",
          "text": [
            "                   all        251        328      0.993      0.771        0.8      0.763      0.996       0.77        0.8      0.765\n"
          ]
        },
        {
          "output_type": "stream",
          "name": "stderr",
          "text": [
            "\n"
          ]
        },
        {
          "output_type": "stream",
          "name": "stdout",
          "text": [
            "\n",
            "      Epoch    GPU_mem   box_loss   seg_loss   cls_loss   dfl_loss  Instances       Size\n"
          ]
        },
        {
          "output_type": "stream",
          "name": "stderr",
          "text": [
            "     47/100      7.96G      0.441     0.5992     0.3245     0.9757         37        640: 100%|██████████| 64/64 [00:48<00:00,  1.33it/s]\n",
            "                 Class     Images  Instances      Box(P          R      mAP50  mAP50-95)     Mask(P          R      mAP50  mAP50-95): 100%|██████████| 8/8 [00:04<00:00,  1.68it/s]"
          ]
        },
        {
          "output_type": "stream",
          "name": "stdout",
          "text": [
            "                   all        251        328      0.999      0.771      0.798      0.763      0.995      0.768      0.792       0.76\n"
          ]
        },
        {
          "output_type": "stream",
          "name": "stderr",
          "text": [
            "\n"
          ]
        },
        {
          "output_type": "stream",
          "name": "stdout",
          "text": [
            "\n",
            "      Epoch    GPU_mem   box_loss   seg_loss   cls_loss   dfl_loss  Instances       Size\n"
          ]
        },
        {
          "output_type": "stream",
          "name": "stderr",
          "text": [
            "     48/100      7.97G     0.4371     0.6306     0.3295     0.9693         36        640: 100%|██████████| 64/64 [00:47<00:00,  1.35it/s]\n",
            "                 Class     Images  Instances      Box(P          R      mAP50  mAP50-95)     Mask(P          R      mAP50  mAP50-95): 100%|██████████| 8/8 [00:05<00:00,  1.47it/s]"
          ]
        },
        {
          "output_type": "stream",
          "name": "stdout",
          "text": [
            "                   all        251        328      0.995      0.771      0.793      0.758      0.995      0.771      0.793      0.751\n"
          ]
        },
        {
          "output_type": "stream",
          "name": "stderr",
          "text": [
            "\n"
          ]
        },
        {
          "output_type": "stream",
          "name": "stdout",
          "text": [
            "\n",
            "      Epoch    GPU_mem   box_loss   seg_loss   cls_loss   dfl_loss  Instances       Size\n"
          ]
        },
        {
          "output_type": "stream",
          "name": "stderr",
          "text": [
            "     49/100      7.98G      0.416     0.5656     0.3195     0.9511         30        640: 100%|██████████| 64/64 [00:47<00:00,  1.35it/s]\n",
            "                 Class     Images  Instances      Box(P          R      mAP50  mAP50-95)     Mask(P          R      mAP50  mAP50-95): 100%|██████████| 8/8 [00:04<00:00,  1.76it/s]"
          ]
        },
        {
          "output_type": "stream",
          "name": "stdout",
          "text": [
            "                   all        251        328      0.995      0.771      0.795      0.765      0.995      0.771      0.795      0.755\n"
          ]
        },
        {
          "output_type": "stream",
          "name": "stderr",
          "text": [
            "\n"
          ]
        },
        {
          "output_type": "stream",
          "name": "stdout",
          "text": [
            "\n",
            "      Epoch    GPU_mem   box_loss   seg_loss   cls_loss   dfl_loss  Instances       Size\n"
          ]
        },
        {
          "output_type": "stream",
          "name": "stderr",
          "text": [
            "     50/100      7.95G     0.4314     0.5737     0.3258     0.9712         34        640: 100%|██████████| 64/64 [00:47<00:00,  1.35it/s]\n",
            "                 Class     Images  Instances      Box(P          R      mAP50  mAP50-95)     Mask(P          R      mAP50  mAP50-95): 100%|██████████| 8/8 [00:03<00:00,  2.01it/s]"
          ]
        },
        {
          "output_type": "stream",
          "name": "stdout",
          "text": [
            "                   all        251        328      0.992      0.773      0.785      0.751      0.988       0.77      0.784      0.744\n"
          ]
        },
        {
          "output_type": "stream",
          "name": "stderr",
          "text": [
            "\n"
          ]
        },
        {
          "output_type": "stream",
          "name": "stdout",
          "text": [
            "\n",
            "      Epoch    GPU_mem   box_loss   seg_loss   cls_loss   dfl_loss  Instances       Size\n"
          ]
        },
        {
          "output_type": "stream",
          "name": "stderr",
          "text": [
            "     51/100      7.93G     0.4288     0.5666     0.3262      0.966         29        640: 100%|██████████| 64/64 [00:47<00:00,  1.34it/s]\n",
            "                 Class     Images  Instances      Box(P          R      mAP50  mAP50-95)     Mask(P          R      mAP50  mAP50-95): 100%|██████████| 8/8 [00:05<00:00,  1.46it/s]"
          ]
        },
        {
          "output_type": "stream",
          "name": "stdout",
          "text": [
            "                   all        251        328      0.995      0.765      0.809       0.78      0.999      0.768      0.809      0.775\n"
          ]
        },
        {
          "output_type": "stream",
          "name": "stderr",
          "text": [
            "\n"
          ]
        },
        {
          "output_type": "stream",
          "name": "stdout",
          "text": [
            "\n",
            "      Epoch    GPU_mem   box_loss   seg_loss   cls_loss   dfl_loss  Instances       Size\n"
          ]
        },
        {
          "output_type": "stream",
          "name": "stderr",
          "text": [
            "     52/100      7.95G     0.4289     0.5964     0.3213      0.971         36        640: 100%|██████████| 64/64 [00:47<00:00,  1.34it/s]\n",
            "                 Class     Images  Instances      Box(P          R      mAP50  mAP50-95)     Mask(P          R      mAP50  mAP50-95): 100%|██████████| 8/8 [00:04<00:00,  1.90it/s]"
          ]
        },
        {
          "output_type": "stream",
          "name": "stdout",
          "text": [
            "                   all        251        328      0.999      0.771      0.795      0.763      0.999      0.771      0.795      0.756\n"
          ]
        },
        {
          "output_type": "stream",
          "name": "stderr",
          "text": [
            "\n"
          ]
        },
        {
          "output_type": "stream",
          "name": "stdout",
          "text": [
            "\n",
            "      Epoch    GPU_mem   box_loss   seg_loss   cls_loss   dfl_loss  Instances       Size\n"
          ]
        },
        {
          "output_type": "stream",
          "name": "stderr",
          "text": [
            "     53/100         8G     0.4064     0.5809     0.3133     0.9598         30        640: 100%|██████████| 64/64 [00:48<00:00,  1.32it/s]\n",
            "                 Class     Images  Instances      Box(P          R      mAP50  mAP50-95)     Mask(P          R      mAP50  mAP50-95): 100%|██████████| 8/8 [00:04<00:00,  1.88it/s]"
          ]
        },
        {
          "output_type": "stream",
          "name": "stdout",
          "text": [
            "                   all        251        328      0.992      0.774      0.812      0.777      0.991      0.771      0.811      0.774\n"
          ]
        },
        {
          "output_type": "stream",
          "name": "stderr",
          "text": [
            "\n"
          ]
        },
        {
          "output_type": "stream",
          "name": "stdout",
          "text": [
            "\n",
            "      Epoch    GPU_mem   box_loss   seg_loss   cls_loss   dfl_loss  Instances       Size\n"
          ]
        },
        {
          "output_type": "stream",
          "name": "stderr",
          "text": [
            "     54/100      7.94G     0.4004     0.5664     0.3068     0.9503         28        640: 100%|██████████| 64/64 [00:47<00:00,  1.35it/s]\n",
            "                 Class     Images  Instances      Box(P          R      mAP50  mAP50-95)     Mask(P          R      mAP50  mAP50-95): 100%|██████████| 8/8 [00:05<00:00,  1.43it/s]"
          ]
        },
        {
          "output_type": "stream",
          "name": "stdout",
          "text": [
            "                   all        251        328      0.992      0.765       0.79       0.76      0.992      0.765      0.791       0.76\n"
          ]
        },
        {
          "output_type": "stream",
          "name": "stderr",
          "text": [
            "\n"
          ]
        },
        {
          "output_type": "stream",
          "name": "stdout",
          "text": [
            "\n",
            "      Epoch    GPU_mem   box_loss   seg_loss   cls_loss   dfl_loss  Instances       Size\n"
          ]
        },
        {
          "output_type": "stream",
          "name": "stderr",
          "text": [
            "     55/100      7.96G     0.3945      0.542      0.292      0.948         30        640: 100%|██████████| 64/64 [00:47<00:00,  1.35it/s]\n",
            "                 Class     Images  Instances      Box(P          R      mAP50  mAP50-95)     Mask(P          R      mAP50  mAP50-95): 100%|██████████| 8/8 [00:03<00:00,  2.01it/s]"
          ]
        },
        {
          "output_type": "stream",
          "name": "stdout",
          "text": [
            "                   all        251        328      0.996      0.774      0.779      0.746      0.995      0.771      0.779      0.745\n"
          ]
        },
        {
          "output_type": "stream",
          "name": "stderr",
          "text": [
            "\n"
          ]
        },
        {
          "output_type": "stream",
          "name": "stdout",
          "text": [
            "\n",
            "      Epoch    GPU_mem   box_loss   seg_loss   cls_loss   dfl_loss  Instances       Size\n"
          ]
        },
        {
          "output_type": "stream",
          "name": "stderr",
          "text": [
            "     56/100      7.93G     0.4003     0.5666     0.2989     0.9489         27        640: 100%|██████████| 64/64 [00:47<00:00,  1.34it/s]\n",
            "                 Class     Images  Instances      Box(P          R      mAP50  mAP50-95)     Mask(P          R      mAP50  mAP50-95): 100%|██████████| 8/8 [00:05<00:00,  1.45it/s]"
          ]
        },
        {
          "output_type": "stream",
          "name": "stdout",
          "text": [
            "                   all        251        328      0.992      0.774      0.798      0.772      0.984      0.774      0.798      0.758\n"
          ]
        },
        {
          "output_type": "stream",
          "name": "stderr",
          "text": [
            "\n"
          ]
        },
        {
          "output_type": "stream",
          "name": "stdout",
          "text": [
            "\n",
            "      Epoch    GPU_mem   box_loss   seg_loss   cls_loss   dfl_loss  Instances       Size\n"
          ]
        },
        {
          "output_type": "stream",
          "name": "stderr",
          "text": [
            "     57/100      7.97G     0.4011     0.5653     0.2954     0.9588         25        640: 100%|██████████| 64/64 [00:48<00:00,  1.33it/s]\n",
            "                 Class     Images  Instances      Box(P          R      mAP50  mAP50-95)     Mask(P          R      mAP50  mAP50-95): 100%|██████████| 8/8 [00:05<00:00,  1.38it/s]"
          ]
        },
        {
          "output_type": "stream",
          "name": "stdout",
          "text": [
            "                   all        251        328      0.995      0.765        0.8      0.772      0.999      0.768        0.8      0.765\n"
          ]
        },
        {
          "output_type": "stream",
          "name": "stderr",
          "text": [
            "\n"
          ]
        },
        {
          "output_type": "stream",
          "name": "stdout",
          "text": [
            "\n",
            "      Epoch    GPU_mem   box_loss   seg_loss   cls_loss   dfl_loss  Instances       Size\n"
          ]
        },
        {
          "output_type": "stream",
          "name": "stderr",
          "text": [
            "     58/100      7.97G     0.3883     0.5502     0.2896     0.9475         31        640: 100%|██████████| 64/64 [00:47<00:00,  1.34it/s]\n",
            "                 Class     Images  Instances      Box(P          R      mAP50  mAP50-95)     Mask(P          R      mAP50  mAP50-95): 100%|██████████| 8/8 [00:03<00:00,  2.01it/s]"
          ]
        },
        {
          "output_type": "stream",
          "name": "stdout",
          "text": [
            "                   all        251        328      0.986      0.762      0.784      0.749      0.988      0.765      0.784      0.753\n"
          ]
        },
        {
          "output_type": "stream",
          "name": "stderr",
          "text": [
            "\n"
          ]
        },
        {
          "output_type": "stream",
          "name": "stdout",
          "text": [
            "\n",
            "      Epoch    GPU_mem   box_loss   seg_loss   cls_loss   dfl_loss  Instances       Size\n"
          ]
        },
        {
          "output_type": "stream",
          "name": "stderr",
          "text": [
            "     59/100      7.93G     0.3852     0.5317     0.2875     0.9523         28        640: 100%|██████████| 64/64 [00:48<00:00,  1.32it/s]\n",
            "                 Class     Images  Instances      Box(P          R      mAP50  mAP50-95)     Mask(P          R      mAP50  mAP50-95): 100%|██████████| 8/8 [00:04<00:00,  1.78it/s]"
          ]
        },
        {
          "output_type": "stream",
          "name": "stdout",
          "text": [
            "                   all        251        328      0.992      0.774      0.791      0.761      0.992      0.774       0.79      0.755\n"
          ]
        },
        {
          "output_type": "stream",
          "name": "stderr",
          "text": [
            "\n"
          ]
        },
        {
          "output_type": "stream",
          "name": "stdout",
          "text": [
            "\n",
            "      Epoch    GPU_mem   box_loss   seg_loss   cls_loss   dfl_loss  Instances       Size\n"
          ]
        },
        {
          "output_type": "stream",
          "name": "stderr",
          "text": [
            "     60/100      7.94G     0.3864     0.5469     0.2891     0.9509         33        640: 100%|██████████| 64/64 [00:47<00:00,  1.35it/s]\n",
            "                 Class     Images  Instances      Box(P          R      mAP50  mAP50-95)     Mask(P          R      mAP50  mAP50-95): 100%|██████████| 8/8 [00:05<00:00,  1.40it/s]"
          ]
        },
        {
          "output_type": "stream",
          "name": "stdout",
          "text": [
            "                   all        251        328      0.988      0.768      0.827        0.8      0.984      0.765      0.826      0.792\n"
          ]
        },
        {
          "output_type": "stream",
          "name": "stderr",
          "text": [
            "\n"
          ]
        },
        {
          "output_type": "stream",
          "name": "stdout",
          "text": [
            "\n",
            "      Epoch    GPU_mem   box_loss   seg_loss   cls_loss   dfl_loss  Instances       Size\n"
          ]
        },
        {
          "output_type": "stream",
          "name": "stderr",
          "text": [
            "     61/100      7.94G     0.4005      0.549     0.2964     0.9483         28        640: 100%|██████████| 64/64 [00:47<00:00,  1.35it/s]\n",
            "                 Class     Images  Instances      Box(P          R      mAP50  mAP50-95)     Mask(P          R      mAP50  mAP50-95): 100%|██████████| 8/8 [00:03<00:00,  2.03it/s]"
          ]
        },
        {
          "output_type": "stream",
          "name": "stdout",
          "text": [
            "                   all        251        328      0.993      0.771      0.791      0.767      0.993      0.771      0.791       0.76\n"
          ]
        },
        {
          "output_type": "stream",
          "name": "stderr",
          "text": [
            "\n"
          ]
        },
        {
          "output_type": "stream",
          "name": "stdout",
          "text": [
            "\n",
            "      Epoch    GPU_mem   box_loss   seg_loss   cls_loss   dfl_loss  Instances       Size\n"
          ]
        },
        {
          "output_type": "stream",
          "name": "stderr",
          "text": [
            "     62/100      7.95G     0.3828     0.5412     0.2889     0.9372         22        640: 100%|██████████| 64/64 [00:47<00:00,  1.34it/s]\n",
            "                 Class     Images  Instances      Box(P          R      mAP50  mAP50-95)     Mask(P          R      mAP50  mAP50-95): 100%|██████████| 8/8 [00:03<00:00,  2.05it/s]"
          ]
        },
        {
          "output_type": "stream",
          "name": "stdout",
          "text": [
            "                   all        251        328      0.991      0.768      0.835      0.811      0.995      0.771      0.837      0.799\n"
          ]
        },
        {
          "output_type": "stream",
          "name": "stderr",
          "text": [
            "\n"
          ]
        },
        {
          "output_type": "stream",
          "name": "stdout",
          "text": [
            "\n",
            "      Epoch    GPU_mem   box_loss   seg_loss   cls_loss   dfl_loss  Instances       Size\n"
          ]
        },
        {
          "output_type": "stream",
          "name": "stderr",
          "text": [
            "     63/100      7.94G      0.385     0.5437     0.2885     0.9495         34        640: 100%|██████████| 64/64 [00:48<00:00,  1.31it/s]\n",
            "                 Class     Images  Instances      Box(P          R      mAP50  mAP50-95)     Mask(P          R      mAP50  mAP50-95): 100%|██████████| 8/8 [00:04<00:00,  1.62it/s]"
          ]
        },
        {
          "output_type": "stream",
          "name": "stdout",
          "text": [
            "                   all        251        328      0.996      0.771      0.786       0.76      0.996      0.771      0.786       0.75\n"
          ]
        },
        {
          "output_type": "stream",
          "name": "stderr",
          "text": [
            "\n"
          ]
        },
        {
          "output_type": "stream",
          "name": "stdout",
          "text": [
            "\n",
            "      Epoch    GPU_mem   box_loss   seg_loss   cls_loss   dfl_loss  Instances       Size\n"
          ]
        },
        {
          "output_type": "stream",
          "name": "stderr",
          "text": [
            "     64/100      7.94G     0.3841     0.5166     0.2832     0.9421         30        640: 100%|██████████| 64/64 [00:47<00:00,  1.34it/s]\n",
            "                 Class     Images  Instances      Box(P          R      mAP50  mAP50-95)     Mask(P          R      mAP50  mAP50-95): 100%|██████████| 8/8 [00:04<00:00,  1.70it/s]"
          ]
        },
        {
          "output_type": "stream",
          "name": "stdout",
          "text": [
            "                   all        251        328      0.995      0.771      0.802      0.775      0.995      0.771      0.802      0.769\n"
          ]
        },
        {
          "output_type": "stream",
          "name": "stderr",
          "text": [
            "\n"
          ]
        },
        {
          "output_type": "stream",
          "name": "stdout",
          "text": [
            "\n",
            "      Epoch    GPU_mem   box_loss   seg_loss   cls_loss   dfl_loss  Instances       Size\n"
          ]
        },
        {
          "output_type": "stream",
          "name": "stderr",
          "text": [
            "     65/100      7.97G     0.3702     0.5056     0.2746      0.937         37        640: 100%|██████████| 64/64 [00:48<00:00,  1.31it/s]\n",
            "                 Class     Images  Instances      Box(P          R      mAP50  mAP50-95)     Mask(P          R      mAP50  mAP50-95): 100%|██████████| 8/8 [00:03<00:00,  2.02it/s]"
          ]
        },
        {
          "output_type": "stream",
          "name": "stdout",
          "text": [
            "                   all        251        328      0.996      0.771      0.806      0.778      0.992      0.768      0.797      0.772\n"
          ]
        },
        {
          "output_type": "stream",
          "name": "stderr",
          "text": [
            "\n"
          ]
        },
        {
          "output_type": "stream",
          "name": "stdout",
          "text": [
            "\n",
            "      Epoch    GPU_mem   box_loss   seg_loss   cls_loss   dfl_loss  Instances       Size\n"
          ]
        },
        {
          "output_type": "stream",
          "name": "stderr",
          "text": [
            "     66/100      7.96G      0.375     0.5167      0.288     0.9418         32        640: 100%|██████████| 64/64 [00:47<00:00,  1.34it/s]\n",
            "                 Class     Images  Instances      Box(P          R      mAP50  mAP50-95)     Mask(P          R      mAP50  mAP50-95): 100%|██████████| 8/8 [00:05<00:00,  1.36it/s]"
          ]
        },
        {
          "output_type": "stream",
          "name": "stdout",
          "text": [
            "                   all        251        328      0.995      0.768      0.804       0.78      0.995      0.768      0.804      0.776\n"
          ]
        },
        {
          "output_type": "stream",
          "name": "stderr",
          "text": [
            "\n"
          ]
        },
        {
          "output_type": "stream",
          "name": "stdout",
          "text": [
            "\n",
            "      Epoch    GPU_mem   box_loss   seg_loss   cls_loss   dfl_loss  Instances       Size\n"
          ]
        },
        {
          "output_type": "stream",
          "name": "stderr",
          "text": [
            "     67/100      7.97G     0.3697     0.4951     0.2746     0.9421         31        640: 100%|██████████| 64/64 [00:47<00:00,  1.34it/s]\n",
            "                 Class     Images  Instances      Box(P          R      mAP50  mAP50-95)     Mask(P          R      mAP50  mAP50-95): 100%|██████████| 8/8 [00:03<00:00,  2.02it/s]"
          ]
        },
        {
          "output_type": "stream",
          "name": "stdout",
          "text": [
            "                   all        251        328      0.999      0.771      0.811      0.783      0.995      0.768      0.808      0.783\n"
          ]
        },
        {
          "output_type": "stream",
          "name": "stderr",
          "text": [
            "\n"
          ]
        },
        {
          "output_type": "stream",
          "name": "stdout",
          "text": [
            "\n",
            "      Epoch    GPU_mem   box_loss   seg_loss   cls_loss   dfl_loss  Instances       Size\n"
          ]
        },
        {
          "output_type": "stream",
          "name": "stderr",
          "text": [
            "     68/100      7.95G     0.3588     0.5099     0.2702     0.9315         36        640: 100%|██████████| 64/64 [00:47<00:00,  1.35it/s]\n",
            "                 Class     Images  Instances      Box(P          R      mAP50  mAP50-95)     Mask(P          R      mAP50  mAP50-95): 100%|██████████| 8/8 [00:04<00:00,  1.87it/s]"
          ]
        },
        {
          "output_type": "stream",
          "name": "stdout",
          "text": [
            "                   all        251        328      0.998      0.771      0.785      0.757      0.995      0.768      0.776      0.748\n"
          ]
        },
        {
          "output_type": "stream",
          "name": "stderr",
          "text": [
            "\n"
          ]
        },
        {
          "output_type": "stream",
          "name": "stdout",
          "text": [
            "\n",
            "      Epoch    GPU_mem   box_loss   seg_loss   cls_loss   dfl_loss  Instances       Size\n"
          ]
        },
        {
          "output_type": "stream",
          "name": "stderr",
          "text": [
            "     69/100      7.94G     0.3599     0.5115     0.2687     0.9293         39        640: 100%|██████████| 64/64 [00:47<00:00,  1.33it/s]\n",
            "                 Class     Images  Instances      Box(P          R      mAP50  mAP50-95)     Mask(P          R      mAP50  mAP50-95): 100%|██████████| 8/8 [00:04<00:00,  1.68it/s]"
          ]
        },
        {
          "output_type": "stream",
          "name": "stdout",
          "text": [
            "                   all        251        328      0.996      0.766      0.807      0.785      0.996      0.766      0.806      0.778\n"
          ]
        },
        {
          "output_type": "stream",
          "name": "stderr",
          "text": [
            "\n"
          ]
        },
        {
          "output_type": "stream",
          "name": "stdout",
          "text": [
            "\n",
            "      Epoch    GPU_mem   box_loss   seg_loss   cls_loss   dfl_loss  Instances       Size\n"
          ]
        },
        {
          "output_type": "stream",
          "name": "stderr",
          "text": [
            "     70/100      7.97G     0.3518     0.4939     0.2587     0.9324         25        640: 100%|██████████| 64/64 [00:48<00:00,  1.33it/s]\n",
            "                 Class     Images  Instances      Box(P          R      mAP50  mAP50-95)     Mask(P          R      mAP50  mAP50-95): 100%|██████████| 8/8 [00:03<00:00,  2.02it/s]"
          ]
        },
        {
          "output_type": "stream",
          "name": "stdout",
          "text": [
            "                   all        251        328      0.995      0.771      0.804      0.784      0.995      0.771      0.804      0.773\n"
          ]
        },
        {
          "output_type": "stream",
          "name": "stderr",
          "text": [
            "\n"
          ]
        },
        {
          "output_type": "stream",
          "name": "stdout",
          "text": [
            "\n",
            "      Epoch    GPU_mem   box_loss   seg_loss   cls_loss   dfl_loss  Instances       Size\n"
          ]
        },
        {
          "output_type": "stream",
          "name": "stderr",
          "text": [
            "     71/100      7.98G     0.3554     0.4834     0.2578     0.9335         37        640: 100%|██████████| 64/64 [00:47<00:00,  1.35it/s]\n",
            "                 Class     Images  Instances      Box(P          R      mAP50  mAP50-95)     Mask(P          R      mAP50  mAP50-95): 100%|██████████| 8/8 [00:03<00:00,  2.01it/s]"
          ]
        },
        {
          "output_type": "stream",
          "name": "stdout",
          "text": [
            "                   all        251        328      0.994      0.768      0.806      0.788      0.998      0.771      0.807      0.784\n"
          ]
        },
        {
          "output_type": "stream",
          "name": "stderr",
          "text": [
            "\n"
          ]
        },
        {
          "output_type": "stream",
          "name": "stdout",
          "text": [
            "\n",
            "      Epoch    GPU_mem   box_loss   seg_loss   cls_loss   dfl_loss  Instances       Size\n"
          ]
        },
        {
          "output_type": "stream",
          "name": "stderr",
          "text": [
            "     72/100      7.96G     0.3394     0.4693     0.2489     0.9193         24        640: 100%|██████████| 64/64 [00:47<00:00,  1.34it/s]\n",
            "                 Class     Images  Instances      Box(P          R      mAP50  mAP50-95)     Mask(P          R      mAP50  mAP50-95): 100%|██████████| 8/8 [00:04<00:00,  1.86it/s]"
          ]
        },
        {
          "output_type": "stream",
          "name": "stdout",
          "text": [
            "                   all        251        328      0.998      0.771      0.814      0.792      0.998      0.771      0.813      0.785\n"
          ]
        },
        {
          "output_type": "stream",
          "name": "stderr",
          "text": [
            "\n"
          ]
        },
        {
          "output_type": "stream",
          "name": "stdout",
          "text": [
            "\n",
            "      Epoch    GPU_mem   box_loss   seg_loss   cls_loss   dfl_loss  Instances       Size\n"
          ]
        },
        {
          "output_type": "stream",
          "name": "stderr",
          "text": [
            "     73/100      7.97G     0.3472      0.492     0.2572      0.924         29        640: 100%|██████████| 64/64 [00:47<00:00,  1.35it/s]\n",
            "                 Class     Images  Instances      Box(P          R      mAP50  mAP50-95)     Mask(P          R      mAP50  mAP50-95): 100%|██████████| 8/8 [00:04<00:00,  1.66it/s]"
          ]
        },
        {
          "output_type": "stream",
          "name": "stdout",
          "text": [
            "                   all        251        328      0.994      0.771      0.818      0.796       0.99      0.768      0.811      0.791\n"
          ]
        },
        {
          "output_type": "stream",
          "name": "stderr",
          "text": [
            "\n"
          ]
        },
        {
          "output_type": "stream",
          "name": "stdout",
          "text": [
            "\n",
            "      Epoch    GPU_mem   box_loss   seg_loss   cls_loss   dfl_loss  Instances       Size\n"
          ]
        },
        {
          "output_type": "stream",
          "name": "stderr",
          "text": [
            "     74/100      7.95G     0.3299     0.4691      0.247     0.9181         26        640: 100%|██████████| 64/64 [00:47<00:00,  1.35it/s]\n",
            "                 Class     Images  Instances      Box(P          R      mAP50  mAP50-95)     Mask(P          R      mAP50  mAP50-95): 100%|██████████| 8/8 [00:04<00:00,  1.68it/s]"
          ]
        },
        {
          "output_type": "stream",
          "name": "stdout",
          "text": [
            "                   all        251        328      0.999      0.771      0.788      0.768      0.995      0.768      0.788      0.754\n"
          ]
        },
        {
          "output_type": "stream",
          "name": "stderr",
          "text": [
            "\n"
          ]
        },
        {
          "output_type": "stream",
          "name": "stdout",
          "text": [
            "\n",
            "      Epoch    GPU_mem   box_loss   seg_loss   cls_loss   dfl_loss  Instances       Size\n"
          ]
        },
        {
          "output_type": "stream",
          "name": "stderr",
          "text": [
            "     75/100      7.94G     0.3356     0.4661     0.2451     0.9285         29        640: 100%|██████████| 64/64 [00:46<00:00,  1.36it/s]\n",
            "                 Class     Images  Instances      Box(P          R      mAP50  mAP50-95)     Mask(P          R      mAP50  mAP50-95): 100%|██████████| 8/8 [00:05<00:00,  1.55it/s]"
          ]
        },
        {
          "output_type": "stream",
          "name": "stdout",
          "text": [
            "                   all        251        328      0.995      0.771      0.821        0.8      0.995      0.771      0.821      0.793\n"
          ]
        },
        {
          "output_type": "stream",
          "name": "stderr",
          "text": [
            "\n"
          ]
        },
        {
          "output_type": "stream",
          "name": "stdout",
          "text": [
            "\n",
            "      Epoch    GPU_mem   box_loss   seg_loss   cls_loss   dfl_loss  Instances       Size\n"
          ]
        },
        {
          "output_type": "stream",
          "name": "stderr",
          "text": [
            "     76/100      7.95G     0.3428     0.4826     0.2573     0.9275         27        640: 100%|██████████| 64/64 [00:47<00:00,  1.36it/s]\n",
            "                 Class     Images  Instances      Box(P          R      mAP50  mAP50-95)     Mask(P          R      mAP50  mAP50-95): 100%|██████████| 8/8 [00:05<00:00,  1.59it/s]"
          ]
        },
        {
          "output_type": "stream",
          "name": "stdout",
          "text": [
            "                   all        251        328      0.994      0.771      0.828      0.811      0.994      0.771      0.828       0.81\n"
          ]
        },
        {
          "output_type": "stream",
          "name": "stderr",
          "text": [
            "\n"
          ]
        },
        {
          "output_type": "stream",
          "name": "stdout",
          "text": [
            "\n",
            "      Epoch    GPU_mem   box_loss   seg_loss   cls_loss   dfl_loss  Instances       Size\n"
          ]
        },
        {
          "output_type": "stream",
          "name": "stderr",
          "text": [
            "     77/100      7.95G     0.3369     0.4762     0.2587     0.9219         40        640: 100%|██████████| 64/64 [00:47<00:00,  1.35it/s]\n",
            "                 Class     Images  Instances      Box(P          R      mAP50  mAP50-95)     Mask(P          R      mAP50  mAP50-95): 100%|██████████| 8/8 [00:05<00:00,  1.42it/s]"
          ]
        },
        {
          "output_type": "stream",
          "name": "stdout",
          "text": [
            "                   all        251        328      0.996      0.771      0.802       0.78      0.996      0.771      0.799      0.781\n"
          ]
        },
        {
          "output_type": "stream",
          "name": "stderr",
          "text": [
            "\n"
          ]
        },
        {
          "output_type": "stream",
          "name": "stdout",
          "text": [
            "\n",
            "      Epoch    GPU_mem   box_loss   seg_loss   cls_loss   dfl_loss  Instances       Size\n"
          ]
        },
        {
          "output_type": "stream",
          "name": "stderr",
          "text": [
            "     78/100      7.94G     0.3294      0.469     0.2493     0.9216         27        640: 100%|██████████| 64/64 [00:47<00:00,  1.35it/s]\n",
            "                 Class     Images  Instances      Box(P          R      mAP50  mAP50-95)     Mask(P          R      mAP50  mAP50-95): 100%|██████████| 8/8 [00:05<00:00,  1.40it/s]"
          ]
        },
        {
          "output_type": "stream",
          "name": "stdout",
          "text": [
            "                   all        251        328      0.996      0.771      0.802      0.778      0.996      0.771      0.794       0.77\n"
          ]
        },
        {
          "output_type": "stream",
          "name": "stderr",
          "text": [
            "\n"
          ]
        },
        {
          "output_type": "stream",
          "name": "stdout",
          "text": [
            "\n",
            "      Epoch    GPU_mem   box_loss   seg_loss   cls_loss   dfl_loss  Instances       Size\n"
          ]
        },
        {
          "output_type": "stream",
          "name": "stderr",
          "text": [
            "     79/100      7.94G     0.3331     0.4652     0.2456     0.9192         38        640: 100%|██████████| 64/64 [00:48<00:00,  1.32it/s]\n",
            "                 Class     Images  Instances      Box(P          R      mAP50  mAP50-95)     Mask(P          R      mAP50  mAP50-95): 100%|██████████| 8/8 [00:03<00:00,  2.01it/s]"
          ]
        },
        {
          "output_type": "stream",
          "name": "stdout",
          "text": [
            "                   all        251        328      0.996      0.771      0.792      0.769      0.992      0.768      0.789      0.763\n"
          ]
        },
        {
          "output_type": "stream",
          "name": "stderr",
          "text": [
            "\n"
          ]
        },
        {
          "output_type": "stream",
          "name": "stdout",
          "text": [
            "\n",
            "      Epoch    GPU_mem   box_loss   seg_loss   cls_loss   dfl_loss  Instances       Size\n"
          ]
        },
        {
          "output_type": "stream",
          "name": "stderr",
          "text": [
            "     80/100      7.95G      0.344     0.4705     0.2498     0.9265         29        640: 100%|██████████| 64/64 [00:47<00:00,  1.34it/s]\n",
            "                 Class     Images  Instances      Box(P          R      mAP50  mAP50-95)     Mask(P          R      mAP50  mAP50-95): 100%|██████████| 8/8 [00:04<00:00,  1.74it/s]"
          ]
        },
        {
          "output_type": "stream",
          "name": "stdout",
          "text": [
            "                   all        251        328      0.994      0.771      0.807      0.785      0.992      0.771      0.806      0.781\n"
          ]
        },
        {
          "output_type": "stream",
          "name": "stderr",
          "text": [
            "\n"
          ]
        },
        {
          "output_type": "stream",
          "name": "stdout",
          "text": [
            "\n",
            "      Epoch    GPU_mem   box_loss   seg_loss   cls_loss   dfl_loss  Instances       Size\n"
          ]
        },
        {
          "output_type": "stream",
          "name": "stderr",
          "text": [
            "     81/100      7.92G     0.3278     0.4592     0.2418      0.924         31        640: 100%|██████████| 64/64 [00:47<00:00,  1.35it/s]\n",
            "                 Class     Images  Instances      Box(P          R      mAP50  mAP50-95)     Mask(P          R      mAP50  mAP50-95): 100%|██████████| 8/8 [00:04<00:00,  1.75it/s]"
          ]
        },
        {
          "output_type": "stream",
          "name": "stdout",
          "text": [
            "                   all        251        328      0.991      0.768      0.802      0.787      0.995      0.771       0.81      0.781\n"
          ]
        },
        {
          "output_type": "stream",
          "name": "stderr",
          "text": [
            "\n"
          ]
        },
        {
          "output_type": "stream",
          "name": "stdout",
          "text": [
            "\n",
            "      Epoch    GPU_mem   box_loss   seg_loss   cls_loss   dfl_loss  Instances       Size\n"
          ]
        },
        {
          "output_type": "stream",
          "name": "stderr",
          "text": [
            "     82/100      7.97G     0.3247     0.4513     0.2392     0.9149         34        640: 100%|██████████| 64/64 [00:47<00:00,  1.35it/s]\n",
            "                 Class     Images  Instances      Box(P          R      mAP50  mAP50-95)     Mask(P          R      mAP50  mAP50-95): 100%|██████████| 8/8 [00:05<00:00,  1.44it/s]"
          ]
        },
        {
          "output_type": "stream",
          "name": "stdout",
          "text": [
            "                   all        251        328      0.995      0.771      0.818      0.796      0.995      0.771      0.818      0.791\n"
          ]
        },
        {
          "output_type": "stream",
          "name": "stderr",
          "text": [
            "\n"
          ]
        },
        {
          "output_type": "stream",
          "name": "stdout",
          "text": [
            "\n",
            "      Epoch    GPU_mem   box_loss   seg_loss   cls_loss   dfl_loss  Instances       Size\n"
          ]
        },
        {
          "output_type": "stream",
          "name": "stderr",
          "text": [
            "     83/100      7.99G     0.3162     0.4676     0.2393     0.9096         31        640: 100%|██████████| 64/64 [00:48<00:00,  1.33it/s]\n",
            "                 Class     Images  Instances      Box(P          R      mAP50  mAP50-95)     Mask(P          R      mAP50  mAP50-95): 100%|██████████| 8/8 [00:05<00:00,  1.40it/s]"
          ]
        },
        {
          "output_type": "stream",
          "name": "stdout",
          "text": [
            "                   all        251        328      0.992      0.768      0.803      0.788      0.996      0.771      0.809      0.781\n"
          ]
        },
        {
          "output_type": "stream",
          "name": "stderr",
          "text": [
            "\n"
          ]
        },
        {
          "output_type": "stream",
          "name": "stdout",
          "text": [
            "\n",
            "      Epoch    GPU_mem   box_loss   seg_loss   cls_loss   dfl_loss  Instances       Size\n"
          ]
        },
        {
          "output_type": "stream",
          "name": "stderr",
          "text": [
            "     84/100      7.94G     0.3135     0.4394     0.2265     0.9102         30        640: 100%|██████████| 64/64 [00:47<00:00,  1.36it/s]\n",
            "                 Class     Images  Instances      Box(P          R      mAP50  mAP50-95)     Mask(P          R      mAP50  mAP50-95): 100%|██████████| 8/8 [00:03<00:00,  2.02it/s]"
          ]
        },
        {
          "output_type": "stream",
          "name": "stdout",
          "text": [
            "                   all        251        328      0.989      0.768      0.812      0.797      0.992      0.766      0.816      0.793\n"
          ]
        },
        {
          "output_type": "stream",
          "name": "stderr",
          "text": [
            "\n"
          ]
        },
        {
          "output_type": "stream",
          "name": "stdout",
          "text": [
            "\n",
            "      Epoch    GPU_mem   box_loss   seg_loss   cls_loss   dfl_loss  Instances       Size\n"
          ]
        },
        {
          "output_type": "stream",
          "name": "stderr",
          "text": [
            "     85/100      7.96G      0.308     0.4307     0.2213     0.9088         29        640: 100%|██████████| 64/64 [00:47<00:00,  1.34it/s]\n",
            "                 Class     Images  Instances      Box(P          R      mAP50  mAP50-95)     Mask(P          R      mAP50  mAP50-95): 100%|██████████| 8/8 [00:03<00:00,  2.01it/s]"
          ]
        },
        {
          "output_type": "stream",
          "name": "stdout",
          "text": [
            "                   all        251        328      0.992      0.771      0.796      0.778      0.992      0.771      0.796      0.775\n"
          ]
        },
        {
          "output_type": "stream",
          "name": "stderr",
          "text": [
            "\n"
          ]
        },
        {
          "output_type": "stream",
          "name": "stdout",
          "text": [
            "\n",
            "      Epoch    GPU_mem   box_loss   seg_loss   cls_loss   dfl_loss  Instances       Size\n"
          ]
        },
        {
          "output_type": "stream",
          "name": "stderr",
          "text": [
            "     86/100      7.96G     0.3017     0.4358     0.2184     0.9094         37        640: 100%|██████████| 64/64 [00:47<00:00,  1.35it/s]\n",
            "                 Class     Images  Instances      Box(P          R      mAP50  mAP50-95)     Mask(P          R      mAP50  mAP50-95): 100%|██████████| 8/8 [00:04<00:00,  1.95it/s]"
          ]
        },
        {
          "output_type": "stream",
          "name": "stdout",
          "text": [
            "                   all        251        328      0.992      0.771      0.811      0.794      0.994      0.771       0.81      0.791\n"
          ]
        },
        {
          "output_type": "stream",
          "name": "stderr",
          "text": [
            "\n"
          ]
        },
        {
          "output_type": "stream",
          "name": "stdout",
          "text": [
            "\n",
            "      Epoch    GPU_mem   box_loss   seg_loss   cls_loss   dfl_loss  Instances       Size\n"
          ]
        },
        {
          "output_type": "stream",
          "name": "stderr",
          "text": [
            "     87/100      7.97G      0.294     0.4398     0.2207     0.9107         30        640: 100%|██████████| 64/64 [00:47<00:00,  1.36it/s]\n",
            "                 Class     Images  Instances      Box(P          R      mAP50  mAP50-95)     Mask(P          R      mAP50  mAP50-95): 100%|██████████| 8/8 [00:04<00:00,  1.64it/s]"
          ]
        },
        {
          "output_type": "stream",
          "name": "stdout",
          "text": [
            "                   all        251        328      0.996      0.768      0.804      0.786      0.996      0.771      0.806      0.782\n"
          ]
        },
        {
          "output_type": "stream",
          "name": "stderr",
          "text": [
            "\n"
          ]
        },
        {
          "output_type": "stream",
          "name": "stdout",
          "text": [
            "\n",
            "      Epoch    GPU_mem   box_loss   seg_loss   cls_loss   dfl_loss  Instances       Size\n"
          ]
        },
        {
          "output_type": "stream",
          "name": "stderr",
          "text": [
            "     88/100      7.94G      0.298     0.4236     0.2151     0.9085         27        640: 100%|██████████| 64/64 [00:47<00:00,  1.34it/s]\n",
            "                 Class     Images  Instances      Box(P          R      mAP50  mAP50-95)     Mask(P          R      mAP50  mAP50-95): 100%|██████████| 8/8 [00:03<00:00,  2.01it/s]"
          ]
        },
        {
          "output_type": "stream",
          "name": "stdout",
          "text": [
            "                   all        251        328      0.991      0.768      0.801      0.783      0.992      0.771      0.803      0.779\n"
          ]
        },
        {
          "output_type": "stream",
          "name": "stderr",
          "text": [
            "\n"
          ]
        },
        {
          "output_type": "stream",
          "name": "stdout",
          "text": [
            "\n",
            "      Epoch    GPU_mem   box_loss   seg_loss   cls_loss   dfl_loss  Instances       Size\n"
          ]
        },
        {
          "output_type": "stream",
          "name": "stderr",
          "text": [
            "     89/100      7.96G     0.2871     0.4158     0.2135     0.9011         34        640: 100%|██████████| 64/64 [00:47<00:00,  1.35it/s]\n",
            "                 Class     Images  Instances      Box(P          R      mAP50  mAP50-95)     Mask(P          R      mAP50  mAP50-95): 100%|██████████| 8/8 [00:04<00:00,  1.66it/s]"
          ]
        },
        {
          "output_type": "stream",
          "name": "stdout",
          "text": [
            "                   all        251        328      0.994      0.771      0.816      0.798      0.988      0.771      0.815      0.796\n"
          ]
        },
        {
          "output_type": "stream",
          "name": "stderr",
          "text": [
            "\n"
          ]
        },
        {
          "output_type": "stream",
          "name": "stdout",
          "text": [
            "\n",
            "      Epoch    GPU_mem   box_loss   seg_loss   cls_loss   dfl_loss  Instances       Size\n"
          ]
        },
        {
          "output_type": "stream",
          "name": "stderr",
          "text": [
            "     90/100      7.96G     0.2881      0.419      0.209     0.9026         41        640: 100%|██████████| 64/64 [00:48<00:00,  1.33it/s]\n",
            "                 Class     Images  Instances      Box(P          R      mAP50  mAP50-95)     Mask(P          R      mAP50  mAP50-95): 100%|██████████| 8/8 [00:05<00:00,  1.59it/s]"
          ]
        },
        {
          "output_type": "stream",
          "name": "stdout",
          "text": [
            "                   all        251        328      0.996      0.768      0.828       0.81      0.996      0.768      0.825      0.809\n"
          ]
        },
        {
          "output_type": "stream",
          "name": "stderr",
          "text": [
            "\n"
          ]
        },
        {
          "output_type": "stream",
          "name": "stdout",
          "text": [
            "Closing dataloader mosaic\n",
            "\u001b[34m\u001b[1malbumentations: \u001b[0mBlur(p=0.01, blur_limit=(3, 7)), MedianBlur(p=0.01, blur_limit=(3, 7)), ToGray(p=0.01, num_output_channels=3, method='weighted_average'), CLAHE(p=0.01, clip_limit=(1, 4.0), tile_grid_size=(8, 8))\n",
            "\n",
            "      Epoch    GPU_mem   box_loss   seg_loss   cls_loss   dfl_loss  Instances       Size\n"
          ]
        },
        {
          "output_type": "stream",
          "name": "stderr",
          "text": [
            "     91/100      7.89G     0.2472     0.3403     0.2161     0.8938         11        640: 100%|██████████| 64/64 [00:48<00:00,  1.31it/s]\n",
            "                 Class     Images  Instances      Box(P          R      mAP50  mAP50-95)     Mask(P          R      mAP50  mAP50-95): 100%|██████████| 8/8 [00:04<00:00,  1.97it/s]"
          ]
        },
        {
          "output_type": "stream",
          "name": "stdout",
          "text": [
            "                   all        251        328      0.996      0.768      0.807      0.786      0.996      0.768      0.807      0.783\n"
          ]
        },
        {
          "output_type": "stream",
          "name": "stderr",
          "text": [
            "\n"
          ]
        },
        {
          "output_type": "stream",
          "name": "stdout",
          "text": [
            "\n",
            "      Epoch    GPU_mem   box_loss   seg_loss   cls_loss   dfl_loss  Instances       Size\n"
          ]
        },
        {
          "output_type": "stream",
          "name": "stderr",
          "text": [
            "     92/100      7.88G     0.2302      0.332     0.1973     0.8768         19        640: 100%|██████████| 64/64 [00:46<00:00,  1.37it/s]\n",
            "                 Class     Images  Instances      Box(P          R      mAP50  mAP50-95)     Mask(P          R      mAP50  mAP50-95): 100%|██████████| 8/8 [00:04<00:00,  1.99it/s]"
          ]
        },
        {
          "output_type": "stream",
          "name": "stdout",
          "text": [
            "                   all        251        328      0.988      0.771      0.804      0.784      0.988      0.771      0.804      0.777\n"
          ]
        },
        {
          "output_type": "stream",
          "name": "stderr",
          "text": [
            "\n"
          ]
        },
        {
          "output_type": "stream",
          "name": "stdout",
          "text": [
            "\n",
            "      Epoch    GPU_mem   box_loss   seg_loss   cls_loss   dfl_loss  Instances       Size\n"
          ]
        },
        {
          "output_type": "stream",
          "name": "stderr",
          "text": [
            "     93/100      7.87G     0.2175     0.3095     0.1907     0.8697         10        640: 100%|██████████| 64/64 [00:46<00:00,  1.37it/s]\n",
            "                 Class     Images  Instances      Box(P          R      mAP50  mAP50-95)     Mask(P          R      mAP50  mAP50-95): 100%|██████████| 8/8 [00:04<00:00,  1.81it/s]"
          ]
        },
        {
          "output_type": "stream",
          "name": "stdout",
          "text": [
            "                   all        251        328      0.997      0.768      0.811      0.791      0.992      0.771      0.811      0.784\n"
          ]
        },
        {
          "output_type": "stream",
          "name": "stderr",
          "text": [
            "\n"
          ]
        },
        {
          "output_type": "stream",
          "name": "stdout",
          "text": [
            "\n",
            "      Epoch    GPU_mem   box_loss   seg_loss   cls_loss   dfl_loss  Instances       Size\n"
          ]
        },
        {
          "output_type": "stream",
          "name": "stderr",
          "text": [
            "     94/100      7.89G      0.208     0.3014     0.1861     0.8662         10        640: 100%|██████████| 64/64 [00:46<00:00,  1.37it/s]\n",
            "                 Class     Images  Instances      Box(P          R      mAP50  mAP50-95)     Mask(P          R      mAP50  mAP50-95): 100%|██████████| 8/8 [00:04<00:00,  1.77it/s]"
          ]
        },
        {
          "output_type": "stream",
          "name": "stdout",
          "text": [
            "                   all        251        328      0.996      0.768      0.824      0.811      0.996      0.768      0.824      0.803\n"
          ]
        },
        {
          "output_type": "stream",
          "name": "stderr",
          "text": [
            "\n"
          ]
        },
        {
          "output_type": "stream",
          "name": "stdout",
          "text": [
            "\n",
            "      Epoch    GPU_mem   box_loss   seg_loss   cls_loss   dfl_loss  Instances       Size\n"
          ]
        },
        {
          "output_type": "stream",
          "name": "stderr",
          "text": [
            "     95/100      7.89G     0.1986     0.2955     0.1809     0.8511         10        640: 100%|██████████| 64/64 [00:46<00:00,  1.36it/s]\n",
            "                 Class     Images  Instances      Box(P          R      mAP50  mAP50-95)     Mask(P          R      mAP50  mAP50-95): 100%|██████████| 8/8 [00:04<00:00,  1.88it/s]"
          ]
        },
        {
          "output_type": "stream",
          "name": "stdout",
          "text": [
            "                   all        251        328      0.996      0.768      0.821      0.808      0.996      0.768      0.827      0.803\n"
          ]
        },
        {
          "output_type": "stream",
          "name": "stderr",
          "text": [
            "\n"
          ]
        },
        {
          "output_type": "stream",
          "name": "stdout",
          "text": [
            "\n",
            "      Epoch    GPU_mem   box_loss   seg_loss   cls_loss   dfl_loss  Instances       Size\n"
          ]
        },
        {
          "output_type": "stream",
          "name": "stderr",
          "text": [
            "     96/100      7.88G        0.2     0.2989     0.1807     0.8539         10        640: 100%|██████████| 64/64 [00:46<00:00,  1.38it/s]\n",
            "                 Class     Images  Instances      Box(P          R      mAP50  mAP50-95)     Mask(P          R      mAP50  mAP50-95): 100%|██████████| 8/8 [00:04<00:00,  1.64it/s]"
          ]
        },
        {
          "output_type": "stream",
          "name": "stdout",
          "text": [
            "                   all        251        328      0.992      0.771       0.82      0.804      0.992      0.771       0.82      0.797\n"
          ]
        },
        {
          "output_type": "stream",
          "name": "stderr",
          "text": [
            "\n"
          ]
        },
        {
          "output_type": "stream",
          "name": "stdout",
          "text": [
            "\n",
            "      Epoch    GPU_mem   box_loss   seg_loss   cls_loss   dfl_loss  Instances       Size\n"
          ]
        },
        {
          "output_type": "stream",
          "name": "stderr",
          "text": [
            "     97/100      7.87G     0.1902     0.2903     0.1696     0.8504         10        640: 100%|██████████| 64/64 [00:46<00:00,  1.37it/s]\n",
            "                 Class     Images  Instances      Box(P          R      mAP50  mAP50-95)     Mask(P          R      mAP50  mAP50-95): 100%|██████████| 8/8 [00:05<00:00,  1.58it/s]"
          ]
        },
        {
          "output_type": "stream",
          "name": "stdout",
          "text": [
            "                   all        251        328      0.988      0.768      0.816      0.803      0.996      0.771      0.822      0.802\n"
          ]
        },
        {
          "output_type": "stream",
          "name": "stderr",
          "text": [
            "\n"
          ]
        },
        {
          "output_type": "stream",
          "name": "stdout",
          "text": [
            "\n",
            "      Epoch    GPU_mem   box_loss   seg_loss   cls_loss   dfl_loss  Instances       Size\n"
          ]
        },
        {
          "output_type": "stream",
          "name": "stderr",
          "text": [
            "     98/100      7.89G     0.1833     0.2771     0.1637     0.8465         10        640: 100%|██████████| 64/64 [00:46<00:00,  1.38it/s]\n",
            "                 Class     Images  Instances      Box(P          R      mAP50  mAP50-95)     Mask(P          R      mAP50  mAP50-95): 100%|██████████| 8/8 [00:03<00:00,  2.02it/s]"
          ]
        },
        {
          "output_type": "stream",
          "name": "stdout",
          "text": [
            "                   all        251        328      0.992      0.771      0.822      0.808      0.988      0.771      0.822      0.803\n"
          ]
        },
        {
          "output_type": "stream",
          "name": "stderr",
          "text": [
            "\n"
          ]
        },
        {
          "output_type": "stream",
          "name": "stdout",
          "text": [
            "\n",
            "      Epoch    GPU_mem   box_loss   seg_loss   cls_loss   dfl_loss  Instances       Size\n"
          ]
        },
        {
          "output_type": "stream",
          "name": "stderr",
          "text": [
            "     99/100      7.88G     0.1778     0.2853     0.1591     0.8435         10        640: 100%|██████████| 64/64 [00:46<00:00,  1.38it/s]\n",
            "                 Class     Images  Instances      Box(P          R      mAP50  mAP50-95)     Mask(P          R      mAP50  mAP50-95): 100%|██████████| 8/8 [00:04<00:00,  1.83it/s]"
          ]
        },
        {
          "output_type": "stream",
          "name": "stdout",
          "text": [
            "                   all        251        328      0.996      0.768      0.816      0.802      0.996      0.768      0.816      0.802\n"
          ]
        },
        {
          "output_type": "stream",
          "name": "stderr",
          "text": [
            "\n"
          ]
        },
        {
          "output_type": "stream",
          "name": "stdout",
          "text": [
            "\n",
            "      Epoch    GPU_mem   box_loss   seg_loss   cls_loss   dfl_loss  Instances       Size\n"
          ]
        },
        {
          "output_type": "stream",
          "name": "stderr",
          "text": [
            "    100/100      7.87G     0.1771     0.2916     0.1563     0.8374         12        640: 100%|██████████| 64/64 [00:46<00:00,  1.36it/s]\n",
            "                 Class     Images  Instances      Box(P          R      mAP50  mAP50-95)     Mask(P          R      mAP50  mAP50-95): 100%|██████████| 8/8 [00:03<00:00,  2.02it/s]"
          ]
        },
        {
          "output_type": "stream",
          "name": "stdout",
          "text": [
            "                   all        251        328      0.996      0.768      0.823       0.81      0.996      0.768      0.823      0.808\n"
          ]
        },
        {
          "output_type": "stream",
          "name": "stderr",
          "text": [
            "\n"
          ]
        },
        {
          "output_type": "stream",
          "name": "stdout",
          "text": [
            "\n",
            "100 epochs completed in 1.620 hours.\n",
            "Optimizer stripped from runs/segment/train4/weights/last.pt, 54.8MB\n",
            "Optimizer stripped from runs/segment/train4/weights/best.pt, 54.8MB\n",
            "\n",
            "Validating runs/segment/train4/weights/best.pt...\n",
            "Ultralytics 8.3.18 🚀 Python-3.10.12 torch-2.4.1+cu121 CUDA:0 (Tesla T4, 15102MiB)\n",
            "YOLOv8m-seg summary (fused): 245 layers, 27,222,963 parameters, 0 gradients, 110.0 GFLOPs\n"
          ]
        },
        {
          "output_type": "stream",
          "name": "stderr",
          "text": [
            "                 Class     Images  Instances      Box(P          R      mAP50  mAP50-95)     Mask(P          R      mAP50  mAP50-95): 100%|██████████| 8/8 [00:06<00:00,  1.31it/s]\n"
          ]
        },
        {
          "output_type": "stream",
          "name": "stdout",
          "text": [
            "                   all        251        328      0.994      0.771      0.828      0.811      0.994      0.771      0.828       0.81\n",
            "Speed: 0.3ms preprocess, 10.2ms inference, 0.0ms loss, 2.5ms postprocess per image\n",
            "Results saved to \u001b[1mruns/segment/train4\u001b[0m\n"
          ]
        },
        {
          "output_type": "display_data",
          "data": {
            "text/plain": [
              "VBox(children=(Label(value='58.437 MB of 58.437 MB uploaded\\r'), FloatProgress(value=1.0, max=1.0)))"
            ],
            "application/vnd.jupyter.widget-view+json": {
              "version_major": 2,
              "version_minor": 0,
              "model_id": "fe7c4feea8394ea0b69785ec67ab7288"
            }
          },
          "metadata": {}
        },
        {
          "output_type": "display_data",
          "data": {
            "text/plain": [
              "<IPython.core.display.HTML object>"
            ],
            "text/html": [
              "<style>\n",
              "    table.wandb td:nth-child(1) { padding: 0 10px; text-align: left ; width: auto;} td:nth-child(2) {text-align: left ; width: 100%}\n",
              "    .wandb-row { display: flex; flex-direction: row; flex-wrap: wrap; justify-content: flex-start; width: 100% }\n",
              "    .wandb-col { display: flex; flex-direction: column; flex-basis: 100%; flex: 1; padding: 10px; }\n",
              "    </style>\n",
              "<div class=\"wandb-row\"><div class=\"wandb-col\"><h3>Run history:</h3><br/><table class=\"wandb\"><tr><td>lr/pg0</td><td>█▃▃▃▃▂▂▂▂▂▂▂▂▂▂▂▂▂▂▂▂▂▂▂▂▂▂▂▂▂▁▁▁▁▁▁▁▁▁▁</td></tr><tr><td>lr/pg1</td><td>▆████▇▇▇▇▇▆▆▆▆▆▅▅▅▅▄▄▃▃▃▃▃▃▂▂▂▂▂▂▂▂▂▁▁▁▁</td></tr><tr><td>lr/pg2</td><td>█████▇▇▇▇▆▆▆▆▅▅▅▅▅▄▄▄▄▄▄▄▃▃▃▃▃▃▂▂▂▂▂▂▂▁▁</td></tr><tr><td>metrics/mAP50(B)</td><td>▁▆▇▇▇██▇█▇█▇▇▇█▇████▇███████████████████</td></tr><tr><td>metrics/mAP50(M)</td><td>▂▁▆▇████████████████████████████████████</td></tr><tr><td>metrics/mAP50-95(B)</td><td>▁▂▄▄▆▆▇▇▇▇▇▇▇▇▇████▇████████████████████</td></tr><tr><td>metrics/mAP50-95(M)</td><td>▁▂▆▆▇▇▇▇▇▇▇██▇▇▇▇█▇█▇███████████████████</td></tr><tr><td>metrics/precision(B)</td><td>▁▇▆▇▇████▇██████████████████████████████</td></tr><tr><td>metrics/precision(M)</td><td>▁▄▇▇▇███▇███████████████████████████████</td></tr><tr><td>metrics/recall(B)</td><td>▆▁▂▇████▇███████████████████████████████</td></tr><tr><td>metrics/recall(M)</td><td>▁▆██████████████████████████████████████</td></tr><tr><td>model/GFLOPs</td><td>▁</td></tr><tr><td>model/parameters</td><td>▁</td></tr><tr><td>model/speed_PyTorch(ms)</td><td>▁</td></tr><tr><td>train/box_loss</td><td>██▆▅▄▄▄▃▃▃▃▃▃▃▃▃▃▃▃▂▂▂▂▂▂▂▂▂▂▂▂▂▂▂▂▁▁▁▁▁</td></tr><tr><td>train/cls_loss</td><td>█▇▅▄▄▄▃▃▃▃▃▃▃▃▃▃▃▂▂▂▂▂▂▂▂▂▂▂▂▂▂▂▂▂▂▁▁▁▁▁</td></tr><tr><td>train/dfl_loss</td><td>█▇▇▆▅▅▅▅▄▅▄▄▄▄▄▄▄▃▃▃▃▃▃▃▃▃▃▃▃▃▂▂▂▂▂▂▂▁▁▁</td></tr><tr><td>train/seg_loss</td><td>█▇▆▆▅▅▄▄▄▄▃▃▃▃▃▃▃▃▂▃▂▂▂▂▂▂▂▂▂▂▂▂▂▂▂▁▁▁▁▁</td></tr><tr><td>val/box_loss</td><td>█▇▅▅▃▄▄▃▃▃▃▃▂▃▂▂▂▂▂▂▂▂▂▂▂▁▁▁▁▁▁▁▁▁▁▁▁▁▁▁</td></tr><tr><td>val/cls_loss</td><td>█▇▁▁▁▁▁▁▁▁▁▁▁▁▁▁▁▁▁▁▁▁▁▁▁▁▁▁▁▁▁▁▁▁▁▁▁▁▁▁</td></tr><tr><td>val/dfl_loss</td><td> █▇▅▅▅▃▃▃▂▂▂▂▂▂▂▂▂▂▂▂▂▂▁▁▁▁▁▁▁▁▁▁▁▁▁▁▁▁▁</td></tr><tr><td>val/seg_loss</td><td>█▂▂▁▁▁▁▁▁▁▁▁▁▁▁▁▁▁▁▁▁▁▁▁▁▁▁▁▁▁▁▁▁▁▁▁▁▁▁▁</td></tr></table><br/></div><div class=\"wandb-col\"><h3>Run summary:</h3><br/><table class=\"wandb\"><tr><td>lr/pg0</td><td>0.0002</td></tr><tr><td>lr/pg1</td><td>0.0002</td></tr><tr><td>lr/pg2</td><td>0.0002</td></tr><tr><td>metrics/mAP50(B)</td><td>0.82803</td></tr><tr><td>metrics/mAP50(M)</td><td>0.82803</td></tr><tr><td>metrics/mAP50-95(B)</td><td>0.81122</td></tr><tr><td>metrics/mAP50-95(M)</td><td>0.80972</td></tr><tr><td>metrics/precision(B)</td><td>0.99351</td></tr><tr><td>metrics/precision(M)</td><td>0.99351</td></tr><tr><td>metrics/recall(B)</td><td>0.77134</td></tr><tr><td>metrics/recall(M)</td><td>0.77134</td></tr><tr><td>model/GFLOPs</td><td>110.392</td></tr><tr><td>model/parameters</td><td>27240227</td></tr><tr><td>model/speed_PyTorch(ms)</td><td>9.81</td></tr><tr><td>train/box_loss</td><td>0.17706</td></tr><tr><td>train/cls_loss</td><td>0.15627</td></tr><tr><td>train/dfl_loss</td><td>0.83744</td></tr><tr><td>train/seg_loss</td><td>0.29156</td></tr><tr><td>val/box_loss</td><td>0.20863</td></tr><tr><td>val/cls_loss</td><td>0.18178</td></tr><tr><td>val/dfl_loss</td><td>0.7405</td></tr><tr><td>val/seg_loss</td><td>0.3598</td></tr></table><br/></div></div>"
            ]
          },
          "metadata": {}
        },
        {
          "output_type": "display_data",
          "data": {
            "text/plain": [
              "<IPython.core.display.HTML object>"
            ],
            "text/html": [
              " View run <strong style=\"color:#cdcd00\">train4</strong> at: <a href='https://wandb.ai/braytonleonardo12-abc/Ultralytics/runs/yky68wye' target=\"_blank\">https://wandb.ai/braytonleonardo12-abc/Ultralytics/runs/yky68wye</a><br/> View project at: <a href='https://wandb.ai/braytonleonardo12-abc/Ultralytics' target=\"_blank\">https://wandb.ai/braytonleonardo12-abc/Ultralytics</a><br/>Synced 5 W&B file(s), 0 media file(s), 18 artifact file(s) and 32 other file(s)"
            ]
          },
          "metadata": {}
        },
        {
          "output_type": "display_data",
          "data": {
            "text/plain": [
              "<IPython.core.display.HTML object>"
            ],
            "text/html": [
              "Find logs at: <code>./wandb/run-20241020_093716-yky68wye/logs</code>"
            ]
          },
          "metadata": {}
        },
        {
          "output_type": "execute_result",
          "data": {
            "text/plain": [
              "ultralytics.utils.metrics.SegmentMetrics object with attributes:\n",
              "\n",
              "ap_class_index: array([0])\n",
              "box: ultralytics.utils.metrics.Metric object\n",
              "confusion_matrix: <ultralytics.utils.metrics.ConfusionMatrix object at 0x7a0a55f6c370>\n",
              "curves: ['Precision-Recall(B)', 'F1-Confidence(B)', 'Precision-Confidence(B)', 'Recall-Confidence(B)', 'Precision-Recall(M)', 'F1-Confidence(M)', 'Precision-Confidence(M)', 'Recall-Confidence(M)']\n",
              "curves_results: [[array([          0,    0.001001,    0.002002,    0.003003,    0.004004,    0.005005,    0.006006,    0.007007,    0.008008,    0.009009,     0.01001,    0.011011,    0.012012,    0.013013,    0.014014,    0.015015,    0.016016,    0.017017,    0.018018,    0.019019,     0.02002,    0.021021,    0.022022,    0.023023,\n",
              "          0.024024,    0.025025,    0.026026,    0.027027,    0.028028,    0.029029,     0.03003,    0.031031,    0.032032,    0.033033,    0.034034,    0.035035,    0.036036,    0.037037,    0.038038,    0.039039,     0.04004,    0.041041,    0.042042,    0.043043,    0.044044,    0.045045,    0.046046,    0.047047,\n",
              "          0.048048,    0.049049,     0.05005,    0.051051,    0.052052,    0.053053,    0.054054,    0.055055,    0.056056,    0.057057,    0.058058,    0.059059,     0.06006,    0.061061,    0.062062,    0.063063,    0.064064,    0.065065,    0.066066,    0.067067,    0.068068,    0.069069,     0.07007,    0.071071,\n",
              "          0.072072,    0.073073,    0.074074,    0.075075,    0.076076,    0.077077,    0.078078,    0.079079,     0.08008,    0.081081,    0.082082,    0.083083,    0.084084,    0.085085,    0.086086,    0.087087,    0.088088,    0.089089,     0.09009,    0.091091,    0.092092,    0.093093,    0.094094,    0.095095,\n",
              "          0.096096,    0.097097,    0.098098,    0.099099,      0.1001,      0.1011,      0.1021,      0.1031,      0.1041,     0.10511,     0.10611,     0.10711,     0.10811,     0.10911,     0.11011,     0.11111,     0.11211,     0.11311,     0.11411,     0.11512,     0.11612,     0.11712,     0.11812,     0.11912,\n",
              "           0.12012,     0.12112,     0.12212,     0.12312,     0.12412,     0.12513,     0.12613,     0.12713,     0.12813,     0.12913,     0.13013,     0.13113,     0.13213,     0.13313,     0.13413,     0.13514,     0.13614,     0.13714,     0.13814,     0.13914,     0.14014,     0.14114,     0.14214,     0.14314,\n",
              "           0.14414,     0.14515,     0.14615,     0.14715,     0.14815,     0.14915,     0.15015,     0.15115,     0.15215,     0.15315,     0.15415,     0.15516,     0.15616,     0.15716,     0.15816,     0.15916,     0.16016,     0.16116,     0.16216,     0.16316,     0.16416,     0.16517,     0.16617,     0.16717,\n",
              "           0.16817,     0.16917,     0.17017,     0.17117,     0.17217,     0.17317,     0.17417,     0.17518,     0.17618,     0.17718,     0.17818,     0.17918,     0.18018,     0.18118,     0.18218,     0.18318,     0.18418,     0.18519,     0.18619,     0.18719,     0.18819,     0.18919,     0.19019,     0.19119,\n",
              "           0.19219,     0.19319,     0.19419,      0.1952,      0.1962,      0.1972,      0.1982,      0.1992,      0.2002,      0.2012,      0.2022,      0.2032,      0.2042,     0.20521,     0.20621,     0.20721,     0.20821,     0.20921,     0.21021,     0.21121,     0.21221,     0.21321,     0.21421,     0.21522,\n",
              "           0.21622,     0.21722,     0.21822,     0.21922,     0.22022,     0.22122,     0.22222,     0.22322,     0.22422,     0.22523,     0.22623,     0.22723,     0.22823,     0.22923,     0.23023,     0.23123,     0.23223,     0.23323,     0.23423,     0.23524,     0.23624,     0.23724,     0.23824,     0.23924,\n",
              "           0.24024,     0.24124,     0.24224,     0.24324,     0.24424,     0.24525,     0.24625,     0.24725,     0.24825,     0.24925,     0.25025,     0.25125,     0.25225,     0.25325,     0.25425,     0.25526,     0.25626,     0.25726,     0.25826,     0.25926,     0.26026,     0.26126,     0.26226,     0.26326,\n",
              "           0.26426,     0.26527,     0.26627,     0.26727,     0.26827,     0.26927,     0.27027,     0.27127,     0.27227,     0.27327,     0.27427,     0.27528,     0.27628,     0.27728,     0.27828,     0.27928,     0.28028,     0.28128,     0.28228,     0.28328,     0.28428,     0.28529,     0.28629,     0.28729,\n",
              "           0.28829,     0.28929,     0.29029,     0.29129,     0.29229,     0.29329,     0.29429,      0.2953,      0.2963,      0.2973,      0.2983,      0.2993,      0.3003,      0.3013,      0.3023,      0.3033,      0.3043,     0.30531,     0.30631,     0.30731,     0.30831,     0.30931,     0.31031,     0.31131,\n",
              "           0.31231,     0.31331,     0.31431,     0.31532,     0.31632,     0.31732,     0.31832,     0.31932,     0.32032,     0.32132,     0.32232,     0.32332,     0.32432,     0.32533,     0.32633,     0.32733,     0.32833,     0.32933,     0.33033,     0.33133,     0.33233,     0.33333,     0.33433,     0.33534,\n",
              "           0.33634,     0.33734,     0.33834,     0.33934,     0.34034,     0.34134,     0.34234,     0.34334,     0.34434,     0.34535,     0.34635,     0.34735,     0.34835,     0.34935,     0.35035,     0.35135,     0.35235,     0.35335,     0.35435,     0.35536,     0.35636,     0.35736,     0.35836,     0.35936,\n",
              "           0.36036,     0.36136,     0.36236,     0.36336,     0.36436,     0.36537,     0.36637,     0.36737,     0.36837,     0.36937,     0.37037,     0.37137,     0.37237,     0.37337,     0.37437,     0.37538,     0.37638,     0.37738,     0.37838,     0.37938,     0.38038,     0.38138,     0.38238,     0.38338,\n",
              "           0.38438,     0.38539,     0.38639,     0.38739,     0.38839,     0.38939,     0.39039,     0.39139,     0.39239,     0.39339,     0.39439,      0.3954,      0.3964,      0.3974,      0.3984,      0.3994,      0.4004,      0.4014,      0.4024,      0.4034,      0.4044,     0.40541,     0.40641,     0.40741,\n",
              "           0.40841,     0.40941,     0.41041,     0.41141,     0.41241,     0.41341,     0.41441,     0.41542,     0.41642,     0.41742,     0.41842,     0.41942,     0.42042,     0.42142,     0.42242,     0.42342,     0.42442,     0.42543,     0.42643,     0.42743,     0.42843,     0.42943,     0.43043,     0.43143,\n",
              "           0.43243,     0.43343,     0.43443,     0.43544,     0.43644,     0.43744,     0.43844,     0.43944,     0.44044,     0.44144,     0.44244,     0.44344,     0.44444,     0.44545,     0.44645,     0.44745,     0.44845,     0.44945,     0.45045,     0.45145,     0.45245,     0.45345,     0.45445,     0.45546,\n",
              "           0.45646,     0.45746,     0.45846,     0.45946,     0.46046,     0.46146,     0.46246,     0.46346,     0.46446,     0.46547,     0.46647,     0.46747,     0.46847,     0.46947,     0.47047,     0.47147,     0.47247,     0.47347,     0.47447,     0.47548,     0.47648,     0.47748,     0.47848,     0.47948,\n",
              "           0.48048,     0.48148,     0.48248,     0.48348,     0.48448,     0.48549,     0.48649,     0.48749,     0.48849,     0.48949,     0.49049,     0.49149,     0.49249,     0.49349,     0.49449,      0.4955,      0.4965,      0.4975,      0.4985,      0.4995,      0.5005,      0.5015,      0.5025,      0.5035,\n",
              "            0.5045,     0.50551,     0.50651,     0.50751,     0.50851,     0.50951,     0.51051,     0.51151,     0.51251,     0.51351,     0.51451,     0.51552,     0.51652,     0.51752,     0.51852,     0.51952,     0.52052,     0.52152,     0.52252,     0.52352,     0.52452,     0.52553,     0.52653,     0.52753,\n",
              "           0.52853,     0.52953,     0.53053,     0.53153,     0.53253,     0.53353,     0.53453,     0.53554,     0.53654,     0.53754,     0.53854,     0.53954,     0.54054,     0.54154,     0.54254,     0.54354,     0.54454,     0.54555,     0.54655,     0.54755,     0.54855,     0.54955,     0.55055,     0.55155,\n",
              "           0.55255,     0.55355,     0.55455,     0.55556,     0.55656,     0.55756,     0.55856,     0.55956,     0.56056,     0.56156,     0.56256,     0.56356,     0.56456,     0.56557,     0.56657,     0.56757,     0.56857,     0.56957,     0.57057,     0.57157,     0.57257,     0.57357,     0.57457,     0.57558,\n",
              "           0.57658,     0.57758,     0.57858,     0.57958,     0.58058,     0.58158,     0.58258,     0.58358,     0.58458,     0.58559,     0.58659,     0.58759,     0.58859,     0.58959,     0.59059,     0.59159,     0.59259,     0.59359,     0.59459,      0.5956,      0.5966,      0.5976,      0.5986,      0.5996,\n",
              "            0.6006,      0.6016,      0.6026,      0.6036,      0.6046,     0.60561,     0.60661,     0.60761,     0.60861,     0.60961,     0.61061,     0.61161,     0.61261,     0.61361,     0.61461,     0.61562,     0.61662,     0.61762,     0.61862,     0.61962,     0.62062,     0.62162,     0.62262,     0.62362,\n",
              "           0.62462,     0.62563,     0.62663,     0.62763,     0.62863,     0.62963,     0.63063,     0.63163,     0.63263,     0.63363,     0.63463,     0.63564,     0.63664,     0.63764,     0.63864,     0.63964,     0.64064,     0.64164,     0.64264,     0.64364,     0.64464,     0.64565,     0.64665,     0.64765,\n",
              "           0.64865,     0.64965,     0.65065,     0.65165,     0.65265,     0.65365,     0.65465,     0.65566,     0.65666,     0.65766,     0.65866,     0.65966,     0.66066,     0.66166,     0.66266,     0.66366,     0.66466,     0.66567,     0.66667,     0.66767,     0.66867,     0.66967,     0.67067,     0.67167,\n",
              "           0.67267,     0.67367,     0.67467,     0.67568,     0.67668,     0.67768,     0.67868,     0.67968,     0.68068,     0.68168,     0.68268,     0.68368,     0.68468,     0.68569,     0.68669,     0.68769,     0.68869,     0.68969,     0.69069,     0.69169,     0.69269,     0.69369,     0.69469,      0.6957,\n",
              "            0.6967,      0.6977,      0.6987,      0.6997,      0.7007,      0.7017,      0.7027,      0.7037,      0.7047,     0.70571,     0.70671,     0.70771,     0.70871,     0.70971,     0.71071,     0.71171,     0.71271,     0.71371,     0.71471,     0.71572,     0.71672,     0.71772,     0.71872,     0.71972,\n",
              "           0.72072,     0.72172,     0.72272,     0.72372,     0.72472,     0.72573,     0.72673,     0.72773,     0.72873,     0.72973,     0.73073,     0.73173,     0.73273,     0.73373,     0.73473,     0.73574,     0.73674,     0.73774,     0.73874,     0.73974,     0.74074,     0.74174,     0.74274,     0.74374,\n",
              "           0.74474,     0.74575,     0.74675,     0.74775,     0.74875,     0.74975,     0.75075,     0.75175,     0.75275,     0.75375,     0.75475,     0.75576,     0.75676,     0.75776,     0.75876,     0.75976,     0.76076,     0.76176,     0.76276,     0.76376,     0.76476,     0.76577,     0.76677,     0.76777,\n",
              "           0.76877,     0.76977,     0.77077,     0.77177,     0.77277,     0.77377,     0.77477,     0.77578,     0.77678,     0.77778,     0.77878,     0.77978,     0.78078,     0.78178,     0.78278,     0.78378,     0.78478,     0.78579,     0.78679,     0.78779,     0.78879,     0.78979,     0.79079,     0.79179,\n",
              "           0.79279,     0.79379,     0.79479,      0.7958,      0.7968,      0.7978,      0.7988,      0.7998,      0.8008,      0.8018,      0.8028,      0.8038,      0.8048,     0.80581,     0.80681,     0.80781,     0.80881,     0.80981,     0.81081,     0.81181,     0.81281,     0.81381,     0.81481,     0.81582,\n",
              "           0.81682,     0.81782,     0.81882,     0.81982,     0.82082,     0.82182,     0.82282,     0.82382,     0.82482,     0.82583,     0.82683,     0.82783,     0.82883,     0.82983,     0.83083,     0.83183,     0.83283,     0.83383,     0.83483,     0.83584,     0.83684,     0.83784,     0.83884,     0.83984,\n",
              "           0.84084,     0.84184,     0.84284,     0.84384,     0.84484,     0.84585,     0.84685,     0.84785,     0.84885,     0.84985,     0.85085,     0.85185,     0.85285,     0.85385,     0.85485,     0.85586,     0.85686,     0.85786,     0.85886,     0.85986,     0.86086,     0.86186,     0.86286,     0.86386,\n",
              "           0.86486,     0.86587,     0.86687,     0.86787,     0.86887,     0.86987,     0.87087,     0.87187,     0.87287,     0.87387,     0.87487,     0.87588,     0.87688,     0.87788,     0.87888,     0.87988,     0.88088,     0.88188,     0.88288,     0.88388,     0.88488,     0.88589,     0.88689,     0.88789,\n",
              "           0.88889,     0.88989,     0.89089,     0.89189,     0.89289,     0.89389,     0.89489,      0.8959,      0.8969,      0.8979,      0.8989,      0.8999,      0.9009,      0.9019,      0.9029,      0.9039,      0.9049,     0.90591,     0.90691,     0.90791,     0.90891,     0.90991,     0.91091,     0.91191,\n",
              "           0.91291,     0.91391,     0.91491,     0.91592,     0.91692,     0.91792,     0.91892,     0.91992,     0.92092,     0.92192,     0.92292,     0.92392,     0.92492,     0.92593,     0.92693,     0.92793,     0.92893,     0.92993,     0.93093,     0.93193,     0.93293,     0.93393,     0.93493,     0.93594,\n",
              "           0.93694,     0.93794,     0.93894,     0.93994,     0.94094,     0.94194,     0.94294,     0.94394,     0.94494,     0.94595,     0.94695,     0.94795,     0.94895,     0.94995,     0.95095,     0.95195,     0.95295,     0.95395,     0.95495,     0.95596,     0.95696,     0.95796,     0.95896,     0.95996,\n",
              "           0.96096,     0.96196,     0.96296,     0.96396,     0.96496,     0.96597,     0.96697,     0.96797,     0.96897,     0.96997,     0.97097,     0.97197,     0.97297,     0.97397,     0.97497,     0.97598,     0.97698,     0.97798,     0.97898,     0.97998,     0.98098,     0.98198,     0.98298,     0.98398,\n",
              "           0.98498,     0.98599,     0.98699,     0.98799,     0.98899,     0.98999,     0.99099,     0.99199,     0.99299,     0.99399,     0.99499,       0.996,       0.997,       0.998,       0.999,           1]), array([[          1,           1,           1,           1,           1,           1,           1,           1,           1,           1,           1,           1,           1,           1,           1,           1,           1,           1,           1,           1,           1,           1,           1,\n",
              "                  1,           1,           1,           1,           1,           1,           1,           1,           1,           1,           1,           1,           1,           1,           1,           1,           1,           1,           1,           1,           1,           1,           1,\n",
              "                  1,           1,           1,           1,           1,           1,           1,           1,           1,           1,           1,           1,           1,           1,           1,           1,           1,           1,           1,           1,           1,           1,           1,\n",
              "                  1,           1,           1,           1,           1,           1,           1,           1,           1,           1,           1,           1,           1,           1,           1,           1,           1,           1,           1,           1,           1,           1,           1,\n",
              "                  1,           1,           1,           1,           1,           1,           1,           1,           1,           1,           1,           1,           1,           1,           1,           1,           1,           1,           1,           1,           1,           1,           1,\n",
              "                  1,           1,           1,           1,           1,           1,           1,           1,           1,           1,           1,           1,           1,           1,           1,           1,           1,           1,           1,           1,           1,           1,           1,\n",
              "                  1,           1,           1,           1,           1,           1,           1,           1,           1,           1,           1,           1,           1,           1,           1,           1,           1,           1,           1,           1,           1,           1,           1,\n",
              "                  1,           1,           1,           1,           1,           1,           1,           1,           1,           1,           1,           1,           1,           1,           1,           1,           1,           1,           1,           1,           1,           1,           1,\n",
              "                  1,           1,           1,           1,           1,           1,           1,           1,           1,           1,           1,           1,           1,           1,           1,           1,           1,           1,           1,           1,           1,           1,           1,\n",
              "                  1,           1,           1,           1,           1,           1,           1,           1,           1,           1,           1,           1,           1,           1,           1,           1,           1,           1,           1,           1,           1,           1,           1,\n",
              "                  1,           1,           1,           1,           1,           1,           1,           1,           1,           1,           1,           1,           1,           1,           1,           1,           1,           1,           1,           1,           1,           1,           1,\n",
              "                  1,           1,           1,           1,           1,           1,           1,           1,           1,           1,           1,           1,           1,           1,           1,           1,           1,           1,           1,           1,           1,           1,           1,\n",
              "                  1,           1,           1,           1,           1,           1,           1,           1,           1,           1,           1,           1,           1,           1,           1,           1,           1,           1,           1,           1,           1,           1,           1,\n",
              "                  1,           1,           1,           1,           1,           1,           1,           1,           1,           1,           1,           1,           1,           1,           1,           1,           1,           1,           1,           1,           1,           1,           1,\n",
              "                  1,           1,           1,           1,           1,           1,           1,           1,           1,           1,           1,           1,           1,           1,           1,           1,           1,           1,           1,           1,           1,           1,           1,\n",
              "                  1,           1,           1,           1,           1,           1,           1,           1,           1,           1,           1,           1,           1,           1,           1,           1,           1,           1,           1,           1,           1,           1,           1,\n",
              "                  1,           1,           1,           1,           1,           1,           1,           1,           1,           1,           1,           1,           1,           1,           1,           1,           1,           1,           1,           1,           1,           1,           1,\n",
              "                  1,           1,           1,           1,           1,           1,           1,           1,           1,           1,           1,           1,           1,           1,           1,           1,           1,           1,           1,           1,           1,           1,           1,\n",
              "                  1,           1,           1,           1,           1,           1,           1,           1,           1,           1,           1,           1,           1,           1,           1,           1,           1,           1,           1,           1,           1,           1,           1,\n",
              "                  1,           1,           1,           1,           1,           1,           1,           1,           1,           1,           1,           1,           1,           1,           1,           1,           1,           1,           1,           1,           1,           1,           1,\n",
              "                  1,           1,           1,           1,           1,           1,           1,           1,           1,           1,           1,           1,           1,           1,           1,           1,           1,           1,           1,           1,           1,           1,           1,\n",
              "                  1,           1,           1,           1,           1,           1,           1,           1,           1,           1,           1,           1,           1,           1,           1,           1,           1,           1,           1,           1,           1,           1,           1,\n",
              "                  1,           1,           1,           1,           1,           1,           1,           1,           1,           1,           1,           1,           1,           1,           1,           1,           1,           1,           1,           1,           1,           1,           1,\n",
              "                  1,           1,           1,           1,           1,           1,           1,           1,           1,           1,           1,           1,           1,           1,           1,           1,           1,           1,           1,           1,           1,           1,           1,\n",
              "                  1,           1,           1,           1,           1,           1,           1,           1,           1,           1,           1,           1,           1,           1,           1,           1,           1,           1,           1,           1,           1,           1,           1,\n",
              "                  1,           1,           1,           1,           1,           1,           1,           1,           1,           1,           1,           1,           1,           1,           1,           1,           1,           1,           1,           1,           1,           1,           1,\n",
              "                  1,           1,           1,           1,           1,           1,           1,           1,           1,           1,           1,           1,           1,           1,           1,           1,           1,           1,           1,           1,           1,           1,           1,\n",
              "                  1,           1,           1,           1,           1,           1,           1,           1,           1,           1,           1,           1,           1,           1,           1,           1,           1,           1,           1,           1,           1,           1,           1,\n",
              "                  1,           1,           1,           1,           1,           1,           1,           1,           1,           1,           1,           1,           1,           1,           1,           1,           1,           1,           1,           1,           1,           1,           1,\n",
              "                  1,           1,           1,           1,           1,           1,           1,           1,           1,           1,           1,           1,           1,           1,           1,           1,           1,           1,           1,           1,           1,           1,           1,\n",
              "                  1,           1,           1,           1,           1,     0.99606,     0.99606,     0.99606,     0.99606,     0.99606,     0.99606,     0.99606,     0.99606,     0.99606,     0.99606,     0.99606,     0.99606,     0.99606,     0.99606,     0.99606,     0.99606,     0.99606,     0.99606,\n",
              "            0.99606,     0.99606,     0.99606,     0.99606,     0.99606,     0.99606,     0.99606,     0.99606,     0.99606,     0.99606,     0.99606,     0.99606,     0.99606,     0.99606,     0.99606,     0.99606,     0.99606,     0.99606,     0.99606,     0.99606,     0.99606,     0.99606,     0.99606,\n",
              "            0.99606,     0.99606,     0.99606,     0.99606,     0.99606,     0.99606,     0.99606,     0.99606,     0.99606,     0.99606,     0.99606,     0.99606,     0.99606,     0.99606,     0.99606,     0.99606,     0.99606,     0.99606,     0.99606,     0.99606,     0.99606,     0.99606,     0.99606,\n",
              "            0.99606,     0.99606,     0.99606,     0.99606,     0.99606,     0.99606,     0.99606,     0.99606,     0.99606,     0.99606,     0.99606,     0.99606,     0.91039,     0.91039,     0.91039,     0.47484,     0.47273,     0.47062,     0.46851,      0.4664,     0.46429,     0.46218,     0.46007,\n",
              "            0.45796,     0.45585,     0.45374,     0.45163,     0.44952,     0.44741,      0.4453,     0.44319,     0.44108,     0.43897,     0.43686,     0.43475,     0.43264,     0.43053,     0.42842,     0.42631,     0.42419,     0.42208,     0.41997,     0.41786,     0.41575,     0.41364,     0.41153,\n",
              "            0.40942,     0.40731,      0.4052,     0.40309,     0.40098,     0.39887,     0.39676,     0.39465,     0.39254,     0.39043,     0.38832,     0.38621,      0.3841,     0.38199,     0.37988,     0.37777,     0.37565,     0.37354,     0.37143,     0.36932,     0.36721,      0.3651,     0.36299,\n",
              "            0.36088,     0.35877,     0.35666,     0.35455,     0.35244,     0.35033,     0.34822,     0.34611,       0.344,     0.34189,     0.33978,     0.33767,     0.33556,     0.33345,     0.33134,     0.32923,     0.32712,       0.325,     0.32289,     0.32078,     0.31867,     0.31656,     0.31445,\n",
              "            0.31234,     0.31023,     0.30812,     0.30601,      0.3039,     0.30179,     0.29968,     0.29757,     0.29546,     0.29335,     0.29124,     0.28913,     0.28702,     0.28491,      0.2828,     0.28069,     0.27858,     0.27647,     0.27435,     0.27224,     0.27013,     0.26802,     0.26591,\n",
              "             0.2638,     0.26169,     0.25958,     0.25747,     0.25536,     0.25325,     0.25114,     0.24903,     0.24692,     0.24481,      0.2427,     0.24059,     0.23848,     0.23637,     0.23426,     0.23215,     0.23004,     0.22793,     0.22582,      0.2237,     0.22159,     0.21948,     0.21737,\n",
              "            0.21526,     0.21315,     0.21104,     0.20893,     0.20682,     0.20471,      0.2026,     0.20049,     0.19838,     0.19627,     0.19416,     0.19205,     0.18994,     0.18783,     0.18572,     0.18361,      0.1815,     0.17939,     0.17728,     0.17516,     0.17305,     0.17094,     0.16883,\n",
              "            0.16672,     0.16461,      0.1625,     0.16039,     0.15828,     0.15617,     0.15406,     0.15195,     0.14984,     0.14773,     0.14562,     0.14351,      0.1414,     0.13929,     0.13718,     0.13507,     0.13296,     0.13085,     0.12874,     0.12663,     0.12451,      0.1224,     0.12029,\n",
              "            0.11818,     0.11607,     0.11396,     0.11185,     0.10974,     0.10763,     0.10552,     0.10341,      0.1013,     0.09919,    0.097079,    0.094969,    0.092859,    0.090748,    0.088638,    0.086527,    0.084417,    0.082306,    0.080196,    0.078086,    0.075975,    0.073865,    0.071754,\n",
              "           0.069644,    0.067533,    0.065423,    0.063313,    0.061202,    0.059092,    0.056981,    0.054871,    0.052761,     0.05065,     0.04854,    0.046429,    0.044319,    0.042208,    0.040098,    0.037988,    0.035877,    0.033767,    0.031656,    0.029546,    0.027435,    0.025325,    0.023215,\n",
              "           0.021104,    0.018994,    0.016883,    0.014773,    0.012663,    0.010552,   0.0084417,   0.0063313,   0.0042208,   0.0021104,           0]]), 'Recall', 'Precision'], [array([          0,    0.001001,    0.002002,    0.003003,    0.004004,    0.005005,    0.006006,    0.007007,    0.008008,    0.009009,     0.01001,    0.011011,    0.012012,    0.013013,    0.014014,    0.015015,    0.016016,    0.017017,    0.018018,    0.019019,     0.02002,    0.021021,    0.022022,    0.023023,\n",
              "          0.024024,    0.025025,    0.026026,    0.027027,    0.028028,    0.029029,     0.03003,    0.031031,    0.032032,    0.033033,    0.034034,    0.035035,    0.036036,    0.037037,    0.038038,    0.039039,     0.04004,    0.041041,    0.042042,    0.043043,    0.044044,    0.045045,    0.046046,    0.047047,\n",
              "          0.048048,    0.049049,     0.05005,    0.051051,    0.052052,    0.053053,    0.054054,    0.055055,    0.056056,    0.057057,    0.058058,    0.059059,     0.06006,    0.061061,    0.062062,    0.063063,    0.064064,    0.065065,    0.066066,    0.067067,    0.068068,    0.069069,     0.07007,    0.071071,\n",
              "          0.072072,    0.073073,    0.074074,    0.075075,    0.076076,    0.077077,    0.078078,    0.079079,     0.08008,    0.081081,    0.082082,    0.083083,    0.084084,    0.085085,    0.086086,    0.087087,    0.088088,    0.089089,     0.09009,    0.091091,    0.092092,    0.093093,    0.094094,    0.095095,\n",
              "          0.096096,    0.097097,    0.098098,    0.099099,      0.1001,      0.1011,      0.1021,      0.1031,      0.1041,     0.10511,     0.10611,     0.10711,     0.10811,     0.10911,     0.11011,     0.11111,     0.11211,     0.11311,     0.11411,     0.11512,     0.11612,     0.11712,     0.11812,     0.11912,\n",
              "           0.12012,     0.12112,     0.12212,     0.12312,     0.12412,     0.12513,     0.12613,     0.12713,     0.12813,     0.12913,     0.13013,     0.13113,     0.13213,     0.13313,     0.13413,     0.13514,     0.13614,     0.13714,     0.13814,     0.13914,     0.14014,     0.14114,     0.14214,     0.14314,\n",
              "           0.14414,     0.14515,     0.14615,     0.14715,     0.14815,     0.14915,     0.15015,     0.15115,     0.15215,     0.15315,     0.15415,     0.15516,     0.15616,     0.15716,     0.15816,     0.15916,     0.16016,     0.16116,     0.16216,     0.16316,     0.16416,     0.16517,     0.16617,     0.16717,\n",
              "           0.16817,     0.16917,     0.17017,     0.17117,     0.17217,     0.17317,     0.17417,     0.17518,     0.17618,     0.17718,     0.17818,     0.17918,     0.18018,     0.18118,     0.18218,     0.18318,     0.18418,     0.18519,     0.18619,     0.18719,     0.18819,     0.18919,     0.19019,     0.19119,\n",
              "           0.19219,     0.19319,     0.19419,      0.1952,      0.1962,      0.1972,      0.1982,      0.1992,      0.2002,      0.2012,      0.2022,      0.2032,      0.2042,     0.20521,     0.20621,     0.20721,     0.20821,     0.20921,     0.21021,     0.21121,     0.21221,     0.21321,     0.21421,     0.21522,\n",
              "           0.21622,     0.21722,     0.21822,     0.21922,     0.22022,     0.22122,     0.22222,     0.22322,     0.22422,     0.22523,     0.22623,     0.22723,     0.22823,     0.22923,     0.23023,     0.23123,     0.23223,     0.23323,     0.23423,     0.23524,     0.23624,     0.23724,     0.23824,     0.23924,\n",
              "           0.24024,     0.24124,     0.24224,     0.24324,     0.24424,     0.24525,     0.24625,     0.24725,     0.24825,     0.24925,     0.25025,     0.25125,     0.25225,     0.25325,     0.25425,     0.25526,     0.25626,     0.25726,     0.25826,     0.25926,     0.26026,     0.26126,     0.26226,     0.26326,\n",
              "           0.26426,     0.26527,     0.26627,     0.26727,     0.26827,     0.26927,     0.27027,     0.27127,     0.27227,     0.27327,     0.27427,     0.27528,     0.27628,     0.27728,     0.27828,     0.27928,     0.28028,     0.28128,     0.28228,     0.28328,     0.28428,     0.28529,     0.28629,     0.28729,\n",
              "           0.28829,     0.28929,     0.29029,     0.29129,     0.29229,     0.29329,     0.29429,      0.2953,      0.2963,      0.2973,      0.2983,      0.2993,      0.3003,      0.3013,      0.3023,      0.3033,      0.3043,     0.30531,     0.30631,     0.30731,     0.30831,     0.30931,     0.31031,     0.31131,\n",
              "           0.31231,     0.31331,     0.31431,     0.31532,     0.31632,     0.31732,     0.31832,     0.31932,     0.32032,     0.32132,     0.32232,     0.32332,     0.32432,     0.32533,     0.32633,     0.32733,     0.32833,     0.32933,     0.33033,     0.33133,     0.33233,     0.33333,     0.33433,     0.33534,\n",
              "           0.33634,     0.33734,     0.33834,     0.33934,     0.34034,     0.34134,     0.34234,     0.34334,     0.34434,     0.34535,     0.34635,     0.34735,     0.34835,     0.34935,     0.35035,     0.35135,     0.35235,     0.35335,     0.35435,     0.35536,     0.35636,     0.35736,     0.35836,     0.35936,\n",
              "           0.36036,     0.36136,     0.36236,     0.36336,     0.36436,     0.36537,     0.36637,     0.36737,     0.36837,     0.36937,     0.37037,     0.37137,     0.37237,     0.37337,     0.37437,     0.37538,     0.37638,     0.37738,     0.37838,     0.37938,     0.38038,     0.38138,     0.38238,     0.38338,\n",
              "           0.38438,     0.38539,     0.38639,     0.38739,     0.38839,     0.38939,     0.39039,     0.39139,     0.39239,     0.39339,     0.39439,      0.3954,      0.3964,      0.3974,      0.3984,      0.3994,      0.4004,      0.4014,      0.4024,      0.4034,      0.4044,     0.40541,     0.40641,     0.40741,\n",
              "           0.40841,     0.40941,     0.41041,     0.41141,     0.41241,     0.41341,     0.41441,     0.41542,     0.41642,     0.41742,     0.41842,     0.41942,     0.42042,     0.42142,     0.42242,     0.42342,     0.42442,     0.42543,     0.42643,     0.42743,     0.42843,     0.42943,     0.43043,     0.43143,\n",
              "           0.43243,     0.43343,     0.43443,     0.43544,     0.43644,     0.43744,     0.43844,     0.43944,     0.44044,     0.44144,     0.44244,     0.44344,     0.44444,     0.44545,     0.44645,     0.44745,     0.44845,     0.44945,     0.45045,     0.45145,     0.45245,     0.45345,     0.45445,     0.45546,\n",
              "           0.45646,     0.45746,     0.45846,     0.45946,     0.46046,     0.46146,     0.46246,     0.46346,     0.46446,     0.46547,     0.46647,     0.46747,     0.46847,     0.46947,     0.47047,     0.47147,     0.47247,     0.47347,     0.47447,     0.47548,     0.47648,     0.47748,     0.47848,     0.47948,\n",
              "           0.48048,     0.48148,     0.48248,     0.48348,     0.48448,     0.48549,     0.48649,     0.48749,     0.48849,     0.48949,     0.49049,     0.49149,     0.49249,     0.49349,     0.49449,      0.4955,      0.4965,      0.4975,      0.4985,      0.4995,      0.5005,      0.5015,      0.5025,      0.5035,\n",
              "            0.5045,     0.50551,     0.50651,     0.50751,     0.50851,     0.50951,     0.51051,     0.51151,     0.51251,     0.51351,     0.51451,     0.51552,     0.51652,     0.51752,     0.51852,     0.51952,     0.52052,     0.52152,     0.52252,     0.52352,     0.52452,     0.52553,     0.52653,     0.52753,\n",
              "           0.52853,     0.52953,     0.53053,     0.53153,     0.53253,     0.53353,     0.53453,     0.53554,     0.53654,     0.53754,     0.53854,     0.53954,     0.54054,     0.54154,     0.54254,     0.54354,     0.54454,     0.54555,     0.54655,     0.54755,     0.54855,     0.54955,     0.55055,     0.55155,\n",
              "           0.55255,     0.55355,     0.55455,     0.55556,     0.55656,     0.55756,     0.55856,     0.55956,     0.56056,     0.56156,     0.56256,     0.56356,     0.56456,     0.56557,     0.56657,     0.56757,     0.56857,     0.56957,     0.57057,     0.57157,     0.57257,     0.57357,     0.57457,     0.57558,\n",
              "           0.57658,     0.57758,     0.57858,     0.57958,     0.58058,     0.58158,     0.58258,     0.58358,     0.58458,     0.58559,     0.58659,     0.58759,     0.58859,     0.58959,     0.59059,     0.59159,     0.59259,     0.59359,     0.59459,      0.5956,      0.5966,      0.5976,      0.5986,      0.5996,\n",
              "            0.6006,      0.6016,      0.6026,      0.6036,      0.6046,     0.60561,     0.60661,     0.60761,     0.60861,     0.60961,     0.61061,     0.61161,     0.61261,     0.61361,     0.61461,     0.61562,     0.61662,     0.61762,     0.61862,     0.61962,     0.62062,     0.62162,     0.62262,     0.62362,\n",
              "           0.62462,     0.62563,     0.62663,     0.62763,     0.62863,     0.62963,     0.63063,     0.63163,     0.63263,     0.63363,     0.63463,     0.63564,     0.63664,     0.63764,     0.63864,     0.63964,     0.64064,     0.64164,     0.64264,     0.64364,     0.64464,     0.64565,     0.64665,     0.64765,\n",
              "           0.64865,     0.64965,     0.65065,     0.65165,     0.65265,     0.65365,     0.65465,     0.65566,     0.65666,     0.65766,     0.65866,     0.65966,     0.66066,     0.66166,     0.66266,     0.66366,     0.66466,     0.66567,     0.66667,     0.66767,     0.66867,     0.66967,     0.67067,     0.67167,\n",
              "           0.67267,     0.67367,     0.67467,     0.67568,     0.67668,     0.67768,     0.67868,     0.67968,     0.68068,     0.68168,     0.68268,     0.68368,     0.68468,     0.68569,     0.68669,     0.68769,     0.68869,     0.68969,     0.69069,     0.69169,     0.69269,     0.69369,     0.69469,      0.6957,\n",
              "            0.6967,      0.6977,      0.6987,      0.6997,      0.7007,      0.7017,      0.7027,      0.7037,      0.7047,     0.70571,     0.70671,     0.70771,     0.70871,     0.70971,     0.71071,     0.71171,     0.71271,     0.71371,     0.71471,     0.71572,     0.71672,     0.71772,     0.71872,     0.71972,\n",
              "           0.72072,     0.72172,     0.72272,     0.72372,     0.72472,     0.72573,     0.72673,     0.72773,     0.72873,     0.72973,     0.73073,     0.73173,     0.73273,     0.73373,     0.73473,     0.73574,     0.73674,     0.73774,     0.73874,     0.73974,     0.74074,     0.74174,     0.74274,     0.74374,\n",
              "           0.74474,     0.74575,     0.74675,     0.74775,     0.74875,     0.74975,     0.75075,     0.75175,     0.75275,     0.75375,     0.75475,     0.75576,     0.75676,     0.75776,     0.75876,     0.75976,     0.76076,     0.76176,     0.76276,     0.76376,     0.76476,     0.76577,     0.76677,     0.76777,\n",
              "           0.76877,     0.76977,     0.77077,     0.77177,     0.77277,     0.77377,     0.77477,     0.77578,     0.77678,     0.77778,     0.77878,     0.77978,     0.78078,     0.78178,     0.78278,     0.78378,     0.78478,     0.78579,     0.78679,     0.78779,     0.78879,     0.78979,     0.79079,     0.79179,\n",
              "           0.79279,     0.79379,     0.79479,      0.7958,      0.7968,      0.7978,      0.7988,      0.7998,      0.8008,      0.8018,      0.8028,      0.8038,      0.8048,     0.80581,     0.80681,     0.80781,     0.80881,     0.80981,     0.81081,     0.81181,     0.81281,     0.81381,     0.81481,     0.81582,\n",
              "           0.81682,     0.81782,     0.81882,     0.81982,     0.82082,     0.82182,     0.82282,     0.82382,     0.82482,     0.82583,     0.82683,     0.82783,     0.82883,     0.82983,     0.83083,     0.83183,     0.83283,     0.83383,     0.83483,     0.83584,     0.83684,     0.83784,     0.83884,     0.83984,\n",
              "           0.84084,     0.84184,     0.84284,     0.84384,     0.84484,     0.84585,     0.84685,     0.84785,     0.84885,     0.84985,     0.85085,     0.85185,     0.85285,     0.85385,     0.85485,     0.85586,     0.85686,     0.85786,     0.85886,     0.85986,     0.86086,     0.86186,     0.86286,     0.86386,\n",
              "           0.86486,     0.86587,     0.86687,     0.86787,     0.86887,     0.86987,     0.87087,     0.87187,     0.87287,     0.87387,     0.87487,     0.87588,     0.87688,     0.87788,     0.87888,     0.87988,     0.88088,     0.88188,     0.88288,     0.88388,     0.88488,     0.88589,     0.88689,     0.88789,\n",
              "           0.88889,     0.88989,     0.89089,     0.89189,     0.89289,     0.89389,     0.89489,      0.8959,      0.8969,      0.8979,      0.8989,      0.8999,      0.9009,      0.9019,      0.9029,      0.9039,      0.9049,     0.90591,     0.90691,     0.90791,     0.90891,     0.90991,     0.91091,     0.91191,\n",
              "           0.91291,     0.91391,     0.91491,     0.91592,     0.91692,     0.91792,     0.91892,     0.91992,     0.92092,     0.92192,     0.92292,     0.92392,     0.92492,     0.92593,     0.92693,     0.92793,     0.92893,     0.92993,     0.93093,     0.93193,     0.93293,     0.93393,     0.93493,     0.93594,\n",
              "           0.93694,     0.93794,     0.93894,     0.93994,     0.94094,     0.94194,     0.94294,     0.94394,     0.94494,     0.94595,     0.94695,     0.94795,     0.94895,     0.94995,     0.95095,     0.95195,     0.95295,     0.95395,     0.95495,     0.95596,     0.95696,     0.95796,     0.95896,     0.95996,\n",
              "           0.96096,     0.96196,     0.96296,     0.96396,     0.96496,     0.96597,     0.96697,     0.96797,     0.96897,     0.96997,     0.97097,     0.97197,     0.97297,     0.97397,     0.97497,     0.97598,     0.97698,     0.97798,     0.97898,     0.97998,     0.98098,     0.98198,     0.98298,     0.98398,\n",
              "           0.98498,     0.98599,     0.98699,     0.98799,     0.98899,     0.98999,     0.99099,     0.99199,     0.99299,     0.99399,     0.99499,       0.996,       0.997,       0.998,       0.999,           1]), array([[    0.58933,     0.58933,     0.70254,      0.7548,       0.789,     0.79483,     0.80764,     0.81125,     0.81631,     0.82367,     0.82725,     0.83177,     0.83606,     0.83604,     0.83509,     0.83693,     0.83859,     0.83996,     0.84201,     0.84279,     0.84354,     0.84423,     0.84486,\n",
              "            0.84533,     0.84579,     0.84643,     0.84762,     0.84838,     0.84925,     0.85051,     0.85108,     0.85166,     0.85213,     0.85256,     0.85298,     0.85517,      0.8563,     0.85666,     0.85701,     0.85736,     0.85766,     0.85779,     0.85791,     0.85804,     0.85817,     0.85829,\n",
              "            0.85842,     0.85855,     0.85868,      0.8588,     0.85893,     0.85906,     0.85922,     0.85939,     0.85956,     0.85974,     0.85991,     0.86008,     0.86025,     0.86042,     0.86113,     0.86202,     0.86203,     0.86205,     0.86206,     0.86208,     0.86209,      0.8621,     0.86212,\n",
              "            0.86213,     0.86215,     0.86216,     0.86218,     0.86219,     0.86221,     0.86222,     0.86223,     0.86225,     0.86226,     0.86228,     0.86229,     0.86231,     0.86232,     0.86233,     0.86235,     0.86236,     0.86238,     0.86239,     0.86241,     0.86242,     0.86244,     0.86245,\n",
              "            0.86246,     0.86248,     0.86249,     0.86251,     0.86252,     0.86254,     0.86255,     0.86256,     0.86258,     0.86259,     0.86261,     0.86262,     0.86264,     0.86265,     0.86267,     0.86268,     0.86269,     0.86271,     0.86272,     0.86274,     0.86275,     0.86277,     0.86278,\n",
              "            0.86279,     0.86281,     0.86282,     0.86284,     0.86285,     0.86287,     0.86288,      0.8629,     0.86291,     0.86292,     0.86294,     0.86295,     0.86297,     0.86298,       0.863,     0.86301,     0.86302,     0.86304,     0.86305,     0.86307,     0.86308,      0.8631,     0.86311,\n",
              "            0.86313,     0.86314,     0.86315,     0.86317,     0.86318,      0.8632,     0.86321,     0.86323,     0.86324,     0.86325,     0.86327,     0.86328,      0.8633,     0.86331,     0.86333,     0.86334,     0.86335,     0.86337,     0.86338,      0.8634,     0.86341,     0.86343,     0.86344,\n",
              "            0.86346,     0.86347,     0.86348,     0.86349,      0.8635,      0.8635,     0.86351,     0.86352,     0.86352,     0.86353,     0.86354,     0.86354,     0.86355,     0.86356,     0.86356,     0.86357,     0.86358,     0.86358,     0.86359,      0.8636,      0.8636,     0.86361,     0.86362,\n",
              "            0.86362,     0.86363,     0.86364,     0.86364,     0.86365,     0.86366,     0.86366,     0.86367,     0.86368,     0.86368,     0.86369,      0.8637,      0.8637,     0.86371,     0.86372,     0.86372,     0.86373,     0.86374,     0.86374,     0.86375,     0.86376,     0.86376,     0.86377,\n",
              "            0.86378,     0.86378,     0.86379,      0.8638,      0.8638,     0.86381,     0.86382,     0.86382,     0.86383,     0.86384,     0.86384,     0.86385,     0.86386,     0.86386,     0.86387,     0.86388,     0.86388,     0.86389,      0.8639,      0.8639,     0.86391,     0.86392,     0.86392,\n",
              "            0.86393,     0.86394,     0.86394,     0.86395,     0.86396,     0.86396,     0.86397,     0.86398,     0.86398,     0.86399,       0.864,       0.864,     0.86401,     0.86402,     0.86402,     0.86403,     0.86404,     0.86404,     0.86405,     0.86406,     0.86406,     0.86407,     0.86408,\n",
              "            0.86408,     0.86409,      0.8641,      0.8641,     0.86411,     0.86412,     0.86412,     0.86413,     0.86414,     0.86414,     0.86415,     0.86416,     0.86416,     0.86417,     0.86418,     0.86418,     0.86419,      0.8642,      0.8642,     0.86421,     0.86422,     0.86422,     0.86423,\n",
              "            0.86424,     0.86424,     0.86425,     0.86426,     0.86426,     0.86427,     0.86428,     0.86428,     0.86429,      0.8643,      0.8643,     0.86431,     0.86432,     0.86432,     0.86433,     0.86434,     0.86434,     0.86435,     0.86436,     0.86436,     0.86437,     0.86437,     0.86438,\n",
              "            0.86439,     0.86439,      0.8644,     0.86441,     0.86441,     0.86442,     0.86443,     0.86443,     0.86444,     0.86445,     0.86445,     0.86446,     0.86447,     0.86447,     0.86448,     0.86449,     0.86449,      0.8645,     0.86451,     0.86451,     0.86452,     0.86453,     0.86453,\n",
              "            0.86454,     0.86455,     0.86455,     0.86456,     0.86457,     0.86457,     0.86458,     0.86459,     0.86459,      0.8646,     0.86461,     0.86461,     0.86462,     0.86463,     0.86463,     0.86464,     0.86465,     0.86465,     0.86466,     0.86467,     0.86467,     0.86468,     0.86469,\n",
              "            0.86469,      0.8647,     0.86471,     0.86471,     0.86472,     0.86473,     0.86473,     0.86474,     0.86475,     0.86475,     0.86476,     0.86477,     0.86477,     0.86478,     0.86479,     0.86479,      0.8648,     0.86481,     0.86481,     0.86482,     0.86483,     0.86483,     0.86484,\n",
              "            0.86485,     0.86485,     0.86486,     0.86487,     0.86487,     0.86488,     0.86489,     0.86489,      0.8649,     0.86491,     0.86491,     0.86492,     0.86493,     0.86493,     0.86494,     0.86495,     0.86495,     0.86496,     0.86496,     0.86497,     0.86497,     0.86498,     0.86498,\n",
              "            0.86499,     0.86499,       0.865,     0.86501,     0.86501,     0.86502,     0.86502,     0.86503,     0.86503,     0.86504,     0.86504,     0.86505,     0.86505,     0.86506,     0.86506,     0.86507,     0.86507,     0.86508,     0.86508,     0.86509,     0.86509,      0.8651,      0.8651,\n",
              "            0.86511,     0.86511,     0.86512,     0.86512,     0.86513,     0.86513,     0.86514,     0.86514,     0.86515,     0.86515,     0.86516,     0.86516,     0.86517,     0.86517,     0.86518,     0.86518,     0.86519,     0.86519,      0.8652,      0.8652,     0.86521,     0.86521,     0.86522,\n",
              "            0.86522,     0.86523,     0.86523,     0.86524,     0.86524,     0.86525,     0.86525,     0.86526,     0.86526,     0.86527,     0.86527,     0.86528,     0.86528,     0.86529,      0.8653,      0.8653,     0.86531,     0.86531,     0.86532,     0.86532,     0.86533,     0.86533,     0.86534,\n",
              "            0.86534,     0.86535,     0.86535,     0.86536,     0.86536,     0.86537,     0.86537,     0.86538,     0.86538,     0.86539,     0.86539,      0.8654,      0.8654,     0.86541,     0.86541,     0.86542,     0.86542,     0.86543,     0.86543,     0.86544,     0.86544,     0.86545,     0.86545,\n",
              "            0.86546,     0.86546,     0.86547,     0.86547,     0.86548,     0.86548,     0.86549,     0.86549,      0.8655,      0.8655,     0.86551,     0.86551,     0.86552,     0.86552,     0.86553,     0.86553,     0.86554,     0.86554,     0.86555,     0.86555,     0.86556,     0.86556,     0.86557,\n",
              "            0.86557,     0.86558,     0.86559,     0.86559,      0.8656,      0.8656,     0.86561,     0.86561,     0.86562,     0.86562,     0.86563,     0.86563,     0.86564,     0.86564,     0.86565,     0.86565,     0.86566,     0.86566,     0.86567,     0.86567,     0.86568,     0.86568,     0.86569,\n",
              "            0.86569,      0.8657,      0.8657,     0.86571,     0.86571,     0.86572,     0.86572,     0.86573,     0.86573,     0.86574,     0.86574,     0.86575,     0.86575,     0.86576,     0.86576,     0.86577,     0.86577,     0.86578,     0.86578,     0.86579,     0.86579,      0.8658,      0.8658,\n",
              "            0.86581,     0.86581,     0.86582,     0.86582,     0.86583,     0.86583,     0.86584,     0.86584,     0.86585,     0.86585,     0.86586,     0.86586,     0.86587,     0.86587,     0.86588,     0.86588,     0.86589,     0.86589,      0.8659,     0.86591,     0.86591,     0.86592,     0.86592,\n",
              "            0.86593,     0.86593,     0.86594,     0.86594,     0.86595,     0.86595,     0.86596,     0.86596,     0.86597,     0.86597,     0.86598,     0.86598,     0.86599,     0.86599,       0.866,       0.866,     0.86601,     0.86601,     0.86602,     0.86602,     0.86603,     0.86603,     0.86604,\n",
              "            0.86604,     0.86605,     0.86605,     0.86606,     0.86606,     0.86607,     0.86607,     0.86608,     0.86608,     0.86609,     0.86609,      0.8661,      0.8661,     0.86611,     0.86611,     0.86612,     0.86612,     0.86613,     0.86613,     0.86614,     0.86614,     0.86615,     0.86615,\n",
              "            0.86616,     0.86616,     0.86617,     0.86617,     0.86618,     0.86618,     0.86619,     0.86619,      0.8662,      0.8662,     0.86621,     0.86621,     0.86622,     0.86622,     0.86623,     0.86624,     0.86624,     0.86625,     0.86625,     0.86626,     0.86626,     0.86627,     0.86627,\n",
              "            0.86628,     0.86628,     0.86629,     0.86629,      0.8663,      0.8663,     0.86631,     0.86631,     0.86632,     0.86632,     0.86633,     0.86633,     0.86634,     0.86634,     0.86635,     0.86635,     0.86636,     0.86636,     0.86637,     0.86637,     0.86638,     0.86638,     0.86639,\n",
              "            0.86639,      0.8664,      0.8664,     0.86641,     0.86641,     0.86642,     0.86642,     0.86643,     0.86643,     0.86644,     0.86646,     0.86647,     0.86649,     0.86651,     0.86653,     0.86655,     0.86656,     0.86658,      0.8666,     0.86662,     0.86664,     0.86666,     0.86667,\n",
              "            0.86669,     0.86671,     0.86673,     0.86675,     0.86677,     0.86678,      0.8668,     0.86682,     0.86684,     0.86686,     0.86688,     0.86689,     0.86691,     0.86693,     0.86695,     0.86697,     0.86698,       0.867,     0.86702,     0.86704,     0.86706,     0.86708,     0.86709,\n",
              "            0.86711,     0.86713,     0.86715,     0.86717,     0.86719,      0.8672,     0.86722,     0.86724,     0.86726,     0.86728,      0.8673,     0.86731,     0.86733,     0.86735,     0.86737,     0.86739,      0.8674,     0.86742,     0.86744,     0.86746,     0.86748,      0.8675,     0.86751,\n",
              "            0.86753,     0.86755,     0.86757,     0.86759,     0.86761,     0.86762,     0.86764,     0.86766,     0.86768,      0.8677,     0.86771,     0.86773,     0.86775,     0.86777,     0.86779,     0.86781,     0.86782,     0.86784,     0.86786,     0.86788,      0.8679,     0.86791,     0.86794,\n",
              "            0.86796,     0.86799,     0.86802,     0.86804,     0.86807,      0.8681,     0.86812,     0.86815,     0.86818,      0.8682,     0.86823,     0.86826,     0.86828,     0.86831,     0.86834,     0.86836,     0.86839,     0.86842,     0.86844,     0.86847,      0.8685,     0.86852,     0.86855,\n",
              "            0.86858,      0.8686,     0.86863,     0.86866,     0.86868,     0.86871,     0.86874,     0.86876,     0.86879,     0.86881,     0.86884,     0.86887,     0.86889,     0.86892,     0.86895,     0.86897,       0.869,     0.86903,     0.86905,     0.86908,     0.86911,     0.86913,     0.86916,\n",
              "            0.86919,     0.86921,     0.86924,     0.86927,     0.86929,     0.86932,     0.86935,     0.86937,      0.8694,     0.86936,     0.86921,     0.86905,      0.8689,     0.86875,     0.86859,     0.86844,     0.86829,     0.86813,     0.86798,     0.86783,     0.86767,     0.86752,     0.86736,\n",
              "             0.8672,     0.86704,     0.86688,     0.86672,     0.86656,      0.8664,     0.86624,     0.86608,     0.86592,     0.86576,      0.8656,     0.86357,     0.86276,     0.86195,     0.86134,     0.86089,     0.86044,     0.85999,     0.85954,     0.85909,     0.85864,     0.85819,     0.85774,\n",
              "            0.85506,     0.85302,     0.85096,     0.84815,     0.84673,     0.84569,     0.84529,     0.84495,      0.8446,     0.84426,     0.84391,     0.84356,     0.84314,     0.84272,      0.8423,     0.84189,     0.84115,     0.83932,     0.83848,     0.83764,      0.8368,     0.83596,     0.83492,\n",
              "            0.83351,     0.83302,     0.83267,     0.83232,     0.83196,     0.83161,     0.83122,     0.82703,      0.8256,     0.82375,     0.82159,     0.82033,     0.81961,     0.81889,      0.8177,     0.81624,     0.81522,     0.81435,      0.8134,      0.8123,     0.80999,      0.8075,     0.80594,\n",
              "            0.80315,     0.80264,     0.80234,     0.80204,     0.80174,     0.80144,     0.80114,     0.80084,      0.7984,      0.7975,      0.7966,     0.79553,      0.7944,      0.7924,     0.79145,     0.79088,     0.79031,     0.78974,     0.78917,     0.78859,     0.78802,     0.78745,     0.78717,\n",
              "             0.7869,     0.78663,     0.78636,     0.78608,     0.78581,     0.78554,     0.78527,     0.78456,     0.78363,     0.78181,      0.7795,     0.77476,     0.77116,     0.76998,     0.76866,     0.76707,     0.76361,     0.75887,     0.75646,     0.75048,     0.74559,     0.74084,     0.73984,\n",
              "            0.73885,     0.73573,     0.73286,     0.73004,      0.7277,     0.72069,     0.71499,     0.71177,     0.69945,     0.69154,     0.67556,     0.63972,     0.61662,     0.58667,     0.55539,     0.51936,     0.48849,     0.43792,     0.37584,      0.3344,     0.28632,     0.24951,     0.21595,\n",
              "            0.16067,     0.12358,    0.097314,     0.07343,    0.060467,    0.045878,    0.034656,    0.030624,    0.028304,    0.026277,    0.024246,     0.01843,    0.014229,   0.0060851,           0,           0,           0,           0,           0,           0,           0,           0,           0,\n",
              "                  0,           0,           0,           0,           0,           0,           0,           0,           0,           0,           0]]), 'Confidence', 'F1'], [array([          0,    0.001001,    0.002002,    0.003003,    0.004004,    0.005005,    0.006006,    0.007007,    0.008008,    0.009009,     0.01001,    0.011011,    0.012012,    0.013013,    0.014014,    0.015015,    0.016016,    0.017017,    0.018018,    0.019019,     0.02002,    0.021021,    0.022022,    0.023023,\n",
              "          0.024024,    0.025025,    0.026026,    0.027027,    0.028028,    0.029029,     0.03003,    0.031031,    0.032032,    0.033033,    0.034034,    0.035035,    0.036036,    0.037037,    0.038038,    0.039039,     0.04004,    0.041041,    0.042042,    0.043043,    0.044044,    0.045045,    0.046046,    0.047047,\n",
              "          0.048048,    0.049049,     0.05005,    0.051051,    0.052052,    0.053053,    0.054054,    0.055055,    0.056056,    0.057057,    0.058058,    0.059059,     0.06006,    0.061061,    0.062062,    0.063063,    0.064064,    0.065065,    0.066066,    0.067067,    0.068068,    0.069069,     0.07007,    0.071071,\n",
              "          0.072072,    0.073073,    0.074074,    0.075075,    0.076076,    0.077077,    0.078078,    0.079079,     0.08008,    0.081081,    0.082082,    0.083083,    0.084084,    0.085085,    0.086086,    0.087087,    0.088088,    0.089089,     0.09009,    0.091091,    0.092092,    0.093093,    0.094094,    0.095095,\n",
              "          0.096096,    0.097097,    0.098098,    0.099099,      0.1001,      0.1011,      0.1021,      0.1031,      0.1041,     0.10511,     0.10611,     0.10711,     0.10811,     0.10911,     0.11011,     0.11111,     0.11211,     0.11311,     0.11411,     0.11512,     0.11612,     0.11712,     0.11812,     0.11912,\n",
              "           0.12012,     0.12112,     0.12212,     0.12312,     0.12412,     0.12513,     0.12613,     0.12713,     0.12813,     0.12913,     0.13013,     0.13113,     0.13213,     0.13313,     0.13413,     0.13514,     0.13614,     0.13714,     0.13814,     0.13914,     0.14014,     0.14114,     0.14214,     0.14314,\n",
              "           0.14414,     0.14515,     0.14615,     0.14715,     0.14815,     0.14915,     0.15015,     0.15115,     0.15215,     0.15315,     0.15415,     0.15516,     0.15616,     0.15716,     0.15816,     0.15916,     0.16016,     0.16116,     0.16216,     0.16316,     0.16416,     0.16517,     0.16617,     0.16717,\n",
              "           0.16817,     0.16917,     0.17017,     0.17117,     0.17217,     0.17317,     0.17417,     0.17518,     0.17618,     0.17718,     0.17818,     0.17918,     0.18018,     0.18118,     0.18218,     0.18318,     0.18418,     0.18519,     0.18619,     0.18719,     0.18819,     0.18919,     0.19019,     0.19119,\n",
              "           0.19219,     0.19319,     0.19419,      0.1952,      0.1962,      0.1972,      0.1982,      0.1992,      0.2002,      0.2012,      0.2022,      0.2032,      0.2042,     0.20521,     0.20621,     0.20721,     0.20821,     0.20921,     0.21021,     0.21121,     0.21221,     0.21321,     0.21421,     0.21522,\n",
              "           0.21622,     0.21722,     0.21822,     0.21922,     0.22022,     0.22122,     0.22222,     0.22322,     0.22422,     0.22523,     0.22623,     0.22723,     0.22823,     0.22923,     0.23023,     0.23123,     0.23223,     0.23323,     0.23423,     0.23524,     0.23624,     0.23724,     0.23824,     0.23924,\n",
              "           0.24024,     0.24124,     0.24224,     0.24324,     0.24424,     0.24525,     0.24625,     0.24725,     0.24825,     0.24925,     0.25025,     0.25125,     0.25225,     0.25325,     0.25425,     0.25526,     0.25626,     0.25726,     0.25826,     0.25926,     0.26026,     0.26126,     0.26226,     0.26326,\n",
              "           0.26426,     0.26527,     0.26627,     0.26727,     0.26827,     0.26927,     0.27027,     0.27127,     0.27227,     0.27327,     0.27427,     0.27528,     0.27628,     0.27728,     0.27828,     0.27928,     0.28028,     0.28128,     0.28228,     0.28328,     0.28428,     0.28529,     0.28629,     0.28729,\n",
              "           0.28829,     0.28929,     0.29029,     0.29129,     0.29229,     0.29329,     0.29429,      0.2953,      0.2963,      0.2973,      0.2983,      0.2993,      0.3003,      0.3013,      0.3023,      0.3033,      0.3043,     0.30531,     0.30631,     0.30731,     0.30831,     0.30931,     0.31031,     0.31131,\n",
              "           0.31231,     0.31331,     0.31431,     0.31532,     0.31632,     0.31732,     0.31832,     0.31932,     0.32032,     0.32132,     0.32232,     0.32332,     0.32432,     0.32533,     0.32633,     0.32733,     0.32833,     0.32933,     0.33033,     0.33133,     0.33233,     0.33333,     0.33433,     0.33534,\n",
              "           0.33634,     0.33734,     0.33834,     0.33934,     0.34034,     0.34134,     0.34234,     0.34334,     0.34434,     0.34535,     0.34635,     0.34735,     0.34835,     0.34935,     0.35035,     0.35135,     0.35235,     0.35335,     0.35435,     0.35536,     0.35636,     0.35736,     0.35836,     0.35936,\n",
              "           0.36036,     0.36136,     0.36236,     0.36336,     0.36436,     0.36537,     0.36637,     0.36737,     0.36837,     0.36937,     0.37037,     0.37137,     0.37237,     0.37337,     0.37437,     0.37538,     0.37638,     0.37738,     0.37838,     0.37938,     0.38038,     0.38138,     0.38238,     0.38338,\n",
              "           0.38438,     0.38539,     0.38639,     0.38739,     0.38839,     0.38939,     0.39039,     0.39139,     0.39239,     0.39339,     0.39439,      0.3954,      0.3964,      0.3974,      0.3984,      0.3994,      0.4004,      0.4014,      0.4024,      0.4034,      0.4044,     0.40541,     0.40641,     0.40741,\n",
              "           0.40841,     0.40941,     0.41041,     0.41141,     0.41241,     0.41341,     0.41441,     0.41542,     0.41642,     0.41742,     0.41842,     0.41942,     0.42042,     0.42142,     0.42242,     0.42342,     0.42442,     0.42543,     0.42643,     0.42743,     0.42843,     0.42943,     0.43043,     0.43143,\n",
              "           0.43243,     0.43343,     0.43443,     0.43544,     0.43644,     0.43744,     0.43844,     0.43944,     0.44044,     0.44144,     0.44244,     0.44344,     0.44444,     0.44545,     0.44645,     0.44745,     0.44845,     0.44945,     0.45045,     0.45145,     0.45245,     0.45345,     0.45445,     0.45546,\n",
              "           0.45646,     0.45746,     0.45846,     0.45946,     0.46046,     0.46146,     0.46246,     0.46346,     0.46446,     0.46547,     0.46647,     0.46747,     0.46847,     0.46947,     0.47047,     0.47147,     0.47247,     0.47347,     0.47447,     0.47548,     0.47648,     0.47748,     0.47848,     0.47948,\n",
              "           0.48048,     0.48148,     0.48248,     0.48348,     0.48448,     0.48549,     0.48649,     0.48749,     0.48849,     0.48949,     0.49049,     0.49149,     0.49249,     0.49349,     0.49449,      0.4955,      0.4965,      0.4975,      0.4985,      0.4995,      0.5005,      0.5015,      0.5025,      0.5035,\n",
              "            0.5045,     0.50551,     0.50651,     0.50751,     0.50851,     0.50951,     0.51051,     0.51151,     0.51251,     0.51351,     0.51451,     0.51552,     0.51652,     0.51752,     0.51852,     0.51952,     0.52052,     0.52152,     0.52252,     0.52352,     0.52452,     0.52553,     0.52653,     0.52753,\n",
              "           0.52853,     0.52953,     0.53053,     0.53153,     0.53253,     0.53353,     0.53453,     0.53554,     0.53654,     0.53754,     0.53854,     0.53954,     0.54054,     0.54154,     0.54254,     0.54354,     0.54454,     0.54555,     0.54655,     0.54755,     0.54855,     0.54955,     0.55055,     0.55155,\n",
              "           0.55255,     0.55355,     0.55455,     0.55556,     0.55656,     0.55756,     0.55856,     0.55956,     0.56056,     0.56156,     0.56256,     0.56356,     0.56456,     0.56557,     0.56657,     0.56757,     0.56857,     0.56957,     0.57057,     0.57157,     0.57257,     0.57357,     0.57457,     0.57558,\n",
              "           0.57658,     0.57758,     0.57858,     0.57958,     0.58058,     0.58158,     0.58258,     0.58358,     0.58458,     0.58559,     0.58659,     0.58759,     0.58859,     0.58959,     0.59059,     0.59159,     0.59259,     0.59359,     0.59459,      0.5956,      0.5966,      0.5976,      0.5986,      0.5996,\n",
              "            0.6006,      0.6016,      0.6026,      0.6036,      0.6046,     0.60561,     0.60661,     0.60761,     0.60861,     0.60961,     0.61061,     0.61161,     0.61261,     0.61361,     0.61461,     0.61562,     0.61662,     0.61762,     0.61862,     0.61962,     0.62062,     0.62162,     0.62262,     0.62362,\n",
              "           0.62462,     0.62563,     0.62663,     0.62763,     0.62863,     0.62963,     0.63063,     0.63163,     0.63263,     0.63363,     0.63463,     0.63564,     0.63664,     0.63764,     0.63864,     0.63964,     0.64064,     0.64164,     0.64264,     0.64364,     0.64464,     0.64565,     0.64665,     0.64765,\n",
              "           0.64865,     0.64965,     0.65065,     0.65165,     0.65265,     0.65365,     0.65465,     0.65566,     0.65666,     0.65766,     0.65866,     0.65966,     0.66066,     0.66166,     0.66266,     0.66366,     0.66466,     0.66567,     0.66667,     0.66767,     0.66867,     0.66967,     0.67067,     0.67167,\n",
              "           0.67267,     0.67367,     0.67467,     0.67568,     0.67668,     0.67768,     0.67868,     0.67968,     0.68068,     0.68168,     0.68268,     0.68368,     0.68468,     0.68569,     0.68669,     0.68769,     0.68869,     0.68969,     0.69069,     0.69169,     0.69269,     0.69369,     0.69469,      0.6957,\n",
              "            0.6967,      0.6977,      0.6987,      0.6997,      0.7007,      0.7017,      0.7027,      0.7037,      0.7047,     0.70571,     0.70671,     0.70771,     0.70871,     0.70971,     0.71071,     0.71171,     0.71271,     0.71371,     0.71471,     0.71572,     0.71672,     0.71772,     0.71872,     0.71972,\n",
              "           0.72072,     0.72172,     0.72272,     0.72372,     0.72472,     0.72573,     0.72673,     0.72773,     0.72873,     0.72973,     0.73073,     0.73173,     0.73273,     0.73373,     0.73473,     0.73574,     0.73674,     0.73774,     0.73874,     0.73974,     0.74074,     0.74174,     0.74274,     0.74374,\n",
              "           0.74474,     0.74575,     0.74675,     0.74775,     0.74875,     0.74975,     0.75075,     0.75175,     0.75275,     0.75375,     0.75475,     0.75576,     0.75676,     0.75776,     0.75876,     0.75976,     0.76076,     0.76176,     0.76276,     0.76376,     0.76476,     0.76577,     0.76677,     0.76777,\n",
              "           0.76877,     0.76977,     0.77077,     0.77177,     0.77277,     0.77377,     0.77477,     0.77578,     0.77678,     0.77778,     0.77878,     0.77978,     0.78078,     0.78178,     0.78278,     0.78378,     0.78478,     0.78579,     0.78679,     0.78779,     0.78879,     0.78979,     0.79079,     0.79179,\n",
              "           0.79279,     0.79379,     0.79479,      0.7958,      0.7968,      0.7978,      0.7988,      0.7998,      0.8008,      0.8018,      0.8028,      0.8038,      0.8048,     0.80581,     0.80681,     0.80781,     0.80881,     0.80981,     0.81081,     0.81181,     0.81281,     0.81381,     0.81481,     0.81582,\n",
              "           0.81682,     0.81782,     0.81882,     0.81982,     0.82082,     0.82182,     0.82282,     0.82382,     0.82482,     0.82583,     0.82683,     0.82783,     0.82883,     0.82983,     0.83083,     0.83183,     0.83283,     0.83383,     0.83483,     0.83584,     0.83684,     0.83784,     0.83884,     0.83984,\n",
              "           0.84084,     0.84184,     0.84284,     0.84384,     0.84484,     0.84585,     0.84685,     0.84785,     0.84885,     0.84985,     0.85085,     0.85185,     0.85285,     0.85385,     0.85485,     0.85586,     0.85686,     0.85786,     0.85886,     0.85986,     0.86086,     0.86186,     0.86286,     0.86386,\n",
              "           0.86486,     0.86587,     0.86687,     0.86787,     0.86887,     0.86987,     0.87087,     0.87187,     0.87287,     0.87387,     0.87487,     0.87588,     0.87688,     0.87788,     0.87888,     0.87988,     0.88088,     0.88188,     0.88288,     0.88388,     0.88488,     0.88589,     0.88689,     0.88789,\n",
              "           0.88889,     0.88989,     0.89089,     0.89189,     0.89289,     0.89389,     0.89489,      0.8959,      0.8969,      0.8979,      0.8989,      0.8999,      0.9009,      0.9019,      0.9029,      0.9039,      0.9049,     0.90591,     0.90691,     0.90791,     0.90891,     0.90991,     0.91091,     0.91191,\n",
              "           0.91291,     0.91391,     0.91491,     0.91592,     0.91692,     0.91792,     0.91892,     0.91992,     0.92092,     0.92192,     0.92292,     0.92392,     0.92492,     0.92593,     0.92693,     0.92793,     0.92893,     0.92993,     0.93093,     0.93193,     0.93293,     0.93393,     0.93493,     0.93594,\n",
              "           0.93694,     0.93794,     0.93894,     0.93994,     0.94094,     0.94194,     0.94294,     0.94394,     0.94494,     0.94595,     0.94695,     0.94795,     0.94895,     0.94995,     0.95095,     0.95195,     0.95295,     0.95395,     0.95495,     0.95596,     0.95696,     0.95796,     0.95896,     0.95996,\n",
              "           0.96096,     0.96196,     0.96296,     0.96396,     0.96496,     0.96597,     0.96697,     0.96797,     0.96897,     0.96997,     0.97097,     0.97197,     0.97297,     0.97397,     0.97497,     0.97598,     0.97698,     0.97798,     0.97898,     0.97998,     0.98098,     0.98198,     0.98298,     0.98398,\n",
              "           0.98498,     0.98599,     0.98699,     0.98799,     0.98899,     0.98999,     0.99099,     0.99199,     0.99299,     0.99399,     0.99499,       0.996,       0.997,       0.998,       0.999,           1]), array([[    0.47566,     0.47566,     0.64289,     0.73618,     0.80417,     0.81638,     0.84387,     0.85179,     0.86302,     0.87964,     0.88787,     0.89834,     0.90839,     0.91025,     0.91032,      0.9147,     0.91868,     0.92199,     0.92694,     0.92883,     0.93066,     0.93232,     0.93386,\n",
              "            0.93501,     0.93615,     0.93773,     0.94065,     0.94251,     0.94465,     0.94779,     0.94922,     0.95064,     0.95183,     0.95289,     0.95395,     0.95943,      0.9623,     0.96319,     0.96408,     0.96498,     0.96573,     0.96605,     0.96637,      0.9667,     0.96702,     0.96734,\n",
              "            0.96766,     0.96799,     0.96831,     0.96863,     0.96896,     0.96928,     0.96969,     0.97013,     0.97057,     0.97101,     0.97145,     0.97189,     0.97233,     0.97277,     0.97459,     0.97685,     0.97689,     0.97693,     0.97697,       0.977,     0.97704,     0.97708,     0.97711,\n",
              "            0.97715,     0.97719,     0.97722,     0.97726,      0.9773,     0.97734,     0.97737,     0.97741,     0.97745,     0.97748,     0.97752,     0.97756,     0.97759,     0.97763,     0.97767,      0.9777,     0.97774,     0.97778,     0.97782,     0.97785,     0.97789,     0.97793,     0.97796,\n",
              "              0.978,     0.97804,     0.97807,     0.97811,     0.97815,     0.97819,     0.97822,     0.97826,      0.9783,     0.97833,     0.97837,     0.97841,     0.97844,     0.97848,     0.97852,     0.97856,     0.97859,     0.97863,     0.97867,      0.9787,     0.97874,     0.97878,     0.97881,\n",
              "            0.97885,     0.97889,     0.97893,     0.97896,       0.979,     0.97904,     0.97907,     0.97911,     0.97915,     0.97918,     0.97922,     0.97926,      0.9793,     0.97933,     0.97937,     0.97941,     0.97944,     0.97948,     0.97952,     0.97955,     0.97959,     0.97963,     0.97967,\n",
              "             0.9797,     0.97974,     0.97978,     0.97981,     0.97985,     0.97989,     0.97992,     0.97996,        0.98,     0.98004,     0.98007,     0.98011,     0.98015,     0.98018,     0.98022,     0.98026,     0.98029,     0.98033,     0.98037,     0.98041,     0.98044,     0.98048,     0.98052,\n",
              "            0.98055,     0.98059,     0.98062,     0.98064,     0.98066,     0.98068,     0.98069,     0.98071,     0.98073,     0.98074,     0.98076,     0.98078,      0.9808,     0.98081,     0.98083,     0.98085,     0.98086,     0.98088,      0.9809,     0.98092,     0.98093,     0.98095,     0.98097,\n",
              "            0.98098,       0.981,     0.98102,     0.98104,     0.98105,     0.98107,     0.98109,     0.98111,     0.98112,     0.98114,     0.98116,     0.98117,     0.98119,     0.98121,     0.98123,     0.98124,     0.98126,     0.98128,     0.98129,     0.98131,     0.98133,     0.98135,     0.98136,\n",
              "            0.98138,      0.9814,     0.98141,     0.98143,     0.98145,     0.98147,     0.98148,      0.9815,     0.98152,     0.98154,     0.98155,     0.98157,     0.98159,      0.9816,     0.98162,     0.98164,     0.98166,     0.98167,     0.98169,     0.98171,     0.98172,     0.98174,     0.98176,\n",
              "            0.98178,     0.98179,     0.98181,     0.98183,     0.98184,     0.98186,     0.98188,      0.9819,     0.98191,     0.98193,     0.98195,     0.98197,     0.98198,       0.982,     0.98202,     0.98203,     0.98205,     0.98207,     0.98209,      0.9821,     0.98212,     0.98214,     0.98215,\n",
              "            0.98217,     0.98219,     0.98221,     0.98222,     0.98224,     0.98226,     0.98227,     0.98229,     0.98231,     0.98233,     0.98234,     0.98236,     0.98238,      0.9824,     0.98241,     0.98243,     0.98245,     0.98246,     0.98248,      0.9825,     0.98252,     0.98253,     0.98255,\n",
              "            0.98257,     0.98258,      0.9826,     0.98262,     0.98264,     0.98265,     0.98267,     0.98269,      0.9827,     0.98272,     0.98274,     0.98276,     0.98277,     0.98279,     0.98281,     0.98283,     0.98284,     0.98286,     0.98288,     0.98289,     0.98291,     0.98293,     0.98295,\n",
              "            0.98296,     0.98298,       0.983,     0.98301,     0.98303,     0.98305,     0.98307,     0.98308,      0.9831,     0.98312,     0.98313,     0.98315,     0.98317,     0.98319,      0.9832,     0.98322,     0.98324,     0.98326,     0.98327,     0.98329,     0.98331,     0.98332,     0.98334,\n",
              "            0.98336,     0.98338,     0.98339,     0.98341,     0.98343,     0.98344,     0.98346,     0.98348,      0.9835,     0.98351,     0.98353,     0.98355,     0.98356,     0.98358,      0.9836,     0.98362,     0.98363,     0.98365,     0.98367,     0.98369,      0.9837,     0.98372,     0.98374,\n",
              "            0.98375,     0.98377,     0.98379,     0.98381,     0.98382,     0.98384,     0.98386,     0.98387,     0.98389,     0.98391,     0.98393,     0.98394,     0.98396,     0.98398,       0.984,     0.98401,     0.98403,     0.98405,     0.98406,     0.98408,      0.9841,     0.98412,     0.98413,\n",
              "            0.98415,     0.98417,     0.98418,      0.9842,     0.98422,     0.98424,     0.98425,     0.98427,     0.98429,      0.9843,     0.98432,     0.98434,     0.98436,     0.98437,     0.98439,     0.98441,     0.98443,     0.98444,     0.98445,     0.98447,     0.98448,     0.98449,     0.98451,\n",
              "            0.98452,     0.98453,     0.98455,     0.98456,     0.98457,     0.98459,      0.9846,     0.98461,     0.98463,     0.98464,     0.98465,     0.98467,     0.98468,     0.98469,      0.9847,     0.98472,     0.98473,     0.98474,     0.98476,     0.98477,     0.98478,      0.9848,     0.98481,\n",
              "            0.98482,     0.98484,     0.98485,     0.98486,     0.98488,     0.98489,      0.9849,     0.98492,     0.98493,     0.98494,     0.98496,     0.98497,     0.98498,     0.98499,     0.98501,     0.98502,     0.98503,     0.98505,     0.98506,     0.98507,     0.98509,      0.9851,     0.98511,\n",
              "            0.98513,     0.98514,     0.98515,     0.98517,     0.98518,     0.98519,     0.98521,     0.98522,     0.98523,     0.98525,     0.98526,     0.98527,     0.98529,      0.9853,     0.98531,     0.98532,     0.98534,     0.98535,     0.98536,     0.98538,     0.98539,      0.9854,     0.98542,\n",
              "            0.98543,     0.98544,     0.98546,     0.98547,     0.98548,      0.9855,     0.98551,     0.98552,     0.98554,     0.98555,     0.98556,     0.98558,     0.98559,      0.9856,     0.98562,     0.98563,     0.98564,     0.98565,     0.98567,     0.98568,     0.98569,     0.98571,     0.98572,\n",
              "            0.98573,     0.98575,     0.98576,     0.98577,     0.98579,      0.9858,     0.98581,     0.98583,     0.98584,     0.98585,     0.98587,     0.98588,     0.98589,     0.98591,     0.98592,     0.98593,     0.98594,     0.98596,     0.98597,     0.98598,       0.986,     0.98601,     0.98602,\n",
              "            0.98604,     0.98605,     0.98606,     0.98608,     0.98609,      0.9861,     0.98612,     0.98613,     0.98614,     0.98616,     0.98617,     0.98618,      0.9862,     0.98621,     0.98622,     0.98624,     0.98625,     0.98626,     0.98627,     0.98629,      0.9863,     0.98631,     0.98633,\n",
              "            0.98634,     0.98635,     0.98637,     0.98638,     0.98639,     0.98641,     0.98642,     0.98643,     0.98645,     0.98646,     0.98647,     0.98649,      0.9865,     0.98651,     0.98653,     0.98654,     0.98655,     0.98656,     0.98658,     0.98659,      0.9866,     0.98662,     0.98663,\n",
              "            0.98664,     0.98666,     0.98667,     0.98668,      0.9867,     0.98671,     0.98672,     0.98674,     0.98675,     0.98676,     0.98678,     0.98679,      0.9868,     0.98682,     0.98683,     0.98684,     0.98686,     0.98687,     0.98688,     0.98689,     0.98691,     0.98692,     0.98693,\n",
              "            0.98695,     0.98696,     0.98697,     0.98699,       0.987,     0.98701,     0.98703,     0.98704,     0.98705,     0.98707,     0.98708,     0.98709,     0.98711,     0.98712,     0.98713,     0.98715,     0.98716,     0.98717,     0.98719,      0.9872,     0.98721,     0.98722,     0.98724,\n",
              "            0.98725,     0.98726,     0.98728,     0.98729,      0.9873,     0.98732,     0.98733,     0.98734,     0.98736,     0.98737,     0.98738,      0.9874,     0.98741,     0.98742,     0.98744,     0.98745,     0.98746,     0.98748,     0.98749,      0.9875,     0.98751,     0.98753,     0.98754,\n",
              "            0.98755,     0.98757,     0.98758,     0.98759,     0.98761,     0.98762,     0.98763,     0.98765,     0.98766,     0.98767,     0.98769,      0.9877,     0.98771,     0.98773,     0.98774,     0.98775,     0.98777,     0.98778,     0.98779,     0.98781,     0.98782,     0.98783,     0.98784,\n",
              "            0.98786,     0.98787,     0.98788,      0.9879,     0.98791,     0.98792,     0.98794,     0.98795,     0.98796,     0.98798,     0.98799,       0.988,     0.98802,     0.98803,     0.98804,     0.98806,     0.98807,     0.98808,      0.9881,     0.98811,     0.98812,     0.98814,     0.98815,\n",
              "            0.98816,     0.98817,     0.98819,      0.9882,     0.98821,     0.98823,     0.98824,     0.98825,     0.98827,     0.98828,     0.98832,     0.98837,     0.98842,     0.98847,     0.98852,     0.98856,     0.98861,     0.98866,     0.98871,     0.98875,      0.9888,     0.98885,      0.9889,\n",
              "            0.98894,     0.98899,     0.98904,     0.98909,     0.98913,     0.98918,     0.98923,     0.98928,     0.98932,     0.98937,     0.98942,     0.98947,     0.98951,     0.98956,     0.98961,     0.98966,      0.9897,     0.98975,      0.9898,     0.98985,     0.98989,     0.98994,     0.98999,\n",
              "            0.99004,     0.99009,     0.99013,     0.99018,     0.99023,     0.99028,     0.99032,     0.99037,     0.99042,     0.99047,     0.99051,     0.99056,     0.99061,     0.99066,      0.9907,     0.99075,      0.9908,     0.99085,     0.99089,     0.99094,     0.99099,     0.99104,     0.99108,\n",
              "            0.99113,     0.99118,     0.99123,     0.99127,     0.99132,     0.99137,     0.99142,     0.99146,     0.99151,     0.99156,     0.99161,     0.99166,      0.9917,     0.99175,      0.9918,     0.99185,     0.99189,     0.99194,     0.99199,     0.99204,     0.99208,     0.99213,     0.99219,\n",
              "            0.99226,     0.99233,      0.9924,     0.99247,     0.99254,     0.99261,     0.99268,     0.99275,     0.99282,     0.99289,     0.99295,     0.99302,     0.99309,     0.99316,     0.99323,      0.9933,     0.99337,     0.99344,     0.99351,     0.99358,     0.99365,     0.99372,     0.99379,\n",
              "            0.99386,     0.99393,       0.994,     0.99407,     0.99414,     0.99421,     0.99428,     0.99435,     0.99442,     0.99449,     0.99456,     0.99463,      0.9947,     0.99477,     0.99483,      0.9949,     0.99497,     0.99504,     0.99511,     0.99518,     0.99525,     0.99532,     0.99539,\n",
              "            0.99546,     0.99553,      0.9956,     0.99567,     0.99574,     0.99581,     0.99588,     0.99595,     0.99602,     0.99606,     0.99606,     0.99606,     0.99606,     0.99606,     0.99606,     0.99606,     0.99605,     0.99605,     0.99605,     0.99605,     0.99605,     0.99605,     0.99605,\n",
              "            0.99605,     0.99604,     0.99604,     0.99604,     0.99604,     0.99604,     0.99604,     0.99604,     0.99603,     0.99603,     0.99603,     0.99602,     0.99601,       0.996,       0.996,     0.99599,     0.99599,     0.99599,     0.99598,     0.99598,     0.99598,     0.99597,     0.99597,\n",
              "            0.99595,     0.99593,     0.99591,     0.99589,     0.99588,     0.99587,     0.99587,     0.99586,     0.99586,     0.99586,     0.99585,     0.99585,     0.99585,     0.99584,     0.99584,     0.99584,     0.99583,     0.99581,     0.99581,      0.9958,     0.99579,     0.99579,     0.99578,\n",
              "            0.99576,     0.99576,     0.99576,     0.99575,     0.99575,     0.99575,     0.99574,     0.99571,     0.99569,     0.99568,     0.99566,     0.99565,     0.99564,     0.99564,           1,           1,           1,           1,           1,           1,           1,           1,           1,\n",
              "                  1,           1,           1,           1,           1,           1,           1,           1,           1,           1,           1,           1,           1,           1,           1,           1,           1,           1,           1,           1,           1,           1,           1,\n",
              "                  1,           1,           1,           1,           1,           1,           1,           1,           1,           1,           1,           1,           1,           1,           1,           1,           1,           1,           1,           1,           1,           1,           1,\n",
              "                  1,           1,           1,           1,           1,           1,           1,           1,           1,           1,           1,           1,           1,           1,           1,           1,           1,           1,           1,           1,           1,           1,           1,\n",
              "                  1,           1,           1,           1,           1,           1,           1,           1,           1,           1,           1,           1,           1,           1,           1,           1,           1,           1,           1,           1,           1,           1,           1,\n",
              "                  1,           1,           1,           1,           1,           1,           1,           1,           1,           1,           1]]), 'Confidence', 'Precision'], [array([          0,    0.001001,    0.002002,    0.003003,    0.004004,    0.005005,    0.006006,    0.007007,    0.008008,    0.009009,     0.01001,    0.011011,    0.012012,    0.013013,    0.014014,    0.015015,    0.016016,    0.017017,    0.018018,    0.019019,     0.02002,    0.021021,    0.022022,    0.023023,\n",
              "          0.024024,    0.025025,    0.026026,    0.027027,    0.028028,    0.029029,     0.03003,    0.031031,    0.032032,    0.033033,    0.034034,    0.035035,    0.036036,    0.037037,    0.038038,    0.039039,     0.04004,    0.041041,    0.042042,    0.043043,    0.044044,    0.045045,    0.046046,    0.047047,\n",
              "          0.048048,    0.049049,     0.05005,    0.051051,    0.052052,    0.053053,    0.054054,    0.055055,    0.056056,    0.057057,    0.058058,    0.059059,     0.06006,    0.061061,    0.062062,    0.063063,    0.064064,    0.065065,    0.066066,    0.067067,    0.068068,    0.069069,     0.07007,    0.071071,\n",
              "          0.072072,    0.073073,    0.074074,    0.075075,    0.076076,    0.077077,    0.078078,    0.079079,     0.08008,    0.081081,    0.082082,    0.083083,    0.084084,    0.085085,    0.086086,    0.087087,    0.088088,    0.089089,     0.09009,    0.091091,    0.092092,    0.093093,    0.094094,    0.095095,\n",
              "          0.096096,    0.097097,    0.098098,    0.099099,      0.1001,      0.1011,      0.1021,      0.1031,      0.1041,     0.10511,     0.10611,     0.10711,     0.10811,     0.10911,     0.11011,     0.11111,     0.11211,     0.11311,     0.11411,     0.11512,     0.11612,     0.11712,     0.11812,     0.11912,\n",
              "           0.12012,     0.12112,     0.12212,     0.12312,     0.12412,     0.12513,     0.12613,     0.12713,     0.12813,     0.12913,     0.13013,     0.13113,     0.13213,     0.13313,     0.13413,     0.13514,     0.13614,     0.13714,     0.13814,     0.13914,     0.14014,     0.14114,     0.14214,     0.14314,\n",
              "           0.14414,     0.14515,     0.14615,     0.14715,     0.14815,     0.14915,     0.15015,     0.15115,     0.15215,     0.15315,     0.15415,     0.15516,     0.15616,     0.15716,     0.15816,     0.15916,     0.16016,     0.16116,     0.16216,     0.16316,     0.16416,     0.16517,     0.16617,     0.16717,\n",
              "           0.16817,     0.16917,     0.17017,     0.17117,     0.17217,     0.17317,     0.17417,     0.17518,     0.17618,     0.17718,     0.17818,     0.17918,     0.18018,     0.18118,     0.18218,     0.18318,     0.18418,     0.18519,     0.18619,     0.18719,     0.18819,     0.18919,     0.19019,     0.19119,\n",
              "           0.19219,     0.19319,     0.19419,      0.1952,      0.1962,      0.1972,      0.1982,      0.1992,      0.2002,      0.2012,      0.2022,      0.2032,      0.2042,     0.20521,     0.20621,     0.20721,     0.20821,     0.20921,     0.21021,     0.21121,     0.21221,     0.21321,     0.21421,     0.21522,\n",
              "           0.21622,     0.21722,     0.21822,     0.21922,     0.22022,     0.22122,     0.22222,     0.22322,     0.22422,     0.22523,     0.22623,     0.22723,     0.22823,     0.22923,     0.23023,     0.23123,     0.23223,     0.23323,     0.23423,     0.23524,     0.23624,     0.23724,     0.23824,     0.23924,\n",
              "           0.24024,     0.24124,     0.24224,     0.24324,     0.24424,     0.24525,     0.24625,     0.24725,     0.24825,     0.24925,     0.25025,     0.25125,     0.25225,     0.25325,     0.25425,     0.25526,     0.25626,     0.25726,     0.25826,     0.25926,     0.26026,     0.26126,     0.26226,     0.26326,\n",
              "           0.26426,     0.26527,     0.26627,     0.26727,     0.26827,     0.26927,     0.27027,     0.27127,     0.27227,     0.27327,     0.27427,     0.27528,     0.27628,     0.27728,     0.27828,     0.27928,     0.28028,     0.28128,     0.28228,     0.28328,     0.28428,     0.28529,     0.28629,     0.28729,\n",
              "           0.28829,     0.28929,     0.29029,     0.29129,     0.29229,     0.29329,     0.29429,      0.2953,      0.2963,      0.2973,      0.2983,      0.2993,      0.3003,      0.3013,      0.3023,      0.3033,      0.3043,     0.30531,     0.30631,     0.30731,     0.30831,     0.30931,     0.31031,     0.31131,\n",
              "           0.31231,     0.31331,     0.31431,     0.31532,     0.31632,     0.31732,     0.31832,     0.31932,     0.32032,     0.32132,     0.32232,     0.32332,     0.32432,     0.32533,     0.32633,     0.32733,     0.32833,     0.32933,     0.33033,     0.33133,     0.33233,     0.33333,     0.33433,     0.33534,\n",
              "           0.33634,     0.33734,     0.33834,     0.33934,     0.34034,     0.34134,     0.34234,     0.34334,     0.34434,     0.34535,     0.34635,     0.34735,     0.34835,     0.34935,     0.35035,     0.35135,     0.35235,     0.35335,     0.35435,     0.35536,     0.35636,     0.35736,     0.35836,     0.35936,\n",
              "           0.36036,     0.36136,     0.36236,     0.36336,     0.36436,     0.36537,     0.36637,     0.36737,     0.36837,     0.36937,     0.37037,     0.37137,     0.37237,     0.37337,     0.37437,     0.37538,     0.37638,     0.37738,     0.37838,     0.37938,     0.38038,     0.38138,     0.38238,     0.38338,\n",
              "           0.38438,     0.38539,     0.38639,     0.38739,     0.38839,     0.38939,     0.39039,     0.39139,     0.39239,     0.39339,     0.39439,      0.3954,      0.3964,      0.3974,      0.3984,      0.3994,      0.4004,      0.4014,      0.4024,      0.4034,      0.4044,     0.40541,     0.40641,     0.40741,\n",
              "           0.40841,     0.40941,     0.41041,     0.41141,     0.41241,     0.41341,     0.41441,     0.41542,     0.41642,     0.41742,     0.41842,     0.41942,     0.42042,     0.42142,     0.42242,     0.42342,     0.42442,     0.42543,     0.42643,     0.42743,     0.42843,     0.42943,     0.43043,     0.43143,\n",
              "           0.43243,     0.43343,     0.43443,     0.43544,     0.43644,     0.43744,     0.43844,     0.43944,     0.44044,     0.44144,     0.44244,     0.44344,     0.44444,     0.44545,     0.44645,     0.44745,     0.44845,     0.44945,     0.45045,     0.45145,     0.45245,     0.45345,     0.45445,     0.45546,\n",
              "           0.45646,     0.45746,     0.45846,     0.45946,     0.46046,     0.46146,     0.46246,     0.46346,     0.46446,     0.46547,     0.46647,     0.46747,     0.46847,     0.46947,     0.47047,     0.47147,     0.47247,     0.47347,     0.47447,     0.47548,     0.47648,     0.47748,     0.47848,     0.47948,\n",
              "           0.48048,     0.48148,     0.48248,     0.48348,     0.48448,     0.48549,     0.48649,     0.48749,     0.48849,     0.48949,     0.49049,     0.49149,     0.49249,     0.49349,     0.49449,      0.4955,      0.4965,      0.4975,      0.4985,      0.4995,      0.5005,      0.5015,      0.5025,      0.5035,\n",
              "            0.5045,     0.50551,     0.50651,     0.50751,     0.50851,     0.50951,     0.51051,     0.51151,     0.51251,     0.51351,     0.51451,     0.51552,     0.51652,     0.51752,     0.51852,     0.51952,     0.52052,     0.52152,     0.52252,     0.52352,     0.52452,     0.52553,     0.52653,     0.52753,\n",
              "           0.52853,     0.52953,     0.53053,     0.53153,     0.53253,     0.53353,     0.53453,     0.53554,     0.53654,     0.53754,     0.53854,     0.53954,     0.54054,     0.54154,     0.54254,     0.54354,     0.54454,     0.54555,     0.54655,     0.54755,     0.54855,     0.54955,     0.55055,     0.55155,\n",
              "           0.55255,     0.55355,     0.55455,     0.55556,     0.55656,     0.55756,     0.55856,     0.55956,     0.56056,     0.56156,     0.56256,     0.56356,     0.56456,     0.56557,     0.56657,     0.56757,     0.56857,     0.56957,     0.57057,     0.57157,     0.57257,     0.57357,     0.57457,     0.57558,\n",
              "           0.57658,     0.57758,     0.57858,     0.57958,     0.58058,     0.58158,     0.58258,     0.58358,     0.58458,     0.58559,     0.58659,     0.58759,     0.58859,     0.58959,     0.59059,     0.59159,     0.59259,     0.59359,     0.59459,      0.5956,      0.5966,      0.5976,      0.5986,      0.5996,\n",
              "            0.6006,      0.6016,      0.6026,      0.6036,      0.6046,     0.60561,     0.60661,     0.60761,     0.60861,     0.60961,     0.61061,     0.61161,     0.61261,     0.61361,     0.61461,     0.61562,     0.61662,     0.61762,     0.61862,     0.61962,     0.62062,     0.62162,     0.62262,     0.62362,\n",
              "           0.62462,     0.62563,     0.62663,     0.62763,     0.62863,     0.62963,     0.63063,     0.63163,     0.63263,     0.63363,     0.63463,     0.63564,     0.63664,     0.63764,     0.63864,     0.63964,     0.64064,     0.64164,     0.64264,     0.64364,     0.64464,     0.64565,     0.64665,     0.64765,\n",
              "           0.64865,     0.64965,     0.65065,     0.65165,     0.65265,     0.65365,     0.65465,     0.65566,     0.65666,     0.65766,     0.65866,     0.65966,     0.66066,     0.66166,     0.66266,     0.66366,     0.66466,     0.66567,     0.66667,     0.66767,     0.66867,     0.66967,     0.67067,     0.67167,\n",
              "           0.67267,     0.67367,     0.67467,     0.67568,     0.67668,     0.67768,     0.67868,     0.67968,     0.68068,     0.68168,     0.68268,     0.68368,     0.68468,     0.68569,     0.68669,     0.68769,     0.68869,     0.68969,     0.69069,     0.69169,     0.69269,     0.69369,     0.69469,      0.6957,\n",
              "            0.6967,      0.6977,      0.6987,      0.6997,      0.7007,      0.7017,      0.7027,      0.7037,      0.7047,     0.70571,     0.70671,     0.70771,     0.70871,     0.70971,     0.71071,     0.71171,     0.71271,     0.71371,     0.71471,     0.71572,     0.71672,     0.71772,     0.71872,     0.71972,\n",
              "           0.72072,     0.72172,     0.72272,     0.72372,     0.72472,     0.72573,     0.72673,     0.72773,     0.72873,     0.72973,     0.73073,     0.73173,     0.73273,     0.73373,     0.73473,     0.73574,     0.73674,     0.73774,     0.73874,     0.73974,     0.74074,     0.74174,     0.74274,     0.74374,\n",
              "           0.74474,     0.74575,     0.74675,     0.74775,     0.74875,     0.74975,     0.75075,     0.75175,     0.75275,     0.75375,     0.75475,     0.75576,     0.75676,     0.75776,     0.75876,     0.75976,     0.76076,     0.76176,     0.76276,     0.76376,     0.76476,     0.76577,     0.76677,     0.76777,\n",
              "           0.76877,     0.76977,     0.77077,     0.77177,     0.77277,     0.77377,     0.77477,     0.77578,     0.77678,     0.77778,     0.77878,     0.77978,     0.78078,     0.78178,     0.78278,     0.78378,     0.78478,     0.78579,     0.78679,     0.78779,     0.78879,     0.78979,     0.79079,     0.79179,\n",
              "           0.79279,     0.79379,     0.79479,      0.7958,      0.7968,      0.7978,      0.7988,      0.7998,      0.8008,      0.8018,      0.8028,      0.8038,      0.8048,     0.80581,     0.80681,     0.80781,     0.80881,     0.80981,     0.81081,     0.81181,     0.81281,     0.81381,     0.81481,     0.81582,\n",
              "           0.81682,     0.81782,     0.81882,     0.81982,     0.82082,     0.82182,     0.82282,     0.82382,     0.82482,     0.82583,     0.82683,     0.82783,     0.82883,     0.82983,     0.83083,     0.83183,     0.83283,     0.83383,     0.83483,     0.83584,     0.83684,     0.83784,     0.83884,     0.83984,\n",
              "           0.84084,     0.84184,     0.84284,     0.84384,     0.84484,     0.84585,     0.84685,     0.84785,     0.84885,     0.84985,     0.85085,     0.85185,     0.85285,     0.85385,     0.85485,     0.85586,     0.85686,     0.85786,     0.85886,     0.85986,     0.86086,     0.86186,     0.86286,     0.86386,\n",
              "           0.86486,     0.86587,     0.86687,     0.86787,     0.86887,     0.86987,     0.87087,     0.87187,     0.87287,     0.87387,     0.87487,     0.87588,     0.87688,     0.87788,     0.87888,     0.87988,     0.88088,     0.88188,     0.88288,     0.88388,     0.88488,     0.88589,     0.88689,     0.88789,\n",
              "           0.88889,     0.88989,     0.89089,     0.89189,     0.89289,     0.89389,     0.89489,      0.8959,      0.8969,      0.8979,      0.8989,      0.8999,      0.9009,      0.9019,      0.9029,      0.9039,      0.9049,     0.90591,     0.90691,     0.90791,     0.90891,     0.90991,     0.91091,     0.91191,\n",
              "           0.91291,     0.91391,     0.91491,     0.91592,     0.91692,     0.91792,     0.91892,     0.91992,     0.92092,     0.92192,     0.92292,     0.92392,     0.92492,     0.92593,     0.92693,     0.92793,     0.92893,     0.92993,     0.93093,     0.93193,     0.93293,     0.93393,     0.93493,     0.93594,\n",
              "           0.93694,     0.93794,     0.93894,     0.93994,     0.94094,     0.94194,     0.94294,     0.94394,     0.94494,     0.94595,     0.94695,     0.94795,     0.94895,     0.94995,     0.95095,     0.95195,     0.95295,     0.95395,     0.95495,     0.95596,     0.95696,     0.95796,     0.95896,     0.95996,\n",
              "           0.96096,     0.96196,     0.96296,     0.96396,     0.96496,     0.96597,     0.96697,     0.96797,     0.96897,     0.96997,     0.97097,     0.97197,     0.97297,     0.97397,     0.97497,     0.97598,     0.97698,     0.97798,     0.97898,     0.97998,     0.98098,     0.98198,     0.98298,     0.98398,\n",
              "           0.98498,     0.98599,     0.98699,     0.98799,     0.98899,     0.98999,     0.99099,     0.99199,     0.99299,     0.99399,     0.99499,       0.996,       0.997,       0.998,       0.999,           1]), array([[    0.77439,     0.77439,     0.77439,     0.77439,     0.77439,     0.77439,     0.77439,     0.77439,     0.77439,     0.77439,     0.77439,     0.77439,     0.77439,     0.77301,     0.77134,     0.77134,     0.77134,     0.77134,     0.77134,     0.77134,     0.77134,     0.77134,     0.77134,\n",
              "            0.77134,     0.77134,     0.77134,     0.77134,     0.77134,     0.77134,     0.77134,     0.77134,     0.77134,     0.77134,     0.77134,     0.77134,     0.77134,     0.77134,     0.77134,     0.77134,     0.77134,     0.77134,     0.77134,     0.77134,     0.77134,     0.77134,     0.77134,\n",
              "            0.77134,     0.77134,     0.77134,     0.77134,     0.77134,     0.77134,     0.77134,     0.77134,     0.77134,     0.77134,     0.77134,     0.77134,     0.77134,     0.77134,     0.77134,     0.77134,     0.77134,     0.77134,     0.77134,     0.77134,     0.77134,     0.77134,     0.77134,\n",
              "            0.77134,     0.77134,     0.77134,     0.77134,     0.77134,     0.77134,     0.77134,     0.77134,     0.77134,     0.77134,     0.77134,     0.77134,     0.77134,     0.77134,     0.77134,     0.77134,     0.77134,     0.77134,     0.77134,     0.77134,     0.77134,     0.77134,     0.77134,\n",
              "            0.77134,     0.77134,     0.77134,     0.77134,     0.77134,     0.77134,     0.77134,     0.77134,     0.77134,     0.77134,     0.77134,     0.77134,     0.77134,     0.77134,     0.77134,     0.77134,     0.77134,     0.77134,     0.77134,     0.77134,     0.77134,     0.77134,     0.77134,\n",
              "            0.77134,     0.77134,     0.77134,     0.77134,     0.77134,     0.77134,     0.77134,     0.77134,     0.77134,     0.77134,     0.77134,     0.77134,     0.77134,     0.77134,     0.77134,     0.77134,     0.77134,     0.77134,     0.77134,     0.77134,     0.77134,     0.77134,     0.77134,\n",
              "            0.77134,     0.77134,     0.77134,     0.77134,     0.77134,     0.77134,     0.77134,     0.77134,     0.77134,     0.77134,     0.77134,     0.77134,     0.77134,     0.77134,     0.77134,     0.77134,     0.77134,     0.77134,     0.77134,     0.77134,     0.77134,     0.77134,     0.77134,\n",
              "            0.77134,     0.77134,     0.77134,     0.77134,     0.77134,     0.77134,     0.77134,     0.77134,     0.77134,     0.77134,     0.77134,     0.77134,     0.77134,     0.77134,     0.77134,     0.77134,     0.77134,     0.77134,     0.77134,     0.77134,     0.77134,     0.77134,     0.77134,\n",
              "            0.77134,     0.77134,     0.77134,     0.77134,     0.77134,     0.77134,     0.77134,     0.77134,     0.77134,     0.77134,     0.77134,     0.77134,     0.77134,     0.77134,     0.77134,     0.77134,     0.77134,     0.77134,     0.77134,     0.77134,     0.77134,     0.77134,     0.77134,\n",
              "            0.77134,     0.77134,     0.77134,     0.77134,     0.77134,     0.77134,     0.77134,     0.77134,     0.77134,     0.77134,     0.77134,     0.77134,     0.77134,     0.77134,     0.77134,     0.77134,     0.77134,     0.77134,     0.77134,     0.77134,     0.77134,     0.77134,     0.77134,\n",
              "            0.77134,     0.77134,     0.77134,     0.77134,     0.77134,     0.77134,     0.77134,     0.77134,     0.77134,     0.77134,     0.77134,     0.77134,     0.77134,     0.77134,     0.77134,     0.77134,     0.77134,     0.77134,     0.77134,     0.77134,     0.77134,     0.77134,     0.77134,\n",
              "            0.77134,     0.77134,     0.77134,     0.77134,     0.77134,     0.77134,     0.77134,     0.77134,     0.77134,     0.77134,     0.77134,     0.77134,     0.77134,     0.77134,     0.77134,     0.77134,     0.77134,     0.77134,     0.77134,     0.77134,     0.77134,     0.77134,     0.77134,\n",
              "            0.77134,     0.77134,     0.77134,     0.77134,     0.77134,     0.77134,     0.77134,     0.77134,     0.77134,     0.77134,     0.77134,     0.77134,     0.77134,     0.77134,     0.77134,     0.77134,     0.77134,     0.77134,     0.77134,     0.77134,     0.77134,     0.77134,     0.77134,\n",
              "            0.77134,     0.77134,     0.77134,     0.77134,     0.77134,     0.77134,     0.77134,     0.77134,     0.77134,     0.77134,     0.77134,     0.77134,     0.77134,     0.77134,     0.77134,     0.77134,     0.77134,     0.77134,     0.77134,     0.77134,     0.77134,     0.77134,     0.77134,\n",
              "            0.77134,     0.77134,     0.77134,     0.77134,     0.77134,     0.77134,     0.77134,     0.77134,     0.77134,     0.77134,     0.77134,     0.77134,     0.77134,     0.77134,     0.77134,     0.77134,     0.77134,     0.77134,     0.77134,     0.77134,     0.77134,     0.77134,     0.77134,\n",
              "            0.77134,     0.77134,     0.77134,     0.77134,     0.77134,     0.77134,     0.77134,     0.77134,     0.77134,     0.77134,     0.77134,     0.77134,     0.77134,     0.77134,     0.77134,     0.77134,     0.77134,     0.77134,     0.77134,     0.77134,     0.77134,     0.77134,     0.77134,\n",
              "            0.77134,     0.77134,     0.77134,     0.77134,     0.77134,     0.77134,     0.77134,     0.77134,     0.77134,     0.77134,     0.77134,     0.77134,     0.77134,     0.77134,     0.77134,     0.77134,     0.77134,     0.77134,     0.77134,     0.77134,     0.77134,     0.77134,     0.77134,\n",
              "            0.77134,     0.77134,     0.77134,     0.77134,     0.77134,     0.77134,     0.77134,     0.77134,     0.77134,     0.77134,     0.77134,     0.77134,     0.77134,     0.77134,     0.77134,     0.77134,     0.77134,     0.77134,     0.77134,     0.77134,     0.77134,     0.77134,     0.77134,\n",
              "            0.77134,     0.77134,     0.77134,     0.77134,     0.77134,     0.77134,     0.77134,     0.77134,     0.77134,     0.77134,     0.77134,     0.77134,     0.77134,     0.77134,     0.77134,     0.77134,     0.77134,     0.77134,     0.77134,     0.77134,     0.77134,     0.77134,     0.77134,\n",
              "            0.77134,     0.77134,     0.77134,     0.77134,     0.77134,     0.77134,     0.77134,     0.77134,     0.77134,     0.77134,     0.77134,     0.77134,     0.77134,     0.77134,     0.77134,     0.77134,     0.77134,     0.77134,     0.77134,     0.77134,     0.77134,     0.77134,     0.77134,\n",
              "            0.77134,     0.77134,     0.77134,     0.77134,     0.77134,     0.77134,     0.77134,     0.77134,     0.77134,     0.77134,     0.77134,     0.77134,     0.77134,     0.77134,     0.77134,     0.77134,     0.77134,     0.77134,     0.77134,     0.77134,     0.77134,     0.77134,     0.77134,\n",
              "            0.77134,     0.77134,     0.77134,     0.77134,     0.77134,     0.77134,     0.77134,     0.77134,     0.77134,     0.77134,     0.77134,     0.77134,     0.77134,     0.77134,     0.77134,     0.77134,     0.77134,     0.77134,     0.77134,     0.77134,     0.77134,     0.77134,     0.77134,\n",
              "            0.77134,     0.77134,     0.77134,     0.77134,     0.77134,     0.77134,     0.77134,     0.77134,     0.77134,     0.77134,     0.77134,     0.77134,     0.77134,     0.77134,     0.77134,     0.77134,     0.77134,     0.77134,     0.77134,     0.77134,     0.77134,     0.77134,     0.77134,\n",
              "            0.77134,     0.77134,     0.77134,     0.77134,     0.77134,     0.77134,     0.77134,     0.77134,     0.77134,     0.77134,     0.77134,     0.77134,     0.77134,     0.77134,     0.77134,     0.77134,     0.77134,     0.77134,     0.77134,     0.77134,     0.77134,     0.77134,     0.77134,\n",
              "            0.77134,     0.77134,     0.77134,     0.77134,     0.77134,     0.77134,     0.77134,     0.77134,     0.77134,     0.77134,     0.77134,     0.77134,     0.77134,     0.77134,     0.77134,     0.77134,     0.77134,     0.77134,     0.77134,     0.77134,     0.77134,     0.77134,     0.77134,\n",
              "            0.77134,     0.77134,     0.77134,     0.77134,     0.77134,     0.77134,     0.77134,     0.77134,     0.77134,     0.77134,     0.77134,     0.77134,     0.77134,     0.77134,     0.77134,     0.77134,     0.77134,     0.77134,     0.77134,     0.77134,     0.77134,     0.77134,     0.77134,\n",
              "            0.77134,     0.77134,     0.77134,     0.77134,     0.77134,     0.77134,     0.77134,     0.77134,     0.77134,     0.77134,     0.77134,     0.77134,     0.77134,     0.77134,     0.77134,     0.77134,     0.77134,     0.77134,     0.77134,     0.77134,     0.77134,     0.77134,     0.77134,\n",
              "            0.77134,     0.77134,     0.77134,     0.77134,     0.77134,     0.77134,     0.77134,     0.77134,     0.77134,     0.77134,     0.77134,     0.77134,     0.77134,     0.77134,     0.77134,     0.77134,     0.77134,     0.77134,     0.77134,     0.77134,     0.77134,     0.77134,     0.77134,\n",
              "            0.77134,     0.77134,     0.77134,     0.77134,     0.77134,     0.77134,     0.77134,     0.77134,     0.77134,     0.77134,     0.77134,     0.77134,     0.77134,     0.77134,     0.77134,     0.77134,     0.77134,     0.77134,     0.77134,     0.77134,     0.77134,     0.77134,     0.77134,\n",
              "            0.77134,     0.77134,     0.77134,     0.77134,     0.77134,     0.77134,     0.77134,     0.77134,     0.77134,     0.77134,     0.77134,     0.77134,     0.77134,     0.77134,     0.77134,     0.77134,     0.77134,     0.77134,     0.77134,     0.77134,     0.77134,     0.77134,     0.77134,\n",
              "            0.77134,     0.77134,     0.77134,     0.77134,     0.77134,     0.77134,     0.77134,     0.77134,     0.77134,     0.77134,     0.77134,     0.77134,     0.77134,     0.77134,     0.77134,     0.77134,     0.77134,     0.77134,     0.77134,     0.77134,     0.77134,     0.77134,     0.77134,\n",
              "            0.77134,     0.77134,     0.77134,     0.77134,     0.77134,     0.77134,     0.77134,     0.77134,     0.77134,     0.77134,     0.77134,     0.77134,     0.77134,     0.77134,     0.77134,     0.77134,     0.77134,     0.77134,     0.77134,     0.77134,     0.77134,     0.77134,     0.77134,\n",
              "            0.77134,     0.77134,     0.77134,     0.77134,     0.77134,     0.77134,     0.77134,     0.77134,     0.77134,     0.77134,     0.77134,     0.77134,     0.77134,     0.77134,     0.77134,     0.77134,     0.77134,     0.77134,     0.77134,     0.77134,     0.77134,     0.77134,     0.77134,\n",
              "            0.77134,     0.77134,     0.77134,     0.77134,     0.77134,     0.77134,     0.77134,     0.77134,     0.77134,     0.77134,     0.77134,     0.77134,     0.77134,     0.77134,     0.77134,     0.77134,     0.77134,     0.77134,     0.77134,     0.77134,     0.77134,     0.77134,     0.77134,\n",
              "            0.77134,     0.77134,     0.77134,     0.77134,     0.77134,     0.77134,     0.77134,     0.77134,     0.77134,     0.77134,     0.77134,     0.77134,     0.77134,     0.77134,     0.77134,     0.77134,     0.77134,     0.77134,     0.77134,     0.77134,     0.77134,     0.77134,     0.77134,\n",
              "            0.77134,     0.77134,     0.77134,     0.77134,     0.77134,     0.77134,     0.77134,     0.77134,     0.77134,     0.77125,     0.77101,     0.77077,     0.77053,     0.77029,     0.77005,     0.76981,     0.76957,     0.76933,     0.76909,     0.76885,     0.76861,     0.76837,     0.76812,\n",
              "            0.76787,     0.76762,     0.76737,     0.76712,     0.76687,     0.76662,     0.76637,     0.76612,     0.76587,     0.76562,     0.76537,     0.76222,     0.76095,      0.7597,     0.75876,     0.75806,     0.75737,     0.75668,     0.75598,     0.75529,     0.75459,      0.7539,      0.7532,\n",
              "             0.7491,     0.74597,     0.74285,     0.73859,     0.73644,     0.73488,     0.73428,     0.73375,     0.73323,     0.73271,     0.73219,     0.73166,     0.73104,     0.73041,     0.72979,     0.72916,     0.72806,     0.72534,     0.72409,     0.72284,     0.72159,     0.72034,     0.71881,\n",
              "            0.71672,     0.71601,     0.71549,     0.71497,     0.71445,     0.71392,     0.71335,     0.70722,     0.70514,     0.70245,     0.69932,     0.69751,     0.69647,     0.69543,     0.69162,     0.68954,     0.68808,     0.68683,     0.68548,     0.68392,     0.68066,     0.67714,     0.67495,\n",
              "            0.67105,     0.67034,     0.66992,      0.6695,     0.66909,     0.66867,     0.66825,     0.66784,     0.66445,      0.6632,     0.66195,     0.66048,     0.65892,     0.65618,     0.65488,      0.6541,     0.65332,     0.65254,     0.65175,     0.65097,     0.65019,     0.64941,     0.64903,\n",
              "            0.64866,      0.6483,     0.64793,     0.64756,     0.64719,     0.64683,     0.64646,     0.64549,     0.64424,     0.64178,     0.63867,     0.63233,     0.62756,     0.62599,     0.62424,     0.62216,     0.61761,     0.61144,     0.60831,     0.60062,     0.59437,     0.58836,     0.58711,\n",
              "            0.58586,     0.58194,     0.57836,     0.57485,     0.57196,     0.56334,     0.55641,     0.55252,     0.53781,     0.52851,     0.51007,     0.47028,     0.44574,      0.4151,     0.38446,     0.35077,     0.32318,     0.28034,     0.23141,     0.20077,     0.16708,     0.14254,     0.12104,\n",
              "           0.087353,    0.065859,    0.051146,    0.038114,    0.031176,    0.023478,    0.017633,     0.01555,    0.014355,    0.013314,    0.012272,   0.0093005,   0.0071657,   0.0030518,           0,           0,           0,           0,           0,           0,           0,           0,           0,\n",
              "                  0,           0,           0,           0,           0,           0,           0,           0,           0,           0,           0]]), 'Confidence', 'Recall'], [array([          0,    0.001001,    0.002002,    0.003003,    0.004004,    0.005005,    0.006006,    0.007007,    0.008008,    0.009009,     0.01001,    0.011011,    0.012012,    0.013013,    0.014014,    0.015015,    0.016016,    0.017017,    0.018018,    0.019019,     0.02002,    0.021021,    0.022022,    0.023023,\n",
              "          0.024024,    0.025025,    0.026026,    0.027027,    0.028028,    0.029029,     0.03003,    0.031031,    0.032032,    0.033033,    0.034034,    0.035035,    0.036036,    0.037037,    0.038038,    0.039039,     0.04004,    0.041041,    0.042042,    0.043043,    0.044044,    0.045045,    0.046046,    0.047047,\n",
              "          0.048048,    0.049049,     0.05005,    0.051051,    0.052052,    0.053053,    0.054054,    0.055055,    0.056056,    0.057057,    0.058058,    0.059059,     0.06006,    0.061061,    0.062062,    0.063063,    0.064064,    0.065065,    0.066066,    0.067067,    0.068068,    0.069069,     0.07007,    0.071071,\n",
              "          0.072072,    0.073073,    0.074074,    0.075075,    0.076076,    0.077077,    0.078078,    0.079079,     0.08008,    0.081081,    0.082082,    0.083083,    0.084084,    0.085085,    0.086086,    0.087087,    0.088088,    0.089089,     0.09009,    0.091091,    0.092092,    0.093093,    0.094094,    0.095095,\n",
              "          0.096096,    0.097097,    0.098098,    0.099099,      0.1001,      0.1011,      0.1021,      0.1031,      0.1041,     0.10511,     0.10611,     0.10711,     0.10811,     0.10911,     0.11011,     0.11111,     0.11211,     0.11311,     0.11411,     0.11512,     0.11612,     0.11712,     0.11812,     0.11912,\n",
              "           0.12012,     0.12112,     0.12212,     0.12312,     0.12412,     0.12513,     0.12613,     0.12713,     0.12813,     0.12913,     0.13013,     0.13113,     0.13213,     0.13313,     0.13413,     0.13514,     0.13614,     0.13714,     0.13814,     0.13914,     0.14014,     0.14114,     0.14214,     0.14314,\n",
              "           0.14414,     0.14515,     0.14615,     0.14715,     0.14815,     0.14915,     0.15015,     0.15115,     0.15215,     0.15315,     0.15415,     0.15516,     0.15616,     0.15716,     0.15816,     0.15916,     0.16016,     0.16116,     0.16216,     0.16316,     0.16416,     0.16517,     0.16617,     0.16717,\n",
              "           0.16817,     0.16917,     0.17017,     0.17117,     0.17217,     0.17317,     0.17417,     0.17518,     0.17618,     0.17718,     0.17818,     0.17918,     0.18018,     0.18118,     0.18218,     0.18318,     0.18418,     0.18519,     0.18619,     0.18719,     0.18819,     0.18919,     0.19019,     0.19119,\n",
              "           0.19219,     0.19319,     0.19419,      0.1952,      0.1962,      0.1972,      0.1982,      0.1992,      0.2002,      0.2012,      0.2022,      0.2032,      0.2042,     0.20521,     0.20621,     0.20721,     0.20821,     0.20921,     0.21021,     0.21121,     0.21221,     0.21321,     0.21421,     0.21522,\n",
              "           0.21622,     0.21722,     0.21822,     0.21922,     0.22022,     0.22122,     0.22222,     0.22322,     0.22422,     0.22523,     0.22623,     0.22723,     0.22823,     0.22923,     0.23023,     0.23123,     0.23223,     0.23323,     0.23423,     0.23524,     0.23624,     0.23724,     0.23824,     0.23924,\n",
              "           0.24024,     0.24124,     0.24224,     0.24324,     0.24424,     0.24525,     0.24625,     0.24725,     0.24825,     0.24925,     0.25025,     0.25125,     0.25225,     0.25325,     0.25425,     0.25526,     0.25626,     0.25726,     0.25826,     0.25926,     0.26026,     0.26126,     0.26226,     0.26326,\n",
              "           0.26426,     0.26527,     0.26627,     0.26727,     0.26827,     0.26927,     0.27027,     0.27127,     0.27227,     0.27327,     0.27427,     0.27528,     0.27628,     0.27728,     0.27828,     0.27928,     0.28028,     0.28128,     0.28228,     0.28328,     0.28428,     0.28529,     0.28629,     0.28729,\n",
              "           0.28829,     0.28929,     0.29029,     0.29129,     0.29229,     0.29329,     0.29429,      0.2953,      0.2963,      0.2973,      0.2983,      0.2993,      0.3003,      0.3013,      0.3023,      0.3033,      0.3043,     0.30531,     0.30631,     0.30731,     0.30831,     0.30931,     0.31031,     0.31131,\n",
              "           0.31231,     0.31331,     0.31431,     0.31532,     0.31632,     0.31732,     0.31832,     0.31932,     0.32032,     0.32132,     0.32232,     0.32332,     0.32432,     0.32533,     0.32633,     0.32733,     0.32833,     0.32933,     0.33033,     0.33133,     0.33233,     0.33333,     0.33433,     0.33534,\n",
              "           0.33634,     0.33734,     0.33834,     0.33934,     0.34034,     0.34134,     0.34234,     0.34334,     0.34434,     0.34535,     0.34635,     0.34735,     0.34835,     0.34935,     0.35035,     0.35135,     0.35235,     0.35335,     0.35435,     0.35536,     0.35636,     0.35736,     0.35836,     0.35936,\n",
              "           0.36036,     0.36136,     0.36236,     0.36336,     0.36436,     0.36537,     0.36637,     0.36737,     0.36837,     0.36937,     0.37037,     0.37137,     0.37237,     0.37337,     0.37437,     0.37538,     0.37638,     0.37738,     0.37838,     0.37938,     0.38038,     0.38138,     0.38238,     0.38338,\n",
              "           0.38438,     0.38539,     0.38639,     0.38739,     0.38839,     0.38939,     0.39039,     0.39139,     0.39239,     0.39339,     0.39439,      0.3954,      0.3964,      0.3974,      0.3984,      0.3994,      0.4004,      0.4014,      0.4024,      0.4034,      0.4044,     0.40541,     0.40641,     0.40741,\n",
              "           0.40841,     0.40941,     0.41041,     0.41141,     0.41241,     0.41341,     0.41441,     0.41542,     0.41642,     0.41742,     0.41842,     0.41942,     0.42042,     0.42142,     0.42242,     0.42342,     0.42442,     0.42543,     0.42643,     0.42743,     0.42843,     0.42943,     0.43043,     0.43143,\n",
              "           0.43243,     0.43343,     0.43443,     0.43544,     0.43644,     0.43744,     0.43844,     0.43944,     0.44044,     0.44144,     0.44244,     0.44344,     0.44444,     0.44545,     0.44645,     0.44745,     0.44845,     0.44945,     0.45045,     0.45145,     0.45245,     0.45345,     0.45445,     0.45546,\n",
              "           0.45646,     0.45746,     0.45846,     0.45946,     0.46046,     0.46146,     0.46246,     0.46346,     0.46446,     0.46547,     0.46647,     0.46747,     0.46847,     0.46947,     0.47047,     0.47147,     0.47247,     0.47347,     0.47447,     0.47548,     0.47648,     0.47748,     0.47848,     0.47948,\n",
              "           0.48048,     0.48148,     0.48248,     0.48348,     0.48448,     0.48549,     0.48649,     0.48749,     0.48849,     0.48949,     0.49049,     0.49149,     0.49249,     0.49349,     0.49449,      0.4955,      0.4965,      0.4975,      0.4985,      0.4995,      0.5005,      0.5015,      0.5025,      0.5035,\n",
              "            0.5045,     0.50551,     0.50651,     0.50751,     0.50851,     0.50951,     0.51051,     0.51151,     0.51251,     0.51351,     0.51451,     0.51552,     0.51652,     0.51752,     0.51852,     0.51952,     0.52052,     0.52152,     0.52252,     0.52352,     0.52452,     0.52553,     0.52653,     0.52753,\n",
              "           0.52853,     0.52953,     0.53053,     0.53153,     0.53253,     0.53353,     0.53453,     0.53554,     0.53654,     0.53754,     0.53854,     0.53954,     0.54054,     0.54154,     0.54254,     0.54354,     0.54454,     0.54555,     0.54655,     0.54755,     0.54855,     0.54955,     0.55055,     0.55155,\n",
              "           0.55255,     0.55355,     0.55455,     0.55556,     0.55656,     0.55756,     0.55856,     0.55956,     0.56056,     0.56156,     0.56256,     0.56356,     0.56456,     0.56557,     0.56657,     0.56757,     0.56857,     0.56957,     0.57057,     0.57157,     0.57257,     0.57357,     0.57457,     0.57558,\n",
              "           0.57658,     0.57758,     0.57858,     0.57958,     0.58058,     0.58158,     0.58258,     0.58358,     0.58458,     0.58559,     0.58659,     0.58759,     0.58859,     0.58959,     0.59059,     0.59159,     0.59259,     0.59359,     0.59459,      0.5956,      0.5966,      0.5976,      0.5986,      0.5996,\n",
              "            0.6006,      0.6016,      0.6026,      0.6036,      0.6046,     0.60561,     0.60661,     0.60761,     0.60861,     0.60961,     0.61061,     0.61161,     0.61261,     0.61361,     0.61461,     0.61562,     0.61662,     0.61762,     0.61862,     0.61962,     0.62062,     0.62162,     0.62262,     0.62362,\n",
              "           0.62462,     0.62563,     0.62663,     0.62763,     0.62863,     0.62963,     0.63063,     0.63163,     0.63263,     0.63363,     0.63463,     0.63564,     0.63664,     0.63764,     0.63864,     0.63964,     0.64064,     0.64164,     0.64264,     0.64364,     0.64464,     0.64565,     0.64665,     0.64765,\n",
              "           0.64865,     0.64965,     0.65065,     0.65165,     0.65265,     0.65365,     0.65465,     0.65566,     0.65666,     0.65766,     0.65866,     0.65966,     0.66066,     0.66166,     0.66266,     0.66366,     0.66466,     0.66567,     0.66667,     0.66767,     0.66867,     0.66967,     0.67067,     0.67167,\n",
              "           0.67267,     0.67367,     0.67467,     0.67568,     0.67668,     0.67768,     0.67868,     0.67968,     0.68068,     0.68168,     0.68268,     0.68368,     0.68468,     0.68569,     0.68669,     0.68769,     0.68869,     0.68969,     0.69069,     0.69169,     0.69269,     0.69369,     0.69469,      0.6957,\n",
              "            0.6967,      0.6977,      0.6987,      0.6997,      0.7007,      0.7017,      0.7027,      0.7037,      0.7047,     0.70571,     0.70671,     0.70771,     0.70871,     0.70971,     0.71071,     0.71171,     0.71271,     0.71371,     0.71471,     0.71572,     0.71672,     0.71772,     0.71872,     0.71972,\n",
              "           0.72072,     0.72172,     0.72272,     0.72372,     0.72472,     0.72573,     0.72673,     0.72773,     0.72873,     0.72973,     0.73073,     0.73173,     0.73273,     0.73373,     0.73473,     0.73574,     0.73674,     0.73774,     0.73874,     0.73974,     0.74074,     0.74174,     0.74274,     0.74374,\n",
              "           0.74474,     0.74575,     0.74675,     0.74775,     0.74875,     0.74975,     0.75075,     0.75175,     0.75275,     0.75375,     0.75475,     0.75576,     0.75676,     0.75776,     0.75876,     0.75976,     0.76076,     0.76176,     0.76276,     0.76376,     0.76476,     0.76577,     0.76677,     0.76777,\n",
              "           0.76877,     0.76977,     0.77077,     0.77177,     0.77277,     0.77377,     0.77477,     0.77578,     0.77678,     0.77778,     0.77878,     0.77978,     0.78078,     0.78178,     0.78278,     0.78378,     0.78478,     0.78579,     0.78679,     0.78779,     0.78879,     0.78979,     0.79079,     0.79179,\n",
              "           0.79279,     0.79379,     0.79479,      0.7958,      0.7968,      0.7978,      0.7988,      0.7998,      0.8008,      0.8018,      0.8028,      0.8038,      0.8048,     0.80581,     0.80681,     0.80781,     0.80881,     0.80981,     0.81081,     0.81181,     0.81281,     0.81381,     0.81481,     0.81582,\n",
              "           0.81682,     0.81782,     0.81882,     0.81982,     0.82082,     0.82182,     0.82282,     0.82382,     0.82482,     0.82583,     0.82683,     0.82783,     0.82883,     0.82983,     0.83083,     0.83183,     0.83283,     0.83383,     0.83483,     0.83584,     0.83684,     0.83784,     0.83884,     0.83984,\n",
              "           0.84084,     0.84184,     0.84284,     0.84384,     0.84484,     0.84585,     0.84685,     0.84785,     0.84885,     0.84985,     0.85085,     0.85185,     0.85285,     0.85385,     0.85485,     0.85586,     0.85686,     0.85786,     0.85886,     0.85986,     0.86086,     0.86186,     0.86286,     0.86386,\n",
              "           0.86486,     0.86587,     0.86687,     0.86787,     0.86887,     0.86987,     0.87087,     0.87187,     0.87287,     0.87387,     0.87487,     0.87588,     0.87688,     0.87788,     0.87888,     0.87988,     0.88088,     0.88188,     0.88288,     0.88388,     0.88488,     0.88589,     0.88689,     0.88789,\n",
              "           0.88889,     0.88989,     0.89089,     0.89189,     0.89289,     0.89389,     0.89489,      0.8959,      0.8969,      0.8979,      0.8989,      0.8999,      0.9009,      0.9019,      0.9029,      0.9039,      0.9049,     0.90591,     0.90691,     0.90791,     0.90891,     0.90991,     0.91091,     0.91191,\n",
              "           0.91291,     0.91391,     0.91491,     0.91592,     0.91692,     0.91792,     0.91892,     0.91992,     0.92092,     0.92192,     0.92292,     0.92392,     0.92492,     0.92593,     0.92693,     0.92793,     0.92893,     0.92993,     0.93093,     0.93193,     0.93293,     0.93393,     0.93493,     0.93594,\n",
              "           0.93694,     0.93794,     0.93894,     0.93994,     0.94094,     0.94194,     0.94294,     0.94394,     0.94494,     0.94595,     0.94695,     0.94795,     0.94895,     0.94995,     0.95095,     0.95195,     0.95295,     0.95395,     0.95495,     0.95596,     0.95696,     0.95796,     0.95896,     0.95996,\n",
              "           0.96096,     0.96196,     0.96296,     0.96396,     0.96496,     0.96597,     0.96697,     0.96797,     0.96897,     0.96997,     0.97097,     0.97197,     0.97297,     0.97397,     0.97497,     0.97598,     0.97698,     0.97798,     0.97898,     0.97998,     0.98098,     0.98198,     0.98298,     0.98398,\n",
              "           0.98498,     0.98599,     0.98699,     0.98799,     0.98899,     0.98999,     0.99099,     0.99199,     0.99299,     0.99399,     0.99499,       0.996,       0.997,       0.998,       0.999,           1]), array([[          1,           1,           1,           1,           1,           1,           1,           1,           1,           1,           1,           1,           1,           1,           1,           1,           1,           1,           1,           1,           1,           1,           1,\n",
              "                  1,           1,           1,           1,           1,           1,           1,           1,           1,           1,           1,           1,           1,           1,           1,           1,           1,           1,           1,           1,           1,           1,           1,\n",
              "                  1,           1,           1,           1,           1,           1,           1,           1,           1,           1,           1,           1,           1,           1,           1,           1,           1,           1,           1,           1,           1,           1,           1,\n",
              "                  1,           1,           1,           1,           1,           1,           1,           1,           1,           1,           1,           1,           1,           1,           1,           1,           1,           1,           1,           1,           1,           1,           1,\n",
              "                  1,           1,           1,           1,           1,           1,           1,           1,           1,           1,           1,           1,           1,           1,           1,           1,           1,           1,           1,           1,           1,           1,           1,\n",
              "                  1,           1,           1,           1,           1,           1,           1,           1,           1,           1,           1,           1,           1,           1,           1,           1,           1,           1,           1,           1,           1,           1,           1,\n",
              "                  1,           1,           1,           1,           1,           1,           1,           1,           1,           1,           1,           1,           1,           1,           1,           1,           1,           1,           1,           1,           1,           1,           1,\n",
              "                  1,           1,           1,           1,           1,           1,           1,           1,           1,           1,           1,           1,           1,           1,           1,           1,           1,           1,           1,           1,           1,           1,           1,\n",
              "                  1,           1,           1,           1,           1,           1,           1,           1,           1,           1,           1,           1,           1,           1,           1,           1,           1,           1,           1,           1,           1,           1,           1,\n",
              "                  1,           1,           1,           1,           1,           1,           1,           1,           1,           1,           1,           1,           1,           1,           1,           1,           1,           1,           1,           1,           1,           1,           1,\n",
              "                  1,           1,           1,           1,           1,           1,           1,           1,           1,           1,           1,           1,           1,           1,           1,           1,           1,           1,           1,           1,           1,           1,           1,\n",
              "                  1,           1,           1,           1,           1,           1,           1,           1,           1,           1,           1,           1,           1,           1,           1,           1,           1,           1,           1,           1,           1,           1,           1,\n",
              "                  1,           1,           1,           1,           1,           1,           1,           1,           1,           1,           1,           1,           1,           1,           1,           1,           1,           1,           1,           1,           1,           1,           1,\n",
              "                  1,           1,           1,           1,           1,           1,           1,           1,           1,           1,           1,           1,           1,           1,           1,           1,           1,           1,           1,           1,           1,           1,           1,\n",
              "                  1,           1,           1,           1,           1,           1,           1,           1,           1,           1,           1,           1,           1,           1,           1,           1,           1,           1,           1,           1,           1,           1,           1,\n",
              "                  1,           1,           1,           1,           1,           1,           1,           1,           1,           1,           1,           1,           1,           1,           1,           1,           1,           1,           1,           1,           1,           1,           1,\n",
              "                  1,           1,           1,           1,           1,           1,           1,           1,           1,           1,           1,           1,           1,           1,           1,           1,           1,           1,           1,           1,           1,           1,           1,\n",
              "                  1,           1,           1,           1,           1,           1,           1,           1,           1,           1,           1,           1,           1,           1,           1,           1,           1,           1,           1,           1,           1,           1,           1,\n",
              "                  1,           1,           1,           1,           1,           1,           1,           1,           1,           1,           1,           1,           1,           1,           1,           1,           1,           1,           1,           1,           1,           1,           1,\n",
              "                  1,           1,           1,           1,           1,           1,           1,           1,           1,           1,           1,           1,           1,           1,           1,           1,           1,           1,           1,           1,           1,           1,           1,\n",
              "                  1,           1,           1,           1,           1,           1,           1,           1,           1,           1,           1,           1,           1,           1,           1,           1,           1,           1,           1,           1,           1,           1,           1,\n",
              "                  1,           1,           1,           1,           1,           1,           1,           1,           1,           1,           1,           1,           1,           1,           1,           1,           1,           1,           1,           1,           1,           1,           1,\n",
              "                  1,           1,           1,           1,           1,           1,           1,           1,           1,           1,           1,           1,           1,           1,           1,           1,           1,           1,           1,           1,           1,           1,           1,\n",
              "                  1,           1,           1,           1,           1,           1,           1,           1,           1,           1,           1,           1,           1,           1,           1,           1,           1,           1,           1,           1,           1,           1,           1,\n",
              "                  1,           1,           1,           1,           1,           1,           1,           1,           1,           1,           1,           1,           1,           1,           1,           1,           1,           1,           1,           1,           1,           1,           1,\n",
              "                  1,           1,           1,           1,           1,           1,           1,           1,           1,           1,           1,           1,           1,           1,           1,           1,           1,           1,           1,           1,           1,           1,           1,\n",
              "                  1,           1,           1,           1,           1,           1,           1,           1,           1,           1,           1,           1,           1,           1,           1,           1,           1,           1,           1,           1,           1,           1,           1,\n",
              "                  1,           1,           1,           1,           1,           1,           1,           1,           1,           1,           1,           1,           1,           1,           1,           1,           1,           1,           1,           1,           1,           1,           1,\n",
              "                  1,           1,           1,           1,           1,           1,           1,           1,           1,           1,           1,           1,           1,           1,           1,           1,           1,           1,           1,           1,           1,           1,           1,\n",
              "                  1,           1,           1,           1,           1,           1,           1,           1,           1,           1,           1,           1,           1,           1,           1,           1,           1,           1,           1,           1,           1,           1,           1,\n",
              "                  1,           1,           1,           1,           1,     0.99606,     0.99606,     0.99606,     0.99606,     0.99606,     0.99606,     0.99606,     0.99606,     0.99606,     0.99606,     0.99606,     0.99606,     0.99606,     0.99606,     0.99606,     0.99606,     0.99606,     0.99606,\n",
              "            0.99606,     0.99606,     0.99606,     0.99606,     0.99606,     0.99606,     0.99606,     0.99606,     0.99606,     0.99606,     0.99606,     0.99606,     0.99606,     0.99606,     0.99606,     0.99606,     0.99606,     0.99606,     0.99606,     0.99606,     0.99606,     0.99606,     0.99606,\n",
              "            0.99606,     0.99606,     0.99606,     0.99606,     0.99606,     0.99606,     0.99606,     0.99606,     0.99606,     0.99606,     0.99606,     0.99606,     0.99606,     0.99606,     0.99606,     0.99606,     0.99606,     0.99606,     0.99606,     0.99606,     0.99606,     0.99606,     0.99606,\n",
              "            0.99606,     0.99606,     0.99606,     0.99606,     0.99606,     0.99606,     0.99606,     0.99606,     0.99606,     0.99606,     0.99606,     0.99606,     0.91039,     0.91039,     0.91039,     0.47484,     0.47273,     0.47062,     0.46851,      0.4664,     0.46429,     0.46218,     0.46007,\n",
              "            0.45796,     0.45585,     0.45374,     0.45163,     0.44952,     0.44741,      0.4453,     0.44319,     0.44108,     0.43897,     0.43686,     0.43475,     0.43264,     0.43053,     0.42842,     0.42631,     0.42419,     0.42208,     0.41997,     0.41786,     0.41575,     0.41364,     0.41153,\n",
              "            0.40942,     0.40731,      0.4052,     0.40309,     0.40098,     0.39887,     0.39676,     0.39465,     0.39254,     0.39043,     0.38832,     0.38621,      0.3841,     0.38199,     0.37988,     0.37777,     0.37565,     0.37354,     0.37143,     0.36932,     0.36721,      0.3651,     0.36299,\n",
              "            0.36088,     0.35877,     0.35666,     0.35455,     0.35244,     0.35033,     0.34822,     0.34611,       0.344,     0.34189,     0.33978,     0.33767,     0.33556,     0.33345,     0.33134,     0.32923,     0.32712,       0.325,     0.32289,     0.32078,     0.31867,     0.31656,     0.31445,\n",
              "            0.31234,     0.31023,     0.30812,     0.30601,      0.3039,     0.30179,     0.29968,     0.29757,     0.29546,     0.29335,     0.29124,     0.28913,     0.28702,     0.28491,      0.2828,     0.28069,     0.27858,     0.27647,     0.27435,     0.27224,     0.27013,     0.26802,     0.26591,\n",
              "             0.2638,     0.26169,     0.25958,     0.25747,     0.25536,     0.25325,     0.25114,     0.24903,     0.24692,     0.24481,      0.2427,     0.24059,     0.23848,     0.23637,     0.23426,     0.23215,     0.23004,     0.22793,     0.22582,      0.2237,     0.22159,     0.21948,     0.21737,\n",
              "            0.21526,     0.21315,     0.21104,     0.20893,     0.20682,     0.20471,      0.2026,     0.20049,     0.19838,     0.19627,     0.19416,     0.19205,     0.18994,     0.18783,     0.18572,     0.18361,      0.1815,     0.17939,     0.17728,     0.17516,     0.17305,     0.17094,     0.16883,\n",
              "            0.16672,     0.16461,      0.1625,     0.16039,     0.15828,     0.15617,     0.15406,     0.15195,     0.14984,     0.14773,     0.14562,     0.14351,      0.1414,     0.13929,     0.13718,     0.13507,     0.13296,     0.13085,     0.12874,     0.12663,     0.12451,      0.1224,     0.12029,\n",
              "            0.11818,     0.11607,     0.11396,     0.11185,     0.10974,     0.10763,     0.10552,     0.10341,      0.1013,     0.09919,    0.097079,    0.094969,    0.092859,    0.090748,    0.088638,    0.086527,    0.084417,    0.082306,    0.080196,    0.078086,    0.075975,    0.073865,    0.071754,\n",
              "           0.069644,    0.067533,    0.065423,    0.063313,    0.061202,    0.059092,    0.056981,    0.054871,    0.052761,     0.05065,     0.04854,    0.046429,    0.044319,    0.042208,    0.040098,    0.037988,    0.035877,    0.033767,    0.031656,    0.029546,    0.027435,    0.025325,    0.023215,\n",
              "           0.021104,    0.018994,    0.016883,    0.014773,    0.012663,    0.010552,   0.0084417,   0.0063313,   0.0042208,   0.0021104,           0]]), 'Recall', 'Precision'], [array([          0,    0.001001,    0.002002,    0.003003,    0.004004,    0.005005,    0.006006,    0.007007,    0.008008,    0.009009,     0.01001,    0.011011,    0.012012,    0.013013,    0.014014,    0.015015,    0.016016,    0.017017,    0.018018,    0.019019,     0.02002,    0.021021,    0.022022,    0.023023,\n",
              "          0.024024,    0.025025,    0.026026,    0.027027,    0.028028,    0.029029,     0.03003,    0.031031,    0.032032,    0.033033,    0.034034,    0.035035,    0.036036,    0.037037,    0.038038,    0.039039,     0.04004,    0.041041,    0.042042,    0.043043,    0.044044,    0.045045,    0.046046,    0.047047,\n",
              "          0.048048,    0.049049,     0.05005,    0.051051,    0.052052,    0.053053,    0.054054,    0.055055,    0.056056,    0.057057,    0.058058,    0.059059,     0.06006,    0.061061,    0.062062,    0.063063,    0.064064,    0.065065,    0.066066,    0.067067,    0.068068,    0.069069,     0.07007,    0.071071,\n",
              "          0.072072,    0.073073,    0.074074,    0.075075,    0.076076,    0.077077,    0.078078,    0.079079,     0.08008,    0.081081,    0.082082,    0.083083,    0.084084,    0.085085,    0.086086,    0.087087,    0.088088,    0.089089,     0.09009,    0.091091,    0.092092,    0.093093,    0.094094,    0.095095,\n",
              "          0.096096,    0.097097,    0.098098,    0.099099,      0.1001,      0.1011,      0.1021,      0.1031,      0.1041,     0.10511,     0.10611,     0.10711,     0.10811,     0.10911,     0.11011,     0.11111,     0.11211,     0.11311,     0.11411,     0.11512,     0.11612,     0.11712,     0.11812,     0.11912,\n",
              "           0.12012,     0.12112,     0.12212,     0.12312,     0.12412,     0.12513,     0.12613,     0.12713,     0.12813,     0.12913,     0.13013,     0.13113,     0.13213,     0.13313,     0.13413,     0.13514,     0.13614,     0.13714,     0.13814,     0.13914,     0.14014,     0.14114,     0.14214,     0.14314,\n",
              "           0.14414,     0.14515,     0.14615,     0.14715,     0.14815,     0.14915,     0.15015,     0.15115,     0.15215,     0.15315,     0.15415,     0.15516,     0.15616,     0.15716,     0.15816,     0.15916,     0.16016,     0.16116,     0.16216,     0.16316,     0.16416,     0.16517,     0.16617,     0.16717,\n",
              "           0.16817,     0.16917,     0.17017,     0.17117,     0.17217,     0.17317,     0.17417,     0.17518,     0.17618,     0.17718,     0.17818,     0.17918,     0.18018,     0.18118,     0.18218,     0.18318,     0.18418,     0.18519,     0.18619,     0.18719,     0.18819,     0.18919,     0.19019,     0.19119,\n",
              "           0.19219,     0.19319,     0.19419,      0.1952,      0.1962,      0.1972,      0.1982,      0.1992,      0.2002,      0.2012,      0.2022,      0.2032,      0.2042,     0.20521,     0.20621,     0.20721,     0.20821,     0.20921,     0.21021,     0.21121,     0.21221,     0.21321,     0.21421,     0.21522,\n",
              "           0.21622,     0.21722,     0.21822,     0.21922,     0.22022,     0.22122,     0.22222,     0.22322,     0.22422,     0.22523,     0.22623,     0.22723,     0.22823,     0.22923,     0.23023,     0.23123,     0.23223,     0.23323,     0.23423,     0.23524,     0.23624,     0.23724,     0.23824,     0.23924,\n",
              "           0.24024,     0.24124,     0.24224,     0.24324,     0.24424,     0.24525,     0.24625,     0.24725,     0.24825,     0.24925,     0.25025,     0.25125,     0.25225,     0.25325,     0.25425,     0.25526,     0.25626,     0.25726,     0.25826,     0.25926,     0.26026,     0.26126,     0.26226,     0.26326,\n",
              "           0.26426,     0.26527,     0.26627,     0.26727,     0.26827,     0.26927,     0.27027,     0.27127,     0.27227,     0.27327,     0.27427,     0.27528,     0.27628,     0.27728,     0.27828,     0.27928,     0.28028,     0.28128,     0.28228,     0.28328,     0.28428,     0.28529,     0.28629,     0.28729,\n",
              "           0.28829,     0.28929,     0.29029,     0.29129,     0.29229,     0.29329,     0.29429,      0.2953,      0.2963,      0.2973,      0.2983,      0.2993,      0.3003,      0.3013,      0.3023,      0.3033,      0.3043,     0.30531,     0.30631,     0.30731,     0.30831,     0.30931,     0.31031,     0.31131,\n",
              "           0.31231,     0.31331,     0.31431,     0.31532,     0.31632,     0.31732,     0.31832,     0.31932,     0.32032,     0.32132,     0.32232,     0.32332,     0.32432,     0.32533,     0.32633,     0.32733,     0.32833,     0.32933,     0.33033,     0.33133,     0.33233,     0.33333,     0.33433,     0.33534,\n",
              "           0.33634,     0.33734,     0.33834,     0.33934,     0.34034,     0.34134,     0.34234,     0.34334,     0.34434,     0.34535,     0.34635,     0.34735,     0.34835,     0.34935,     0.35035,     0.35135,     0.35235,     0.35335,     0.35435,     0.35536,     0.35636,     0.35736,     0.35836,     0.35936,\n",
              "           0.36036,     0.36136,     0.36236,     0.36336,     0.36436,     0.36537,     0.36637,     0.36737,     0.36837,     0.36937,     0.37037,     0.37137,     0.37237,     0.37337,     0.37437,     0.37538,     0.37638,     0.37738,     0.37838,     0.37938,     0.38038,     0.38138,     0.38238,     0.38338,\n",
              "           0.38438,     0.38539,     0.38639,     0.38739,     0.38839,     0.38939,     0.39039,     0.39139,     0.39239,     0.39339,     0.39439,      0.3954,      0.3964,      0.3974,      0.3984,      0.3994,      0.4004,      0.4014,      0.4024,      0.4034,      0.4044,     0.40541,     0.40641,     0.40741,\n",
              "           0.40841,     0.40941,     0.41041,     0.41141,     0.41241,     0.41341,     0.41441,     0.41542,     0.41642,     0.41742,     0.41842,     0.41942,     0.42042,     0.42142,     0.42242,     0.42342,     0.42442,     0.42543,     0.42643,     0.42743,     0.42843,     0.42943,     0.43043,     0.43143,\n",
              "           0.43243,     0.43343,     0.43443,     0.43544,     0.43644,     0.43744,     0.43844,     0.43944,     0.44044,     0.44144,     0.44244,     0.44344,     0.44444,     0.44545,     0.44645,     0.44745,     0.44845,     0.44945,     0.45045,     0.45145,     0.45245,     0.45345,     0.45445,     0.45546,\n",
              "           0.45646,     0.45746,     0.45846,     0.45946,     0.46046,     0.46146,     0.46246,     0.46346,     0.46446,     0.46547,     0.46647,     0.46747,     0.46847,     0.46947,     0.47047,     0.47147,     0.47247,     0.47347,     0.47447,     0.47548,     0.47648,     0.47748,     0.47848,     0.47948,\n",
              "           0.48048,     0.48148,     0.48248,     0.48348,     0.48448,     0.48549,     0.48649,     0.48749,     0.48849,     0.48949,     0.49049,     0.49149,     0.49249,     0.49349,     0.49449,      0.4955,      0.4965,      0.4975,      0.4985,      0.4995,      0.5005,      0.5015,      0.5025,      0.5035,\n",
              "            0.5045,     0.50551,     0.50651,     0.50751,     0.50851,     0.50951,     0.51051,     0.51151,     0.51251,     0.51351,     0.51451,     0.51552,     0.51652,     0.51752,     0.51852,     0.51952,     0.52052,     0.52152,     0.52252,     0.52352,     0.52452,     0.52553,     0.52653,     0.52753,\n",
              "           0.52853,     0.52953,     0.53053,     0.53153,     0.53253,     0.53353,     0.53453,     0.53554,     0.53654,     0.53754,     0.53854,     0.53954,     0.54054,     0.54154,     0.54254,     0.54354,     0.54454,     0.54555,     0.54655,     0.54755,     0.54855,     0.54955,     0.55055,     0.55155,\n",
              "           0.55255,     0.55355,     0.55455,     0.55556,     0.55656,     0.55756,     0.55856,     0.55956,     0.56056,     0.56156,     0.56256,     0.56356,     0.56456,     0.56557,     0.56657,     0.56757,     0.56857,     0.56957,     0.57057,     0.57157,     0.57257,     0.57357,     0.57457,     0.57558,\n",
              "           0.57658,     0.57758,     0.57858,     0.57958,     0.58058,     0.58158,     0.58258,     0.58358,     0.58458,     0.58559,     0.58659,     0.58759,     0.58859,     0.58959,     0.59059,     0.59159,     0.59259,     0.59359,     0.59459,      0.5956,      0.5966,      0.5976,      0.5986,      0.5996,\n",
              "            0.6006,      0.6016,      0.6026,      0.6036,      0.6046,     0.60561,     0.60661,     0.60761,     0.60861,     0.60961,     0.61061,     0.61161,     0.61261,     0.61361,     0.61461,     0.61562,     0.61662,     0.61762,     0.61862,     0.61962,     0.62062,     0.62162,     0.62262,     0.62362,\n",
              "           0.62462,     0.62563,     0.62663,     0.62763,     0.62863,     0.62963,     0.63063,     0.63163,     0.63263,     0.63363,     0.63463,     0.63564,     0.63664,     0.63764,     0.63864,     0.63964,     0.64064,     0.64164,     0.64264,     0.64364,     0.64464,     0.64565,     0.64665,     0.64765,\n",
              "           0.64865,     0.64965,     0.65065,     0.65165,     0.65265,     0.65365,     0.65465,     0.65566,     0.65666,     0.65766,     0.65866,     0.65966,     0.66066,     0.66166,     0.66266,     0.66366,     0.66466,     0.66567,     0.66667,     0.66767,     0.66867,     0.66967,     0.67067,     0.67167,\n",
              "           0.67267,     0.67367,     0.67467,     0.67568,     0.67668,     0.67768,     0.67868,     0.67968,     0.68068,     0.68168,     0.68268,     0.68368,     0.68468,     0.68569,     0.68669,     0.68769,     0.68869,     0.68969,     0.69069,     0.69169,     0.69269,     0.69369,     0.69469,      0.6957,\n",
              "            0.6967,      0.6977,      0.6987,      0.6997,      0.7007,      0.7017,      0.7027,      0.7037,      0.7047,     0.70571,     0.70671,     0.70771,     0.70871,     0.70971,     0.71071,     0.71171,     0.71271,     0.71371,     0.71471,     0.71572,     0.71672,     0.71772,     0.71872,     0.71972,\n",
              "           0.72072,     0.72172,     0.72272,     0.72372,     0.72472,     0.72573,     0.72673,     0.72773,     0.72873,     0.72973,     0.73073,     0.73173,     0.73273,     0.73373,     0.73473,     0.73574,     0.73674,     0.73774,     0.73874,     0.73974,     0.74074,     0.74174,     0.74274,     0.74374,\n",
              "           0.74474,     0.74575,     0.74675,     0.74775,     0.74875,     0.74975,     0.75075,     0.75175,     0.75275,     0.75375,     0.75475,     0.75576,     0.75676,     0.75776,     0.75876,     0.75976,     0.76076,     0.76176,     0.76276,     0.76376,     0.76476,     0.76577,     0.76677,     0.76777,\n",
              "           0.76877,     0.76977,     0.77077,     0.77177,     0.77277,     0.77377,     0.77477,     0.77578,     0.77678,     0.77778,     0.77878,     0.77978,     0.78078,     0.78178,     0.78278,     0.78378,     0.78478,     0.78579,     0.78679,     0.78779,     0.78879,     0.78979,     0.79079,     0.79179,\n",
              "           0.79279,     0.79379,     0.79479,      0.7958,      0.7968,      0.7978,      0.7988,      0.7998,      0.8008,      0.8018,      0.8028,      0.8038,      0.8048,     0.80581,     0.80681,     0.80781,     0.80881,     0.80981,     0.81081,     0.81181,     0.81281,     0.81381,     0.81481,     0.81582,\n",
              "           0.81682,     0.81782,     0.81882,     0.81982,     0.82082,     0.82182,     0.82282,     0.82382,     0.82482,     0.82583,     0.82683,     0.82783,     0.82883,     0.82983,     0.83083,     0.83183,     0.83283,     0.83383,     0.83483,     0.83584,     0.83684,     0.83784,     0.83884,     0.83984,\n",
              "           0.84084,     0.84184,     0.84284,     0.84384,     0.84484,     0.84585,     0.84685,     0.84785,     0.84885,     0.84985,     0.85085,     0.85185,     0.85285,     0.85385,     0.85485,     0.85586,     0.85686,     0.85786,     0.85886,     0.85986,     0.86086,     0.86186,     0.86286,     0.86386,\n",
              "           0.86486,     0.86587,     0.86687,     0.86787,     0.86887,     0.86987,     0.87087,     0.87187,     0.87287,     0.87387,     0.87487,     0.87588,     0.87688,     0.87788,     0.87888,     0.87988,     0.88088,     0.88188,     0.88288,     0.88388,     0.88488,     0.88589,     0.88689,     0.88789,\n",
              "           0.88889,     0.88989,     0.89089,     0.89189,     0.89289,     0.89389,     0.89489,      0.8959,      0.8969,      0.8979,      0.8989,      0.8999,      0.9009,      0.9019,      0.9029,      0.9039,      0.9049,     0.90591,     0.90691,     0.90791,     0.90891,     0.90991,     0.91091,     0.91191,\n",
              "           0.91291,     0.91391,     0.91491,     0.91592,     0.91692,     0.91792,     0.91892,     0.91992,     0.92092,     0.92192,     0.92292,     0.92392,     0.92492,     0.92593,     0.92693,     0.92793,     0.92893,     0.92993,     0.93093,     0.93193,     0.93293,     0.93393,     0.93493,     0.93594,\n",
              "           0.93694,     0.93794,     0.93894,     0.93994,     0.94094,     0.94194,     0.94294,     0.94394,     0.94494,     0.94595,     0.94695,     0.94795,     0.94895,     0.94995,     0.95095,     0.95195,     0.95295,     0.95395,     0.95495,     0.95596,     0.95696,     0.95796,     0.95896,     0.95996,\n",
              "           0.96096,     0.96196,     0.96296,     0.96396,     0.96496,     0.96597,     0.96697,     0.96797,     0.96897,     0.96997,     0.97097,     0.97197,     0.97297,     0.97397,     0.97497,     0.97598,     0.97698,     0.97798,     0.97898,     0.97998,     0.98098,     0.98198,     0.98298,     0.98398,\n",
              "           0.98498,     0.98599,     0.98699,     0.98799,     0.98899,     0.98999,     0.99099,     0.99199,     0.99299,     0.99399,     0.99499,       0.996,       0.997,       0.998,       0.999,           1]), array([[    0.58933,     0.58933,     0.70254,      0.7548,       0.789,     0.79483,     0.80764,     0.81125,     0.81631,     0.82367,     0.82725,     0.83177,     0.83606,     0.83604,     0.83509,     0.83693,     0.83859,     0.83996,     0.84201,     0.84279,     0.84354,     0.84423,     0.84486,\n",
              "            0.84533,     0.84579,     0.84643,     0.84762,     0.84838,     0.84925,     0.85051,     0.85108,     0.85166,     0.85213,     0.85256,     0.85298,     0.85517,      0.8563,     0.85666,     0.85701,     0.85736,     0.85766,     0.85779,     0.85791,     0.85804,     0.85817,     0.85829,\n",
              "            0.85842,     0.85855,     0.85868,      0.8588,     0.85893,     0.85906,     0.85922,     0.85939,     0.85956,     0.85974,     0.85991,     0.86008,     0.86025,     0.86042,     0.86113,     0.86202,     0.86203,     0.86205,     0.86206,     0.86208,     0.86209,      0.8621,     0.86212,\n",
              "            0.86213,     0.86215,     0.86216,     0.86218,     0.86219,     0.86221,     0.86222,     0.86223,     0.86225,     0.86226,     0.86228,     0.86229,     0.86231,     0.86232,     0.86233,     0.86235,     0.86236,     0.86238,     0.86239,     0.86241,     0.86242,     0.86244,     0.86245,\n",
              "            0.86246,     0.86248,     0.86249,     0.86251,     0.86252,     0.86254,     0.86255,     0.86256,     0.86258,     0.86259,     0.86261,     0.86262,     0.86264,     0.86265,     0.86267,     0.86268,     0.86269,     0.86271,     0.86272,     0.86274,     0.86275,     0.86277,     0.86278,\n",
              "            0.86279,     0.86281,     0.86282,     0.86284,     0.86285,     0.86287,     0.86288,      0.8629,     0.86291,     0.86292,     0.86294,     0.86295,     0.86297,     0.86298,       0.863,     0.86301,     0.86302,     0.86304,     0.86305,     0.86307,     0.86308,      0.8631,     0.86311,\n",
              "            0.86313,     0.86314,     0.86315,     0.86317,     0.86318,      0.8632,     0.86321,     0.86323,     0.86324,     0.86325,     0.86327,     0.86328,      0.8633,     0.86331,     0.86333,     0.86334,     0.86335,     0.86337,     0.86338,      0.8634,     0.86341,     0.86343,     0.86344,\n",
              "            0.86346,     0.86347,     0.86348,     0.86349,      0.8635,      0.8635,     0.86351,     0.86352,     0.86352,     0.86353,     0.86354,     0.86354,     0.86355,     0.86356,     0.86356,     0.86357,     0.86358,     0.86358,     0.86359,      0.8636,      0.8636,     0.86361,     0.86362,\n",
              "            0.86362,     0.86363,     0.86364,     0.86364,     0.86365,     0.86366,     0.86366,     0.86367,     0.86368,     0.86368,     0.86369,      0.8637,      0.8637,     0.86371,     0.86372,     0.86372,     0.86373,     0.86374,     0.86374,     0.86375,     0.86376,     0.86376,     0.86377,\n",
              "            0.86378,     0.86378,     0.86379,      0.8638,      0.8638,     0.86381,     0.86382,     0.86382,     0.86383,     0.86384,     0.86384,     0.86385,     0.86386,     0.86386,     0.86387,     0.86388,     0.86388,     0.86389,      0.8639,      0.8639,     0.86391,     0.86392,     0.86392,\n",
              "            0.86393,     0.86394,     0.86394,     0.86395,     0.86396,     0.86396,     0.86397,     0.86398,     0.86398,     0.86399,       0.864,       0.864,     0.86401,     0.86402,     0.86402,     0.86403,     0.86404,     0.86404,     0.86405,     0.86406,     0.86406,     0.86407,     0.86408,\n",
              "            0.86408,     0.86409,      0.8641,      0.8641,     0.86411,     0.86412,     0.86412,     0.86413,     0.86414,     0.86414,     0.86415,     0.86416,     0.86416,     0.86417,     0.86418,     0.86418,     0.86419,      0.8642,      0.8642,     0.86421,     0.86422,     0.86422,     0.86423,\n",
              "            0.86424,     0.86424,     0.86425,     0.86426,     0.86426,     0.86427,     0.86428,     0.86428,     0.86429,      0.8643,      0.8643,     0.86431,     0.86432,     0.86432,     0.86433,     0.86434,     0.86434,     0.86435,     0.86436,     0.86436,     0.86437,     0.86437,     0.86438,\n",
              "            0.86439,     0.86439,      0.8644,     0.86441,     0.86441,     0.86442,     0.86443,     0.86443,     0.86444,     0.86445,     0.86445,     0.86446,     0.86447,     0.86447,     0.86448,     0.86449,     0.86449,      0.8645,     0.86451,     0.86451,     0.86452,     0.86453,     0.86453,\n",
              "            0.86454,     0.86455,     0.86455,     0.86456,     0.86457,     0.86457,     0.86458,     0.86459,     0.86459,      0.8646,     0.86461,     0.86461,     0.86462,     0.86463,     0.86463,     0.86464,     0.86465,     0.86465,     0.86466,     0.86467,     0.86467,     0.86468,     0.86469,\n",
              "            0.86469,      0.8647,     0.86471,     0.86471,     0.86472,     0.86473,     0.86473,     0.86474,     0.86475,     0.86475,     0.86476,     0.86477,     0.86477,     0.86478,     0.86479,     0.86479,      0.8648,     0.86481,     0.86481,     0.86482,     0.86483,     0.86483,     0.86484,\n",
              "            0.86485,     0.86485,     0.86486,     0.86487,     0.86487,     0.86488,     0.86489,     0.86489,      0.8649,     0.86491,     0.86491,     0.86492,     0.86493,     0.86493,     0.86494,     0.86495,     0.86495,     0.86496,     0.86496,     0.86497,     0.86497,     0.86498,     0.86498,\n",
              "            0.86499,     0.86499,       0.865,     0.86501,     0.86501,     0.86502,     0.86502,     0.86503,     0.86503,     0.86504,     0.86504,     0.86505,     0.86505,     0.86506,     0.86506,     0.86507,     0.86507,     0.86508,     0.86508,     0.86509,     0.86509,      0.8651,      0.8651,\n",
              "            0.86511,     0.86511,     0.86512,     0.86512,     0.86513,     0.86513,     0.86514,     0.86514,     0.86515,     0.86515,     0.86516,     0.86516,     0.86517,     0.86517,     0.86518,     0.86518,     0.86519,     0.86519,      0.8652,      0.8652,     0.86521,     0.86521,     0.86522,\n",
              "            0.86522,     0.86523,     0.86523,     0.86524,     0.86524,     0.86525,     0.86525,     0.86526,     0.86526,     0.86527,     0.86527,     0.86528,     0.86528,     0.86529,      0.8653,      0.8653,     0.86531,     0.86531,     0.86532,     0.86532,     0.86533,     0.86533,     0.86534,\n",
              "            0.86534,     0.86535,     0.86535,     0.86536,     0.86536,     0.86537,     0.86537,     0.86538,     0.86538,     0.86539,     0.86539,      0.8654,      0.8654,     0.86541,     0.86541,     0.86542,     0.86542,     0.86543,     0.86543,     0.86544,     0.86544,     0.86545,     0.86545,\n",
              "            0.86546,     0.86546,     0.86547,     0.86547,     0.86548,     0.86548,     0.86549,     0.86549,      0.8655,      0.8655,     0.86551,     0.86551,     0.86552,     0.86552,     0.86553,     0.86553,     0.86554,     0.86554,     0.86555,     0.86555,     0.86556,     0.86556,     0.86557,\n",
              "            0.86557,     0.86558,     0.86559,     0.86559,      0.8656,      0.8656,     0.86561,     0.86561,     0.86562,     0.86562,     0.86563,     0.86563,     0.86564,     0.86564,     0.86565,     0.86565,     0.86566,     0.86566,     0.86567,     0.86567,     0.86568,     0.86568,     0.86569,\n",
              "            0.86569,      0.8657,      0.8657,     0.86571,     0.86571,     0.86572,     0.86572,     0.86573,     0.86573,     0.86574,     0.86574,     0.86575,     0.86575,     0.86576,     0.86576,     0.86577,     0.86577,     0.86578,     0.86578,     0.86579,     0.86579,      0.8658,      0.8658,\n",
              "            0.86581,     0.86581,     0.86582,     0.86582,     0.86583,     0.86583,     0.86584,     0.86584,     0.86585,     0.86585,     0.86586,     0.86586,     0.86587,     0.86587,     0.86588,     0.86588,     0.86589,     0.86589,      0.8659,     0.86591,     0.86591,     0.86592,     0.86592,\n",
              "            0.86593,     0.86593,     0.86594,     0.86594,     0.86595,     0.86595,     0.86596,     0.86596,     0.86597,     0.86597,     0.86598,     0.86598,     0.86599,     0.86599,       0.866,       0.866,     0.86601,     0.86601,     0.86602,     0.86602,     0.86603,     0.86603,     0.86604,\n",
              "            0.86604,     0.86605,     0.86605,     0.86606,     0.86606,     0.86607,     0.86607,     0.86608,     0.86608,     0.86609,     0.86609,      0.8661,      0.8661,     0.86611,     0.86611,     0.86612,     0.86612,     0.86613,     0.86613,     0.86614,     0.86614,     0.86615,     0.86615,\n",
              "            0.86616,     0.86616,     0.86617,     0.86617,     0.86618,     0.86618,     0.86619,     0.86619,      0.8662,      0.8662,     0.86621,     0.86621,     0.86622,     0.86622,     0.86623,     0.86624,     0.86624,     0.86625,     0.86625,     0.86626,     0.86626,     0.86627,     0.86627,\n",
              "            0.86628,     0.86628,     0.86629,     0.86629,      0.8663,      0.8663,     0.86631,     0.86631,     0.86632,     0.86632,     0.86633,     0.86633,     0.86634,     0.86634,     0.86635,     0.86635,     0.86636,     0.86636,     0.86637,     0.86637,     0.86638,     0.86638,     0.86639,\n",
              "            0.86639,      0.8664,      0.8664,     0.86641,     0.86641,     0.86642,     0.86642,     0.86643,     0.86643,     0.86644,     0.86646,     0.86647,     0.86649,     0.86651,     0.86653,     0.86655,     0.86656,     0.86658,      0.8666,     0.86662,     0.86664,     0.86666,     0.86667,\n",
              "            0.86669,     0.86671,     0.86673,     0.86675,     0.86677,     0.86678,      0.8668,     0.86682,     0.86684,     0.86686,     0.86688,     0.86689,     0.86691,     0.86693,     0.86695,     0.86697,     0.86698,       0.867,     0.86702,     0.86704,     0.86706,     0.86708,     0.86709,\n",
              "            0.86711,     0.86713,     0.86715,     0.86717,     0.86719,      0.8672,     0.86722,     0.86724,     0.86726,     0.86728,      0.8673,     0.86731,     0.86733,     0.86735,     0.86737,     0.86739,      0.8674,     0.86742,     0.86744,     0.86746,     0.86748,      0.8675,     0.86751,\n",
              "            0.86753,     0.86755,     0.86757,     0.86759,     0.86761,     0.86762,     0.86764,     0.86766,     0.86768,      0.8677,     0.86771,     0.86773,     0.86775,     0.86777,     0.86779,     0.86781,     0.86782,     0.86784,     0.86786,     0.86788,      0.8679,     0.86791,     0.86794,\n",
              "            0.86796,     0.86799,     0.86802,     0.86804,     0.86807,      0.8681,     0.86812,     0.86815,     0.86818,      0.8682,     0.86823,     0.86826,     0.86828,     0.86831,     0.86834,     0.86836,     0.86839,     0.86842,     0.86844,     0.86847,      0.8685,     0.86852,     0.86855,\n",
              "            0.86858,      0.8686,     0.86863,     0.86866,     0.86868,     0.86871,     0.86874,     0.86876,     0.86879,     0.86881,     0.86884,     0.86887,     0.86889,     0.86892,     0.86895,     0.86897,       0.869,     0.86903,     0.86905,     0.86908,     0.86911,     0.86913,     0.86916,\n",
              "            0.86919,     0.86921,     0.86924,     0.86927,     0.86929,     0.86932,     0.86935,     0.86937,      0.8694,     0.86936,     0.86921,     0.86905,      0.8689,     0.86875,     0.86859,     0.86844,     0.86829,     0.86813,     0.86798,     0.86783,     0.86767,     0.86752,     0.86736,\n",
              "             0.8672,     0.86704,     0.86688,     0.86672,     0.86656,      0.8664,     0.86624,     0.86608,     0.86592,     0.86576,      0.8656,     0.86357,     0.86276,     0.86195,     0.86134,     0.86089,     0.86044,     0.85999,     0.85954,     0.85909,     0.85864,     0.85819,     0.85774,\n",
              "            0.85506,     0.85302,     0.85096,     0.84815,     0.84673,     0.84569,     0.84529,     0.84495,      0.8446,     0.84426,     0.84391,     0.84356,     0.84314,     0.84272,      0.8423,     0.84189,     0.84115,     0.83932,     0.83848,     0.83764,      0.8368,     0.83596,     0.83492,\n",
              "            0.83351,     0.83302,     0.83267,     0.83232,     0.83196,     0.83161,     0.83122,     0.82703,      0.8256,     0.82375,     0.82159,     0.82033,     0.81961,     0.81889,      0.8177,     0.81624,     0.81522,     0.81435,      0.8134,      0.8123,     0.80999,      0.8075,     0.80594,\n",
              "            0.80315,     0.80264,     0.80234,     0.80204,     0.80174,     0.80144,     0.80114,     0.80084,      0.7984,      0.7975,      0.7966,     0.79553,      0.7944,      0.7924,     0.79145,     0.79088,     0.79031,     0.78974,     0.78917,     0.78859,     0.78802,     0.78745,     0.78717,\n",
              "             0.7869,     0.78663,     0.78636,     0.78608,     0.78581,     0.78554,     0.78527,     0.78456,     0.78363,     0.78181,      0.7795,     0.77476,     0.77116,     0.76998,     0.76866,     0.76707,     0.76361,     0.75887,     0.75646,     0.75048,     0.74559,     0.74084,     0.73984,\n",
              "            0.73885,     0.73573,     0.73286,     0.73004,      0.7277,     0.72069,     0.71499,     0.71177,     0.69945,     0.69154,     0.67556,     0.63972,     0.61662,     0.58667,     0.55539,     0.51936,     0.48849,     0.43792,     0.37584,      0.3344,     0.28632,     0.24951,     0.21595,\n",
              "            0.16067,     0.12358,    0.097314,     0.07343,    0.060467,    0.045878,    0.034656,    0.030624,    0.028304,    0.026277,    0.024246,     0.01843,    0.014229,   0.0060851,           0,           0,           0,           0,           0,           0,           0,           0,           0,\n",
              "                  0,           0,           0,           0,           0,           0,           0,           0,           0,           0,           0]]), 'Confidence', 'F1'], [array([          0,    0.001001,    0.002002,    0.003003,    0.004004,    0.005005,    0.006006,    0.007007,    0.008008,    0.009009,     0.01001,    0.011011,    0.012012,    0.013013,    0.014014,    0.015015,    0.016016,    0.017017,    0.018018,    0.019019,     0.02002,    0.021021,    0.022022,    0.023023,\n",
              "          0.024024,    0.025025,    0.026026,    0.027027,    0.028028,    0.029029,     0.03003,    0.031031,    0.032032,    0.033033,    0.034034,    0.035035,    0.036036,    0.037037,    0.038038,    0.039039,     0.04004,    0.041041,    0.042042,    0.043043,    0.044044,    0.045045,    0.046046,    0.047047,\n",
              "          0.048048,    0.049049,     0.05005,    0.051051,    0.052052,    0.053053,    0.054054,    0.055055,    0.056056,    0.057057,    0.058058,    0.059059,     0.06006,    0.061061,    0.062062,    0.063063,    0.064064,    0.065065,    0.066066,    0.067067,    0.068068,    0.069069,     0.07007,    0.071071,\n",
              "          0.072072,    0.073073,    0.074074,    0.075075,    0.076076,    0.077077,    0.078078,    0.079079,     0.08008,    0.081081,    0.082082,    0.083083,    0.084084,    0.085085,    0.086086,    0.087087,    0.088088,    0.089089,     0.09009,    0.091091,    0.092092,    0.093093,    0.094094,    0.095095,\n",
              "          0.096096,    0.097097,    0.098098,    0.099099,      0.1001,      0.1011,      0.1021,      0.1031,      0.1041,     0.10511,     0.10611,     0.10711,     0.10811,     0.10911,     0.11011,     0.11111,     0.11211,     0.11311,     0.11411,     0.11512,     0.11612,     0.11712,     0.11812,     0.11912,\n",
              "           0.12012,     0.12112,     0.12212,     0.12312,     0.12412,     0.12513,     0.12613,     0.12713,     0.12813,     0.12913,     0.13013,     0.13113,     0.13213,     0.13313,     0.13413,     0.13514,     0.13614,     0.13714,     0.13814,     0.13914,     0.14014,     0.14114,     0.14214,     0.14314,\n",
              "           0.14414,     0.14515,     0.14615,     0.14715,     0.14815,     0.14915,     0.15015,     0.15115,     0.15215,     0.15315,     0.15415,     0.15516,     0.15616,     0.15716,     0.15816,     0.15916,     0.16016,     0.16116,     0.16216,     0.16316,     0.16416,     0.16517,     0.16617,     0.16717,\n",
              "           0.16817,     0.16917,     0.17017,     0.17117,     0.17217,     0.17317,     0.17417,     0.17518,     0.17618,     0.17718,     0.17818,     0.17918,     0.18018,     0.18118,     0.18218,     0.18318,     0.18418,     0.18519,     0.18619,     0.18719,     0.18819,     0.18919,     0.19019,     0.19119,\n",
              "           0.19219,     0.19319,     0.19419,      0.1952,      0.1962,      0.1972,      0.1982,      0.1992,      0.2002,      0.2012,      0.2022,      0.2032,      0.2042,     0.20521,     0.20621,     0.20721,     0.20821,     0.20921,     0.21021,     0.21121,     0.21221,     0.21321,     0.21421,     0.21522,\n",
              "           0.21622,     0.21722,     0.21822,     0.21922,     0.22022,     0.22122,     0.22222,     0.22322,     0.22422,     0.22523,     0.22623,     0.22723,     0.22823,     0.22923,     0.23023,     0.23123,     0.23223,     0.23323,     0.23423,     0.23524,     0.23624,     0.23724,     0.23824,     0.23924,\n",
              "           0.24024,     0.24124,     0.24224,     0.24324,     0.24424,     0.24525,     0.24625,     0.24725,     0.24825,     0.24925,     0.25025,     0.25125,     0.25225,     0.25325,     0.25425,     0.25526,     0.25626,     0.25726,     0.25826,     0.25926,     0.26026,     0.26126,     0.26226,     0.26326,\n",
              "           0.26426,     0.26527,     0.26627,     0.26727,     0.26827,     0.26927,     0.27027,     0.27127,     0.27227,     0.27327,     0.27427,     0.27528,     0.27628,     0.27728,     0.27828,     0.27928,     0.28028,     0.28128,     0.28228,     0.28328,     0.28428,     0.28529,     0.28629,     0.28729,\n",
              "           0.28829,     0.28929,     0.29029,     0.29129,     0.29229,     0.29329,     0.29429,      0.2953,      0.2963,      0.2973,      0.2983,      0.2993,      0.3003,      0.3013,      0.3023,      0.3033,      0.3043,     0.30531,     0.30631,     0.30731,     0.30831,     0.30931,     0.31031,     0.31131,\n",
              "           0.31231,     0.31331,     0.31431,     0.31532,     0.31632,     0.31732,     0.31832,     0.31932,     0.32032,     0.32132,     0.32232,     0.32332,     0.32432,     0.32533,     0.32633,     0.32733,     0.32833,     0.32933,     0.33033,     0.33133,     0.33233,     0.33333,     0.33433,     0.33534,\n",
              "           0.33634,     0.33734,     0.33834,     0.33934,     0.34034,     0.34134,     0.34234,     0.34334,     0.34434,     0.34535,     0.34635,     0.34735,     0.34835,     0.34935,     0.35035,     0.35135,     0.35235,     0.35335,     0.35435,     0.35536,     0.35636,     0.35736,     0.35836,     0.35936,\n",
              "           0.36036,     0.36136,     0.36236,     0.36336,     0.36436,     0.36537,     0.36637,     0.36737,     0.36837,     0.36937,     0.37037,     0.37137,     0.37237,     0.37337,     0.37437,     0.37538,     0.37638,     0.37738,     0.37838,     0.37938,     0.38038,     0.38138,     0.38238,     0.38338,\n",
              "           0.38438,     0.38539,     0.38639,     0.38739,     0.38839,     0.38939,     0.39039,     0.39139,     0.39239,     0.39339,     0.39439,      0.3954,      0.3964,      0.3974,      0.3984,      0.3994,      0.4004,      0.4014,      0.4024,      0.4034,      0.4044,     0.40541,     0.40641,     0.40741,\n",
              "           0.40841,     0.40941,     0.41041,     0.41141,     0.41241,     0.41341,     0.41441,     0.41542,     0.41642,     0.41742,     0.41842,     0.41942,     0.42042,     0.42142,     0.42242,     0.42342,     0.42442,     0.42543,     0.42643,     0.42743,     0.42843,     0.42943,     0.43043,     0.43143,\n",
              "           0.43243,     0.43343,     0.43443,     0.43544,     0.43644,     0.43744,     0.43844,     0.43944,     0.44044,     0.44144,     0.44244,     0.44344,     0.44444,     0.44545,     0.44645,     0.44745,     0.44845,     0.44945,     0.45045,     0.45145,     0.45245,     0.45345,     0.45445,     0.45546,\n",
              "           0.45646,     0.45746,     0.45846,     0.45946,     0.46046,     0.46146,     0.46246,     0.46346,     0.46446,     0.46547,     0.46647,     0.46747,     0.46847,     0.46947,     0.47047,     0.47147,     0.47247,     0.47347,     0.47447,     0.47548,     0.47648,     0.47748,     0.47848,     0.47948,\n",
              "           0.48048,     0.48148,     0.48248,     0.48348,     0.48448,     0.48549,     0.48649,     0.48749,     0.48849,     0.48949,     0.49049,     0.49149,     0.49249,     0.49349,     0.49449,      0.4955,      0.4965,      0.4975,      0.4985,      0.4995,      0.5005,      0.5015,      0.5025,      0.5035,\n",
              "            0.5045,     0.50551,     0.50651,     0.50751,     0.50851,     0.50951,     0.51051,     0.51151,     0.51251,     0.51351,     0.51451,     0.51552,     0.51652,     0.51752,     0.51852,     0.51952,     0.52052,     0.52152,     0.52252,     0.52352,     0.52452,     0.52553,     0.52653,     0.52753,\n",
              "           0.52853,     0.52953,     0.53053,     0.53153,     0.53253,     0.53353,     0.53453,     0.53554,     0.53654,     0.53754,     0.53854,     0.53954,     0.54054,     0.54154,     0.54254,     0.54354,     0.54454,     0.54555,     0.54655,     0.54755,     0.54855,     0.54955,     0.55055,     0.55155,\n",
              "           0.55255,     0.55355,     0.55455,     0.55556,     0.55656,     0.55756,     0.55856,     0.55956,     0.56056,     0.56156,     0.56256,     0.56356,     0.56456,     0.56557,     0.56657,     0.56757,     0.56857,     0.56957,     0.57057,     0.57157,     0.57257,     0.57357,     0.57457,     0.57558,\n",
              "           0.57658,     0.57758,     0.57858,     0.57958,     0.58058,     0.58158,     0.58258,     0.58358,     0.58458,     0.58559,     0.58659,     0.58759,     0.58859,     0.58959,     0.59059,     0.59159,     0.59259,     0.59359,     0.59459,      0.5956,      0.5966,      0.5976,      0.5986,      0.5996,\n",
              "            0.6006,      0.6016,      0.6026,      0.6036,      0.6046,     0.60561,     0.60661,     0.60761,     0.60861,     0.60961,     0.61061,     0.61161,     0.61261,     0.61361,     0.61461,     0.61562,     0.61662,     0.61762,     0.61862,     0.61962,     0.62062,     0.62162,     0.62262,     0.62362,\n",
              "           0.62462,     0.62563,     0.62663,     0.62763,     0.62863,     0.62963,     0.63063,     0.63163,     0.63263,     0.63363,     0.63463,     0.63564,     0.63664,     0.63764,     0.63864,     0.63964,     0.64064,     0.64164,     0.64264,     0.64364,     0.64464,     0.64565,     0.64665,     0.64765,\n",
              "           0.64865,     0.64965,     0.65065,     0.65165,     0.65265,     0.65365,     0.65465,     0.65566,     0.65666,     0.65766,     0.65866,     0.65966,     0.66066,     0.66166,     0.66266,     0.66366,     0.66466,     0.66567,     0.66667,     0.66767,     0.66867,     0.66967,     0.67067,     0.67167,\n",
              "           0.67267,     0.67367,     0.67467,     0.67568,     0.67668,     0.67768,     0.67868,     0.67968,     0.68068,     0.68168,     0.68268,     0.68368,     0.68468,     0.68569,     0.68669,     0.68769,     0.68869,     0.68969,     0.69069,     0.69169,     0.69269,     0.69369,     0.69469,      0.6957,\n",
              "            0.6967,      0.6977,      0.6987,      0.6997,      0.7007,      0.7017,      0.7027,      0.7037,      0.7047,     0.70571,     0.70671,     0.70771,     0.70871,     0.70971,     0.71071,     0.71171,     0.71271,     0.71371,     0.71471,     0.71572,     0.71672,     0.71772,     0.71872,     0.71972,\n",
              "           0.72072,     0.72172,     0.72272,     0.72372,     0.72472,     0.72573,     0.72673,     0.72773,     0.72873,     0.72973,     0.73073,     0.73173,     0.73273,     0.73373,     0.73473,     0.73574,     0.73674,     0.73774,     0.73874,     0.73974,     0.74074,     0.74174,     0.74274,     0.74374,\n",
              "           0.74474,     0.74575,     0.74675,     0.74775,     0.74875,     0.74975,     0.75075,     0.75175,     0.75275,     0.75375,     0.75475,     0.75576,     0.75676,     0.75776,     0.75876,     0.75976,     0.76076,     0.76176,     0.76276,     0.76376,     0.76476,     0.76577,     0.76677,     0.76777,\n",
              "           0.76877,     0.76977,     0.77077,     0.77177,     0.77277,     0.77377,     0.77477,     0.77578,     0.77678,     0.77778,     0.77878,     0.77978,     0.78078,     0.78178,     0.78278,     0.78378,     0.78478,     0.78579,     0.78679,     0.78779,     0.78879,     0.78979,     0.79079,     0.79179,\n",
              "           0.79279,     0.79379,     0.79479,      0.7958,      0.7968,      0.7978,      0.7988,      0.7998,      0.8008,      0.8018,      0.8028,      0.8038,      0.8048,     0.80581,     0.80681,     0.80781,     0.80881,     0.80981,     0.81081,     0.81181,     0.81281,     0.81381,     0.81481,     0.81582,\n",
              "           0.81682,     0.81782,     0.81882,     0.81982,     0.82082,     0.82182,     0.82282,     0.82382,     0.82482,     0.82583,     0.82683,     0.82783,     0.82883,     0.82983,     0.83083,     0.83183,     0.83283,     0.83383,     0.83483,     0.83584,     0.83684,     0.83784,     0.83884,     0.83984,\n",
              "           0.84084,     0.84184,     0.84284,     0.84384,     0.84484,     0.84585,     0.84685,     0.84785,     0.84885,     0.84985,     0.85085,     0.85185,     0.85285,     0.85385,     0.85485,     0.85586,     0.85686,     0.85786,     0.85886,     0.85986,     0.86086,     0.86186,     0.86286,     0.86386,\n",
              "           0.86486,     0.86587,     0.86687,     0.86787,     0.86887,     0.86987,     0.87087,     0.87187,     0.87287,     0.87387,     0.87487,     0.87588,     0.87688,     0.87788,     0.87888,     0.87988,     0.88088,     0.88188,     0.88288,     0.88388,     0.88488,     0.88589,     0.88689,     0.88789,\n",
              "           0.88889,     0.88989,     0.89089,     0.89189,     0.89289,     0.89389,     0.89489,      0.8959,      0.8969,      0.8979,      0.8989,      0.8999,      0.9009,      0.9019,      0.9029,      0.9039,      0.9049,     0.90591,     0.90691,     0.90791,     0.90891,     0.90991,     0.91091,     0.91191,\n",
              "           0.91291,     0.91391,     0.91491,     0.91592,     0.91692,     0.91792,     0.91892,     0.91992,     0.92092,     0.92192,     0.92292,     0.92392,     0.92492,     0.92593,     0.92693,     0.92793,     0.92893,     0.92993,     0.93093,     0.93193,     0.93293,     0.93393,     0.93493,     0.93594,\n",
              "           0.93694,     0.93794,     0.93894,     0.93994,     0.94094,     0.94194,     0.94294,     0.94394,     0.94494,     0.94595,     0.94695,     0.94795,     0.94895,     0.94995,     0.95095,     0.95195,     0.95295,     0.95395,     0.95495,     0.95596,     0.95696,     0.95796,     0.95896,     0.95996,\n",
              "           0.96096,     0.96196,     0.96296,     0.96396,     0.96496,     0.96597,     0.96697,     0.96797,     0.96897,     0.96997,     0.97097,     0.97197,     0.97297,     0.97397,     0.97497,     0.97598,     0.97698,     0.97798,     0.97898,     0.97998,     0.98098,     0.98198,     0.98298,     0.98398,\n",
              "           0.98498,     0.98599,     0.98699,     0.98799,     0.98899,     0.98999,     0.99099,     0.99199,     0.99299,     0.99399,     0.99499,       0.996,       0.997,       0.998,       0.999,           1]), array([[    0.47566,     0.47566,     0.64289,     0.73618,     0.80417,     0.81638,     0.84387,     0.85179,     0.86302,     0.87964,     0.88787,     0.89834,     0.90839,     0.91025,     0.91032,      0.9147,     0.91868,     0.92199,     0.92694,     0.92883,     0.93066,     0.93232,     0.93386,\n",
              "            0.93501,     0.93615,     0.93773,     0.94065,     0.94251,     0.94465,     0.94779,     0.94922,     0.95064,     0.95183,     0.95289,     0.95395,     0.95943,      0.9623,     0.96319,     0.96408,     0.96498,     0.96573,     0.96605,     0.96637,      0.9667,     0.96702,     0.96734,\n",
              "            0.96766,     0.96799,     0.96831,     0.96863,     0.96896,     0.96928,     0.96969,     0.97013,     0.97057,     0.97101,     0.97145,     0.97189,     0.97233,     0.97277,     0.97459,     0.97685,     0.97689,     0.97693,     0.97697,       0.977,     0.97704,     0.97708,     0.97711,\n",
              "            0.97715,     0.97719,     0.97722,     0.97726,      0.9773,     0.97734,     0.97737,     0.97741,     0.97745,     0.97748,     0.97752,     0.97756,     0.97759,     0.97763,     0.97767,      0.9777,     0.97774,     0.97778,     0.97782,     0.97785,     0.97789,     0.97793,     0.97796,\n",
              "              0.978,     0.97804,     0.97807,     0.97811,     0.97815,     0.97819,     0.97822,     0.97826,      0.9783,     0.97833,     0.97837,     0.97841,     0.97844,     0.97848,     0.97852,     0.97856,     0.97859,     0.97863,     0.97867,      0.9787,     0.97874,     0.97878,     0.97881,\n",
              "            0.97885,     0.97889,     0.97893,     0.97896,       0.979,     0.97904,     0.97907,     0.97911,     0.97915,     0.97918,     0.97922,     0.97926,      0.9793,     0.97933,     0.97937,     0.97941,     0.97944,     0.97948,     0.97952,     0.97955,     0.97959,     0.97963,     0.97967,\n",
              "             0.9797,     0.97974,     0.97978,     0.97981,     0.97985,     0.97989,     0.97992,     0.97996,        0.98,     0.98004,     0.98007,     0.98011,     0.98015,     0.98018,     0.98022,     0.98026,     0.98029,     0.98033,     0.98037,     0.98041,     0.98044,     0.98048,     0.98052,\n",
              "            0.98055,     0.98059,     0.98062,     0.98064,     0.98066,     0.98068,     0.98069,     0.98071,     0.98073,     0.98074,     0.98076,     0.98078,      0.9808,     0.98081,     0.98083,     0.98085,     0.98086,     0.98088,      0.9809,     0.98092,     0.98093,     0.98095,     0.98097,\n",
              "            0.98098,       0.981,     0.98102,     0.98104,     0.98105,     0.98107,     0.98109,     0.98111,     0.98112,     0.98114,     0.98116,     0.98117,     0.98119,     0.98121,     0.98123,     0.98124,     0.98126,     0.98128,     0.98129,     0.98131,     0.98133,     0.98135,     0.98136,\n",
              "            0.98138,      0.9814,     0.98141,     0.98143,     0.98145,     0.98147,     0.98148,      0.9815,     0.98152,     0.98154,     0.98155,     0.98157,     0.98159,      0.9816,     0.98162,     0.98164,     0.98166,     0.98167,     0.98169,     0.98171,     0.98172,     0.98174,     0.98176,\n",
              "            0.98178,     0.98179,     0.98181,     0.98183,     0.98184,     0.98186,     0.98188,      0.9819,     0.98191,     0.98193,     0.98195,     0.98197,     0.98198,       0.982,     0.98202,     0.98203,     0.98205,     0.98207,     0.98209,      0.9821,     0.98212,     0.98214,     0.98215,\n",
              "            0.98217,     0.98219,     0.98221,     0.98222,     0.98224,     0.98226,     0.98227,     0.98229,     0.98231,     0.98233,     0.98234,     0.98236,     0.98238,      0.9824,     0.98241,     0.98243,     0.98245,     0.98246,     0.98248,      0.9825,     0.98252,     0.98253,     0.98255,\n",
              "            0.98257,     0.98258,      0.9826,     0.98262,     0.98264,     0.98265,     0.98267,     0.98269,      0.9827,     0.98272,     0.98274,     0.98276,     0.98277,     0.98279,     0.98281,     0.98283,     0.98284,     0.98286,     0.98288,     0.98289,     0.98291,     0.98293,     0.98295,\n",
              "            0.98296,     0.98298,       0.983,     0.98301,     0.98303,     0.98305,     0.98307,     0.98308,      0.9831,     0.98312,     0.98313,     0.98315,     0.98317,     0.98319,      0.9832,     0.98322,     0.98324,     0.98326,     0.98327,     0.98329,     0.98331,     0.98332,     0.98334,\n",
              "            0.98336,     0.98338,     0.98339,     0.98341,     0.98343,     0.98344,     0.98346,     0.98348,      0.9835,     0.98351,     0.98353,     0.98355,     0.98356,     0.98358,      0.9836,     0.98362,     0.98363,     0.98365,     0.98367,     0.98369,      0.9837,     0.98372,     0.98374,\n",
              "            0.98375,     0.98377,     0.98379,     0.98381,     0.98382,     0.98384,     0.98386,     0.98387,     0.98389,     0.98391,     0.98393,     0.98394,     0.98396,     0.98398,       0.984,     0.98401,     0.98403,     0.98405,     0.98406,     0.98408,      0.9841,     0.98412,     0.98413,\n",
              "            0.98415,     0.98417,     0.98418,      0.9842,     0.98422,     0.98424,     0.98425,     0.98427,     0.98429,      0.9843,     0.98432,     0.98434,     0.98436,     0.98437,     0.98439,     0.98441,     0.98443,     0.98444,     0.98445,     0.98447,     0.98448,     0.98449,     0.98451,\n",
              "            0.98452,     0.98453,     0.98455,     0.98456,     0.98457,     0.98459,      0.9846,     0.98461,     0.98463,     0.98464,     0.98465,     0.98467,     0.98468,     0.98469,      0.9847,     0.98472,     0.98473,     0.98474,     0.98476,     0.98477,     0.98478,      0.9848,     0.98481,\n",
              "            0.98482,     0.98484,     0.98485,     0.98486,     0.98488,     0.98489,      0.9849,     0.98492,     0.98493,     0.98494,     0.98496,     0.98497,     0.98498,     0.98499,     0.98501,     0.98502,     0.98503,     0.98505,     0.98506,     0.98507,     0.98509,      0.9851,     0.98511,\n",
              "            0.98513,     0.98514,     0.98515,     0.98517,     0.98518,     0.98519,     0.98521,     0.98522,     0.98523,     0.98525,     0.98526,     0.98527,     0.98529,      0.9853,     0.98531,     0.98532,     0.98534,     0.98535,     0.98536,     0.98538,     0.98539,      0.9854,     0.98542,\n",
              "            0.98543,     0.98544,     0.98546,     0.98547,     0.98548,      0.9855,     0.98551,     0.98552,     0.98554,     0.98555,     0.98556,     0.98558,     0.98559,      0.9856,     0.98562,     0.98563,     0.98564,     0.98565,     0.98567,     0.98568,     0.98569,     0.98571,     0.98572,\n",
              "            0.98573,     0.98575,     0.98576,     0.98577,     0.98579,      0.9858,     0.98581,     0.98583,     0.98584,     0.98585,     0.98587,     0.98588,     0.98589,     0.98591,     0.98592,     0.98593,     0.98594,     0.98596,     0.98597,     0.98598,       0.986,     0.98601,     0.98602,\n",
              "            0.98604,     0.98605,     0.98606,     0.98608,     0.98609,      0.9861,     0.98612,     0.98613,     0.98614,     0.98616,     0.98617,     0.98618,      0.9862,     0.98621,     0.98622,     0.98624,     0.98625,     0.98626,     0.98627,     0.98629,      0.9863,     0.98631,     0.98633,\n",
              "            0.98634,     0.98635,     0.98637,     0.98638,     0.98639,     0.98641,     0.98642,     0.98643,     0.98645,     0.98646,     0.98647,     0.98649,      0.9865,     0.98651,     0.98653,     0.98654,     0.98655,     0.98656,     0.98658,     0.98659,      0.9866,     0.98662,     0.98663,\n",
              "            0.98664,     0.98666,     0.98667,     0.98668,      0.9867,     0.98671,     0.98672,     0.98674,     0.98675,     0.98676,     0.98678,     0.98679,      0.9868,     0.98682,     0.98683,     0.98684,     0.98686,     0.98687,     0.98688,     0.98689,     0.98691,     0.98692,     0.98693,\n",
              "            0.98695,     0.98696,     0.98697,     0.98699,       0.987,     0.98701,     0.98703,     0.98704,     0.98705,     0.98707,     0.98708,     0.98709,     0.98711,     0.98712,     0.98713,     0.98715,     0.98716,     0.98717,     0.98719,      0.9872,     0.98721,     0.98722,     0.98724,\n",
              "            0.98725,     0.98726,     0.98728,     0.98729,      0.9873,     0.98732,     0.98733,     0.98734,     0.98736,     0.98737,     0.98738,      0.9874,     0.98741,     0.98742,     0.98744,     0.98745,     0.98746,     0.98748,     0.98749,      0.9875,     0.98751,     0.98753,     0.98754,\n",
              "            0.98755,     0.98757,     0.98758,     0.98759,     0.98761,     0.98762,     0.98763,     0.98765,     0.98766,     0.98767,     0.98769,      0.9877,     0.98771,     0.98773,     0.98774,     0.98775,     0.98777,     0.98778,     0.98779,     0.98781,     0.98782,     0.98783,     0.98784,\n",
              "            0.98786,     0.98787,     0.98788,      0.9879,     0.98791,     0.98792,     0.98794,     0.98795,     0.98796,     0.98798,     0.98799,       0.988,     0.98802,     0.98803,     0.98804,     0.98806,     0.98807,     0.98808,      0.9881,     0.98811,     0.98812,     0.98814,     0.98815,\n",
              "            0.98816,     0.98817,     0.98819,      0.9882,     0.98821,     0.98823,     0.98824,     0.98825,     0.98827,     0.98828,     0.98832,     0.98837,     0.98842,     0.98847,     0.98852,     0.98856,     0.98861,     0.98866,     0.98871,     0.98875,      0.9888,     0.98885,      0.9889,\n",
              "            0.98894,     0.98899,     0.98904,     0.98909,     0.98913,     0.98918,     0.98923,     0.98928,     0.98932,     0.98937,     0.98942,     0.98947,     0.98951,     0.98956,     0.98961,     0.98966,      0.9897,     0.98975,      0.9898,     0.98985,     0.98989,     0.98994,     0.98999,\n",
              "            0.99004,     0.99009,     0.99013,     0.99018,     0.99023,     0.99028,     0.99032,     0.99037,     0.99042,     0.99047,     0.99051,     0.99056,     0.99061,     0.99066,      0.9907,     0.99075,      0.9908,     0.99085,     0.99089,     0.99094,     0.99099,     0.99104,     0.99108,\n",
              "            0.99113,     0.99118,     0.99123,     0.99127,     0.99132,     0.99137,     0.99142,     0.99146,     0.99151,     0.99156,     0.99161,     0.99166,      0.9917,     0.99175,      0.9918,     0.99185,     0.99189,     0.99194,     0.99199,     0.99204,     0.99208,     0.99213,     0.99219,\n",
              "            0.99226,     0.99233,      0.9924,     0.99247,     0.99254,     0.99261,     0.99268,     0.99275,     0.99282,     0.99289,     0.99295,     0.99302,     0.99309,     0.99316,     0.99323,      0.9933,     0.99337,     0.99344,     0.99351,     0.99358,     0.99365,     0.99372,     0.99379,\n",
              "            0.99386,     0.99393,       0.994,     0.99407,     0.99414,     0.99421,     0.99428,     0.99435,     0.99442,     0.99449,     0.99456,     0.99463,      0.9947,     0.99477,     0.99483,      0.9949,     0.99497,     0.99504,     0.99511,     0.99518,     0.99525,     0.99532,     0.99539,\n",
              "            0.99546,     0.99553,      0.9956,     0.99567,     0.99574,     0.99581,     0.99588,     0.99595,     0.99602,     0.99606,     0.99606,     0.99606,     0.99606,     0.99606,     0.99606,     0.99606,     0.99605,     0.99605,     0.99605,     0.99605,     0.99605,     0.99605,     0.99605,\n",
              "            0.99605,     0.99604,     0.99604,     0.99604,     0.99604,     0.99604,     0.99604,     0.99604,     0.99603,     0.99603,     0.99603,     0.99602,     0.99601,       0.996,       0.996,     0.99599,     0.99599,     0.99599,     0.99598,     0.99598,     0.99598,     0.99597,     0.99597,\n",
              "            0.99595,     0.99593,     0.99591,     0.99589,     0.99588,     0.99587,     0.99587,     0.99586,     0.99586,     0.99586,     0.99585,     0.99585,     0.99585,     0.99584,     0.99584,     0.99584,     0.99583,     0.99581,     0.99581,      0.9958,     0.99579,     0.99579,     0.99578,\n",
              "            0.99576,     0.99576,     0.99576,     0.99575,     0.99575,     0.99575,     0.99574,     0.99571,     0.99569,     0.99568,     0.99566,     0.99565,     0.99564,     0.99564,           1,           1,           1,           1,           1,           1,           1,           1,           1,\n",
              "                  1,           1,           1,           1,           1,           1,           1,           1,           1,           1,           1,           1,           1,           1,           1,           1,           1,           1,           1,           1,           1,           1,           1,\n",
              "                  1,           1,           1,           1,           1,           1,           1,           1,           1,           1,           1,           1,           1,           1,           1,           1,           1,           1,           1,           1,           1,           1,           1,\n",
              "                  1,           1,           1,           1,           1,           1,           1,           1,           1,           1,           1,           1,           1,           1,           1,           1,           1,           1,           1,           1,           1,           1,           1,\n",
              "                  1,           1,           1,           1,           1,           1,           1,           1,           1,           1,           1,           1,           1,           1,           1,           1,           1,           1,           1,           1,           1,           1,           1,\n",
              "                  1,           1,           1,           1,           1,           1,           1,           1,           1,           1,           1]]), 'Confidence', 'Precision'], [array([          0,    0.001001,    0.002002,    0.003003,    0.004004,    0.005005,    0.006006,    0.007007,    0.008008,    0.009009,     0.01001,    0.011011,    0.012012,    0.013013,    0.014014,    0.015015,    0.016016,    0.017017,    0.018018,    0.019019,     0.02002,    0.021021,    0.022022,    0.023023,\n",
              "          0.024024,    0.025025,    0.026026,    0.027027,    0.028028,    0.029029,     0.03003,    0.031031,    0.032032,    0.033033,    0.034034,    0.035035,    0.036036,    0.037037,    0.038038,    0.039039,     0.04004,    0.041041,    0.042042,    0.043043,    0.044044,    0.045045,    0.046046,    0.047047,\n",
              "          0.048048,    0.049049,     0.05005,    0.051051,    0.052052,    0.053053,    0.054054,    0.055055,    0.056056,    0.057057,    0.058058,    0.059059,     0.06006,    0.061061,    0.062062,    0.063063,    0.064064,    0.065065,    0.066066,    0.067067,    0.068068,    0.069069,     0.07007,    0.071071,\n",
              "          0.072072,    0.073073,    0.074074,    0.075075,    0.076076,    0.077077,    0.078078,    0.079079,     0.08008,    0.081081,    0.082082,    0.083083,    0.084084,    0.085085,    0.086086,    0.087087,    0.088088,    0.089089,     0.09009,    0.091091,    0.092092,    0.093093,    0.094094,    0.095095,\n",
              "          0.096096,    0.097097,    0.098098,    0.099099,      0.1001,      0.1011,      0.1021,      0.1031,      0.1041,     0.10511,     0.10611,     0.10711,     0.10811,     0.10911,     0.11011,     0.11111,     0.11211,     0.11311,     0.11411,     0.11512,     0.11612,     0.11712,     0.11812,     0.11912,\n",
              "           0.12012,     0.12112,     0.12212,     0.12312,     0.12412,     0.12513,     0.12613,     0.12713,     0.12813,     0.12913,     0.13013,     0.13113,     0.13213,     0.13313,     0.13413,     0.13514,     0.13614,     0.13714,     0.13814,     0.13914,     0.14014,     0.14114,     0.14214,     0.14314,\n",
              "           0.14414,     0.14515,     0.14615,     0.14715,     0.14815,     0.14915,     0.15015,     0.15115,     0.15215,     0.15315,     0.15415,     0.15516,     0.15616,     0.15716,     0.15816,     0.15916,     0.16016,     0.16116,     0.16216,     0.16316,     0.16416,     0.16517,     0.16617,     0.16717,\n",
              "           0.16817,     0.16917,     0.17017,     0.17117,     0.17217,     0.17317,     0.17417,     0.17518,     0.17618,     0.17718,     0.17818,     0.17918,     0.18018,     0.18118,     0.18218,     0.18318,     0.18418,     0.18519,     0.18619,     0.18719,     0.18819,     0.18919,     0.19019,     0.19119,\n",
              "           0.19219,     0.19319,     0.19419,      0.1952,      0.1962,      0.1972,      0.1982,      0.1992,      0.2002,      0.2012,      0.2022,      0.2032,      0.2042,     0.20521,     0.20621,     0.20721,     0.20821,     0.20921,     0.21021,     0.21121,     0.21221,     0.21321,     0.21421,     0.21522,\n",
              "           0.21622,     0.21722,     0.21822,     0.21922,     0.22022,     0.22122,     0.22222,     0.22322,     0.22422,     0.22523,     0.22623,     0.22723,     0.22823,     0.22923,     0.23023,     0.23123,     0.23223,     0.23323,     0.23423,     0.23524,     0.23624,     0.23724,     0.23824,     0.23924,\n",
              "           0.24024,     0.24124,     0.24224,     0.24324,     0.24424,     0.24525,     0.24625,     0.24725,     0.24825,     0.24925,     0.25025,     0.25125,     0.25225,     0.25325,     0.25425,     0.25526,     0.25626,     0.25726,     0.25826,     0.25926,     0.26026,     0.26126,     0.26226,     0.26326,\n",
              "           0.26426,     0.26527,     0.26627,     0.26727,     0.26827,     0.26927,     0.27027,     0.27127,     0.27227,     0.27327,     0.27427,     0.27528,     0.27628,     0.27728,     0.27828,     0.27928,     0.28028,     0.28128,     0.28228,     0.28328,     0.28428,     0.28529,     0.28629,     0.28729,\n",
              "           0.28829,     0.28929,     0.29029,     0.29129,     0.29229,     0.29329,     0.29429,      0.2953,      0.2963,      0.2973,      0.2983,      0.2993,      0.3003,      0.3013,      0.3023,      0.3033,      0.3043,     0.30531,     0.30631,     0.30731,     0.30831,     0.30931,     0.31031,     0.31131,\n",
              "           0.31231,     0.31331,     0.31431,     0.31532,     0.31632,     0.31732,     0.31832,     0.31932,     0.32032,     0.32132,     0.32232,     0.32332,     0.32432,     0.32533,     0.32633,     0.32733,     0.32833,     0.32933,     0.33033,     0.33133,     0.33233,     0.33333,     0.33433,     0.33534,\n",
              "           0.33634,     0.33734,     0.33834,     0.33934,     0.34034,     0.34134,     0.34234,     0.34334,     0.34434,     0.34535,     0.34635,     0.34735,     0.34835,     0.34935,     0.35035,     0.35135,     0.35235,     0.35335,     0.35435,     0.35536,     0.35636,     0.35736,     0.35836,     0.35936,\n",
              "           0.36036,     0.36136,     0.36236,     0.36336,     0.36436,     0.36537,     0.36637,     0.36737,     0.36837,     0.36937,     0.37037,     0.37137,     0.37237,     0.37337,     0.37437,     0.37538,     0.37638,     0.37738,     0.37838,     0.37938,     0.38038,     0.38138,     0.38238,     0.38338,\n",
              "           0.38438,     0.38539,     0.38639,     0.38739,     0.38839,     0.38939,     0.39039,     0.39139,     0.39239,     0.39339,     0.39439,      0.3954,      0.3964,      0.3974,      0.3984,      0.3994,      0.4004,      0.4014,      0.4024,      0.4034,      0.4044,     0.40541,     0.40641,     0.40741,\n",
              "           0.40841,     0.40941,     0.41041,     0.41141,     0.41241,     0.41341,     0.41441,     0.41542,     0.41642,     0.41742,     0.41842,     0.41942,     0.42042,     0.42142,     0.42242,     0.42342,     0.42442,     0.42543,     0.42643,     0.42743,     0.42843,     0.42943,     0.43043,     0.43143,\n",
              "           0.43243,     0.43343,     0.43443,     0.43544,     0.43644,     0.43744,     0.43844,     0.43944,     0.44044,     0.44144,     0.44244,     0.44344,     0.44444,     0.44545,     0.44645,     0.44745,     0.44845,     0.44945,     0.45045,     0.45145,     0.45245,     0.45345,     0.45445,     0.45546,\n",
              "           0.45646,     0.45746,     0.45846,     0.45946,     0.46046,     0.46146,     0.46246,     0.46346,     0.46446,     0.46547,     0.46647,     0.46747,     0.46847,     0.46947,     0.47047,     0.47147,     0.47247,     0.47347,     0.47447,     0.47548,     0.47648,     0.47748,     0.47848,     0.47948,\n",
              "           0.48048,     0.48148,     0.48248,     0.48348,     0.48448,     0.48549,     0.48649,     0.48749,     0.48849,     0.48949,     0.49049,     0.49149,     0.49249,     0.49349,     0.49449,      0.4955,      0.4965,      0.4975,      0.4985,      0.4995,      0.5005,      0.5015,      0.5025,      0.5035,\n",
              "            0.5045,     0.50551,     0.50651,     0.50751,     0.50851,     0.50951,     0.51051,     0.51151,     0.51251,     0.51351,     0.51451,     0.51552,     0.51652,     0.51752,     0.51852,     0.51952,     0.52052,     0.52152,     0.52252,     0.52352,     0.52452,     0.52553,     0.52653,     0.52753,\n",
              "           0.52853,     0.52953,     0.53053,     0.53153,     0.53253,     0.53353,     0.53453,     0.53554,     0.53654,     0.53754,     0.53854,     0.53954,     0.54054,     0.54154,     0.54254,     0.54354,     0.54454,     0.54555,     0.54655,     0.54755,     0.54855,     0.54955,     0.55055,     0.55155,\n",
              "           0.55255,     0.55355,     0.55455,     0.55556,     0.55656,     0.55756,     0.55856,     0.55956,     0.56056,     0.56156,     0.56256,     0.56356,     0.56456,     0.56557,     0.56657,     0.56757,     0.56857,     0.56957,     0.57057,     0.57157,     0.57257,     0.57357,     0.57457,     0.57558,\n",
              "           0.57658,     0.57758,     0.57858,     0.57958,     0.58058,     0.58158,     0.58258,     0.58358,     0.58458,     0.58559,     0.58659,     0.58759,     0.58859,     0.58959,     0.59059,     0.59159,     0.59259,     0.59359,     0.59459,      0.5956,      0.5966,      0.5976,      0.5986,      0.5996,\n",
              "            0.6006,      0.6016,      0.6026,      0.6036,      0.6046,     0.60561,     0.60661,     0.60761,     0.60861,     0.60961,     0.61061,     0.61161,     0.61261,     0.61361,     0.61461,     0.61562,     0.61662,     0.61762,     0.61862,     0.61962,     0.62062,     0.62162,     0.62262,     0.62362,\n",
              "           0.62462,     0.62563,     0.62663,     0.62763,     0.62863,     0.62963,     0.63063,     0.63163,     0.63263,     0.63363,     0.63463,     0.63564,     0.63664,     0.63764,     0.63864,     0.63964,     0.64064,     0.64164,     0.64264,     0.64364,     0.64464,     0.64565,     0.64665,     0.64765,\n",
              "           0.64865,     0.64965,     0.65065,     0.65165,     0.65265,     0.65365,     0.65465,     0.65566,     0.65666,     0.65766,     0.65866,     0.65966,     0.66066,     0.66166,     0.66266,     0.66366,     0.66466,     0.66567,     0.66667,     0.66767,     0.66867,     0.66967,     0.67067,     0.67167,\n",
              "           0.67267,     0.67367,     0.67467,     0.67568,     0.67668,     0.67768,     0.67868,     0.67968,     0.68068,     0.68168,     0.68268,     0.68368,     0.68468,     0.68569,     0.68669,     0.68769,     0.68869,     0.68969,     0.69069,     0.69169,     0.69269,     0.69369,     0.69469,      0.6957,\n",
              "            0.6967,      0.6977,      0.6987,      0.6997,      0.7007,      0.7017,      0.7027,      0.7037,      0.7047,     0.70571,     0.70671,     0.70771,     0.70871,     0.70971,     0.71071,     0.71171,     0.71271,     0.71371,     0.71471,     0.71572,     0.71672,     0.71772,     0.71872,     0.71972,\n",
              "           0.72072,     0.72172,     0.72272,     0.72372,     0.72472,     0.72573,     0.72673,     0.72773,     0.72873,     0.72973,     0.73073,     0.73173,     0.73273,     0.73373,     0.73473,     0.73574,     0.73674,     0.73774,     0.73874,     0.73974,     0.74074,     0.74174,     0.74274,     0.74374,\n",
              "           0.74474,     0.74575,     0.74675,     0.74775,     0.74875,     0.74975,     0.75075,     0.75175,     0.75275,     0.75375,     0.75475,     0.75576,     0.75676,     0.75776,     0.75876,     0.75976,     0.76076,     0.76176,     0.76276,     0.76376,     0.76476,     0.76577,     0.76677,     0.76777,\n",
              "           0.76877,     0.76977,     0.77077,     0.77177,     0.77277,     0.77377,     0.77477,     0.77578,     0.77678,     0.77778,     0.77878,     0.77978,     0.78078,     0.78178,     0.78278,     0.78378,     0.78478,     0.78579,     0.78679,     0.78779,     0.78879,     0.78979,     0.79079,     0.79179,\n",
              "           0.79279,     0.79379,     0.79479,      0.7958,      0.7968,      0.7978,      0.7988,      0.7998,      0.8008,      0.8018,      0.8028,      0.8038,      0.8048,     0.80581,     0.80681,     0.80781,     0.80881,     0.80981,     0.81081,     0.81181,     0.81281,     0.81381,     0.81481,     0.81582,\n",
              "           0.81682,     0.81782,     0.81882,     0.81982,     0.82082,     0.82182,     0.82282,     0.82382,     0.82482,     0.82583,     0.82683,     0.82783,     0.82883,     0.82983,     0.83083,     0.83183,     0.83283,     0.83383,     0.83483,     0.83584,     0.83684,     0.83784,     0.83884,     0.83984,\n",
              "           0.84084,     0.84184,     0.84284,     0.84384,     0.84484,     0.84585,     0.84685,     0.84785,     0.84885,     0.84985,     0.85085,     0.85185,     0.85285,     0.85385,     0.85485,     0.85586,     0.85686,     0.85786,     0.85886,     0.85986,     0.86086,     0.86186,     0.86286,     0.86386,\n",
              "           0.86486,     0.86587,     0.86687,     0.86787,     0.86887,     0.86987,     0.87087,     0.87187,     0.87287,     0.87387,     0.87487,     0.87588,     0.87688,     0.87788,     0.87888,     0.87988,     0.88088,     0.88188,     0.88288,     0.88388,     0.88488,     0.88589,     0.88689,     0.88789,\n",
              "           0.88889,     0.88989,     0.89089,     0.89189,     0.89289,     0.89389,     0.89489,      0.8959,      0.8969,      0.8979,      0.8989,      0.8999,      0.9009,      0.9019,      0.9029,      0.9039,      0.9049,     0.90591,     0.90691,     0.90791,     0.90891,     0.90991,     0.91091,     0.91191,\n",
              "           0.91291,     0.91391,     0.91491,     0.91592,     0.91692,     0.91792,     0.91892,     0.91992,     0.92092,     0.92192,     0.92292,     0.92392,     0.92492,     0.92593,     0.92693,     0.92793,     0.92893,     0.92993,     0.93093,     0.93193,     0.93293,     0.93393,     0.93493,     0.93594,\n",
              "           0.93694,     0.93794,     0.93894,     0.93994,     0.94094,     0.94194,     0.94294,     0.94394,     0.94494,     0.94595,     0.94695,     0.94795,     0.94895,     0.94995,     0.95095,     0.95195,     0.95295,     0.95395,     0.95495,     0.95596,     0.95696,     0.95796,     0.95896,     0.95996,\n",
              "           0.96096,     0.96196,     0.96296,     0.96396,     0.96496,     0.96597,     0.96697,     0.96797,     0.96897,     0.96997,     0.97097,     0.97197,     0.97297,     0.97397,     0.97497,     0.97598,     0.97698,     0.97798,     0.97898,     0.97998,     0.98098,     0.98198,     0.98298,     0.98398,\n",
              "           0.98498,     0.98599,     0.98699,     0.98799,     0.98899,     0.98999,     0.99099,     0.99199,     0.99299,     0.99399,     0.99499,       0.996,       0.997,       0.998,       0.999,           1]), array([[    0.77439,     0.77439,     0.77439,     0.77439,     0.77439,     0.77439,     0.77439,     0.77439,     0.77439,     0.77439,     0.77439,     0.77439,     0.77439,     0.77301,     0.77134,     0.77134,     0.77134,     0.77134,     0.77134,     0.77134,     0.77134,     0.77134,     0.77134,\n",
              "            0.77134,     0.77134,     0.77134,     0.77134,     0.77134,     0.77134,     0.77134,     0.77134,     0.77134,     0.77134,     0.77134,     0.77134,     0.77134,     0.77134,     0.77134,     0.77134,     0.77134,     0.77134,     0.77134,     0.77134,     0.77134,     0.77134,     0.77134,\n",
              "            0.77134,     0.77134,     0.77134,     0.77134,     0.77134,     0.77134,     0.77134,     0.77134,     0.77134,     0.77134,     0.77134,     0.77134,     0.77134,     0.77134,     0.77134,     0.77134,     0.77134,     0.77134,     0.77134,     0.77134,     0.77134,     0.77134,     0.77134,\n",
              "            0.77134,     0.77134,     0.77134,     0.77134,     0.77134,     0.77134,     0.77134,     0.77134,     0.77134,     0.77134,     0.77134,     0.77134,     0.77134,     0.77134,     0.77134,     0.77134,     0.77134,     0.77134,     0.77134,     0.77134,     0.77134,     0.77134,     0.77134,\n",
              "            0.77134,     0.77134,     0.77134,     0.77134,     0.77134,     0.77134,     0.77134,     0.77134,     0.77134,     0.77134,     0.77134,     0.77134,     0.77134,     0.77134,     0.77134,     0.77134,     0.77134,     0.77134,     0.77134,     0.77134,     0.77134,     0.77134,     0.77134,\n",
              "            0.77134,     0.77134,     0.77134,     0.77134,     0.77134,     0.77134,     0.77134,     0.77134,     0.77134,     0.77134,     0.77134,     0.77134,     0.77134,     0.77134,     0.77134,     0.77134,     0.77134,     0.77134,     0.77134,     0.77134,     0.77134,     0.77134,     0.77134,\n",
              "            0.77134,     0.77134,     0.77134,     0.77134,     0.77134,     0.77134,     0.77134,     0.77134,     0.77134,     0.77134,     0.77134,     0.77134,     0.77134,     0.77134,     0.77134,     0.77134,     0.77134,     0.77134,     0.77134,     0.77134,     0.77134,     0.77134,     0.77134,\n",
              "            0.77134,     0.77134,     0.77134,     0.77134,     0.77134,     0.77134,     0.77134,     0.77134,     0.77134,     0.77134,     0.77134,     0.77134,     0.77134,     0.77134,     0.77134,     0.77134,     0.77134,     0.77134,     0.77134,     0.77134,     0.77134,     0.77134,     0.77134,\n",
              "            0.77134,     0.77134,     0.77134,     0.77134,     0.77134,     0.77134,     0.77134,     0.77134,     0.77134,     0.77134,     0.77134,     0.77134,     0.77134,     0.77134,     0.77134,     0.77134,     0.77134,     0.77134,     0.77134,     0.77134,     0.77134,     0.77134,     0.77134,\n",
              "            0.77134,     0.77134,     0.77134,     0.77134,     0.77134,     0.77134,     0.77134,     0.77134,     0.77134,     0.77134,     0.77134,     0.77134,     0.77134,     0.77134,     0.77134,     0.77134,     0.77134,     0.77134,     0.77134,     0.77134,     0.77134,     0.77134,     0.77134,\n",
              "            0.77134,     0.77134,     0.77134,     0.77134,     0.77134,     0.77134,     0.77134,     0.77134,     0.77134,     0.77134,     0.77134,     0.77134,     0.77134,     0.77134,     0.77134,     0.77134,     0.77134,     0.77134,     0.77134,     0.77134,     0.77134,     0.77134,     0.77134,\n",
              "            0.77134,     0.77134,     0.77134,     0.77134,     0.77134,     0.77134,     0.77134,     0.77134,     0.77134,     0.77134,     0.77134,     0.77134,     0.77134,     0.77134,     0.77134,     0.77134,     0.77134,     0.77134,     0.77134,     0.77134,     0.77134,     0.77134,     0.77134,\n",
              "            0.77134,     0.77134,     0.77134,     0.77134,     0.77134,     0.77134,     0.77134,     0.77134,     0.77134,     0.77134,     0.77134,     0.77134,     0.77134,     0.77134,     0.77134,     0.77134,     0.77134,     0.77134,     0.77134,     0.77134,     0.77134,     0.77134,     0.77134,\n",
              "            0.77134,     0.77134,     0.77134,     0.77134,     0.77134,     0.77134,     0.77134,     0.77134,     0.77134,     0.77134,     0.77134,     0.77134,     0.77134,     0.77134,     0.77134,     0.77134,     0.77134,     0.77134,     0.77134,     0.77134,     0.77134,     0.77134,     0.77134,\n",
              "            0.77134,     0.77134,     0.77134,     0.77134,     0.77134,     0.77134,     0.77134,     0.77134,     0.77134,     0.77134,     0.77134,     0.77134,     0.77134,     0.77134,     0.77134,     0.77134,     0.77134,     0.77134,     0.77134,     0.77134,     0.77134,     0.77134,     0.77134,\n",
              "            0.77134,     0.77134,     0.77134,     0.77134,     0.77134,     0.77134,     0.77134,     0.77134,     0.77134,     0.77134,     0.77134,     0.77134,     0.77134,     0.77134,     0.77134,     0.77134,     0.77134,     0.77134,     0.77134,     0.77134,     0.77134,     0.77134,     0.77134,\n",
              "            0.77134,     0.77134,     0.77134,     0.77134,     0.77134,     0.77134,     0.77134,     0.77134,     0.77134,     0.77134,     0.77134,     0.77134,     0.77134,     0.77134,     0.77134,     0.77134,     0.77134,     0.77134,     0.77134,     0.77134,     0.77134,     0.77134,     0.77134,\n",
              "            0.77134,     0.77134,     0.77134,     0.77134,     0.77134,     0.77134,     0.77134,     0.77134,     0.77134,     0.77134,     0.77134,     0.77134,     0.77134,     0.77134,     0.77134,     0.77134,     0.77134,     0.77134,     0.77134,     0.77134,     0.77134,     0.77134,     0.77134,\n",
              "            0.77134,     0.77134,     0.77134,     0.77134,     0.77134,     0.77134,     0.77134,     0.77134,     0.77134,     0.77134,     0.77134,     0.77134,     0.77134,     0.77134,     0.77134,     0.77134,     0.77134,     0.77134,     0.77134,     0.77134,     0.77134,     0.77134,     0.77134,\n",
              "            0.77134,     0.77134,     0.77134,     0.77134,     0.77134,     0.77134,     0.77134,     0.77134,     0.77134,     0.77134,     0.77134,     0.77134,     0.77134,     0.77134,     0.77134,     0.77134,     0.77134,     0.77134,     0.77134,     0.77134,     0.77134,     0.77134,     0.77134,\n",
              "            0.77134,     0.77134,     0.77134,     0.77134,     0.77134,     0.77134,     0.77134,     0.77134,     0.77134,     0.77134,     0.77134,     0.77134,     0.77134,     0.77134,     0.77134,     0.77134,     0.77134,     0.77134,     0.77134,     0.77134,     0.77134,     0.77134,     0.77134,\n",
              "            0.77134,     0.77134,     0.77134,     0.77134,     0.77134,     0.77134,     0.77134,     0.77134,     0.77134,     0.77134,     0.77134,     0.77134,     0.77134,     0.77134,     0.77134,     0.77134,     0.77134,     0.77134,     0.77134,     0.77134,     0.77134,     0.77134,     0.77134,\n",
              "            0.77134,     0.77134,     0.77134,     0.77134,     0.77134,     0.77134,     0.77134,     0.77134,     0.77134,     0.77134,     0.77134,     0.77134,     0.77134,     0.77134,     0.77134,     0.77134,     0.77134,     0.77134,     0.77134,     0.77134,     0.77134,     0.77134,     0.77134,\n",
              "            0.77134,     0.77134,     0.77134,     0.77134,     0.77134,     0.77134,     0.77134,     0.77134,     0.77134,     0.77134,     0.77134,     0.77134,     0.77134,     0.77134,     0.77134,     0.77134,     0.77134,     0.77134,     0.77134,     0.77134,     0.77134,     0.77134,     0.77134,\n",
              "            0.77134,     0.77134,     0.77134,     0.77134,     0.77134,     0.77134,     0.77134,     0.77134,     0.77134,     0.77134,     0.77134,     0.77134,     0.77134,     0.77134,     0.77134,     0.77134,     0.77134,     0.77134,     0.77134,     0.77134,     0.77134,     0.77134,     0.77134,\n",
              "            0.77134,     0.77134,     0.77134,     0.77134,     0.77134,     0.77134,     0.77134,     0.77134,     0.77134,     0.77134,     0.77134,     0.77134,     0.77134,     0.77134,     0.77134,     0.77134,     0.77134,     0.77134,     0.77134,     0.77134,     0.77134,     0.77134,     0.77134,\n",
              "            0.77134,     0.77134,     0.77134,     0.77134,     0.77134,     0.77134,     0.77134,     0.77134,     0.77134,     0.77134,     0.77134,     0.77134,     0.77134,     0.77134,     0.77134,     0.77134,     0.77134,     0.77134,     0.77134,     0.77134,     0.77134,     0.77134,     0.77134,\n",
              "            0.77134,     0.77134,     0.77134,     0.77134,     0.77134,     0.77134,     0.77134,     0.77134,     0.77134,     0.77134,     0.77134,     0.77134,     0.77134,     0.77134,     0.77134,     0.77134,     0.77134,     0.77134,     0.77134,     0.77134,     0.77134,     0.77134,     0.77134,\n",
              "            0.77134,     0.77134,     0.77134,     0.77134,     0.77134,     0.77134,     0.77134,     0.77134,     0.77134,     0.77134,     0.77134,     0.77134,     0.77134,     0.77134,     0.77134,     0.77134,     0.77134,     0.77134,     0.77134,     0.77134,     0.77134,     0.77134,     0.77134,\n",
              "            0.77134,     0.77134,     0.77134,     0.77134,     0.77134,     0.77134,     0.77134,     0.77134,     0.77134,     0.77134,     0.77134,     0.77134,     0.77134,     0.77134,     0.77134,     0.77134,     0.77134,     0.77134,     0.77134,     0.77134,     0.77134,     0.77134,     0.77134,\n",
              "            0.77134,     0.77134,     0.77134,     0.77134,     0.77134,     0.77134,     0.77134,     0.77134,     0.77134,     0.77134,     0.77134,     0.77134,     0.77134,     0.77134,     0.77134,     0.77134,     0.77134,     0.77134,     0.77134,     0.77134,     0.77134,     0.77134,     0.77134,\n",
              "            0.77134,     0.77134,     0.77134,     0.77134,     0.77134,     0.77134,     0.77134,     0.77134,     0.77134,     0.77134,     0.77134,     0.77134,     0.77134,     0.77134,     0.77134,     0.77134,     0.77134,     0.77134,     0.77134,     0.77134,     0.77134,     0.77134,     0.77134,\n",
              "            0.77134,     0.77134,     0.77134,     0.77134,     0.77134,     0.77134,     0.77134,     0.77134,     0.77134,     0.77134,     0.77134,     0.77134,     0.77134,     0.77134,     0.77134,     0.77134,     0.77134,     0.77134,     0.77134,     0.77134,     0.77134,     0.77134,     0.77134,\n",
              "            0.77134,     0.77134,     0.77134,     0.77134,     0.77134,     0.77134,     0.77134,     0.77134,     0.77134,     0.77134,     0.77134,     0.77134,     0.77134,     0.77134,     0.77134,     0.77134,     0.77134,     0.77134,     0.77134,     0.77134,     0.77134,     0.77134,     0.77134,\n",
              "            0.77134,     0.77134,     0.77134,     0.77134,     0.77134,     0.77134,     0.77134,     0.77134,     0.77134,     0.77134,     0.77134,     0.77134,     0.77134,     0.77134,     0.77134,     0.77134,     0.77134,     0.77134,     0.77134,     0.77134,     0.77134,     0.77134,     0.77134,\n",
              "            0.77134,     0.77134,     0.77134,     0.77134,     0.77134,     0.77134,     0.77134,     0.77134,     0.77134,     0.77125,     0.77101,     0.77077,     0.77053,     0.77029,     0.77005,     0.76981,     0.76957,     0.76933,     0.76909,     0.76885,     0.76861,     0.76837,     0.76812,\n",
              "            0.76787,     0.76762,     0.76737,     0.76712,     0.76687,     0.76662,     0.76637,     0.76612,     0.76587,     0.76562,     0.76537,     0.76222,     0.76095,      0.7597,     0.75876,     0.75806,     0.75737,     0.75668,     0.75598,     0.75529,     0.75459,      0.7539,      0.7532,\n",
              "             0.7491,     0.74597,     0.74285,     0.73859,     0.73644,     0.73488,     0.73428,     0.73375,     0.73323,     0.73271,     0.73219,     0.73166,     0.73104,     0.73041,     0.72979,     0.72916,     0.72806,     0.72534,     0.72409,     0.72284,     0.72159,     0.72034,     0.71881,\n",
              "            0.71672,     0.71601,     0.71549,     0.71497,     0.71445,     0.71392,     0.71335,     0.70722,     0.70514,     0.70245,     0.69932,     0.69751,     0.69647,     0.69543,     0.69162,     0.68954,     0.68808,     0.68683,     0.68548,     0.68392,     0.68066,     0.67714,     0.67495,\n",
              "            0.67105,     0.67034,     0.66992,      0.6695,     0.66909,     0.66867,     0.66825,     0.66784,     0.66445,      0.6632,     0.66195,     0.66048,     0.65892,     0.65618,     0.65488,      0.6541,     0.65332,     0.65254,     0.65175,     0.65097,     0.65019,     0.64941,     0.64903,\n",
              "            0.64866,      0.6483,     0.64793,     0.64756,     0.64719,     0.64683,     0.64646,     0.64549,     0.64424,     0.64178,     0.63867,     0.63233,     0.62756,     0.62599,     0.62424,     0.62216,     0.61761,     0.61144,     0.60831,     0.60062,     0.59437,     0.58836,     0.58711,\n",
              "            0.58586,     0.58194,     0.57836,     0.57485,     0.57196,     0.56334,     0.55641,     0.55252,     0.53781,     0.52851,     0.51007,     0.47028,     0.44574,      0.4151,     0.38446,     0.35077,     0.32318,     0.28034,     0.23141,     0.20077,     0.16708,     0.14254,     0.12104,\n",
              "           0.087353,    0.065859,    0.051146,    0.038114,    0.031176,    0.023478,    0.017633,     0.01555,    0.014355,    0.013314,    0.012272,   0.0093005,   0.0071657,   0.0030518,           0,           0,           0,           0,           0,           0,           0,           0,           0,\n",
              "                  0,           0,           0,           0,           0,           0,           0,           0,           0,           0,           0]]), 'Confidence', 'Recall']]\n",
              "fitness: 1.6244556213074826\n",
              "keys: ['metrics/precision(B)', 'metrics/recall(B)', 'metrics/mAP50(B)', 'metrics/mAP50-95(B)', 'metrics/precision(M)', 'metrics/recall(M)', 'metrics/mAP50(M)', 'metrics/mAP50-95(M)']\n",
              "maps: array([     1.6209])\n",
              "names: {0: 'Trout'}\n",
              "plot: True\n",
              "results_dict: {'metrics/precision(B)': 0.9935117424047485, 'metrics/recall(B)': 0.7713414634146342, 'metrics/mAP50(B)': 0.8280252964811223, 'metrics/mAP50-95(B)': 0.8112209127379988, 'metrics/precision(M)': 0.9935117424047485, 'metrics/recall(M)': 0.7713414634146342, 'metrics/mAP50(M)': 0.8280252964811223, 'metrics/mAP50-95(M)': 0.8097241561633991, 'fitness': 1.6244556213074826}\n",
              "save_dir: PosixPath('runs/segment/train4')\n",
              "seg: ultralytics.utils.metrics.Metric object\n",
              "speed: {'preprocess': 0.2975150408497845, 'inference': 10.173048156191152, 'loss': 0.0015074513347975286, 'postprocess': 2.4718668356359714}\n",
              "task: 'segment'"
            ]
          },
          "metadata": {},
          "execution_count": 9
        }
      ]
    },
    {
      "cell_type": "code",
      "source": [
        "import locale\n",
        "def getpreferredencoding(do_setlocale = True):\n",
        "    return \"UTF-8\"\n",
        "locale.getpreferredencoding = getpreferredencoding\n",
        "import shutil\n",
        "import os\n",
        "\n",
        "# Check if the destination directory exists\n",
        "if os.path.exists('/content/gdrive/MyDrive/Yolo'):\n",
        "\n",
        "    shutil.rmtree('/content/gdrive/MyDrive/Yolo')\n",
        "\n",
        "    for item in os.listdir('/content/runs'):\n",
        "         s = os.path.join('/content/runs', item)\n",
        "         d = os.path.join('/content/gdrive/MyDrive/Yolo', item)\n",
        "         if os.path.isdir(s):\n",
        "             shutil.copytree(s, d, dirs_exist_ok=True)  # Merge directories\n",
        "         else:\n",
        "             shutil.copy2(s, d)  # Copy files, overwriting if they exist\n",
        "else:\n",
        "    # If it doesn't exist, create it and copy the contents\n",
        "    shutil.copytree('/content/runs', '/content/gdrive/MyDrive/Yolo')"
      ],
      "metadata": {
        "id": "_hJHk6i9_P4l"
      },
      "execution_count": null,
      "outputs": []
    }
  ]
}